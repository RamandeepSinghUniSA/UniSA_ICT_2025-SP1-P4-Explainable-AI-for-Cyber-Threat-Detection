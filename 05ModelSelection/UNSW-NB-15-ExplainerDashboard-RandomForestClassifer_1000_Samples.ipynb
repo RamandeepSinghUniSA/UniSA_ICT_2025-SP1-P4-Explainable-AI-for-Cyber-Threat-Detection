{
 "cells": [
  {
   "cell_type": "markdown",
   "metadata": {},
   "source": [
    "# Random Forest Model the UNSW-NB15 Dataset\n"
   ]
  },
  {
   "cell_type": "code",
   "execution_count": null,
   "metadata": {},
   "outputs": [],
   "source": [
    "# Core data manipulation and analysis libraries\n",
    "import pandas as pd  # type: ignore # For data manipulation and analysis\n",
    "import numpy as np   # type: ignore # For numerical operations and arrays\n",
    "\n",
    "from sklearn.model_selection import train_test_split # type: ignore\n",
    "from sklearn.preprocessing import StandardScaler, LabelEncoder, OneHotEncoder # type: ignore\n",
    "\n",
    "from sklearn.ensemble import RandomForestClassifier # type: ignore\n",
    "from sklearn.metrics import ( # type: ignore\n",
    "    accuracy_score, \n",
    "    classification_report, \n",
    "    confusion_matrix,\n",
    "    mean_squared_error,\n",
    "    r2_score\n",
    ")\n",
    "\n",
    "from sklearn.pipeline import Pipeline # type: ignore\n",
    "\n",
    "# Ignore warnings\n",
    "import warnings\n",
    "warnings.filterwarnings(\"ignore\")\n",
    "\n",
    "# Enable inline plotting in Jupyter notebooks\n",
    "%matplotlib inline\n",
    "\n",
    "import os\n",
    "import pickle\n",
    "import matplotlib.pyplot as plt # type: ignore\n",
    "import seaborn as sns # type: ignore\n",
    "import shap # type: ignore"
   ]
  },
  {
   "cell_type": "markdown",
   "metadata": {},
   "source": [
    "\n",
    "**Load the Splitted Dataset.**\n",
    "\n"
   ]
  },
  {
   "cell_type": "code",
   "execution_count": null,
   "metadata": {},
   "outputs": [],
   "source": [
    "# Function to load data from a pickle file\n",
    "def load_pickle_file(file_path):\n",
    "    with open(file_path, 'rb') as f:\n",
    "        data = pickle.load(f)\n",
    "    return data\n",
    "\n",
    "output_folder = 'C:/Users/raman/OneDrive/Important/1UnisaSTUDY/Courses/Capstone_Project_1/Github/Code Working/Pickle'  # Change to desired folder in your Computer\n",
    "\n",
    "X_train = load_pickle_file(os.path.join(output_folder, 'X_train.pkl'))\n",
    "X_test = load_pickle_file(os.path.join(output_folder, 'X_test.pkl'))\n",
    "y_train = load_pickle_file(os.path.join(output_folder, 'y_train.pkl'))\n",
    "y_test = load_pickle_file(os.path.join(output_folder, 'y_test.pkl'))\n",
    "\n",
    "print(\"Data loaded from pickle files.\")\n",
    "print(f\"Training set size: {X_train.shape}\")\n",
    "print(f\"Test set size: {X_test.shape}\")\n",
    "\n",
    "print(f\"Training set size: {y_train.shape}\")\n",
    "print(f\"Test set size: {y_test.shape}\")\n",
    "\n",
    "print(\"\\nTraining set head (features):\")\n",
    "print(X_train.head())\n",
    "print(\"\\nTraining set head (labels):\")\n",
    "print(y_train.head())\n",
    "\n",
    "print(\"\\nTest set head (features):\")\n",
    "print(X_test.head())\n",
    "print(\"\\nTest set head (labels):\")\n",
    "print(y_test.head())"
   ]
  },
  {
   "cell_type": "markdown",
   "metadata": {},
   "source": [
    "Reduce size to smaller value for Dataset"
   ]
  },
  {
   "cell_type": "code",
   "execution_count": null,
   "metadata": {},
   "outputs": [],
   "source": [
    "\n",
    "# Convert y_train and y_test to pandas Series if they are not already\n",
    "if isinstance(y_train, np.ndarray):\n",
    "    y_train = pd.Series(y_train)\n",
    "if isinstance(y_test, np.ndarray):\n",
    "    y_test = pd.Series(y_test)\n",
    "\n",
    "# Reset indices to avoid index mismatch\n",
    "X_train = X_train.reset_index(drop=True)\n",
    "X_test = X_test.reset_index(drop=True)\n",
    "y_train = y_train.reset_index(drop=True)\n",
    "y_test = y_test.reset_index(drop=True)\n",
    "\n",
    "# Sample data for faster run time\n",
    "X_train_sampled = X_train.sample(n=1000, random_state=123)\n",
    "X_test_sampled = X_test.sample(n=1000, random_state=123)\n",
    "y_train_sampled = y_train.iloc[X_train_sampled.index]\n",
    "y_test_sampled = y_test.iloc[X_test_sampled.index]\n",
    "\n",
    "# Print shapes of sampled datasets\n",
    "print(f\"Sampled training set size: {X_train_sampled.shape}\")\n",
    "print(f\"Sampled test set size: {X_test_sampled.shape}\")\n",
    "\n",
    "# Print sizes to verify they match\n",
    "print(f\"\\nNumber of samples:\")\n",
    "print(f\"X_train samples: {len(X_train_sampled)}\")\n",
    "print(f\"y_train samples: {len(y_train_sampled)}\")\n",
    "print(f\"X_test samples: {len(X_test_sampled)}\")\n",
    "print(f\"y_test samples: {len(y_test_sampled)}\")\n",
    "\n",
    "# Verify matching dimensions\n",
    "print(f\"\\nDimension check:\")\n",
    "print(f\"X_train and y_train match: {len(X_train_sampled) == len(y_train_sampled)}\")\n",
    "print(f\"X_test and y_test match: {len(X_test_sampled) == len(y_test_sampled)}\")"
   ]
  },
  {
   "cell_type": "code",
   "execution_count": null,
   "metadata": {},
   "outputs": [],
   "source": [
    "# Calculate correlation matrix\n",
    "correlation_matrix = X_train_sampled.corr()\n",
    "\n",
    "# Plot correlation matrix\n",
    "plt.figure(figsize=(30, 20))\n",
    "sns.heatmap(correlation_matrix, annot=True, cmap='coolwarm', fmt='.2f')\n",
    "plt.title('Correlation Matrix')\n",
    "plt.show()\n"
   ]
  },
  {
   "cell_type": "code",
   "execution_count": null,
   "metadata": {},
   "outputs": [],
   "source": [
    "# Convert continuous labels to discrete labels\n",
    "le = LabelEncoder()\n",
    "y_train_encoded = le.fit_transform(y_train_sampled)\n",
    "y_test_encoded = le.transform(y_test_sampled)\n",
    "\n",
    "# Create a RandomForest model pipeline\n",
    "pipeline = Pipeline([\n",
    "    ('scaler', StandardScaler()),  # Feature scaling\n",
    "    ('classifier', RandomForestClassifier(n_estimators=100, max_depth=None, min_samples_split=2,random_state=42))  # RandomForest classifier\n",
    "])\n",
    "\n",
    "# Train the model\n",
    "pipeline.fit(X_train_sampled, y_train_encoded)\n",
    "print(\"Model training complete.\")\n",
    "\n",
    "# Make predictions\n",
    "y_pred = pipeline.predict(X_test_sampled)\n",
    "\n",
    "# Evaluate the model\n",
    "accuracy = accuracy_score(y_test_encoded, y_pred)\n",
    "print(f\"Accuracy: {accuracy:.4f}\")\n",
    "\n",
    "# Print classification report\n",
    "print(\"\\nClassification Report:\")\n",
    "print(classification_report(y_test_encoded, y_pred))\n",
    "\n",
    "# Print confusion matrix\n",
    "print(\"\\nConfusion Matrix:\")\n",
    "conf_matrix = confusion_matrix(y_test_encoded, y_pred)\n",
    "print(conf_matrix)\n",
    "\n",
    "# Plot confusion matrix\n",
    "plt.figure(figsize=(10, 7))\n",
    "sns.heatmap(conf_matrix, annot=True, fmt='d', cmap='Blues', xticklabels=le.classes_, yticklabels=le.classes_)\n",
    "plt.xlabel('Predicted')\n",
    "plt.ylabel('Actual')\n",
    "plt.title('Confusion Matrix')\n",
    "plt.show()\n",
    "\n",
    "# Plot feature importance\n",
    "model = pipeline.named_steps['classifier']\n",
    "feature_importances = model.feature_importances_\n",
    "features = X_train_sampled.columns\n",
    "\n",
    "plt.figure(figsize=(30, 20))\n",
    "sns.barplot(x=feature_importances, y=features)\n",
    "plt.title('Feature Importance')\n",
    "plt.show()"
   ]
  },
  {
   "cell_type": "code",
   "execution_count": null,
   "metadata": {},
   "outputs": [],
   "source": [
    "# Save the trained model to a pickle file\n",
    "model_path = os.path.join(output_folder, 'random_forest_model_1000.pkl')\n",
    "with open(model_path, 'wb') as f:\n",
    "    pickle.dump(pipeline, f)\n",
    "print(f\"Trained model saved to {model_path}.\")"
   ]
  },
  {
   "cell_type": "code",
   "execution_count": null,
   "metadata": {},
   "outputs": [],
   "source": [
    "# Generating SHAP explanations:\n",
    "# - Initializes JavaScript visualization with shap.initjs()\n",
    "# - Creates SHAP explainer using the model and training data\n",
    "# - Calculates SHAP values for test data\n",
    "# - Generates force plot visualization\n",
    "# Note: Make sure X_train_sampled and X_test_sampled contain balanced samples\n",
    "shap.initjs()\n",
    "\n",
    "# explain all the predictions in the test set\n",
    "#explainer = shap.Explainer(model, X_train_sampled)\n",
    "#shap_values = explainer.shap_values(X_test_sampled)\n",
    "#shap.force_plot(explainer.expected_value[0], shap_values[..., 0], X_test_sampled)\n"
   ]
  },
  {
   "cell_type": "code",
   "execution_count": null,
   "metadata": {},
   "outputs": [],
   "source": [
    "from explainerdashboard import  ExplainerDashboard,ClassifierExplainer # type: ignore\n",
    "\n",
    "# Create and run dashboard\n",
    "explainer = ClassifierExplainer(pipeline.named_steps['classifier'], X_train_sampled, y_train_encoded)\n",
    "dashboard = ExplainerDashboard(explainer)\n",
    "\n",
    "# Save the dashboard as HTML\n",
    "dashboard.save_html(\"UNSW-NB-15_RandomFroest_1000_samples.html\")"
   ]
  }
 ],
 "metadata": {
  "kernelspec": {
   "display_name": "Python 3",
   "language": "python",
   "name": "python3"
  },
  "language_info": {
   "codemirror_mode": {
    "name": "ipython",
    "version": 3
   },
   "file_extension": ".py",
   "mimetype": "text/x-python",
   "name": "python",
   "nbconvert_exporter": "python",
   "pygments_lexer": "ipython3",
   "version": "3.12.4"
  }
 },
 "nbformat": 4,
 "nbformat_minor": 2
}
