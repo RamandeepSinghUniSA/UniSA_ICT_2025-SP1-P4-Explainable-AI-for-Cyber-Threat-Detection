{
 "cells": [
  {
   "cell_type": "code",
   "execution_count": 3,
   "metadata": {},
   "outputs": [],
   "source": [
    "import pandas as pd\n",
    "import numpy as np\n",
    "from sklearn.preprocessing import OneHotEncoder, LabelEncoder, StandardScaler, MinMaxScaler\n",
    "import seaborn as sns\n",
    "import matplotlib.pyplot as plt\n",
    "import os\n",
    "import time\n",
    "from sklearn.utils.class_weight import compute_class_weight\n",
    "import shap\n",
    "from sklearn.metrics import accuracy_score, classification_report, confusion_matrix, f1_score, precision_score, recall_score\n",
    "from sklearn.ensemble import RandomForestClassifier\n",
    "from sklearn.feature_selection import SelectKBest, f_classif\n",
    "from imblearn.over_sampling import SMOTE\n",
    "from sklearn.model_selection import train_test_split\n",
    "from explainerdashboard import InlineExplainer, ExplainerDashboard, ClassifierExplainer\n",
    "import random"
   ]
  },
  {
   "cell_type": "code",
   "execution_count": 4,
   "metadata": {},
   "outputs": [],
   "source": [
    "class CorrEncoder:\n",
    "    \"\"\"\n",
    "    CorrEncoder: Takes a dataset as input and uses it for the encode function. Encodes the filtered categories then draws correlations.\n",
    "    If correlation is above the threshold adds it to a new dataframe then returns the one hot encoded values with the labels.\n",
    "\n",
    "    Initialisation:\n",
    "        - data (pd.DataFrame): The Dataset that contains the target column and target label variables.\n",
    "    \"\"\"\n",
    "    \n",
    "    def __init__(self, data):\n",
    "        self.data = data.reset_index(drop=True).copy()\n",
    "        self.data = self.data.drop(columns=['attack_cat'])\n",
    "\n",
    "    def encode(self, target_column, sparse_n, threshold):\n",
    "        \"\"\"\n",
    "        encode: Takes a target column and target label to encode and draw correlations from. The target column is iterated through\n",
    "        for all categories that contain more positive values than defined in sparse_n. This allows for filtering of sparse categories.\n",
    "        The function then one hot encodes the given category with the static target column and draws correlations for them. If correlation\n",
    "        is greater then threshold then add it to the new DataFrame. The function returns the one hot encoded categories that pass the\n",
    "        threshold with the target label.\n",
    "\n",
    "        The purpose of this function is to resolve the high cardinality problem in one hot encoding.\n",
    "\n",
    "        Parameters:\n",
    "            - target_column (string): The name of the target column. The target column should contain the various categories to encode.\n",
    "            - sparse_n (integer): The minimum amount of positive values required for a category after encoding (deals with sparse categories).\n",
    "            - threshold (float): The threshold for correlation. The function creates onehot encoded columns of all variables that high correlation\n",
    "              higher that the threshold to the target label.\n",
    "            - cat (string): The category label to compare to.\n",
    "\n",
    "        Returns:\n",
    "            - ohe_df (pd.DataFrame): The one hot encoded values from the target columns.\n",
    "        \"\"\"\n",
    "\n",
    "\n",
    "        self.data[target_column] = self.data[target_column].astype(str)\n",
    "        value_counts = self.data[target_column].value_counts()\n",
    "        # Check if number of 1s is above the given threshold set by sparse_n.\n",
    "        categories = value_counts[value_counts > sparse_n].index.tolist()\n",
    "        ohe_list = []    \n",
    "        attack_cat = self.data['label']\n",
    "        # Go through each unique category in the target column.\n",
    "        for c in categories:\n",
    "            col_name = f'{target_column}_{c}'\n",
    "\n",
    "            # Create the binary encoding column for the current category and target label\n",
    "            corr_column = (self.data[target_column] == c).astype(int)\n",
    "            correlation = corr_column.corr(attack_cat)\n",
    "\n",
    "            # Check if absolute correlation is greater than threshold.\n",
    "            if abs(correlation) > threshold:\n",
    "                corr_column.name = col_name\n",
    "                ohe_list.append(corr_column)\n",
    "        print('Number of Encoded Features for', target_column)\n",
    "        print(len(ohe_list))\n",
    "        if ohe_list:\n",
    "            # NOTE: This section can be expanded to include print outs but at the moment am focusing on the evaluations.\n",
    "            ohe_df = pd.concat(ohe_list, axis=1)\n",
    "            return ohe_df\n",
    "        else:\n",
    "            # This ommits errors (if really high thresholds are used).\n",
    "            print(\"No correlations exceed the threshold.\")\n",
    "            return pd.DataFrame()"
   ]
  },
  {
   "cell_type": "code",
   "execution_count": 5,
   "metadata": {},
   "outputs": [
    {
     "name": "stderr",
     "output_type": "stream",
     "text": [
      "C:\\Users\\adi_s\\AppData\\Local\\Temp\\ipykernel_6996\\3529803140.py:1: DtypeWarning: Columns (1,3) have mixed types. Specify dtype option on import or set low_memory=False.\n"
     ]
    }
   ],
   "source": [
    "data = pd.read_csv('../Cleaned_full_data.csv')\n",
    "data = data.reset_index(drop=True)\n",
    "# Set NA to 0.\n",
    "data['ct_ftp_cmd'] = data['ct_ftp_cmd'].fillna(0)\n",
    "data['ct_ftp_cmd'] = data['ct_ftp_cmd'].fillna(0)\n",
    "data['attack_cat'] = data['attack_cat'].str.replace(r'\\s+', '', regex=True)\n",
    "data['attack_cat'] = data['attack_cat'].str.replace('Backdoors', 'Backdoor')"
   ]
  },
  {
   "cell_type": "code",
   "execution_count": 7,
   "metadata": {},
   "outputs": [
    {
     "name": "stdout",
     "output_type": "stream",
     "text": [
      "Number of Encoded Features for state\n",
      "9\n",
      "Number of Encoded Features for service\n",
      "13\n",
      "Number of Encoded Features for proto\n",
      "132\n",
      "Number of Encoded Features for srcip\n",
      "38\n",
      "Number of Encoded Features for dstip\n",
      "44\n"
     ]
    }
   ],
   "source": [
    "encoder = CorrEncoder(data)\n",
    "threshold = 0\n",
    "ohe1 = encoder.encode('state', 30, threshold)\n",
    "ohe2 = encoder.encode('service', 30, threshold)\n",
    "ohe3 = encoder.encode('proto', 30, threshold)\n",
    "ohe4 = encoder.encode('srcip', 30, threshold)\n",
    "ohe5 = encoder.encode('dstip', 30, threshold)"
   ]
  },
  {
   "cell_type": "code",
   "execution_count": 8,
   "metadata": {},
   "outputs": [
    {
     "name": "stdout",
     "output_type": "stream",
     "text": [
      "Number of Encoded Features for sport\n",
      "7\n"
     ]
    }
   ],
   "source": [
    "threshold = 0.01\n",
    "# Encoding is very efficient except for sport not sure why.. I also get memory errors at 0.001 same as DoS\n",
    "ohe6 = encoder.encode('sport', 30, threshold)"
   ]
  },
  {
   "cell_type": "code",
   "execution_count": 9,
   "metadata": {},
   "outputs": [
    {
     "name": "stdout",
     "output_type": "stream",
     "text": [
      "Number of Encoded Features for dsport\n",
      "39\n"
     ]
    }
   ],
   "source": [
    "threshold = 0.01\n",
    "ohe7 = encoder.encode('dsport', 30, threshold)"
   ]
  },
  {
   "cell_type": "code",
   "execution_count": 13,
   "metadata": {},
   "outputs": [
    {
     "name": "stdout",
     "output_type": "stream",
     "text": [
      "Full_state_encoded.csv\n",
      "Full_service_encoded.csv\n",
      "Full_proto_encoded.csv\n",
      "Full_scrip_encoded.csv\n",
      "Full_dstip_encoded.csv\n",
      "Full_sport_encoded.csv\n",
      "Full_dsport_encoded.csv\n"
     ]
    }
   ],
   "source": [
    "encoded_columns = {\n",
    "    'state': ohe1,\n",
    "    'service': ohe2,\n",
    "    'proto': ohe3,\n",
    "    'scrip': ohe4,\n",
    "    'dstip': ohe5,\n",
    "    'sport': ohe6,\n",
    "    'dsport': ohe7\n",
    "}\n",
    "\n",
    "# Save data. This is the most optimal set I have been able to get without memory issues.\n",
    "# NOTE: Batching may not be possible because we won't be drawing correlation on the full variable.\n",
    "for column_name, encoded_data in encoded_columns.items():\n",
    "    encoded_data.to_csv(f'Full_{column_name}_encoded.csv', index=False)\n",
    "    print(f\"Full_{column_name}_encoded.csv\")"
   ]
  }
 ],
 "metadata": {
  "kernelspec": {
   "display_name": "conda311new",
   "language": "python",
   "name": "python3"
  },
  "language_info": {
   "codemirror_mode": {
    "name": "ipython",
    "version": 3
   },
   "file_extension": ".py",
   "mimetype": "text/x-python",
   "name": "python",
   "nbconvert_exporter": "python",
   "pygments_lexer": "ipython3",
   "version": "3.11.9"
  }
 },
 "nbformat": 4,
 "nbformat_minor": 2
}
