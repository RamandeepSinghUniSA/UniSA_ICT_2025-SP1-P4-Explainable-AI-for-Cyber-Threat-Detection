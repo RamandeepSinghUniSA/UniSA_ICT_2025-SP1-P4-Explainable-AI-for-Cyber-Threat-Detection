{
 "cells": [
  {
   "cell_type": "markdown",
   "id": "34e78b42",
   "metadata": {},
   "source": [
    "# Ensembler:\n",
    "This code implements an Ensemble method using a Primary Binary model and then follows it up with a multi-class secondary model to try and seperate normal values from the remaining falsely predicted values. Once the normal values are seperated, the overall accuracy on binary threats will be 100%. This can be done by using evaluation methods such as shap to see what unique characteristics the Normal labels may have compared to the threat labels allowing for the use of certain rule-based methods to be implemented. The accuracy of the combined process is overall better than just using a single model.\n",
    "\n",
    "\n",
    "The trained models can be found in Models and can be further tuned using the given parameters to give us more optimal results. For Example: Would passing the weights using compute class weights over from the primary model to the secondary yield better results? Or would reducing the amount of threat labels increase prediction on Normal labels further. Or would increasing the number of estimators to 200 achieve a 100% accuracy.\n",
    "\n",
    "The saved models and encoders are saved in the Models/saved_models folder and then loaded into the Ensembler.\n",
    "\n",
    "Why can't we use the Random Forest which has a better overall accuracy?\n",
    "Well it's because in reality we don't actually have the actual labels so there is no way for us to group the threats that have been incorrectly predicted. But in this way we can assume that all threats have been predicted and some normal values are carried over which makes us able to use the predicted labels as a group and pass them into the following model."
   ]
  },
  {
   "cell_type": "code",
   "execution_count": 2,
   "id": "d332c352",
   "metadata": {},
   "outputs": [],
   "source": [
    "import pandas as pd\n",
    "import numpy as np\n",
    "from sklearn.preprocessing import OneHotEncoder, LabelEncoder, StandardScaler, MinMaxScaler\n",
    "from sklearn.metrics import classification_report\n",
    "from sklearn.ensemble import RandomForestClassifier\n",
    "from sklearn.model_selection import train_test_split\n",
    "from torch.utils.data import DataLoader, TensorDataset\n",
    "import joblib\n",
    "import torch\n",
    "from Models.models import NNsmote, plot_confusion_matrix, plot_metrics"
   ]
  },
  {
   "cell_type": "code",
   "execution_count": 3,
   "id": "e903ec31",
   "metadata": {},
   "outputs": [
    {
     "name": "stderr",
     "output_type": "stream",
     "text": [
      "C:\\Users\\adi_s\\AppData\\Local\\Temp\\ipykernel_24124\\1715623287.py:1: DtypeWarning: Columns (1,3) have mixed types. Specify dtype option on import or set low_memory=False.\n",
      "  data = pd.read_csv('Cleaned_full_data.csv')\n"
     ]
    }
   ],
   "source": [
    "data = pd.read_csv('Cleaned_full_data.csv')\n",
    "# Reset retained index.\n",
    "data = data.reset_index(drop=True)\n",
    "# Set NA to 0.\n",
    "data['ct_ftp_cmd'] = data['ct_ftp_cmd'].fillna(0)\n",
    "data['attack_cat'] = data['attack_cat'].str.replace(r'\\s+', '', regex=True)\n",
    "data['attack_cat'] = data['attack_cat'].str.replace('Backdoors', 'Backdoor')"
   ]
  },
  {
   "cell_type": "code",
   "execution_count": 4,
   "id": "444f0990",
   "metadata": {},
   "outputs": [],
   "source": [
    "data = data.drop(columns=['proto', 'dsport', 'service', 'state', 'srcip', 'sport', 'dstip'])\n",
    "temp = data[['is_ftp_login', 'is_sm_ips_ports', 'label', 'attack_cat']]\n",
    "data = data.drop(columns=['is_ftp_login', 'is_sm_ips_ports', 'label', 'attack_cat'])\n",
    "ohe1 = pd.read_csv('Full_proto_encoded.csv')\n",
    "ohe2 = pd.read_csv('Full_dsport_encoded.csv')\n",
    "ohe3 = pd.read_csv('Full_service_encoded.csv')\n",
    "ohe4 = pd.read_csv('Full_state_encoded.csv')\n",
    "# Spelling error.\n",
    "ohe5 = pd.read_csv('Full_scrip_encoded.csv')\n",
    "#------------------------------------------#\n",
    "ohe6 = pd.read_csv('Full_sport_encoded.csv')\n",
    "ohe7 = pd.read_csv('Full_dstip_encoded.csv')"
   ]
  },
  {
   "cell_type": "code",
   "execution_count": 5,
   "id": "d2be80a3",
   "metadata": {},
   "outputs": [],
   "source": [
    "# MinMax seperates Normal data well and reduces noise. Please see Kmeans TSNE evaluation in Tools.\n",
    "scaler = MinMaxScaler()\n",
    "scaled_data = scaler.fit_transform(data)\n",
    "data = pd.DataFrame(scaled_data, columns=data.columns)\n",
    "data = pd.concat([data, temp, ohe1, ohe2, ohe3, ohe4, ohe5, ohe6, ohe7], axis=1)"
   ]
  },
  {
   "cell_type": "code",
   "execution_count": 6,
   "id": "a92bfd60",
   "metadata": {},
   "outputs": [
    {
     "name": "stdout",
     "output_type": "stream",
     "text": [
      "Train: label\n",
      "0    1774933\n",
      "1     257104\n",
      "Name: count, dtype: int64\n",
      "Test label\n",
      "0    443831\n",
      "1     64179\n",
      "Name: count, dtype: int64\n"
     ]
    }
   ],
   "source": [
    "X_temp = data.drop(columns=['label'])\n",
    "y = data['label']\n",
    "X_train, X_test, y_train, y_test = train_test_split(\n",
    "    X_temp, y, test_size=0.2, random_state=42)\n",
    "test_attack_cat = X_test['attack_cat']\n",
    "print('Train:', y_train.value_counts())\n",
    "print('Test', y_test.value_counts())\n",
    "X_train = X_train.drop(columns=['attack_cat'])\n",
    "X_test = X_test.drop(columns=['attack_cat'])"
   ]
  },
  {
   "cell_type": "markdown",
   "id": "a4466540",
   "metadata": {},
   "source": [
    "# Primary NNsmote:\n",
    "This is the Neural Network with SMOTE version which detects all the threats accurately but has a larger number of false predictions in the Normal labels."
   ]
  },
  {
   "cell_type": "code",
   "execution_count": 7,
   "id": "0965bed9",
   "metadata": {},
   "outputs": [],
   "source": [
    "# Prepare batches.\n",
    "batch_size = 128\n",
    "X_train_tensor = torch.tensor(X_train.values, dtype=torch.float32)\n",
    "X_test_tensor = torch.tensor(X_test.values, dtype=torch.float32)\n",
    "y_train_tensor = torch.tensor(y_train.values, dtype=torch.float32)\n",
    "y_test_tensor = torch.tensor(y_test, dtype=torch.float32)\n",
    "train_dataset = TensorDataset(X_train_tensor, y_train_tensor)\n",
    "test_dataset = TensorDataset(X_test_tensor, y_test_tensor)\n",
    "train_loader = DataLoader(train_dataset, batch_size=batch_size, shuffle=True)\n",
    "test_loader = DataLoader(test_dataset, batch_size=batch_size, shuffle=False)"
   ]
  },
  {
   "cell_type": "code",
   "execution_count": 9,
   "id": "d6019113",
   "metadata": {},
   "outputs": [],
   "source": [
    "# These settings are redundant as we are reloading an older model but parameters are required for init.\n",
    "device = torch.device(\"cuda\" if torch.cuda.is_available() else \"cpu\")\n",
    "n_features = X_train_tensor.shape[1]\n",
    "fully_connected_size = 128\n",
    "save_dir = './saved_models/'\n",
    "model1 = NNsmote(n_features=n_features, fc_size=fully_connected_size, device=device, save_dir=save_dir)"
   ]
  },
  {
   "cell_type": "code",
   "execution_count": null,
   "id": "67700b31",
   "metadata": {},
   "outputs": [],
   "source": [
    "# Load trained model.\n",
    "model1 = model1.load_model('Models/saved_models/PB_epoch_1.joblib')"
   ]
  },
  {
   "cell_type": "code",
   "execution_count": null,
   "id": "d869080f",
   "metadata": {},
   "outputs": [
    {
     "name": "stderr",
     "output_type": "stream",
     "text": [
      "Testing: 100%|██████████| 3969/3969 [00:12<00:00, 330.25batch/s]"
     ]
    },
    {
     "name": "stdout",
     "output_type": "stream",
     "text": [
      "Test Loss: 0.0229, Test Accuracy: 0.9871, Test F1: 0.9876\n"
     ]
    },
    {
     "name": "stderr",
     "output_type": "stream",
     "text": [
      "\n"
     ]
    }
   ],
   "source": [
    "# Run on Test Dataset.\n",
    "model1.test(test_loader)"
   ]
  },
  {
   "cell_type": "code",
   "execution_count": 14,
   "id": "3ca55a82",
   "metadata": {},
   "outputs": [
    {
     "data": {
      "image/png": "[encoded data removed]",
      "text/plain": [
       "<Figure size 800x600 with 2 Axes>"
      ]
     },
     "metadata": {},
     "output_type": "display_data"
    }
   ],
   "source": [
    "# We use y_pred later to split the data further.\n",
    "y_pred = np.array(model1.test_predicted)\n",
    "labels = test_dataset.tensors[1]\n",
    "plot_confusion_matrix(labels, model1.test_predicted)"
   ]
  },
  {
   "cell_type": "code",
   "execution_count": 15,
   "id": "4f211324",
   "metadata": {},
   "outputs": [
    {
     "name": "stdout",
     "output_type": "stream",
     "text": [
      "508010\n",
      "70717\n"
     ]
    }
   ],
   "source": [
    "print(len(test_dataset.tensors[0]))\n",
    "print(len(y_pred[y_pred==1]))"
   ]
  },
  {
   "cell_type": "code",
   "execution_count": 16,
   "id": "58fd63c6",
   "metadata": {},
   "outputs": [],
   "source": [
    "# Load Secondary model and encoder.\n",
    "rf2 = joblib.load('./Models/saved_models/SecondaryMulti.joblib')\n",
    "label_encoder = joblib.load('./Models/saved_models/label_encoder.joblib')"
   ]
  },
  {
   "cell_type": "code",
   "execution_count": 17,
   "id": "927916f1",
   "metadata": {},
   "outputs": [],
   "source": [
    "data2 = pd.DataFrame(test_dataset.tensors[0], columns=X_test.columns)\n",
    "data2['y_pred'] = y_pred\n",
    "data2['actual'] = test_attack_cat.reset_index(drop=True)"
   ]
  },
  {
   "cell_type": "code",
   "execution_count": null,
   "id": "5feabacc",
   "metadata": {},
   "outputs": [
    {
     "name": "stdout",
     "output_type": "stream",
     "text": [
      "attack_cat\n",
      "Normal            443831\n",
      "Generic            43110\n",
      "Exploits            8732\n",
      "Fuzzers             4784\n",
      "DoS                 3315\n",
      "Reconnaissance      2850\n",
      "Analysis             550\n",
      "Backdoor             477\n",
      "Shellcode            320\n",
      "Worms                 41\n",
      "Name: count, dtype: int64\n",
      "actual\n",
      "Normal            443831\n",
      "Generic            43110\n",
      "Exploits            8732\n",
      "Fuzzers             4784\n",
      "DoS                 3315\n",
      "Reconnaissance      2850\n",
      "Analysis             550\n",
      "Backdoor             477\n",
      "Shellcode            320\n",
      "Worms                 41\n",
      "Name: count, dtype: int64\n",
      "actual\n",
      "Generic           43110\n",
      "Exploits           8732\n",
      "Normal             6538\n",
      "Fuzzers            4784\n",
      "DoS                3315\n",
      "Reconnaissance     2850\n",
      "Analysis            550\n",
      "Backdoor            477\n",
      "Shellcode           320\n",
      "Worms                41\n",
      "Name: count, dtype: int64\n"
     ]
    }
   ],
   "source": [
    "print(data2['actual'].value_counts(dropna=False))\n",
    "data2 = data2[data2['y_pred'] == 1]\n",
    "data2 = data2.reset_index(drop=True)"
   ]
  },
  {
   "cell_type": "code",
   "execution_count": 19,
   "id": "f575259a",
   "metadata": {},
   "outputs": [
    {
     "name": "stdout",
     "output_type": "stream",
     "text": [
      "70717\n"
     ]
    }
   ],
   "source": [
    "actual = label_encoder.transform(data2['actual'])\n",
    "data2 = data2.drop(columns=['y_pred', 'actual'])\n",
    "print(len(data2))"
   ]
  },
  {
   "cell_type": "code",
   "execution_count": 21,
   "id": "3dce8f01",
   "metadata": {},
   "outputs": [
    {
     "name": "stdout",
     "output_type": "stream",
     "text": [
      "\n",
      "Classification Report (Test Set):\n",
      "              precision    recall  f1-score   support\n",
      "\n",
      "           0       0.69      0.08      0.14       550\n",
      "           1       0.74      0.06      0.12       477\n",
      "           2       0.30      0.22      0.26      3315\n",
      "           3       0.61      0.82      0.70      8732\n",
      "           4       0.79      0.70      0.74      4784\n",
      "           5       1.00      0.98      0.99     43110\n",
      "           6       0.85      0.91      0.88      6538\n",
      "           7       0.94      0.77      0.85      2850\n",
      "           8       0.69      0.77      0.73       320\n",
      "           9       0.33      0.02      0.05        41\n",
      "\n",
      "    accuracy                           0.88     70717\n",
      "   macro avg       0.69      0.54      0.55     70717\n",
      "weighted avg       0.88      0.88      0.87     70717\n",
      "\n",
      "[5 3 3 ... 2 3 5]\n"
     ]
    }
   ],
   "source": [
    "y_pred2 = rf2.predict(data2)\n",
    "print('\\nClassification Report (Test Set):')\n",
    "print(classification_report(actual, y_pred2))\n",
    "print(y_pred2)"
   ]
  },
  {
   "cell_type": "code",
   "execution_count": null,
   "id": "f3f5e771",
   "metadata": {},
   "outputs": [
    {
     "name": "stdout",
     "output_type": "stream",
     "text": [
      "\n",
      "Classification Report (Test Set):\n",
      "                precision    recall  f1-score   support\n",
      "\n",
      "      Analysis       0.69      0.08      0.14       550\n",
      "      Backdoor       0.74      0.06      0.12       477\n",
      "           DoS       0.30      0.22      0.26      3315\n",
      "      Exploits       0.61      0.82      0.70      8732\n",
      "       Fuzzers       0.79      0.70      0.74      4784\n",
      "       Generic       1.00      0.98      0.99     43110\n",
      "        Normal       0.85      0.91      0.88      6538\n",
      "Reconnaissance       0.94      0.77      0.85      2850\n",
      "     Shellcode       0.69      0.77      0.73       320\n",
      "         Worms       0.33      0.02      0.05        41\n",
      "\n",
      "      accuracy                           0.88     70717\n",
      "     macro avg       0.69      0.54      0.55     70717\n",
      "  weighted avg       0.88      0.88      0.87     70717\n",
      "\n",
      "Accuracy for category 'Analysis': 0.0800\n",
      "Accuracy for category 'Backdoor': 0.0650\n",
      "Accuracy for category 'DoS': 0.2244\n",
      "Accuracy for category 'Exploits': 0.8221\n",
      "Accuracy for category 'Fuzzers': 0.7032\n",
      "Accuracy for category 'Generic': 0.9835\n",
      "Accuracy for category 'Normal': 0.9116\n",
      "Accuracy for category 'Reconnaissance': 0.7723\n",
      "Accuracy for category 'Shellcode': 0.7688\n",
      "Accuracy for category 'Worms': 0.0244\n"
     ]
    }
   ],
   "source": [
    "# The Normal predictions could be optimised a bit more?\n",
    "y_pred2 = label_encoder.inverse_transform(y_pred2)\n",
    "actual = label_encoder.inverse_transform(actual)\n",
    "print('\\nClassification Report (Test Set):')\n",
    "print(classification_report(actual, y_pred2))\n",
    "categories = label_encoder.classes_\n",
    "for category in categories:\n",
    "    actual_category = actual == category\n",
    "    predicted_category = y_pred2 == category\n",
    "    accuracy = (actual_category & predicted_category).sum() / actual_category.sum()\n",
    "    print(f\"Accuracy for category '{category}': {accuracy:.4f}\")"
   ]
  },
  {
   "cell_type": "code",
   "execution_count": 23,
   "id": "4342c311",
   "metadata": {},
   "outputs": [
    {
     "name": "stdout",
     "output_type": "stream",
     "text": [
      "Wrong Predictions: 447\n"
     ]
    }
   ],
   "source": [
    "actual_normal = actual[actual == 'Normal']\n",
    "predicted_normal = y_pred2[y_pred2 == 'Normal']\n",
    "print(f\"Wrong Predictions: {predicted_normal.shape[0] - actual_normal.shape[0]}\")"
   ]
  }
 ],
 "metadata": {
  "kernelspec": {
   "display_name": "conda12",
   "language": "python",
   "name": "python3"
  },
  "language_info": {
   "codemirror_mode": {
    "name": "ipython",
    "version": 3
   },
   "file_extension": ".py",
   "mimetype": "text/x-python",
   "name": "python",
   "nbconvert_exporter": "python",
   "pygments_lexer": "ipython3",
   "version": "3.12.9"
  }
 },
 "nbformat": 4,
 "nbformat_minor": 5
}
