{
 "cells": [
  {
   "cell_type": "code",
   "execution_count": 1,
   "id": "d332c352",
   "metadata": {},
   "outputs": [],
   "source": [
    "import pandas as pd\n",
    "import numpy as np\n",
    "from sklearn.preprocessing import OneHotEncoder, LabelEncoder, StandardScaler, MinMaxScaler\n",
    "import seaborn as sns\n",
    "import matplotlib.pyplot as plt\n",
    "from sklearn.utils.class_weight import compute_class_weight\n",
    "import shap\n",
    "from sklearn.metrics import accuracy_score, classification_report, confusion_matrix, f1_score, precision_score, recall_score\n",
    "from sklearn.ensemble import RandomForestClassifier\n",
    "from sklearn.model_selection import train_test_split\n",
    "import shap\n",
    "from explainerdashboard import ExplainerDashboard, ClassifierExplainer\n",
    "import torch\n",
    "from torch.utils.data import DataLoader, TensorDataset\n",
    "import torch.nn as nn\n",
    "import torch.optim as optim\n",
    "import captum.attr as c\n",
    "import time\n",
    "from sklearn.metrics import accuracy_score, f1_score\n",
    "from tqdm import tqdm\n",
    "import os\n",
    "from imblearn.over_sampling import SMOTE\n",
    "import joblib\n",
    "import import_ipynb"
   ]
  },
  {
   "cell_type": "code",
   "execution_count": 2,
   "id": "28043036",
   "metadata": {},
   "outputs": [],
   "source": [
    "def plot_confusion_matrix(actual_labels, predicted_labels):\n",
    "    \"\"\"\n",
    "    Plot confusion matrix with labels.\n",
    "    \"\"\"\n",
    "    cm = confusion_matrix(actual_labels, predicted_labels)\n",
    "    plt.figure(figsize=(8, 6))\n",
    "    sns.heatmap(cm, annot=True, fmt='d', cmap='Blues', xticklabels=['Negative', 'Positive'], yticklabels=['Negative', 'Positive'])\n",
    "    plt.xlabel('Predicted')\n",
    "    plt.ylabel('Actual')\n",
    "    plt.title('Confusion Matrix')\n",
    "    plt.show()"
   ]
  },
  {
   "cell_type": "code",
   "execution_count": 3,
   "id": "e903ec31",
   "metadata": {},
   "outputs": [
    {
     "name": "stderr",
     "output_type": "stream",
     "text": [
      "C:\\Users\\adi_s\\AppData\\Local\\Temp\\ipykernel_28360\\1715623287.py:1: DtypeWarning: Columns (1,3) have mixed types. Specify dtype option on import or set low_memory=False.\n"
     ]
    }
   ],
   "source": [
    "data = pd.read_csv('Cleaned_full_data.csv')\n",
    "# Reset retained index.\n",
    "data = data.reset_index(drop=True)\n",
    "# Set NA to 0.\n",
    "data['ct_ftp_cmd'] = data['ct_ftp_cmd'].fillna(0)\n",
    "data['attack_cat'] = data['attack_cat'].str.replace(r'\\s+', '', regex=True)\n",
    "data['attack_cat'] = data['attack_cat'].str.replace('Backdoors', 'Backdoor')"
   ]
  },
  {
   "cell_type": "code",
   "execution_count": 4,
   "id": "444f0990",
   "metadata": {},
   "outputs": [],
   "source": [
    "data = data.drop(columns=['proto', 'dsport', 'service', 'state', 'srcip', 'sport', 'dstip'])\n",
    "temp = data[['is_ftp_login', 'is_sm_ips_ports', 'label', 'attack_cat']]\n",
    "data = data.drop(columns=['is_ftp_login', 'is_sm_ips_ports', 'label', 'attack_cat'])\n",
    "ohe1 = pd.read_csv('Full_proto_encoded.csv')\n",
    "ohe2 = pd.read_csv('Full_dsport_encoded.csv')\n",
    "ohe3 = pd.read_csv('Full_service_encoded.csv')\n",
    "ohe4 = pd.read_csv('Full_state_encoded.csv')\n",
    "# Spelling error.\n",
    "ohe5 = pd.read_csv('Full_scrip_encoded.csv')\n",
    "#------------------------------------------#\n",
    "ohe6 = pd.read_csv('Full_sport_encoded.csv')\n",
    "ohe7 = pd.read_csv('Full_dstip_encoded.csv')"
   ]
  },
  {
   "cell_type": "code",
   "execution_count": 5,
   "id": "d2be80a3",
   "metadata": {},
   "outputs": [],
   "source": [
    "# MinMax seperates Normal data well and reduces noise. Please see Kmeans TSNE evaluation in Archive.\n",
    "scaler = MinMaxScaler()\n",
    "scaled_data = scaler.fit_transform(data)\n",
    "data = pd.DataFrame(scaled_data, columns=data.columns)\n",
    "data = pd.concat([data, temp, ohe1, ohe2, ohe3, ohe4, ohe5, ohe6, ohe7], axis=1)"
   ]
  },
  {
   "cell_type": "code",
   "execution_count": 6,
   "id": "a92bfd60",
   "metadata": {},
   "outputs": [
    {
     "name": "stdout",
     "output_type": "stream",
     "text": [
      "Train: label\n",
      "0    1774933\n",
      "1     257104\n",
      "Name: count, dtype: int64\n",
      "Test label\n",
      "0    443831\n",
      "1     64179\n",
      "Name: count, dtype: int64\n"
     ]
    }
   ],
   "source": [
    "X_temp = data.drop(columns=['label'])\n",
    "y = data['label']\n",
    "X_train, X_test, y_train, y_test = train_test_split(\n",
    "    X_temp, y, test_size=0.2, random_state=42)\n",
    "test_attack_cat = X_test['attack_cat']\n",
    "print('Train:', y_train.value_counts())\n",
    "print('Test', y_test.value_counts())\n",
    "X_train = X_train.drop(columns=['attack_cat'])\n",
    "X_test = X_test.drop(columns=['attack_cat'])"
   ]
  },
  {
   "cell_type": "code",
   "execution_count": 7,
   "id": "0965bed9",
   "metadata": {},
   "outputs": [],
   "source": [
    "# Prepare batches.\n",
    "batch_size = 128\n",
    "X_train_tensor = torch.tensor(X_train.values, dtype=torch.float32)\n",
    "X_test_tensor = torch.tensor(X_test.values, dtype=torch.float32)\n",
    "y_train_tensor = torch.tensor(y_train.values, dtype=torch.float32)\n",
    "y_test_tensor = torch.tensor(y_test, dtype=torch.float32)\n",
    "train_dataset = TensorDataset(X_train_tensor, y_train_tensor)\n",
    "test_dataset = TensorDataset(X_test_tensor, y_test_tensor)\n",
    "train_loader = DataLoader(train_dataset, batch_size=batch_size, shuffle=True)\n",
    "test_loader = DataLoader(test_dataset, batch_size=batch_size, shuffle=False)"
   ]
  },
  {
   "cell_type": "code",
   "execution_count": 8,
   "id": "3b4e72ae",
   "metadata": {},
   "outputs": [],
   "source": [
    "class NNsmote(nn.Module):\n",
    "    def __init__(self, n_features, fc_size, device, save_dir, name):\n",
    "        super(NNsmote, self).__init__()\n",
    "        self.name = name\n",
    "        self.device = device\n",
    "        self.save_dir = save_dir\n",
    "        self.fc1 = nn.Linear(n_features, fc_size)\n",
    "        self.fc2 = nn.Linear(fc_size, 1)\n",
    "        self.activation1 = nn.ReLU()\n",
    "        self.sigmoid = nn.Sigmoid()\n",
    "        self.to(self.device)\n",
    "\n",
    "        self.train_loss = []\n",
    "        self.train_accuracy = []\n",
    "        self.train_f1 = []\n",
    "        self.test_accuracy = None\n",
    "        self.test_loss = None\n",
    "        self.test_f1 = None\n",
    "        self.test_predicted = []\n",
    "        self.epoch_time = []\n",
    "\n",
    "    def forward(self, x):\n",
    "        x = self.activation1(self.fc1(x))\n",
    "        x = self.fc2(x)\n",
    "        return self.sigmoid(x)\n",
    "\n",
    "    def calculate_accuracy_f1(self, predictions, labels):\n",
    "        preds = (predictions > 0.5).float()\n",
    "        accuracy = accuracy_score(labels.cpu(), preds.cpu())\n",
    "        f1 = f1_score(labels.cpu(), preds.cpu(), average='weighted')\n",
    "        return accuracy, f1\n",
    "\n",
    "    def run(self, train_loader, criterion, optimizer, epochs, save_factor):\n",
    "        for epoch in range(epochs):\n",
    "            start_time = time.time()\n",
    "            self.train()\n",
    "            epoch_loss = 0\n",
    "            epoch_accuracy = 0\n",
    "            epoch_f1 = 0\n",
    "            num_batches = len(train_loader)\n",
    "\n",
    "            for _, (train_seq, train_label) in tqdm(\n",
    "                enumerate(train_loader), total=num_batches, desc=f\"Epoch {epoch+1}/{epochs}\", unit=\"batch\"):\n",
    "\n",
    "                train_seq, train_label = train_seq.to(self.device), train_label.to(self.device)\n",
    "                batch_size = len(train_seq)\n",
    "                smote_neighbors = min(batch_size, 2)\n",
    "\n",
    "                if batch_size > 1:\n",
    "                    try:\n",
    "                        smote = SMOTE(random_state=42, k_neighbors=smote_neighbors)\n",
    "                        train_smote, train_label_smote = smote.fit_resample(\n",
    "                            train_seq.cpu().numpy(), train_label.cpu().numpy())\n",
    "                        train_smote = torch.tensor(train_smote, dtype=torch.float32).to(self.device)\n",
    "                        train_label_smote = torch.tensor(train_label_smote, dtype=torch.float32).to(self.device)\n",
    "                    except ValueError:\n",
    "                        print('Error running SMOTE.')\n",
    "                        train_smote, train_label_smote = train_seq, train_label\n",
    "                else:\n",
    "                    train_smote, train_label_smote = train_seq, train_label\n",
    "\n",
    "                optimizer.zero_grad()\n",
    "                outputs = self(train_smote)\n",
    "                loss = criterion(outputs.squeeze(), train_label_smote)\n",
    "                loss.backward()\n",
    "                optimizer.step()\n",
    "\n",
    "                acc, f1 = self.calculate_accuracy_f1(outputs, train_label_smote)\n",
    "                epoch_loss += loss.item()\n",
    "                epoch_accuracy += acc\n",
    "                epoch_f1 += f1\n",
    "\n",
    "            self.train_loss.append(epoch_loss / num_batches)\n",
    "            self.train_accuracy.append(epoch_accuracy / num_batches)\n",
    "            self.train_f1.append(epoch_f1 / num_batches)\n",
    "            self.epoch_time.append(time.time() - start_time)\n",
    "\n",
    "            print(f\"Epoch [{epoch+1}/{epochs}], \"\n",
    "                  f\"Train Loss: {self.train_loss[-1]:.4f}, Train Acc: {self.train_accuracy[-1]:.4f}, Train F1: {self.train_f1[-1]:.4f}\")\n",
    "\n",
    "            if (epoch + 1) % save_factor == 0:\n",
    "                self.save_model(epoch + 1)\n",
    "\n",
    "    def test(self, test_loader, criterion):\n",
    "        self.eval()\n",
    "        self.test_predicted = []\n",
    "        test_loss = 0\n",
    "        test_accuracy = 0\n",
    "        test_f1 = 0\n",
    "        num_batches = len(test_loader)\n",
    "\n",
    "        with torch.no_grad():\n",
    "            for test_seq, test_label in tqdm(test_loader, total=num_batches, desc=\"Testing\", unit=\"batch\"):\n",
    "                test_seq, test_label = test_seq.to(self.device), test_label.to(self.device)\n",
    "                test_outputs = self(test_seq)\n",
    "                loss = criterion(test_outputs.squeeze(), test_label)\n",
    "                accuracy, f1 = self.calculate_accuracy_f1(test_outputs, test_label)\n",
    "                test_loss += loss.item()\n",
    "                test_accuracy += accuracy\n",
    "                test_f1 += f1\n",
    "                preds = (test_outputs > 0.5).float()\n",
    "                self.test_predicted.extend(preds.cpu().numpy())\n",
    "\n",
    "        self.test_loss = test_loss / num_batches\n",
    "        self.test_accuracy = test_accuracy / num_batches\n",
    "        self.test_f1 = test_f1 / num_batches\n",
    "\n",
    "        print(f\"Test Loss: {self.test_loss:.4f}, Test Accuracy: {self.test_accuracy:.4f}, Test F1: {self.test_f1:.4f}\")\n",
    "\n",
    "    def save_model(self, epoch):\n",
    "        path = os.path.join(self.save_dir, f\"PB_epoch_{epoch}.pkl\")\n",
    "        joblib.dump(self, path)\n",
    "\n",
    "    def load_model(self, path):\n",
    "        model = joblib.load(path)\n",
    "        model.to(model.device)\n",
    "        return model"
   ]
  },
  {
   "cell_type": "code",
   "execution_count": 9,
   "id": "3ca55a82",
   "metadata": {},
   "outputs": [
    {
     "name": "stderr",
     "output_type": "stream",
     "text": [
      "Testing: 100%|██████████| 3969/3969 [00:12<00:00, 320.69batch/s]\n"
     ]
    },
    {
     "name": "stdout",
     "output_type": "stream",
     "text": [
      "Test Loss: 0.6548, Test Accuracy: 0.9845, Test F1: 0.9850\n"
     ]
    },
    {
     "data": {
      "image/png": "[encoded data removed]",
      "text/plain": [
       "<Figure size 800x600 with 2 Axes>"
      ]
     },
     "metadata": {},
     "output_type": "display_data"
    }
   ],
   "source": [
    "device = torch.device(\"cuda\" if torch.cuda.is_available() else \"cpu\")\n",
    "n_features = X_train_tensor.shape[1]\n",
    "fully_connected_size = 128\n",
    "save_dir = './saved_models/'\n",
    "model_name = 'PrimaryBinary'\n",
    "model1 = NNsmote(n_features=n_features, fc_size=fully_connected_size, device=device, save_dir=save_dir, name=model_name)\n",
    "device = torch.device(\"cuda\" if torch.cuda.is_available() else \"cpu\")\n",
    "path = './Models_Final/saved_models/PB_epoch_1.pkl'\n",
    "model = joblib.load(path)\n",
    "optimizer = optim.Adam(model.parameters(), lr=0.1)\n",
    "criterion = nn.BCEWithLogitsLoss()\n",
    "model = model1.load_model(path)\n",
    "model.test(test_loader, criterion)\n",
    "y_pred = np.array(model.test_predicted)\n",
    "labels = test_dataset.tensors[1]\n",
    "plot_confusion_matrix(labels, model.test_predicted)"
   ]
  },
  {
   "cell_type": "code",
   "execution_count": 14,
   "id": "4f211324",
   "metadata": {},
   "outputs": [
    {
     "name": "stdout",
     "output_type": "stream",
     "text": [
      "508010\n",
      "72077\n"
     ]
    }
   ],
   "source": [
    "print(len(test_dataset.tensors[0]))\n",
    "print(len(y_pred[y_pred==1]))"
   ]
  },
  {
   "cell_type": "code",
   "execution_count": 15,
   "id": "58fd63c6",
   "metadata": {},
   "outputs": [],
   "source": [
    "rf = joblib.load('./Models_Final/saved_models/SecondaryMulti.joblib')\n",
    "label_encoder = joblib.load('./Models_Final/saved_models/label_encoder.joblib')"
   ]
  },
  {
   "cell_type": "code",
   "execution_count": 20,
   "id": "927916f1",
   "metadata": {},
   "outputs": [],
   "source": [
    "data2 = pd.DataFrame(test_dataset.tensors[0], columns=X_test.columns)\n",
    "data2['y_pred'] = y_pred\n",
    "data2['actual'] = test_attack_cat.reset_index(drop=True)"
   ]
  },
  {
   "cell_type": "code",
   "execution_count": null,
   "id": "5feabacc",
   "metadata": {},
   "outputs": [],
   "source": [
    "print(test_attack_cat.value_counts(dropna=False))\n",
    "print(data2['actual'].value_counts(dropna=False))\n",
    "data2 = data2[data2['y_pred'] == 1]\n",
    "data2 = data2.reset_index(drop=True)\n",
    "print(data2['actual'].value_counts(dropna=False))"
   ]
  },
  {
   "cell_type": "code",
   "execution_count": 24,
   "id": "f575259a",
   "metadata": {},
   "outputs": [
    {
     "name": "stdout",
     "output_type": "stream",
     "text": [
      "72077\n"
     ]
    }
   ],
   "source": [
    "actual = label_encoder.transform(data2['actual'])\n",
    "data2 = data2.drop(columns=['y_pred', 'actual'])\n",
    "print(len(data2))"
   ]
  },
  {
   "cell_type": "code",
   "execution_count": 25,
   "id": "3dce8f01",
   "metadata": {},
   "outputs": [
    {
     "name": "stdout",
     "output_type": "stream",
     "text": [
      "\n",
      "Classification Report (Test Set):\n",
      "              precision    recall  f1-score   support\n",
      "\n",
      "           0       0.69      0.08      0.14       550\n",
      "           1       0.74      0.06      0.12       477\n",
      "           2       0.30      0.22      0.26      3315\n",
      "           3       0.61      0.82      0.70      8732\n",
      "           4       0.79      0.70      0.74      4784\n",
      "           5       1.00      0.98      0.99     43110\n",
      "           6       0.88      0.93      0.90      7898\n",
      "           7       0.94      0.77      0.85      2850\n",
      "           8       0.69      0.77      0.73       320\n",
      "           9       0.33      0.02      0.05        41\n",
      "\n",
      "    accuracy                           0.88     72077\n",
      "   macro avg       0.70      0.54      0.55     72077\n",
      "weighted avg       0.88      0.88      0.88     72077\n",
      "\n",
      "[5 3 3 ... 2 3 5]\n"
     ]
    }
   ],
   "source": [
    "y_pred = rf.predict(data2)\n",
    "print('\\nClassification Report (Test Set):')\n",
    "print(classification_report(actual, y_pred))\n",
    "print(y_pred)"
   ]
  },
  {
   "cell_type": "code",
   "execution_count": 26,
   "id": "f3f5e771",
   "metadata": {},
   "outputs": [
    {
     "name": "stdout",
     "output_type": "stream",
     "text": [
      "\n",
      "Classification Report (Test Set):\n",
      "                precision    recall  f1-score   support\n",
      "\n",
      "      Analysis       0.69      0.08      0.14       550\n",
      "      Backdoor       0.74      0.06      0.12       477\n",
      "           DoS       0.30      0.22      0.26      3315\n",
      "      Exploits       0.61      0.82      0.70      8732\n",
      "       Fuzzers       0.79      0.70      0.74      4784\n",
      "       Generic       1.00      0.98      0.99     43110\n",
      "        Normal       0.88      0.93      0.90      7898\n",
      "Reconnaissance       0.94      0.77      0.85      2850\n",
      "     Shellcode       0.69      0.77      0.73       320\n",
      "         Worms       0.33      0.02      0.05        41\n",
      "\n",
      "      accuracy                           0.88     72077\n",
      "     macro avg       0.70      0.54      0.55     72077\n",
      "  weighted avg       0.88      0.88      0.88     72077\n",
      "\n",
      "Accuracy for category 'Analysis': 0.0800\n",
      "Accuracy for category 'Backdoor': 0.0650\n",
      "Accuracy for category 'DoS': 0.2244\n",
      "Accuracy for category 'Exploits': 0.8221\n",
      "Accuracy for category 'Fuzzers': 0.7032\n",
      "Accuracy for category 'Generic': 0.9835\n",
      "Accuracy for category 'Normal': 0.9268\n",
      "Accuracy for category 'Reconnaissance': 0.7723\n",
      "Accuracy for category 'Shellcode': 0.7688\n",
      "Accuracy for category 'Worms': 0.0244\n"
     ]
    }
   ],
   "source": [
    "y_pred_decoded = label_encoder.inverse_transform(y_pred)\n",
    "actual_decoded = label_encoder.inverse_transform(actual)\n",
    "print('\\nClassification Report (Test Set):')\n",
    "print(classification_report(actual_decoded, y_pred_decoded))\n",
    "categories = label_encoder.classes_\n",
    "for category in categories:\n",
    "    actual_category = actual_decoded == category\n",
    "    predicted_category = y_pred_decoded == category\n",
    "    accuracy = (actual_category & predicted_category).sum() / actual_category.sum()\n",
    "    print(f\"Accuracy for category '{category}': {accuracy:.4f}\")"
   ]
  },
  {
   "cell_type": "code",
   "execution_count": 41,
   "id": "4342c311",
   "metadata": {},
   "outputs": [
    {
     "name": "stdout",
     "output_type": "stream",
     "text": [
      "Wrong Predictions: 447\n"
     ]
    }
   ],
   "source": [
    "actual_normal = actual_decoded[actual_decoded == 'Normal']\n",
    "predicted_normal = y_pred_decoded[y_pred_decoded == 'Normal']\n",
    "print(f\"Wrong Predictions: {predicted_normal.shape[0] - actual_normal.shape[0]}\")"
   ]
  }
 ],
 "metadata": {
  "kernelspec": {
   "display_name": "conda12",
   "language": "python",
   "name": "python3"
  },
  "language_info": {
   "codemirror_mode": {
    "name": "ipython",
    "version": 3
   },
   "file_extension": ".py",
   "mimetype": "text/x-python",
   "name": "python",
   "nbconvert_exporter": "python",
   "pygments_lexer": "ipython3",
   "version": "3.12.9"
  }
 },
 "nbformat": 4,
 "nbformat_minor": 5
}
