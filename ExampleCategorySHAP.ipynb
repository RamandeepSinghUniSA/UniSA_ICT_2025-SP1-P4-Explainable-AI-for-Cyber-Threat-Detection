{
 "cells": [
  {
   "cell_type": "code",
   "execution_count": 21,
   "id": "fbf7a64f",
   "metadata": {},
   "outputs": [],
   "source": [
    "import pandas as pd\n",
    "import numpy as np\n",
    "from sklearn.preprocessing import OneHotEncoder, LabelEncoder, StandardScaler, MinMaxScaler\n",
    "from sklearn.metrics import classification_report\n",
    "from sklearn.ensemble import RandomForestClassifier\n",
    "from sklearn.model_selection import train_test_split\n",
    "from torch.utils.data import DataLoader, TensorDataset\n",
    "import joblib\n",
    "import torch\n",
    "from Models.models import NNdynamic, plot_confusion_matrix, plot_metrics, accuracy_score\n",
    "from imblearn.over_sampling import SMOTE\n",
    "import shap\n",
    "from xgboost import XGBClassifier\n",
    "from sklearn.ensemble import RandomForestClassifier"
   ]
  },
  {
   "cell_type": "code",
   "execution_count": 125,
   "id": "89c97c41",
   "metadata": {},
   "outputs": [
    {
     "name": "stderr",
     "output_type": "stream",
     "text": [
      "C:\\Users\\adi_s\\AppData\\Local\\Temp\\ipykernel_12068\\2287905068.py:1: DtypeWarning: Columns (1,3) have mixed types. Specify dtype option on import or set low_memory=False.\n",
      "  data = pd.read_csv('Cleaned_full_data.csv')\n"
     ]
    }
   ],
   "source": [
    "data = pd.read_csv('Cleaned_full_data.csv')\n",
    "# Reset retained index.\n",
    "data = data.reset_index(drop=True)\n",
    "# Set NA to 0.\n",
    "data['ct_ftp_cmd'] = data['ct_ftp_cmd'].fillna(0)\n",
    "data['attack_cat'] = data['attack_cat'].str.replace(r'\\s+', '', regex=True)\n",
    "data['attack_cat'] = data['attack_cat'].str.replace('Backdoors', 'Backdoor')\n",
    "data2 = data.copy()\n",
    "data = data.drop(columns=['proto', 'dsport', 'service', 'state', 'srcip', 'sport', 'dstip'])\n",
    "temp = data[['is_ftp_login', 'is_sm_ips_ports', 'label', 'attack_cat']]\n",
    "data = data.drop(columns=['is_ftp_login', 'is_sm_ips_ports', 'label', 'attack_cat'])\n",
    "# The resulting encoded features can be found in Tools/EncoderTests.\n",
    "ohe1 = pd.read_csv('Full_proto_encoded.csv')\n",
    "ohe2 = pd.read_csv('Full_dsport_encoded.csv')\n",
    "ohe3 = pd.read_csv('Full_service_encoded.csv')\n",
    "ohe4 = pd.read_csv('Full_state_encoded.csv')\n",
    "# Spelling error.\n",
    "ohe5 = pd.read_csv('Full_scrip_encoded.csv')\n",
    "#------------------------------------------#\n",
    "ohe6 = pd.read_csv('Full_sport_encoded.csv')\n",
    "ohe7 = pd.read_csv('Full_dstip_encoded.csv')\n",
    "# MinMax seperates Normal data well and reduces noise. Please see Kmeans TSNE evaluation in Tools.\n",
    "scaler = MinMaxScaler()\n",
    "scaled_data = scaler.fit_transform(data)\n",
    "data = pd.DataFrame(scaled_data, columns=data.columns)\n",
    "data = pd.concat([data, temp, ohe1, ohe2, ohe3, ohe4, ohe5, ohe6, ohe7], axis=1)"
   ]
  },
  {
   "cell_type": "markdown",
   "id": "5aa76205",
   "metadata": {},
   "source": [
    "One Hot encoded preprocessing"
   ]
  },
  {
   "cell_type": "code",
   "execution_count": null,
   "id": "879fe624",
   "metadata": {},
   "outputs": [],
   "source": [
    "X_temp = data.drop(columns=['label'])\n",
    "y1 = data['label']\n",
    "X_train, X_test, y_train, y_test = train_test_split(\n",
    "    X_temp, y1, test_size=0.2, random_state=42)"
   ]
  },
  {
   "cell_type": "code",
   "execution_count": null,
   "id": "f01f5c76",
   "metadata": {},
   "outputs": [
    {
     "name": "stdout",
     "output_type": "stream",
     "text": [
      "Train: label\n",
      "0    1774933\n",
      "1     257104\n",
      "Name: count, dtype: int64\n",
      "Test label\n",
      "0    443831\n",
      "1     64179\n",
      "Name: count, dtype: int64\n"
     ]
    }
   ],
   "source": [
    "test_attack_cat = X_test['attack_cat']\n",
    "print('Train:', y_train.value_counts())\n",
    "print('Test', y_test.value_counts())\n",
    "X_train = X_train.drop(columns=['attack_cat'])\n",
    "X_test = X_test.drop(columns=['attack_cat'])\n",
    "# Prepare batches.\n",
    "batch_size = 128\n",
    "X_train_tensor = torch.tensor(X_train.values, dtype=torch.float32)\n",
    "X_test_tensor = torch.tensor(X_test.values, dtype=torch.float32)\n",
    "y_train_tensor = torch.tensor(y_train.values, dtype=torch.float32)\n",
    "y_test_tensor = torch.tensor(y_test, dtype=torch.float32)\n",
    "train_dataset = TensorDataset(X_train_tensor, y_train_tensor)\n",
    "test_dataset = TensorDataset(X_test_tensor, y_test_tensor)\n",
    "train_loader = DataLoader(train_dataset, batch_size=batch_size, shuffle=True)\n",
    "test_loader = DataLoader(test_dataset, batch_size=batch_size, shuffle=False)"
   ]
  },
  {
   "cell_type": "code",
   "execution_count": null,
   "id": "3b3c7337",
   "metadata": {},
   "outputs": [],
   "source": [
    "# Run best SMOTE Model.\n",
    "device = torch.device(\"cuda\" if torch.cuda.is_available() else \"cpu\")\n",
    "n_features = X_train_tensor.shape[1]\n",
    "fc_size = 128\n",
    "save_dir = './Models/saved_models/'\n",
    "model1 = NNdynamic(n_features, fc_size, device, save_dir)\n",
    "model1.load_model('./Models/saved_models/02/smote/007-128/PB_epoch_15.pth')\n",
    "model1.test(test_loader)\n",
    "labels = test_dataset.tensors[1]\n",
    "plot_confusion_matrix(labels, model1.test_predicted)"
   ]
  },
  {
   "cell_type": "markdown",
   "id": "9d10f032",
   "metadata": {},
   "source": [
    "Summary Plot of NN"
   ]
  },
  {
   "cell_type": "code",
   "execution_count": null,
   "id": "49a73d63",
   "metadata": {},
   "outputs": [],
   "source": [
    "# Create tensor background.\n",
    "idx = torch.randperm(X_test_tensor.size(0))[:1000]\n",
    "background = X_test_tensor[idx]\n",
    "# I will be using test background so that the SMOTE and Standard model can be compared (will add later).\n",
    "xp_nn = shap.DeepExplainer(model1, background)\n",
    "# Just as an example. Usually we would check either correct or incorrect predictions here.\n",
    "shap_nn = xp_nn.shap_values(background)\n",
    "shap.summary_plot(shap_nn[:, :, 0], background, feature_names=X_test.columns, max_display=10)"
   ]
  },
  {
   "cell_type": "markdown",
   "id": "5dc0bf88",
   "metadata": {},
   "source": [
    "Label Encoded preprocessing for Tree Model."
   ]
  },
  {
   "cell_type": "code",
   "execution_count": null,
   "id": "b54b3e6e",
   "metadata": {},
   "outputs": [],
   "source": [
    "# Label encode data2 (standard).\n",
    "cols = ['proto', 'dsport', 'service', 'state', 'srcip', 'sport', 'dstip']\n",
    "data2[cols] = data2[cols].astype(str)\n",
    "le_features = LabelEncoder()\n",
    "for c in cols:\n",
    "    data2[c] = le_features.fit_transform(data2[c])\n",
    "# Keep label seperate for simplicity\n",
    "le_label = LabelEncoder()\n",
    "data2['attack_cat'] = le_label.fit_transform(data2['attack_cat'])"
   ]
  },
  {
   "cell_type": "code",
   "execution_count": 128,
   "id": "2e5eb6cf",
   "metadata": {},
   "outputs": [],
   "source": [
    "# Optionally process using 'label' for binary classification but make sure to remove attack_cat.\n",
    "X_temp2 = data2.drop(columns=['label', 'attack_cat'])\n",
    "y2 = data2['attack_cat']\n",
    "X_train2, X_test2, y_train2, y_test2 = train_test_split(\n",
    "    X_temp2, y2, test_size=0.2, random_state=42)"
   ]
  },
  {
   "cell_type": "code",
   "execution_count": 85,
   "id": "de248c7a",
   "metadata": {},
   "outputs": [
    {
     "name": "stdout",
     "output_type": "stream",
     "text": [
      "Accuracy: 0.9820\n",
      "\n",
      "Classification Report:\n",
      "              precision    recall  f1-score   support\n",
      "\n",
      "           0       0.53      0.08      0.14       550\n",
      "           1       0.50      0.08      0.14       477\n",
      "           2       0.32      0.26      0.29      3315\n",
      "           3       0.62      0.80      0.70      8732\n",
      "           4       0.70      0.68      0.69      4784\n",
      "           5       1.00      0.98      0.99     43110\n",
      "           6       1.00      1.00      1.00    443831\n",
      "           7       0.93      0.77      0.85      2850\n",
      "           8       0.70      0.65      0.68       320\n",
      "           9       0.62      0.12      0.20        41\n",
      "\n",
      "    accuracy                           0.98    508010\n",
      "   macro avg       0.69      0.54      0.57    508010\n",
      "weighted avg       0.98      0.98      0.98    508010\n",
      "\n"
     ]
    }
   ],
   "source": [
    "# Optionally select XGboost model.\n",
    "# Reduce estimators just to speed up processing for now.\n",
    "rf_model = RandomForestClassifier(n_estimators=10, random_state=42)\n",
    "rf_model.fit(X_train2, y_train2)\n",
    "y_pred2 = rf_model.predict(X_test2)\n",
    "accuracy = accuracy_score(y_test2, y_pred2)\n",
    "print(f'Accuracy: {accuracy:.4f}')\n",
    "print(\"\\nClassification Report:\")\n",
    "print(classification_report(y_test2, y_pred2))"
   ]
  },
  {
   "cell_type": "code",
   "execution_count": 129,
   "id": "2cf61458",
   "metadata": {},
   "outputs": [
    {
     "name": "stdout",
     "output_type": "stream",
     "text": [
      "Accuracy: 0.7846\n",
      "\n",
      "Classification Report:\n",
      "              precision    recall  f1-score   support\n",
      "\n",
      "           0       0.58      0.05      0.09       550\n",
      "           1       0.61      0.05      0.10       477\n",
      "           2       0.28      0.06      0.10      3315\n",
      "           3       0.51      0.80      0.62      8732\n",
      "           4       0.41      0.34      0.37      4784\n",
      "           5       0.99      0.98      0.99     43110\n",
      "           6       0.32      0.38      0.34      6141\n",
      "           7       0.91      0.59      0.71      2850\n",
      "           8       0.34      0.47      0.40       320\n",
      "           9       1.00      0.07      0.14        41\n",
      "\n",
      "    accuracy                           0.78     70320\n",
      "   macro avg       0.59      0.38      0.39     70320\n",
      "weighted avg       0.79      0.78      0.77     70320\n",
      "\n"
     ]
    }
   ],
   "source": [
    "# Optionally index the remaining data from the SMOTE model and use as test set (I will use this for shap).\n",
    "temp = X_test2.copy()\n",
    "temp['preds'] = model1.test_predicted\n",
    "temp['actual'] = y_test2\n",
    "X_test2_smote = temp[temp['preds'] == 1]\n",
    "y_actual_smote = X_test2_smote['actual']\n",
    "X_test2_smote = X_test2_smote.drop(columns=['preds', 'actual'])\n",
    "y_pred3 = rf_model.predict(X_test2_smote)\n",
    "accuracy = accuracy_score(y_actual_smote, y_pred3)\n",
    "print(f'Accuracy: {accuracy:.4f}')\n",
    "print(\"\\nClassification Report:\")\n",
    "print(classification_report(y_actual_smote, y_pred3))"
   ]
  },
  {
   "cell_type": "markdown",
   "id": "dc3f6935",
   "metadata": {},
   "source": [
    "NN For quick Summary plot."
   ]
  },
  {
   "cell_type": "markdown",
   "id": "883271bf",
   "metadata": {},
   "source": [
    "Tree Model"
   ]
  },
  {
   "cell_type": "code",
   "execution_count": 130,
   "id": "dab55062",
   "metadata": {},
   "outputs": [
    {
     "name": "stdout",
     "output_type": "stream",
     "text": [
      "actual\n",
      "5    43110\n",
      "3     8732\n",
      "6     6141\n",
      "4     4784\n",
      "2     3315\n",
      "7     2850\n",
      "0      550\n",
      "1      477\n",
      "8      320\n",
      "9       41\n",
      "Name: count, dtype: int64\n"
     ]
    }
   ],
   "source": [
    "# Calculate shap values (using SMOTE model test)\n",
    "# The background determines the baseline. Do you want to evaluate how the train data generalises to test data then use a train and test background\n",
    "# and compare in shap visualisations (make sure to use the same index).\n",
    "# NOTE: I do not know how this might impact the tree model. It depends if the tree model reconstructs the tree for the test set based on weighths\n",
    "# or uses the tree from train set (unmodified).\n",
    "# Lets use the test background for now as it represents the distribution of the predicted set.\n",
    "\n",
    "# Lets index just DoS and make visualisations for incorrect labels.\n",
    "# first we need to add actual labels and predicted labels back.\n",
    "X_test2_smote['actual'] = y_actual_smote\n",
    "X_test2_smote['preds'] = y_pred3\n",
    "\n",
    "# Now we take a sample for the background (this is why we had to add the predictions first).\n",
    "# First lets check the value counts for actual.\n",
    "print(X_test2_smote['actual'].value_counts())\n",
    "# Ok we see a problem here. We have way too many generic samples but we face the same issues in normal data with Normal labels."
   ]
  },
  {
   "cell_type": "code",
   "execution_count": 131,
   "id": "282832ff",
   "metadata": {},
   "outputs": [
    {
     "name": "stdout",
     "output_type": "stream",
     "text": [
      "9\n",
      "10\n",
      "actual\n",
      "5    623\n",
      "3    125\n",
      "6     86\n",
      "4     70\n",
      "7     38\n",
      "2     37\n",
      "0     10\n",
      "1      7\n",
      "8      2\n",
      "9      2\n",
      "Name: count, dtype: int64\n"
     ]
    }
   ],
   "source": [
    "# Ideally we want a larger background to avoid this error. But lets move forward with this and make sure we get all labels.\n",
    "ss = 0\n",
    "rs = 0\n",
    "background2 = None\n",
    "while ss < 10:\n",
    "    samplex = X_test2_smote.sample(n=1000, random_state=rs)\n",
    "    rs += 1\n",
    "    ss = len(samplex['actual'].value_counts())\n",
    "    print(len(samplex['actual'].value_counts()))\n",
    "    if ss == 10:\n",
    "        background2 = samplex\n",
    "print(background2['actual'].value_counts())"
   ]
  },
  {
   "cell_type": "code",
   "execution_count": 132,
   "id": "c119dc59",
   "metadata": {},
   "outputs": [],
   "source": [
    "# Now we need to remove the predictions and store them before making the background.\n",
    "actual = background2['actual']\n",
    "predicted = background2['preds']\n",
    "background2 = background2.drop(columns=['actual', 'preds'])\n",
    "xp_tree = shap.TreeExplainer(rf_model, background2)"
   ]
  },
  {
   "cell_type": "code",
   "execution_count": null,
   "id": "d25114f5",
   "metadata": {},
   "outputs": [
    {
     "name": "stdout",
     "output_type": "stream",
     "text": [
      "['Fuzzers' 'Normal' 'Generic' 'DoS' 'Generic' 'Generic' 'Generic'\n",
      " 'Generic' 'Generic' 'Normal' 'Generic' 'Generic' 'Generic' 'Generic'\n",
      " 'Fuzzers' 'Generic' 'Exploits' 'Generic' 'Generic' 'Normal' 'Generic'\n",
      " 'Generic' 'Generic' 'Generic' 'Generic' 'Generic' 'Normal' 'Generic'\n",
      " 'Exploits' 'Generic' 'Generic' 'Generic' 'Generic' 'Generic' 'Generic'\n",
      " 'Exploits' 'Generic' 'Normal' 'Fuzzers' 'Analysis' 'Reconnaissance'\n",
      " 'Generic' 'Generic' 'Generic' 'Normal' 'Generic' 'Generic' 'Generic'\n",
      " 'Generic' 'Fuzzers' 'Generic' 'Generic' 'Exploits' 'Generic' 'Normal'\n",
      " 'Generic' 'Shellcode' 'Generic' 'Reconnaissance' 'Fuzzers' 'Generic'\n",
      " 'Generic' 'Fuzzers' 'Fuzzers' 'Generic' 'Reconnaissance' 'Generic'\n",
      " 'Exploits' 'Generic' 'Generic' 'Generic' 'Generic' 'Generic' 'Generic'\n",
      " 'Exploits' 'Backdoor' 'Normal' 'Exploits' 'Exploits' 'Exploits' 'Generic'\n",
      " 'Generic' 'Generic' 'Exploits' 'Generic' 'Generic' 'Normal' 'Exploits'\n",
      " 'Fuzzers' 'DoS' 'Normal' 'Generic' 'Fuzzers' 'Exploits' 'Generic'\n",
      " 'Generic' 'DoS' 'Generic' 'Fuzzers' 'Generic' 'Generic' 'Exploits'\n",
      " 'Backdoor' 'Generic' 'Generic' 'Normal' 'Generic' 'Generic' 'Fuzzers'\n",
      " 'Normal' 'Generic' 'Exploits' 'Generic' 'Generic' 'Exploits' 'Generic'\n",
      " 'Generic' 'Generic' 'Generic' 'Generic' 'Exploits' 'Generic' 'Generic'\n",
      " 'Analysis' 'Generic' 'Generic' 'Exploits' 'Exploits' 'Normal' 'Normal'\n",
      " 'Fuzzers' 'Generic' 'Generic' 'Generic' 'Normal' 'Fuzzers' 'Generic'\n",
      " 'Generic' 'Fuzzers' 'Exploits' 'Generic' 'Generic' 'Generic' 'DoS' 'DoS'\n",
      " 'Generic' 'Generic' 'Exploits' 'Normal' 'Normal' 'Generic' 'Normal' 'DoS'\n",
      " 'Normal' 'Generic' 'Generic' 'DoS' 'Generic' 'Generic' 'Generic'\n",
      " 'Generic' 'Generic' 'Generic' 'Generic' 'Reconnaissance' 'Normal'\n",
      " 'Generic' 'Generic' 'Reconnaissance' 'Generic' 'Generic' 'Generic'\n",
      " 'Generic' 'Generic' 'Generic' 'Generic' 'Generic' 'Generic'\n",
      " 'Reconnaissance' 'Normal' 'Generic' 'Fuzzers' 'Generic' 'Fuzzers'\n",
      " 'Generic' 'Generic' 'Generic' 'Generic' 'Generic' 'Shellcode' 'Generic'\n",
      " 'Generic' 'Generic' 'Generic' 'Generic' 'Normal' 'Generic' 'Generic'\n",
      " 'Reconnaissance' 'Generic' 'Exploits' 'Generic' 'Generic' 'Generic'\n",
      " 'Generic' 'Exploits' 'Generic' 'Generic' 'Reconnaissance' 'Generic'\n",
      " 'Normal' 'Generic' 'Exploits' 'Fuzzers' 'Generic' 'Exploits' 'Generic'\n",
      " 'Exploits' 'Generic' 'Normal' 'Fuzzers' 'Generic' 'Exploits' 'Generic'\n",
      " 'Exploits' 'Generic' 'Generic' 'Reconnaissance' 'Generic' 'Fuzzers'\n",
      " 'Reconnaissance' 'Generic' 'Generic' 'Generic' 'Normal' 'Generic'\n",
      " 'Generic' 'Generic' 'Generic' 'Generic' 'Generic' 'Generic' 'Generic'\n",
      " 'Exploits' 'Analysis' 'Generic' 'Generic' 'Generic' 'Generic' 'Generic'\n",
      " 'Generic' 'Generic' 'Generic' 'Generic' 'Generic' 'Exploits' 'Generic'\n",
      " 'Generic' 'Generic' 'Generic' 'Generic' 'Generic' 'Generic' 'Normal'\n",
      " 'Fuzzers' 'Generic' 'Generic' 'Generic' 'Normal' 'Fuzzers' 'Normal'\n",
      " 'Generic' 'Fuzzers' 'Exploits' 'Reconnaissance' 'Generic' 'Generic'\n",
      " 'Exploits' 'Generic' 'DoS' 'Generic' 'Fuzzers' 'Generic' 'Generic'\n",
      " 'Generic' 'Exploits' 'Generic' 'Generic' 'DoS' 'Generic' 'Generic'\n",
      " 'Generic' 'Generic' 'Generic' 'Generic' 'Generic' 'Generic' 'Generic'\n",
      " 'Exploits' 'Normal' 'Generic' 'Fuzzers' 'Generic' 'Exploits' 'Fuzzers'\n",
      " 'Reconnaissance' 'Generic' 'Reconnaissance' 'Generic' 'Generic' 'Normal'\n",
      " 'Generic' 'Fuzzers' 'Normal' 'Generic' 'Generic' 'Generic' 'Exploits'\n",
      " 'Exploits' 'Generic' 'Generic' 'Generic' 'DoS' 'Generic' 'Generic' 'DoS'\n",
      " 'Generic' 'Generic' 'Generic' 'Generic' 'Generic' 'Generic' 'Generic'\n",
      " 'Exploits' 'Generic' 'Fuzzers' 'Exploits' 'Fuzzers' 'Generic' 'Exploits'\n",
      " 'Generic' 'Generic' 'Normal' 'Generic' 'Exploits' 'Generic' 'Generic'\n",
      " 'Generic' 'Generic' 'Generic' 'Exploits' 'Generic' 'Exploits' 'Exploits'\n",
      " 'Generic' 'Generic' 'Generic' 'Generic' 'Generic' 'Exploits' 'Generic'\n",
      " 'Generic' 'Generic' 'Generic' 'Generic' 'Generic' 'Generic' 'Generic'\n",
      " 'Normal' 'Generic' 'Generic' 'Reconnaissance' 'Exploits' 'Generic'\n",
      " 'Generic' 'Fuzzers' 'Analysis' 'Exploits' 'Fuzzers' 'Generic' 'Generic'\n",
      " 'Generic' 'Generic' 'Reconnaissance' 'Exploits' 'Generic' 'Generic'\n",
      " 'Exploits' 'Normal' 'Generic' 'Reconnaissance' 'Backdoor' 'Generic'\n",
      " 'Exploits' 'Generic' 'DoS' 'Generic' 'Generic' 'Exploits' 'Exploits'\n",
      " 'Generic' 'Normal' 'Exploits' 'DoS' 'Reconnaissance' 'Exploits' 'Generic'\n",
      " 'Generic' 'Generic' 'Backdoor' 'Fuzzers' 'Generic' 'Fuzzers' 'Normal'\n",
      " 'Generic' 'Generic' 'Normal' 'Exploits' 'Reconnaissance' 'Generic'\n",
      " 'Generic' 'Generic' 'Exploits' 'Generic' 'Generic' 'Worms' 'Generic'\n",
      " 'Generic' 'Exploits' 'Generic' 'Generic' 'Generic' 'Generic' 'Exploits'\n",
      " 'Reconnaissance' 'Generic' 'Exploits' 'Generic' 'Generic' 'Normal'\n",
      " 'Analysis' 'Generic' 'Generic' 'Exploits' 'Exploits' 'Generic' 'Generic'\n",
      " 'Generic' 'Generic' 'Generic' 'Generic' 'Generic' 'Normal' 'Generic'\n",
      " 'Exploits' 'Reconnaissance' 'Generic' 'Generic' 'Generic' 'DoS' 'Generic'\n",
      " 'Generic' 'Generic' 'Generic' 'Generic' 'Generic' 'Normal' 'Generic'\n",
      " 'Exploits' 'Exploits' 'Normal' 'Normal' 'Normal' 'Generic' 'DoS' 'Normal'\n",
      " 'DoS' 'Generic' 'Generic' 'Exploits' 'Generic' 'Generic' 'Generic'\n",
      " 'Fuzzers' 'Fuzzers' 'Generic' 'Generic' 'Analysis' 'Generic' 'Generic'\n",
      " 'Exploits' 'Generic' 'Generic' 'Exploits' 'Exploits' 'Generic' 'Exploits'\n",
      " 'Generic' 'Fuzzers' 'Exploits' 'Generic' 'Reconnaissance' 'Generic' 'DoS'\n",
      " 'Generic' 'Generic' 'Exploits' 'Generic' 'Generic' 'Generic'\n",
      " 'Reconnaissance' 'Generic' 'Fuzzers' 'Generic' 'Generic' 'Generic'\n",
      " 'Generic' 'Generic' 'Fuzzers' 'Generic' 'Exploits' 'Exploits' 'Exploits'\n",
      " 'Exploits' 'Generic' 'Exploits' 'Generic' 'DoS' 'Generic' 'Generic'\n",
      " 'Generic' 'Generic' 'Fuzzers' 'Generic' 'Generic' 'Reconnaissance'\n",
      " 'Generic' 'Normal' 'Generic' 'Generic' 'Generic' 'Generic' 'Exploits'\n",
      " 'Normal' 'Exploits' 'Generic' 'Generic' 'DoS' 'Exploits' 'Normal'\n",
      " 'Generic' 'Generic' 'Generic' 'Generic' 'DoS' 'Exploits' 'Generic'\n",
      " 'Reconnaissance' 'Exploits' 'Generic' 'Generic' 'Normal' 'Generic'\n",
      " 'Generic' 'Generic' 'Generic' 'Generic' 'Generic' 'Generic' 'Exploits'\n",
      " 'Generic' 'Generic' 'Generic' 'Generic' 'Fuzzers' 'Generic' 'Generic'\n",
      " 'Generic' 'Normal' 'Exploits' 'Generic' 'Fuzzers' 'Reconnaissance'\n",
      " 'Generic' 'DoS' 'Reconnaissance' 'Generic' 'Generic' 'Generic' 'Generic'\n",
      " 'Normal' 'Generic' 'Normal' 'Generic' 'Generic' 'Generic' 'Normal'\n",
      " 'Generic' 'Generic' 'Exploits' 'Generic' 'Generic' 'Exploits' 'Generic'\n",
      " 'Generic' 'Exploits' 'Normal' 'Generic' 'Fuzzers' 'Fuzzers' 'Generic'\n",
      " 'Generic' 'DoS' 'Generic' 'Generic' 'Generic' 'Generic' 'Normal'\n",
      " 'Generic' 'Generic' 'Generic' 'Generic' 'Exploits' 'Normal' 'Normal'\n",
      " 'Generic' 'Generic' 'Fuzzers' 'Generic' 'Generic' 'DoS' 'Generic'\n",
      " 'Reconnaissance' 'Generic' 'Generic' 'Generic' 'Generic' 'Generic'\n",
      " 'Generic' 'Generic' 'Generic' 'Exploits' 'Generic' 'Generic' 'Generic'\n",
      " 'Normal' 'Generic' 'DoS' 'Generic' 'Fuzzers' 'Reconnaissance' 'Generic'\n",
      " 'Reconnaissance' 'Generic' 'Fuzzers' 'Generic' 'Generic' 'Generic'\n",
      " 'Generic' 'Generic' 'Generic' 'Generic' 'Generic' 'Generic' 'Generic'\n",
      " 'Generic' 'Generic' 'Generic' 'Exploits' 'Generic' 'Generic' 'Generic'\n",
      " 'Generic' 'Generic' 'Generic' 'Generic' 'Generic' 'Generic' 'Generic'\n",
      " 'Generic' 'Exploits' 'Fuzzers' 'Generic' 'Generic' 'Fuzzers' 'Generic'\n",
      " 'Generic' 'Generic' 'Generic' 'Generic' 'Generic' 'Generic' 'Generic'\n",
      " 'Exploits' 'Fuzzers' 'DoS' 'Generic' 'Exploits' 'Generic' 'Generic'\n",
      " 'Generic' 'Normal' 'Reconnaissance' 'Generic' 'Generic' 'Exploits'\n",
      " 'Generic' 'Generic' 'Normal' 'Generic' 'Generic' 'Generic' 'Exploits'\n",
      " 'Exploits' 'Generic' 'Exploits' 'Analysis' 'Generic' 'Fuzzers' 'Generic'\n",
      " 'Exploits' 'Generic' 'Exploits' 'Backdoor' 'Generic' 'Reconnaissance'\n",
      " 'Fuzzers' 'DoS' 'Normal' 'DoS' 'Generic' 'Reconnaissance' 'Generic'\n",
      " 'Generic' 'Generic' 'Generic' 'Generic' 'Exploits' 'Generic' 'Generic'\n",
      " 'DoS' 'Fuzzers' 'Backdoor' 'Fuzzers' 'Generic' 'Exploits' 'Generic'\n",
      " 'Generic' 'Generic' 'Exploits' 'Exploits' 'Analysis' 'Generic' 'Generic'\n",
      " 'Generic' 'Generic' 'Fuzzers' 'Fuzzers' 'Generic' 'Generic' 'Generic'\n",
      " 'Generic' 'Generic' 'Exploits' 'DoS' 'Generic' 'Exploits' 'Exploits'\n",
      " 'Generic' 'Generic' 'Generic' 'Generic' 'Normal' 'Generic' 'Generic'\n",
      " 'Fuzzers' 'Generic' 'Generic' 'Generic' 'Generic' 'Generic' 'Generic'\n",
      " 'Generic' 'Normal' 'Generic' 'Generic' 'Generic' 'Exploits' 'Generic'\n",
      " 'Generic' 'Generic' 'DoS' 'Normal' 'Generic' 'Generic' 'Analysis'\n",
      " 'Generic' 'Generic' 'Fuzzers' 'Generic' 'Reconnaissance' 'Generic'\n",
      " 'Generic' 'Generic' 'Generic' 'Generic' 'Generic' 'Fuzzers'\n",
      " 'Reconnaissance' 'Generic' 'Normal' 'Generic' 'Generic' 'Exploits'\n",
      " 'Generic' 'Generic' 'Exploits' 'Generic' 'Generic' 'Generic' 'Generic'\n",
      " 'Generic' 'Generic' 'Fuzzers' 'Generic' 'Generic' 'Generic' 'Normal'\n",
      " 'Generic' 'Generic' 'Fuzzers' 'Generic' 'Generic' 'Exploits' 'Normal'\n",
      " 'Generic' 'Generic' 'Generic' 'Generic' 'Normal' 'Generic' 'Exploits'\n",
      " 'Generic' 'Exploits' 'Exploits' 'Normal' 'Exploits' 'Generic' 'Generic'\n",
      " 'Generic' 'Generic' 'Exploits' 'Generic' 'Generic' 'Generic' 'Generic'\n",
      " 'Generic' 'Generic' 'Worms' 'Generic' 'Fuzzers' 'Generic' 'DoS' 'Fuzzers'\n",
      " 'Generic' 'Fuzzers' 'Generic' 'Generic' 'Fuzzers' 'Generic' 'Generic'\n",
      " 'Generic' 'DoS' 'Generic' 'Generic' 'Generic' 'Generic' 'Exploits'\n",
      " 'Generic' 'Reconnaissance' 'Generic' 'Generic' 'Generic' 'Generic'\n",
      " 'Generic' 'Generic' 'Generic' 'Generic' 'Generic' 'Normal' 'Fuzzers'\n",
      " 'Generic' 'Generic' 'Generic' 'Normal' 'Normal' 'Normal' 'Normal'\n",
      " 'Generic' 'Generic' 'Exploits' 'Normal' 'Generic' 'Fuzzers' 'Generic'\n",
      " 'Normal' 'Generic' 'Exploits' 'Generic' 'Generic' 'Reconnaissance'\n",
      " 'Generic' 'Generic' 'Generic' 'Normal' 'Generic' 'Generic' 'Exploits'\n",
      " 'Generic' 'Generic' 'DoS' 'Backdoor' 'Generic' 'Generic' 'Generic'\n",
      " 'Generic' 'Generic' 'Generic' 'Generic' 'Generic' 'Generic' 'Generic'\n",
      " 'Generic' 'DoS' 'Generic' 'Generic' 'Exploits' 'Generic' 'Generic'\n",
      " 'Fuzzers' 'Generic' 'Generic' 'Exploits' 'Generic' 'Exploits' 'Generic'\n",
      " 'Generic' 'Reconnaissance' 'Generic' 'Generic' 'Analysis' 'Generic'\n",
      " 'Normal' 'Generic' 'Fuzzers' 'Generic' 'Generic' 'Normal' 'Normal'\n",
      " 'Exploits' 'Generic' 'Generic' 'Generic' 'Generic' 'Normal' 'Normal'\n",
      " 'Generic' 'Exploits' 'Generic' 'Generic' 'Generic' 'Generic' 'DoS'\n",
      " 'Normal' 'Reconnaissance' 'Normal' 'Normal' 'Generic' 'Generic' 'Generic'\n",
      " 'Generic' 'DoS' 'Generic' 'DoS' 'Generic' 'Exploits' 'Fuzzers' 'Normal'\n",
      " 'Generic' 'Normal' 'Exploits' 'Fuzzers' 'Generic' 'Generic' 'Generic'\n",
      " 'Generic' 'Fuzzers' 'Generic' 'Exploits' 'Generic']\n",
      "['Exploits' 'Fuzzers' 'Generic' 'Exploits' 'Generic' 'Generic' 'Generic'\n",
      " 'Generic' 'Generic' 'Normal' 'Generic' 'Generic' 'Generic' 'Generic'\n",
      " 'Normal' 'Generic' 'Normal' 'Exploits' 'Generic' 'Fuzzers' 'Generic'\n",
      " 'Generic' 'Generic' 'Generic' 'Generic' 'Generic' 'Fuzzers' 'Generic'\n",
      " 'Exploits' 'Generic' 'Generic' 'Generic' 'Generic' 'Generic' 'Generic'\n",
      " 'Exploits' 'Generic' 'Normal' 'Fuzzers' 'Exploits' 'Exploits' 'Generic'\n",
      " 'Generic' 'Generic' 'Exploits' 'Generic' 'Generic' 'Generic' 'Generic'\n",
      " 'Fuzzers' 'Generic' 'Generic' 'Exploits' 'Generic' 'Exploits' 'Generic'\n",
      " 'Shellcode' 'Generic' 'Reconnaissance' 'Normal' 'Generic' 'Generic'\n",
      " 'Fuzzers' 'Exploits' 'Generic' 'Reconnaissance' 'Generic' 'Exploits'\n",
      " 'Generic' 'Generic' 'Generic' 'Generic' 'Generic' 'Generic' 'Exploits'\n",
      " 'Exploits' 'Fuzzers' 'Exploits' 'Exploits' 'Exploits' 'Generic' 'Generic'\n",
      " 'Exploits' 'Exploits' 'Generic' 'Generic' 'Fuzzers' 'Exploits' 'Exploits'\n",
      " 'Normal' 'Exploits' 'Generic' 'Exploits' 'Fuzzers' 'Generic' 'Generic'\n",
      " 'Exploits' 'Generic' 'Generic' 'Generic' 'Generic' 'Exploits' 'Normal'\n",
      " 'Generic' 'Generic' 'Fuzzers' 'Generic' 'Generic' 'Fuzzers' 'Fuzzers'\n",
      " 'Generic' 'Exploits' 'Generic' 'Generic' 'Exploits' 'Generic' 'Generic'\n",
      " 'Generic' 'Generic' 'Generic' 'Exploits' 'Generic' 'Generic' 'Exploits'\n",
      " 'Generic' 'Generic' 'Exploits' 'Exploits' 'Exploits' 'Normal' 'Exploits'\n",
      " 'Generic' 'Generic' 'Generic' 'Fuzzers' 'Exploits' 'Generic' 'Generic'\n",
      " 'Exploits' 'Exploits' 'Generic' 'Generic' 'Generic' 'Exploits' 'Normal'\n",
      " 'Generic' 'Generic' 'Normal' 'Fuzzers' 'Fuzzers' 'Generic' 'Exploits'\n",
      " 'Normal' 'Exploits' 'Generic' 'Generic' 'Normal' 'Generic' 'Generic'\n",
      " 'Generic' 'Generic' 'Generic' 'Generic' 'Generic' 'Normal' 'Fuzzers'\n",
      " 'Generic' 'Generic' 'Normal' 'Generic' 'Generic' 'Generic' 'Generic'\n",
      " 'Generic' 'Generic' 'Generic' 'Generic' 'Exploits' 'Reconnaissance'\n",
      " 'Exploits' 'Generic' 'Normal' 'Generic' 'Fuzzers' 'Generic' 'Generic'\n",
      " 'Generic' 'Generic' 'Generic' 'Reconnaissance' 'Generic' 'Generic'\n",
      " 'Generic' 'Generic' 'Generic' 'Normal' 'Generic' 'Generic'\n",
      " 'Reconnaissance' 'Generic' 'Exploits' 'Generic' 'Generic' 'Generic'\n",
      " 'Generic' 'Exploits' 'Generic' 'Generic' 'Reconnaissance' 'Generic'\n",
      " 'Reconnaissance' 'Generic' 'Exploits' 'Exploits' 'Generic' 'Normal'\n",
      " 'Generic' 'Exploits' 'Generic' 'Normal' 'Exploits' 'Generic' 'Exploits'\n",
      " 'Generic' 'Normal' 'Generic' 'Generic' 'Reconnaissance' 'Generic'\n",
      " 'Normal' 'Reconnaissance' 'Generic' 'Generic' 'Generic' 'Exploits'\n",
      " 'Generic' 'Generic' 'Generic' 'Generic' 'Generic' 'Generic' 'Generic'\n",
      " 'Generic' 'Exploits' 'Exploits' 'Generic' 'Generic' 'Generic' 'Generic'\n",
      " 'Generic' 'Generic' 'Generic' 'Generic' 'Generic' 'Generic' 'Normal'\n",
      " 'Generic' 'Generic' 'Generic' 'Generic' 'Generic' 'Generic' 'Generic'\n",
      " 'Normal' 'Exploits' 'Generic' 'Generic' 'Generic' 'Fuzzers' 'Normal'\n",
      " 'Normal' 'Generic' 'Exploits' 'Exploits' 'DoS' 'Generic' 'Generic'\n",
      " 'Normal' 'Generic' 'Exploits' 'Generic' 'Fuzzers' 'Generic' 'Generic'\n",
      " 'Generic' 'Exploits' 'Generic' 'Generic' 'Exploits' 'Generic' 'Generic'\n",
      " 'Generic' 'Generic' 'Generic' 'Generic' 'Exploits' 'Generic' 'Generic'\n",
      " 'Exploits' 'Exploits' 'Generic' 'Normal' 'Generic' 'Exploits' 'Normal'\n",
      " 'Exploits' 'Generic' 'Exploits' 'Generic' 'Generic' 'Normal' 'Generic'\n",
      " 'Fuzzers' 'Normal' 'Generic' 'Generic' 'Generic' 'Normal' 'Normal'\n",
      " 'Generic' 'Generic' 'Generic' 'Exploits' 'Generic' 'Generic' 'Normal'\n",
      " 'Generic' 'Generic' 'Generic' 'Generic' 'Generic' 'Generic' 'Generic'\n",
      " 'Exploits' 'Generic' 'Normal' 'Exploits' 'Normal' 'Generic' 'Exploits'\n",
      " 'Generic' 'Generic' 'Normal' 'Generic' 'Exploits' 'Generic' 'Generic'\n",
      " 'Generic' 'Generic' 'Generic' 'Exploits' 'Generic' 'Normal' 'Exploits'\n",
      " 'Generic' 'Generic' 'Generic' 'Generic' 'Generic' 'Exploits' 'Generic'\n",
      " 'Generic' 'Generic' 'Generic' 'Generic' 'Generic' 'Generic' 'Generic'\n",
      " 'Normal' 'Generic' 'Generic' 'Reconnaissance' 'Exploits' 'Generic'\n",
      " 'Generic' 'Exploits' 'Normal' 'Exploits' 'Exploits' 'Generic' 'Generic'\n",
      " 'Generic' 'Generic' 'Reconnaissance' 'Generic' 'Generic' 'Generic'\n",
      " 'Exploits' 'Exploits' 'Generic' 'Normal' 'Normal' 'Generic' 'Exploits'\n",
      " 'Generic' 'Exploits' 'Generic' 'Generic' 'Exploits' 'Exploits' 'Generic'\n",
      " 'Fuzzers' 'Exploits' 'Exploits' 'Normal' 'Exploits' 'Generic' 'Generic'\n",
      " 'Generic' 'Normal' 'Exploits' 'Generic' 'Fuzzers' 'Exploits' 'Generic'\n",
      " 'Generic' 'Exploits' 'Exploits' 'Exploits' 'Generic' 'Generic' 'Generic'\n",
      " 'Exploits' 'Generic' 'Generic' 'Exploits' 'Generic' 'Generic' 'Exploits'\n",
      " 'Generic' 'Generic' 'Generic' 'Generic' 'Exploits' 'Normal' 'Generic'\n",
      " 'Exploits' 'Generic' 'Generic' 'Normal' 'Exploits' 'Generic' 'Generic'\n",
      " 'Exploits' 'Exploits' 'Generic' 'Generic' 'Generic' 'Generic' 'Generic'\n",
      " 'Generic' 'Generic' 'Normal' 'Generic' 'Exploits' 'Reconnaissance'\n",
      " 'Generic' 'Generic' 'Generic' 'Normal' 'Generic' 'Generic' 'Generic'\n",
      " 'Generic' 'Generic' 'Generic' 'Normal' 'Generic' 'Exploits' 'Exploits'\n",
      " 'Exploits' 'Normal' 'Normal' 'Generic' 'Normal' 'Generic' 'Exploits'\n",
      " 'Generic' 'Generic' 'Exploits' 'Generic' 'Generic' 'Generic' 'Normal'\n",
      " 'Fuzzers' 'Generic' 'Generic' 'Normal' 'Generic' 'Generic' 'Exploits'\n",
      " 'Generic' 'Generic' 'Exploits' 'Exploits' 'Generic' 'Normal' 'Generic'\n",
      " 'Exploits' 'Exploits' 'Generic' 'Reconnaissance' 'Generic' 'Exploits'\n",
      " 'Generic' 'Generic' 'Normal' 'Generic' 'Generic' 'Generic'\n",
      " 'Reconnaissance' 'Generic' 'Normal' 'Generic' 'Generic' 'Generic'\n",
      " 'Generic' 'Generic' 'Shellcode' 'Generic' 'Exploits' 'Exploits'\n",
      " 'Exploits' 'Exploits' 'Generic' 'Exploits' 'Generic' 'Normal' 'Generic'\n",
      " 'Generic' 'Generic' 'Generic' 'Normal' 'Generic' 'Generic'\n",
      " 'Reconnaissance' 'Generic' 'Normal' 'Generic' 'Generic' 'Generic'\n",
      " 'Generic' 'Exploits' 'Normal' 'Exploits' 'Generic' 'Generic' 'Exploits'\n",
      " 'Reconnaissance' 'Normal' 'Generic' 'Generic' 'Generic' 'Generic'\n",
      " 'Exploits' 'Normal' 'Generic' 'Reconnaissance' 'Normal' 'Generic'\n",
      " 'Generic' 'Normal' 'Generic' 'Generic' 'Generic' 'Generic' 'Generic'\n",
      " 'Generic' 'Generic' 'Exploits' 'Generic' 'Generic' 'Generic' 'Generic'\n",
      " 'Fuzzers' 'Generic' 'Generic' 'Generic' 'Normal' 'Exploits' 'Generic'\n",
      " 'Fuzzers' 'Shellcode' 'Generic' 'Exploits' 'Exploits' 'Generic' 'Generic'\n",
      " 'Generic' 'Generic' 'Normal' 'Generic' 'Fuzzers' 'Generic' 'Generic'\n",
      " 'Generic' 'Exploits' 'Generic' 'Generic' 'Normal' 'Generic' 'Generic'\n",
      " 'Normal' 'Generic' 'Generic' 'Exploits' 'Fuzzers' 'Generic' 'Fuzzers'\n",
      " 'Normal' 'Generic' 'Generic' 'Normal' 'Generic' 'Generic' 'Generic'\n",
      " 'Generic' 'Normal' 'Generic' 'Generic' 'Generic' 'Generic' 'Exploits'\n",
      " 'Normal' 'Normal' 'Generic' 'Generic' 'Fuzzers' 'Generic' 'Generic'\n",
      " 'Normal' 'Generic' 'Exploits' 'Generic' 'Generic' 'Generic' 'Generic'\n",
      " 'Generic' 'Generic' 'Generic' 'Generic' 'Normal' 'Generic' 'Generic'\n",
      " 'Generic' 'Normal' 'Generic' 'Exploits' 'Generic' 'Generic'\n",
      " 'Reconnaissance' 'Generic' 'Fuzzers' 'Generic' 'Normal' 'Generic'\n",
      " 'Generic' 'Generic' 'Generic' 'Generic' 'Generic' 'Generic' 'Generic'\n",
      " 'Generic' 'Generic' 'Generic' 'Generic' 'Generic' 'Exploits' 'Generic'\n",
      " 'Generic' 'Generic' 'Generic' 'Generic' 'Generic' 'Generic' 'Generic'\n",
      " 'Generic' 'Generic' 'Generic' 'Exploits' 'Normal' 'Generic' 'Generic'\n",
      " 'Normal' 'Generic' 'Generic' 'Generic' 'Generic' 'Generic' 'Generic'\n",
      " 'Generic' 'Generic' 'Analysis' 'Normal' 'Exploits' 'Generic' 'Normal'\n",
      " 'Generic' 'Generic' 'Generic' 'Fuzzers' 'Reconnaissance' 'Generic'\n",
      " 'Generic' 'Exploits' 'Generic' 'Generic' 'Normal' 'Generic' 'Generic'\n",
      " 'Generic' 'Exploits' 'Exploits' 'Generic' 'Fuzzers' 'Exploits' 'Generic'\n",
      " 'Fuzzers' 'Generic' 'Exploits' 'Generic' 'Exploits' 'Exploits' 'Generic'\n",
      " 'Reconnaissance' 'Normal' 'Exploits' 'Normal' 'Reconnaissance' 'Generic'\n",
      " 'Reconnaissance' 'Generic' 'Generic' 'Exploits' 'Generic' 'Generic'\n",
      " 'Exploits' 'Generic' 'Generic' 'Exploits' 'Exploits' 'Normal' 'Normal'\n",
      " 'Generic' 'Exploits' 'Generic' 'Generic' 'Generic' 'Exploits' 'Exploits'\n",
      " 'Normal' 'Generic' 'Generic' 'Generic' 'Generic' 'Exploits' 'Exploits'\n",
      " 'Generic' 'Generic' 'Generic' 'Generic' 'Generic' 'Exploits' 'Exploits'\n",
      " 'Generic' 'Exploits' 'Shellcode' 'Generic' 'Generic' 'Generic' 'Generic'\n",
      " 'Reconnaissance' 'Generic' 'Generic' 'Normal' 'Generic' 'Generic'\n",
      " 'Generic' 'Generic' 'Generic' 'Generic' 'Generic' 'Normal' 'Generic'\n",
      " 'Generic' 'Generic' 'Exploits' 'Generic' 'Generic' 'Generic' 'Exploits'\n",
      " 'Fuzzers' 'Generic' 'Generic' 'Normal' 'Generic' 'Generic' 'Fuzzers'\n",
      " 'Generic' 'Exploits' 'Generic' 'Generic' 'Generic' 'Generic' 'Generic'\n",
      " 'Generic' 'Exploits' 'Exploits' 'Generic' 'Exploits' 'Generic' 'Generic'\n",
      " 'Exploits' 'Generic' 'Generic' 'Exploits' 'Generic' 'Generic' 'Generic'\n",
      " 'Generic' 'Generic' 'Generic' 'Normal' 'Generic' 'Generic' 'Generic'\n",
      " 'Fuzzers' 'Generic' 'Generic' 'Fuzzers' 'Generic' 'Generic' 'Exploits'\n",
      " 'DoS' 'Generic' 'Generic' 'Generic' 'Generic' 'Fuzzers' 'Generic'\n",
      " 'Normal' 'Generic' 'Exploits' 'Normal' 'Normal' 'Exploits' 'Generic'\n",
      " 'Generic' 'Generic' 'Generic' 'Exploits' 'Generic' 'Generic' 'Generic'\n",
      " 'Generic' 'Generic' 'Generic' 'Fuzzers' 'Generic' 'Exploits' 'Generic'\n",
      " 'Normal' 'Exploits' 'Generic' 'Fuzzers' 'Generic' 'Generic' 'Fuzzers'\n",
      " 'Generic' 'Generic' 'Generic' 'Exploits' 'Generic' 'Generic' 'Generic'\n",
      " 'Generic' 'Exploits' 'Generic' 'Reconnaissance' 'Generic' 'Generic'\n",
      " 'Generic' 'Generic' 'Generic' 'Generic' 'Generic' 'Generic' 'Exploits'\n",
      " 'Fuzzers' 'Shellcode' 'Generic' 'Generic' 'Generic' 'Fuzzers' 'Exploits'\n",
      " 'Exploits' 'Exploits' 'Generic' 'Generic' 'Exploits' 'Fuzzers' 'Generic'\n",
      " 'Fuzzers' 'Generic' 'Normal' 'Generic' 'Normal' 'Generic' 'Generic'\n",
      " 'Fuzzers' 'Generic' 'Generic' 'Generic' 'Exploits' 'Generic' 'Generic'\n",
      " 'Exploits' 'Generic' 'Generic' 'Exploits' 'Exploits' 'Generic' 'Generic'\n",
      " 'Generic' 'Generic' 'Generic' 'Generic' 'Generic' 'Generic' 'Generic'\n",
      " 'Generic' 'Generic' 'Exploits' 'Generic' 'Normal' 'Reconnaissance'\n",
      " 'Generic' 'Generic' 'Normal' 'Exploits' 'Generic' 'DoS' 'Generic'\n",
      " 'Exploits' 'Generic' 'Generic' 'Exploits' 'Exploits' 'Generic' 'Exploits'\n",
      " 'Generic' 'Exploits' 'Generic' 'Normal' 'Generic' 'Generic' 'Fuzzers'\n",
      " 'Normal' 'Exploits' 'Generic' 'Generic' 'Generic' 'Generic' 'Fuzzers'\n",
      " 'Fuzzers' 'Generic' 'Exploits' 'Generic' 'Generic' 'Generic' 'Generic'\n",
      " 'Exploits' 'Fuzzers' 'Normal' 'Normal' 'Normal' 'Generic' 'Generic'\n",
      " 'Generic' 'Generic' 'Exploits' 'Generic' 'Normal' 'Generic' 'Exploits'\n",
      " 'Exploits' 'Exploits' 'Generic' 'Normal' 'Exploits' 'Fuzzers' 'Generic'\n",
      " 'Generic' 'Generic' 'Generic' 'Exploits' 'Generic' 'Normal' 'Generic']\n"
     ]
    }
   ],
   "source": [
    "actual = le_label.inverse_transform(actual)\n",
    "predicted = le_label.inverse_transform(predicted)\n",
    "print(actual)\n",
    "print(predicted)"
   ]
  },
  {
   "cell_type": "code",
   "execution_count": 134,
   "id": "c4aa2d82",
   "metadata": {},
   "outputs": [
    {
     "name": "stdout",
     "output_type": "stream",
     "text": [
      "0             \n",
      "Generic           618\n",
      "Exploits          191\n",
      "Normal            106\n",
      "Fuzzers            51\n",
      "Reconnaissance     25\n",
      "Shellcode           5\n",
      "DoS                 3\n",
      "Analysis            1\n",
      "Name: count, dtype: int64\n"
     ]
    }
   ],
   "source": [
    "# Another issue is that we made no predictions on Worms successfully. - Maybe we can fix this using shap or model optimisation.\n",
    "print(pd.DataFrame(predicted).value_counts())"
   ]
  },
  {
   "cell_type": "code",
   "execution_count": 137,
   "id": "82fc8776",
   "metadata": {},
   "outputs": [],
   "source": [
    "# Ok now we can select something like incorrect predictions in DoS.\n",
    "# There is probably a more efficient way but once again lets map our encodings back to the original data for DoS.\n",
    "preds = X_test2_smote['preds']\n",
    "actual = X_test2_smote['actual']\n",
    "preds = le_label.inverse_transform(preds)\n",
    "actual = le_label.inverse_transform(actual)"
   ]
  },
  {
   "cell_type": "code",
   "execution_count": 138,
   "id": "cfc2b149",
   "metadata": {},
   "outputs": [],
   "source": [
    "# Add them back in for indexing (By the way when doing this transformation for values in a feature you will need to make a function or loop).\n",
    "X_test2_smote['preds'] = preds\n",
    "X_test2_smote['actual'] = actual"
   ]
  },
  {
   "cell_type": "code",
   "execution_count": 142,
   "id": "ff65e9b3",
   "metadata": {},
   "outputs": [
    {
     "name": "stdout",
     "output_type": "stream",
     "text": [
      "3124\n"
     ]
    }
   ],
   "source": [
    "# Lets collect our DoS predictions.\n",
    "X_test2_dos = X_test2_smote[(X_test2_smote['actual'] == 'DoS') & (X_test2_smote['preds'] != 'DoS')]\n",
    "print(len(X_test2_dos))"
   ]
  },
  {
   "cell_type": "code",
   "execution_count": 143,
   "id": "57fda1f8",
   "metadata": {},
   "outputs": [],
   "source": [
    "# Ok lets take a sample of 1000 for a quicker calculation of shap values.\n",
    "X_test2_dos = X_test2_dos.sample(n=1000)"
   ]
  },
  {
   "cell_type": "code",
   "execution_count": 145,
   "id": "bdf3728e",
   "metadata": {},
   "outputs": [
    {
     "name": "stderr",
     "output_type": "stream",
     "text": [
      "100%|===================| 9987/10000 [00:46<00:00]        "
     ]
    },
    {
     "ename": "ExplainerError",
     "evalue": "Additivity check failed in TreeExplainer! Please ensure the data matrix you passed to the explainer is the same shape that the model was trained on. If your data shape is correct then please report this on GitHub. This check failed because for one of the samples the sum of the SHAP values was 0.081119, while the model output was 0.163333. If this difference is acceptable you can set check_additivity=False to disable this check.",
     "output_type": "error",
     "traceback": [
      "\u001b[1;31m---------------------------------------------------------------------------\u001b[0m",
      "\u001b[1;31mExplainerError\u001b[0m                            Traceback (most recent call last)",
      "Cell \u001b[1;32mIn[145], line 6\u001b[0m\n\u001b[0;32m      4\u001b[0m X_test2_dos \u001b[38;5;241m=\u001b[39m X_test2_dos\u001b[38;5;241m.\u001b[39mdrop(columns\u001b[38;5;241m=\u001b[39m[\u001b[38;5;124m'\u001b[39m\u001b[38;5;124mpreds\u001b[39m\u001b[38;5;124m'\u001b[39m, \u001b[38;5;124m'\u001b[39m\u001b[38;5;124mactual\u001b[39m\u001b[38;5;124m'\u001b[39m])\n\u001b[0;32m      5\u001b[0m \u001b[38;5;66;03m# Calculate shap.\u001b[39;00m\n\u001b[1;32m----> 6\u001b[0m shap_values \u001b[38;5;241m=\u001b[39m \u001b[43mxp_tree\u001b[49m\u001b[43m(\u001b[49m\u001b[43mX_test2_dos\u001b[49m\u001b[43m)\u001b[49m\n",
      "File \u001b[1;32mc:\\Users\\adi_s\\anaconda3\\envs\\conda12\\Lib\\site-packages\\shap\\explainers\\_tree.py:341\u001b[0m, in \u001b[0;36mTreeExplainer.__call__\u001b[1;34m(self, X, y, interactions, check_additivity, approximate)\u001b[0m\n\u001b[0;32m    338\u001b[0m     feature_names \u001b[38;5;241m=\u001b[39m \u001b[38;5;28mgetattr\u001b[39m(\u001b[38;5;28mself\u001b[39m, \u001b[38;5;124m\"\u001b[39m\u001b[38;5;124mdata_feature_names\u001b[39m\u001b[38;5;124m\"\u001b[39m, \u001b[38;5;28;01mNone\u001b[39;00m)\n\u001b[0;32m    340\u001b[0m \u001b[38;5;28;01mif\u001b[39;00m \u001b[38;5;129;01mnot\u001b[39;00m interactions:\n\u001b[1;32m--> 341\u001b[0m     v \u001b[38;5;241m=\u001b[39m \u001b[38;5;28;43mself\u001b[39;49m\u001b[38;5;241;43m.\u001b[39;49m\u001b[43mshap_values\u001b[49m\u001b[43m(\u001b[49m\u001b[43mX\u001b[49m\u001b[43m,\u001b[49m\u001b[43m \u001b[49m\u001b[43my\u001b[49m\u001b[38;5;241;43m=\u001b[39;49m\u001b[43my\u001b[49m\u001b[43m,\u001b[49m\u001b[43m \u001b[49m\u001b[43mfrom_call\u001b[49m\u001b[38;5;241;43m=\u001b[39;49m\u001b[38;5;28;43;01mTrue\u001b[39;49;00m\u001b[43m,\u001b[49m\u001b[43m \u001b[49m\u001b[43mcheck_additivity\u001b[49m\u001b[38;5;241;43m=\u001b[39;49m\u001b[43mcheck_additivity\u001b[49m\u001b[43m,\u001b[49m\u001b[43m \u001b[49m\u001b[43mapproximate\u001b[49m\u001b[38;5;241;43m=\u001b[39;49m\u001b[43mapproximate\u001b[49m\u001b[43m)\u001b[49m\n\u001b[0;32m    342\u001b[0m     \u001b[38;5;28;01mif\u001b[39;00m \u001b[38;5;28misinstance\u001b[39m(v, \u001b[38;5;28mlist\u001b[39m):\n\u001b[0;32m    343\u001b[0m         v \u001b[38;5;241m=\u001b[39m np\u001b[38;5;241m.\u001b[39mstack(v, axis\u001b[38;5;241m=\u001b[39m\u001b[38;5;241m-\u001b[39m\u001b[38;5;241m1\u001b[39m)  \u001b[38;5;66;03m# put outputs at the end\u001b[39;00m\n",
      "File \u001b[1;32mc:\\Users\\adi_s\\anaconda3\\envs\\conda12\\Lib\\site-packages\\shap\\explainers\\_tree.py:633\u001b[0m, in \u001b[0;36mTreeExplainer.shap_values\u001b[1;34m(self, X, y, tree_limit, approximate, check_additivity, from_call)\u001b[0m\n\u001b[0;32m    631\u001b[0m out \u001b[38;5;241m=\u001b[39m \u001b[38;5;28mself\u001b[39m\u001b[38;5;241m.\u001b[39m_get_shap_output(phi, flat_output)\n\u001b[0;32m    632\u001b[0m \u001b[38;5;28;01mif\u001b[39;00m check_additivity \u001b[38;5;129;01mand\u001b[39;00m \u001b[38;5;28mself\u001b[39m\u001b[38;5;241m.\u001b[39mmodel\u001b[38;5;241m.\u001b[39mmodel_output \u001b[38;5;241m==\u001b[39m \u001b[38;5;124m\"\u001b[39m\u001b[38;5;124mraw\u001b[39m\u001b[38;5;124m\"\u001b[39m:\n\u001b[1;32m--> 633\u001b[0m     \u001b[38;5;28;43mself\u001b[39;49m\u001b[38;5;241;43m.\u001b[39;49m\u001b[43massert_additivity\u001b[49m\u001b[43m(\u001b[49m\u001b[43mout\u001b[49m\u001b[43m,\u001b[49m\u001b[43m \u001b[49m\u001b[38;5;28;43mself\u001b[39;49m\u001b[38;5;241;43m.\u001b[39;49m\u001b[43mmodel\u001b[49m\u001b[38;5;241;43m.\u001b[39;49m\u001b[43mpredict\u001b[49m\u001b[43m(\u001b[49m\u001b[43mX\u001b[49m\u001b[43m)\u001b[49m\u001b[43m)\u001b[49m\n\u001b[0;32m    635\u001b[0m \u001b[38;5;66;03m# This statements handles the case of multiple outputs\u001b[39;00m\n\u001b[0;32m    636\u001b[0m \u001b[38;5;66;03m# e.g. a multi-class classification problem, multi-target regression problem\u001b[39;00m\n\u001b[0;32m    637\u001b[0m \u001b[38;5;66;03m# in this case the output shape corresponds to [num_samples, num_features, num_outputs]\u001b[39;00m\n\u001b[0;32m    638\u001b[0m \u001b[38;5;28;01mif\u001b[39;00m \u001b[38;5;28misinstance\u001b[39m(out, \u001b[38;5;28mlist\u001b[39m):\n",
      "File \u001b[1;32mc:\\Users\\adi_s\\anaconda3\\envs\\conda12\\Lib\\site-packages\\shap\\explainers\\_tree.py:815\u001b[0m, in \u001b[0;36mTreeExplainer.assert_additivity\u001b[1;34m(self, phi, model_output)\u001b[0m\n\u001b[0;32m    813\u001b[0m \u001b[38;5;28;01mif\u001b[39;00m \u001b[38;5;28misinstance\u001b[39m(phi, \u001b[38;5;28mlist\u001b[39m):\n\u001b[0;32m    814\u001b[0m     \u001b[38;5;28;01mfor\u001b[39;00m i \u001b[38;5;129;01min\u001b[39;00m \u001b[38;5;28mrange\u001b[39m(\u001b[38;5;28mlen\u001b[39m(phi)):\n\u001b[1;32m--> 815\u001b[0m         \u001b[43mcheck_sum\u001b[49m\u001b[43m(\u001b[49m\u001b[38;5;28;43mself\u001b[39;49m\u001b[38;5;241;43m.\u001b[39;49m\u001b[43mexpected_value\u001b[49m\u001b[43m[\u001b[49m\u001b[43mi\u001b[49m\u001b[43m]\u001b[49m\u001b[43m \u001b[49m\u001b[38;5;241;43m+\u001b[39;49m\u001b[43m \u001b[49m\u001b[43mphi\u001b[49m\u001b[43m[\u001b[49m\u001b[43mi\u001b[49m\u001b[43m]\u001b[49m\u001b[38;5;241;43m.\u001b[39;49m\u001b[43msum\u001b[49m\u001b[43m(\u001b[49m\u001b[38;5;241;43m-\u001b[39;49m\u001b[38;5;241;43m1\u001b[39;49m\u001b[43m)\u001b[49m\u001b[43m,\u001b[49m\u001b[43m \u001b[49m\u001b[43mmodel_output\u001b[49m\u001b[43m[\u001b[49m\u001b[43m:\u001b[49m\u001b[43m,\u001b[49m\u001b[43m \u001b[49m\u001b[43mi\u001b[49m\u001b[43m]\u001b[49m\u001b[43m)\u001b[49m\n\u001b[0;32m    816\u001b[0m \u001b[38;5;28;01melse\u001b[39;00m:\n\u001b[0;32m    817\u001b[0m     check_sum(\u001b[38;5;28mself\u001b[39m\u001b[38;5;241m.\u001b[39mexpected_value \u001b[38;5;241m+\u001b[39m phi\u001b[38;5;241m.\u001b[39msum(\u001b[38;5;241m-\u001b[39m\u001b[38;5;241m1\u001b[39m), model_output)\n",
      "File \u001b[1;32mc:\\Users\\adi_s\\anaconda3\\envs\\conda12\\Lib\\site-packages\\shap\\explainers\\_tree.py:811\u001b[0m, in \u001b[0;36mTreeExplainer.assert_additivity.<locals>.check_sum\u001b[1;34m(sum_val, model_output)\u001b[0m\n\u001b[0;32m    805\u001b[0m     err_msg \u001b[38;5;241m+\u001b[39m\u001b[38;5;241m=\u001b[39m \u001b[38;5;124m\"\u001b[39m\u001b[38;5;124m Consider retrying with the feature_perturbation=\u001b[39m\u001b[38;5;124m'\u001b[39m\u001b[38;5;124minterventional\u001b[39m\u001b[38;5;124m'\u001b[39m\u001b[38;5;124m option.\u001b[39m\u001b[38;5;124m\"\u001b[39m\n\u001b[0;32m    806\u001b[0m err_msg \u001b[38;5;241m+\u001b[39m\u001b[38;5;241m=\u001b[39m (\n\u001b[0;32m    807\u001b[0m     \u001b[38;5;124m\"\u001b[39m\u001b[38;5;124m This check failed because for one of the samples the sum of the SHAP values\u001b[39m\u001b[38;5;124m\"\u001b[39m\n\u001b[0;32m    808\u001b[0m     \u001b[38;5;124mf\u001b[39m\u001b[38;5;124m\"\u001b[39m\u001b[38;5;124m was \u001b[39m\u001b[38;5;132;01m{\u001b[39;00msum_val[ind]\u001b[38;5;132;01m:\u001b[39;00m\u001b[38;5;124mf\u001b[39m\u001b[38;5;132;01m}\u001b[39;00m\u001b[38;5;124m, while the model output was \u001b[39m\u001b[38;5;132;01m{\u001b[39;00mmodel_output[ind]\u001b[38;5;132;01m:\u001b[39;00m\u001b[38;5;124mf\u001b[39m\u001b[38;5;132;01m}\u001b[39;00m\u001b[38;5;124m. If this\u001b[39m\u001b[38;5;124m\"\u001b[39m\n\u001b[0;32m    809\u001b[0m     \u001b[38;5;124m\"\u001b[39m\u001b[38;5;124m difference is acceptable you can set check_additivity=False to disable this check.\u001b[39m\u001b[38;5;124m\"\u001b[39m\n\u001b[0;32m    810\u001b[0m )\n\u001b[1;32m--> 811\u001b[0m \u001b[38;5;28;01mraise\u001b[39;00m ExplainerError(err_msg)\n",
      "\u001b[1;31mExplainerError\u001b[0m: Additivity check failed in TreeExplainer! Please ensure the data matrix you passed to the explainer is the same shape that the model was trained on. If your data shape is correct then please report this on GitHub. This check failed because for one of the samples the sum of the SHAP values was 0.081119, while the model output was 0.163333. If this difference is acceptable you can set check_additivity=False to disable this check."
     ]
    }
   ],
   "source": [
    "# Lets remove our labels for now and store them.\n",
    "preds = X_test2_dos['preds']\n",
    "actual = X_test2_dos['actual']\n",
    "X_test2_dos = X_test2_dos.drop(columns=['preds', 'actual'])\n",
    "# Calculate shap.\n",
    "shap_values = xp_tree(X_test2_dos)"
   ]
  },
  {
   "cell_type": "code",
   "execution_count": 149,
   "id": "38ca15c6",
   "metadata": {},
   "outputs": [
    {
     "name": "stderr",
     "output_type": "stream",
     "text": [
      "100%|===================| 9982/10000 [00:47<00:00]        "
     ]
    }
   ],
   "source": [
    "# So we got the additivity error again. This could cause problems for us so try to to use XGboost here and it will not be a problem.\n",
    "# We will continue without the additivity check for the purpose of the example.\n",
    "shap_values = xp_tree(X_test2_dos, check_additivity=False)"
   ]
  },
  {
   "cell_type": "code",
   "execution_count": 151,
   "id": "b62b117e",
   "metadata": {},
   "outputs": [
    {
     "data": {
      "image/png": "[encoded data removed]",
      "text/plain": [
       "<Figure size 800x550 with 2 Axes>"
      ]
     },
     "metadata": {},
     "output_type": "display_data"
    }
   ],
   "source": [
    "# Lets make a quick summary plot.\n",
    "# This checks Normal features (0).\n",
    "shap.summary_plot(shap_values[:, :, 0], X_test2_dos, max_display=10)"
   ]
  },
  {
   "cell_type": "code",
   "execution_count": null,
   "id": "7f840046",
   "metadata": {},
   "outputs": [],
   "source": [
    "# Ok so now lets move onto dependency plots.\n",
    "# Step 1: use .unique() to find a categorical variable that potentially has around 30-40 unique values. - We dont want to overdo this just\n",
    "# use it as an example. - If you cant find any just use ports for the purpose of an example but there is a lot.\n",
    "# Step 2: Plot a decision plot normally with label encoded values.\n",
    "# dependency_plot(feature (e.g. 0), shap array (e.g shap_value[:, feature must match first feature value, 0], x_test_smote[:, feature_value]))\n",
    "# Additionally add an interaction index.\n",
    "# Step 3: Convert the categorical variable using le_features - this might be a bit difficult you may have to make a loop to convert all categorical ffeatures in the mapping.\n",
    "# Step 4: Replot in the dependency_plot. Now the plot will automatically detect it is a category and arrange it accordingly.\n",
    "# Step 5: Take the absolute sum of shapely values for the categorical feature row. Or alternatively use the average shapely values then convert to the absolute value.\n",
    "# NOTE: You want to keep your original shap value array aswell.\n",
    "# Step 6: Find the values with highest of these shapely values.\n",
    "# Step 7: Convert all other values below the top 10 to the string name 'Other' inside X_test_smote - maybe make a new df.\n",
    "# Step 8: Replot - the mapping will be done automatically through the dataframe and original shap value array.\n",
    "# Step 9: Share your thoughts about findings."
   ]
  }
 ],
 "metadata": {
  "kernelspec": {
   "display_name": "conda12",
   "language": "python",
   "name": "python3"
  },
  "language_info": {
   "codemirror_mode": {
    "name": "ipython",
    "version": 3
   },
   "file_extension": ".py",
   "mimetype": "text/x-python",
   "name": "python",
   "nbconvert_exporter": "python",
   "pygments_lexer": "ipython3",
   "version": "3.12.9"
  }
 },
 "nbformat": 4,
 "nbformat_minor": 5
}
