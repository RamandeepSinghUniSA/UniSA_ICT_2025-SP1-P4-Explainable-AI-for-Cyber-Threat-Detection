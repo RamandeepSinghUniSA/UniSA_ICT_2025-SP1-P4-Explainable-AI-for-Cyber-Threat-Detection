{
 "cells": [
  {
   "cell_type": "code",
   "execution_count": 23,
   "metadata": {},
   "outputs": [],
   "source": [
    "import pandas as pd\n",
    "import numpy as np\n",
    "from sklearn.preprocessing import OneHotEncoder, LabelEncoder, StandardScaler, MinMaxScaler\n",
    "import seaborn as sns\n",
    "import matplotlib.pyplot as plt\n",
    "import torch\n",
    "import torch.nn as nn\n",
    "import torch.optim as optim\n",
    "from torch.utils.data import DataLoader, TensorDataset\n",
    "from sklearn.metrics import f1_score\n",
    "import os\n",
    "import time\n",
    "from sklearn.utils.class_weight import compute_class_weight\n",
    "import random\n",
    "from tqdm import tqdm"
   ]
  },
  {
   "cell_type": "code",
   "execution_count": 24,
   "metadata": {},
   "outputs": [],
   "source": [
    "def plot_metrics(train, val, test, epochs, title):\n",
    "    \"\"\"\n",
    "    Plot the training, validation, and test metrics.\n",
    "\n",
    "    Parameters:\n",
    "        - train_loss (list): Training metric\n",
    "        - val_loss (list): Validation metric\n",
    "        - test_loss (list): Test tmetric\n",
    "        - epochs (int): The number of epochs.\n",
    "    \"\"\"\n",
    "    sns.set_theme(style=\"whitegrid\", palette=\"pastel\")\n",
    "    plt.figure(figsize=(8, 8))\n",
    "    plt.plot(range(1, epochs + 1), train, label='Training', color=sns.color_palette(\"pastel\")[0])\n",
    "    plt.plot(range(1, epochs + 1), val, label='Validation', color=sns.color_palette(\"pastel\")[1])\n",
    "    plt.plot(range(1, epochs + 1), test, label='Test', color=sns.color_palette(\"pastel\")[2])\n",
    "    plt.xlabel('Epochs')\n",
    "    plt.ylabel('Loss')\n",
    "    plt.title(f\"{title}\")\n",
    "    plt.legend()\n",
    "    plt.show()"
   ]
  },
  {
   "cell_type": "code",
   "execution_count": 25,
   "metadata": {},
   "outputs": [],
   "source": [
    "class DataSampler:\n",
    "    \"\"\"\n",
    "    DataSampler: Manages sampling and splitting of the USNW-NB15 dataset. Returns a training, validation, and test set.\n",
    "\n",
    "    Initialisation:\n",
    "        - train (None): The attributes that stores the train set.\n",
    "        - val (None): The attributes that stores the validation set.\n",
    "        - test (None): The attributes that stores the test set.\n",
    "    \"\"\"\n",
    "\n",
    "    def __init__(self):\n",
    "        self.train = None\n",
    "        self.val = None\n",
    "        self.test = None\n",
    "\n",
    "    def sample_data(self, data, size, rs):\n",
    "        \"\"\"\n",
    "        sample_data: Combines the USNW-NB15 1, 2, 3, 4 sets, does some basic cleaning, Use a random number generator to take slices for the validation\n",
    "        and test set from the main data then splits into train, validation, and test set. Downsamples the data so that Normal labels match Generic in each set.\n",
    "        Uses a mask to take only Normal values that do not precede a Non-Normal value.\n",
    "\n",
    "        Parameters:\n",
    "            - data (string): The dataset to use (currently only USNW-NB15 is supported).\n",
    "            - type_of (string):  The type of sampling.\n",
    "            - rs (int): The random seed for slicing operation.\n",
    "\n",
    "        NOTE: Includes print outs to verify the process.\n",
    "        \"\"\"\n",
    "\n",
    "        if data == 'full_data':\n",
    "            feature_names = pd.read_csv('features2.csv' )\n",
    "\n",
    "            print('Set1')\n",
    "            feature_names_list = feature_names['Name'].tolist()\n",
    "            s1 = pd.read_csv('UNSW-NB15_1.csv', header=None)\n",
    "            s1.columns = feature_names_list\n",
    "            s1.loc[s1['attack_cat'].isnull(), 'attack_cat'] = 'Normal'\n",
    "            print(s1['attack_cat'].value_counts())\n",
    "            print('Set2')\n",
    "            feature_names_list = feature_names['Name'].tolist()\n",
    "            s2 = pd.read_csv('UNSW-NB15_2.csv', header=None)\n",
    "            s2.columns = feature_names_list\n",
    "            s2.loc[s2['attack_cat'].isnull(), 'attack_cat'] = 'Normal'\n",
    "            print(s2['attack_cat'].value_counts())\n",
    "            print('Set3')\n",
    "            feature_names_list = feature_names['Name'].tolist()\n",
    "            s3 = pd.read_csv('UNSW-NB15_3.csv', header=None)\n",
    "            s3.columns = feature_names_list\n",
    "            s3.loc[s3['attack_cat'].isnull(), 'attack_cat'] = 'Normal'\n",
    "            print(s3['attack_cat'].value_counts())\n",
    "            print('Set4')\n",
    "            feature_names_list = feature_names['Name'].tolist()\n",
    "            s4 = pd.read_csv('UNSW-NB15_4.csv', header=None)\n",
    "            s4.columns = feature_names_list\n",
    "            s4.loc[s4['attack_cat'].isnull(), 'attack_cat'] = 'Normal'\n",
    "            print(s4['attack_cat'].value_counts())\n",
    "            data = [s1, s2, s3, s4]\n",
    "            i = 0\n",
    "\n",
    "            while i < len(data):\n",
    "                df = data[i]\n",
    "                print(f\"Set{i + 1}\")\n",
    "                normal = df[df['attack_cat'] == 'Normal'].shape[0]\n",
    "                generic = df[df['attack_cat'] == 'Generic'].shape[0]\n",
    "                difference = normal - generic\n",
    "                mask = df['Label'].shift(-1) != 1\n",
    "                rows = df[(df['attack_cat'] == 'Normal') & mask]\n",
    "                downsampled = rows.sample(n=difference, random_state=rs)\n",
    "                df2 = df.drop(downsampled.index)\n",
    "                print(df2['attack_cat'].value_counts())\n",
    "                data[i] = df2\n",
    "                i += 1\n",
    "            # Clean Labels.\n",
    "            full_data = pd.concat([data[0], data[1], data[2], data[3]]).reset_index(drop=True)\n",
    "            full_data['attack_cat'] = full_data['attack_cat'].str.replace(r'\\s+', '', regex=True)\n",
    "            full_data['attack_cat'] = full_data['attack_cat'].str.replace('Backdoors', 'Backdoor')\n",
    "            # Drop Sparse Data.\n",
    "            # NOTE: These values could also be transformed by adding 1 and setting nulls to 0.\n",
    "            full_data = full_data.drop(columns=['ct_ftp_cmd', 'ct_flw_http_mthd', 'is_ftp_login'])\n",
    "            # Remove error values created by nulls.\n",
    "            full_data['sport'] = full_data['sport'].apply(pd.to_numeric)\n",
    "            full_data = full_data[~full_data['dsport'].astype(str).str.startswith('0x')]\n",
    "            full_data['dsport'] = full_data['dsport'].apply(pd.to_numeric)\n",
    "\n",
    "            slice_size = int(size * len(full_data))\n",
    "            val_start = random.randrange(0, len(full_data) - 2 * slice_size)\n",
    "            val_end = val_start + slice_size\n",
    "            val_data = full_data.iloc[val_start:val_end]\n",
    "            df = full_data.drop(val_data.index)\n",
    "            test_start = random.randrange(0, len(df) - slice_size)\n",
    "            test_end = test_start + slice_size\n",
    "            test_data = df.iloc[test_start:test_end]\n",
    "            train_data = df.drop(test_data.index)\n",
    "            print('Train')\n",
    "            print(len(train_data))\n",
    "            print('Val')\n",
    "            print(len(val_data))\n",
    "            print('Test')\n",
    "            print(len(test_data))\n",
    "            \n",
    "            return train_data, val_data, test_data"
   ]
  },
  {
   "cell_type": "code",
   "execution_count": 26,
   "metadata": {},
   "outputs": [],
   "source": [
    "class DataManager:\n",
    "    \"\"\"\n",
    "    DataManager: Help manage the pre-processing of the USNW-NB15 dataset for an LSTM.\n",
    "\n",
    "    Initialisation:\n",
    "        - train (pd.Dataframe): The training data.\n",
    "        - val (pd.Dataframe): The validation data.\n",
    "        - test (pd.Dataframe): The teting data.\n",
    "        - type_of (string): Specify if multiclass or other (currently only multi-class is supported).\n",
    "    \"\"\"\n",
    "    def __init__(self, train, val, test, type_of):\n",
    "        self.train = train\n",
    "        self.val = val\n",
    "        self.test = test\n",
    "        if type_of == 'multi':\n",
    "            for i in [self.train, self.val, self.test]:\n",
    "                i.drop(columns=['Label'], inplace=True)    \n",
    "            self.label = 'attack_cat'\n",
    "        \n",
    "    def label_encode(self):\n",
    "        \"\"\"\n",
    "        label_encode: label encodes the categorical columns. Preset to 'proto', 'state', and 'service' and the label.\n",
    "\n",
    "        NOTE: This can have conflicts depending on what seed is used in the sampler.\n",
    "\n",
    "        \"\"\"\n",
    "\n",
    "        data = [self.train, self.val, self.test]\n",
    "        columns = ['srcip', 'dstip', 'proto', 'state', 'service', self.label]\n",
    "        encoder = LabelEncoder()\n",
    "        for col in columns:\n",
    "            for df in data:\n",
    "                df[col] = encoder.fit_transform(df[col])\n",
    "        self.train, self.val, self.test = data\n",
    "    \n",
    "    def onehot_encode(self):\n",
    "        \"\"\"\n",
    "        onehot_encode: One-hot encodes the categorical columns. Preset to 'proto', 'state', and 'service'. Label encodes the target.\n",
    "\n",
    "        NOTE: This can have conflicts depending on what seed is used in the sampler.\n",
    "        \"\"\"\n",
    "        columns = ['srcip', 'dstip', 'proto', 'state', 'service']\n",
    "\n",
    "        encoder2 = LabelEncoder()\n",
    "        encoder = OneHotEncoder(sparse_output=False, dtype='float32')\n",
    "\n",
    "        for col in columns:\n",
    "            encoded_train = encoder.fit_transform(self.train[[col]])\n",
    "            encoded_val = encoder.transform(self.val[[col]])\n",
    "            encoded_test = encoder.transform(self.test[[col]])\n",
    "            encoded_train_df = pd.DataFrame(encoded_train, columns=encoder.get_feature_names_out([col]), index=self.train.index)\n",
    "            encoded_val_df = pd.DataFrame(encoded_val, columns=encoder.get_feature_names_out([col]), index=self.val.index)\n",
    "            encoded_test_df = pd.DataFrame(encoded_test, columns=encoder.get_feature_names_out([col]), index=self.test.index)\n",
    "            self.train = pd.concat([self.train.drop(columns=[col]), encoded_train_df], axis=1)\n",
    "            self.val = pd.concat([self.val.drop(columns=[col]), encoded_val_df], axis=1)\n",
    "            self.test = pd.concat([self.test.drop(columns=[col]), encoded_test_df], axis=1)\n",
    "\n",
    "        encoder = LabelEncoder()\n",
    "        for df in [self.train, self.val, self.test]:\n",
    "            df[self.label] = encoder.fit_transform(df[self.label])\n",
    "\n",
    "\n",
    "    def standardise(self, type_of):\n",
    "        \"\"\"\n",
    "        standardise: Standardises the features of the train and test datasets.\n",
    "\n",
    "        Parameters:\n",
    "            - type_of (string): Choose the standardisation ('standard' or 'minmax').\n",
    "        \"\"\"\n",
    "        train_features = self.train.drop(columns=[self.label])\n",
    "        val_features = self.val.drop(columns=[self.label])\n",
    "        test_features = self.test.drop(columns=[self.label])\n",
    "        train_label = self.train[self.label]\n",
    "        val_label = self.val[self.label]\n",
    "        test_label = self.test[self.label]\n",
    "        if type_of == 'minmax':\n",
    "            scaler = MinMaxScaler()\n",
    "        elif type_of == 'standard':\n",
    "            scaler = StandardScaler()\n",
    "        scaled_train = scaler.fit_transform(train_features)\n",
    "        scaled_val = scaler.transform(val_features)\n",
    "        scaled_test = scaler.transform(test_features)\n",
    "        self.train = pd.DataFrame(scaled_train, columns=train_features.columns, index=self.train.index)\n",
    "        self.train[self.label] = train_label\n",
    "        self.val = pd.DataFrame(scaled_val, columns=val_features.columns, index=self.val.index)\n",
    "        self.val[self.label] = val_label\n",
    "        self.test = pd.DataFrame(scaled_test, columns=test_features.columns, index=self.test.index)\n",
    "        self.test[self.label] = test_label\n",
    "\n",
    "    def get_sequence(self, batch_size):\n",
    "        \"\"\"\n",
    "        get_sequence: Converts the Dtaframe to a sequence for each row and the corresponding label.\n",
    "        \n",
    "        Parameters:\n",
    "            - batch_size (int): The batch size to use in DataLoader.\n",
    "\n",
    "        Returns:\n",
    "            - train_loader (DataLoader): Dataloader for the training data.\n",
    "            - val_loader (DataLoader): Dataloader for the validation data.\n",
    "            - test_loader (DataLoader): Dataloader for the test data.\n",
    "        \"\"\"\n",
    "        \n",
    "        train_seq = torch.tensor(self.train.drop(columns=[self.label]).values, dtype=torch.float32)\n",
    "        val_seq = torch.tensor(self.val.drop(columns=[self.label]).values, dtype=torch.float32)\n",
    "        test_seq = torch.tensor(self.test.drop(columns=[self.label]).values, dtype=torch.float32)\n",
    "        train_label = torch.tensor(self.train[self.label].values, dtype=torch.long)\n",
    "        val_label = torch.tensor(self.val[self.label].values, dtype=torch.long)\n",
    "        test_label = torch.tensor(self.test[self.label].values, dtype=torch.long)\n",
    "\n",
    "        # Add dimension for LSTM.\n",
    "        train_seq = train_seq.unsqueeze(1)\n",
    "        val_seq = val_seq.unsqueeze(1)\n",
    "        test_seq = test_seq.unsqueeze(1)\n",
    "\n",
    "        train_dataset = TensorDataset(train_seq, train_label)\n",
    "        val_dataset = TensorDataset(val_seq, val_label)\n",
    "        test_dataset = TensorDataset(test_seq, test_label)\n",
    "        # NOTE: The batches are shuffled between themselves but the data sequences within remain the same.\n",
    "        train_loader = DataLoader(train_dataset, batch_size=batch_size, shuffle=True)\n",
    "        val_loader = DataLoader(val_dataset, batch_size=batch_size, shuffle=False)\n",
    "        test_loader = DataLoader(test_dataset, batch_size=batch_size, shuffle=False)\n",
    "\n",
    "        return train_loader, val_loader, test_loader\n",
    "    \n",
    "    def get_weights(self, type_of):\n",
    "        \"\"\"\n",
    "        get_weights: Calculate the weights of the labels for the given dataset. Used in Cross Entropy Loss criterion.\n",
    "        \n",
    "        Parameters:\n",
    "            - type_of (string): The dataset to use (train, val, test).\n",
    "\n",
    "        Returns:\n",
    "            - class_weights (tensor): The class weights for the label.\n",
    "        \"\"\"\n",
    "        if type_of == 'train':\n",
    "            data = self.train\n",
    "        elif type_of == 'val':\n",
    "            data = self.val\n",
    "        elif type_of == 'test':\n",
    "            data = self.test\n",
    "        labels = data[self.label].values\n",
    "        class_weights = compute_class_weight('balanced', classes=np.unique(labels), y=labels)\n",
    "        return torch.tensor(class_weights, dtype=torch.float)"
   ]
  },
  {
   "cell_type": "code",
   "execution_count": 27,
   "metadata": {},
   "outputs": [],
   "source": [
    "class SimpleLSTM(nn.Module):\n",
    "    \"\"\"\n",
    "    SimpleLSTM: An LSTM Model customised for the USNW-NB15 dataset. Uses a fully connected layer to output the predictions.\n",
    "\n",
    "    Parameters:\n",
    "        - nn.Module (nn.Module): The torch Neural Network module.\n",
    "    \n",
    "    Initialisation:\n",
    "        - n_features (int): Number of features:\n",
    "        - hidden_size (int): Hidden layer size.\n",
    "        - n_layers (int): Number of hidden layers.\n",
    "        - n_labels (int): Number of labels.\n",
    "    \"\"\"\n",
    "    def __init__(self, n_features, hidden_size, n_layers, n_labels, criterion, learning_rate):\n",
    "        super(SimpleLSTM, self).__init__()\n",
    "        # LSTM Layer (doubled).\n",
    "        self.lstm = nn.LSTM(n_features, \n",
    "                            hidden_size, \n",
    "                            n_layers, \n",
    "                            batch_first=True)\n",
    "        # Fully connected layer to the number of labels.\n",
    "        self.fc = nn.Linear(hidden_size, n_labels)\n",
    "        self.learning_rate = learning_rate\n",
    "        self.optimizer = None\n",
    "        self.criterion = criterion\n",
    "        self.save_dir = 'saved_model/lstm/'\n",
    "        # Metrics to track\n",
    "        self.loss = []\n",
    "        self.accuracy = []\n",
    "        self.f1 = []\n",
    "        self.epoch_time = []\n",
    "        self.val_loss = []\n",
    "        self.val_accuracy = []\n",
    "        self.test_loss = []\n",
    "        self.test_accuracy = []\n",
    "\n",
    "    def forward(self, x):\n",
    "        \"\"\"\n",
    "        forward: The forward function for calls the lstm layer and collects the last hidden state. \n",
    "        Finally uses a fully connected layer to output the logits for softmax.\n",
    "\n",
    "        Parameters:\n",
    "            - x (array): The batch array from the Dataloader.\n",
    "\n",
    "        Returns:\n",
    "            - out (array): The logits (10) of the fully connected layer.\n",
    "\n",
    "        NOTE: We are using row-by to same label sequence.\n",
    "        \"\"\"\n",
    "        lstm_out, (hn, cn) = self.lstm(x)\n",
    "        # The last hidden state.\n",
    "        final_hidden_state = hn[-1]\n",
    "        # Fully connected to label count.\n",
    "        out = self.fc(final_hidden_state)\n",
    "        return out\n",
    "\n",
    "    def run(self, train_loader, val_loader, test_loader, epochs, save_factor):\n",
    "        \"\"\"\n",
    "        run: Go through each epoch and do a forward pass then backpropagate using Cross Entropy Loss and Adam Optimiser to adjust the gradient. \n",
    "        Then evaluate the epoch using a validation set. At the end of all epochs, evaluate using the test set.\n",
    "\n",
    "        Parameters:\n",
    "            - train_loader (Dataloader): The Dataloader with the training set and labels.\n",
    "            - val_loader (Dataloader): The Dataloader with the validation set and labels.\n",
    "            - test_loader (Dataloader): The Dataloader with the test set and labels.\n",
    "            - epochs (int): The number of epochs to train.\n",
    "            - save_factor (int): The factor at which epoch to save the model weights.\n",
    "        \"\"\"\n",
    "        self.optimizer = optim.Adam(self.parameters(), lr=self.learning_rate)\n",
    "        for epoch in range(epochs):\n",
    "            start_time = time.time()\n",
    "            # Set to training mode.\n",
    "            self.train()\n",
    "            # Reset metrics for epoch.\n",
    "            running_loss = 0.0\n",
    "            correct = 0\n",
    "            total = 0\n",
    "            all_preds = []\n",
    "            all_labels = []\n",
    "            with tqdm(train_loader, unit=\"batch\", desc=f\"Epoch {epoch+1}/{epochs}\") as tqmbar:\n",
    "                for batch_idx, (inputs, labels) in enumerate(tqmbar):\n",
    "                    inputs, labels = inputs.to(device), labels.to(device)\n",
    "                    # Reset gradient.\n",
    "                    self.optimizer.zero_grad()\n",
    "                    # Forward.\n",
    "                    outputs = self(inputs)\n",
    "                    loss = self.criterion(outputs, labels)\n",
    "                    # Backpropagation.\n",
    "                    loss.backward()\n",
    "                    self.optimizer.step()\n",
    "                    # Cumulative loss.\n",
    "                    running_loss += loss.item()\n",
    "                    # Get highest probability label.\n",
    "                    _, predicted = torch.max(outputs, 1)\n",
    "                    total += labels.size(0)\n",
    "                    correct += (predicted == labels).sum().item()\n",
    "                    all_preds.extend(predicted.cpu().numpy())\n",
    "                    all_labels.extend(labels.cpu().numpy())\n",
    "\n",
    "            avg_loss = running_loss / len(train_loader)\n",
    "            accuracy = 100 * correct / total\n",
    "            if len(all_preds) > 0:\n",
    "                f1 = f1_score(all_labels, all_preds, average='weighted')\n",
    "            else:\n",
    "                f1 = 0\n",
    "            print(f\"Epoch [{epoch+1}/{epochs}], Loss: {avg_loss:.4f}, Accuracy: {accuracy:.2f}%, F1 Score: {f1:.2f}\")\n",
    "            self.loss.append(avg_loss)\n",
    "            self.accuracy.append(accuracy)\n",
    "            self.f1.append(f1)\n",
    "            self.epoch_time.append(time.time() - start_time)\n",
    "\n",
    "            # Validation after each epoch\n",
    "            val_loss, val_accuracy, val_f1 = self.validate(val_loader)\n",
    "            print(f\"Validation Loss: {val_loss:.4f}, Validation Accuracy: {val_accuracy:.2f}%, Validation F1 Score: {val_f1:.2f}\")\n",
    "            self.val_loss.append(val_loss)\n",
    "            self.val_accuracy.append(val_accuracy)\n",
    "\n",
    "            # Test after each epoch\n",
    "            test_loss, test_accuracy, test_f1 = self.test(test_loader)\n",
    "            print(f\"Test Loss: {test_loss:.4f}, Test Accuracy: {test_accuracy:.2f}%, Test F1 Score: {test_f1:.2f}\")\n",
    "            self.test_loss.append(test_loss)\n",
    "            self.test_accuracy.append(test_accuracy)\n",
    "\n",
    "            # Save model at specified intervals.\n",
    "            if (epoch + 1) % save_factor == 0:\n",
    "                self.save_model(epoch + 1)\n",
    "\n",
    "    def validate(self, data_loader):\n",
    "        \"\"\"\n",
    "        validate: The validation run of the LSTM model.\n",
    "\n",
    "        Parameters:\n",
    "            - data_loader (Dataloader): The Dataloader of validation set.\n",
    "        \n",
    "        Returns:\n",
    "            - loss (float): The average loss of the validation run.\n",
    "            - accuracy (float): The accuracy of validation run.\n",
    "            - f1 (float): The F1 score (macro) of validation run.\n",
    "        \"\"\"\n",
    "        self.eval()\n",
    "        running_loss = 0.0\n",
    "        correct = 0\n",
    "        total = 0\n",
    "        all_preds = []\n",
    "        all_labels = []\n",
    "        with torch.no_grad():\n",
    "            for inputs, labels in data_loader:\n",
    "                inputs, labels = inputs.to(device), labels.to(device)\n",
    "                outputs = self(inputs)\n",
    "                loss = self.criterion(outputs, labels)\n",
    "                running_loss += loss.item()\n",
    "                _, predicted = torch.max(outputs, 1)\n",
    "                total += labels.size(0)\n",
    "                correct += (predicted == labels).sum().item()\n",
    "                \n",
    "                all_preds.extend(predicted.cpu().numpy())\n",
    "                all_labels.extend(labels.cpu().numpy())\n",
    "        avg_loss = running_loss / len(data_loader)\n",
    "        accuracy = 100 * correct / total\n",
    "        f1 = f1_score(all_labels, all_preds, average='weighted')\n",
    "        return avg_loss, accuracy, f1\n",
    "\n",
    "    def test(self, test_loader):\n",
    "        \"\"\"\n",
    "        test: The test run of the LSTM model.\n",
    "\n",
    "        Parameters:\n",
    "            - data_loader (Dataloader): The Dataloader of test set.\n",
    "        \n",
    "        Returns:\n",
    "            - loss (float): The average loss of the test run.\n",
    "            - accuracy (float): The accuracy of test run.\n",
    "            - f1 (float): The F1 score (macro) of test run.\n",
    "        \"\"\"\n",
    "        self.eval()\n",
    "        running_loss = 0.0\n",
    "        correct = 0\n",
    "        total = 0\n",
    "        all_preds = []\n",
    "        all_labels = []\n",
    "        with torch.no_grad():\n",
    "            for inputs, labels in test_loader:\n",
    "                inputs, labels = inputs.to(device), labels.to(device)\n",
    "                outputs = self(inputs)\n",
    "                loss = self.criterion(outputs, labels)\n",
    "                running_loss += loss.item()\n",
    "                _, predicted = torch.max(outputs, 1)\n",
    "                total += labels.size(0)\n",
    "                correct += (predicted == labels).sum().item()\n",
    "                \n",
    "                all_preds.extend(predicted.cpu().numpy())\n",
    "                all_labels.extend(labels.cpu().numpy())\n",
    "        \n",
    "        avg_loss = running_loss / len(test_loader)\n",
    "        accuracy = 100 * correct / total\n",
    "        f1 = f1_score(all_labels, all_preds, average='weighted')\n",
    "        return avg_loss, accuracy, f1\n",
    "\n",
    "    def predict(self, input_data):\n",
    "        \"\"\"\n",
    "        predict: Predicts the class for the input.\n",
    "\n",
    "        Parameters:\n",
    "            - input_data (tensor): The input data.\n",
    "        \n",
    "        Returns:\n",
    "            - predicted (tensor): The predicted labels.\n",
    "        \"\"\"\n",
    "        self.eval()\n",
    "        input_data = input_data.to(device)\n",
    "        with torch.no_grad():\n",
    "            output = self(input_data)\n",
    "            _, predicted = torch.max(output, 1)\n",
    "        return predicted\n",
    "\n",
    "    def save_model(self, epoch):\n",
    "        \"\"\"\n",
    "        save_model: Save the model's state and metrics to directory for the given epoch.\n",
    "\n",
    "        Parameters:\n",
    "            - epoch (int): The current epoch.\n",
    "        \"\"\"\n",
    "        checkpoint_path = os.path.join(self.save_dir, f\"lstm_epoch_{epoch}.pt\")\n",
    "        torch.save({\n",
    "            'epoch': epoch,\n",
    "            'model_state_dict': self.state_dict(),\n",
    "            'optimizer_state_dict': self.optimizer.state_dict(),\n",
    "            'loss': self.criterion,\n",
    "        }, checkpoint_path)\n",
    "        print(f\"Model saved to {checkpoint_path}\")\n",
    "\n",
    "    def load_model(self, epoch):\n",
    "        \"\"\"\n",
    "        load_model: Load a saved model from the directory.\n",
    "\n",
    "        Parameters:\n",
    "            - epoch (int): The epoch to load.\n",
    "    \n",
    "        \"\"\"\n",
    "        checkpoint_path = os.path.join(self.save_dir, f\"lstm_epoch_{epoch}.pt\")\n",
    "        if os.path.exists(checkpoint_path):\n",
    "            checkpoint = torch.load(checkpoint_path)\n",
    "            self.load_state_dict(checkpoint['model_state_dict'])\n",
    "            self.optimizer.load_state_dict(checkpoint['optimizer_state_dict'])"
   ]
  },
  {
   "cell_type": "code",
   "execution_count": 28,
   "metadata": {},
   "outputs": [
    {
     "name": "stdout",
     "output_type": "stream",
     "text": [
      "Set1\n"
     ]
    },
    {
     "name": "stderr",
     "output_type": "stream",
     "text": [
      "C:\\Users\\adi_s\\AppData\\Local\\Temp\\ipykernel_21824\\2982480039.py:35: DtypeWarning: Columns (1,3,47) have mixed types. Specify dtype option on import or set low_memory=False.\n",
      "  s1 = pd.read_csv('UNSW-NB15_1.csv', header=None)\n"
     ]
    },
    {
     "name": "stdout",
     "output_type": "stream",
     "text": [
      "attack_cat\n",
      "Normal            677786\n",
      "Generic             7522\n",
      "Exploits            5409\n",
      " Fuzzers            5051\n",
      "Reconnaissance      1759\n",
      "DoS                 1167\n",
      "Backdoors            534\n",
      "Analysis             526\n",
      "Shellcode            223\n",
      "Worms                 24\n",
      "Name: count, dtype: int64\n",
      "Set2\n"
     ]
    },
    {
     "name": "stderr",
     "output_type": "stream",
     "text": [
      "C:\\Users\\adi_s\\AppData\\Local\\Temp\\ipykernel_21824\\2982480039.py:41: DtypeWarning: Columns (3,39,47) have mixed types. Specify dtype option on import or set low_memory=False.\n",
      "  s2 = pd.read_csv('UNSW-NB15_2.csv', header=None)\n"
     ]
    },
    {
     "name": "stdout",
     "output_type": "stream",
     "text": [
      "attack_cat\n",
      "Normal              647252\n",
      "Generic              27883\n",
      "Exploits             11103\n",
      " Fuzzers              4668\n",
      "DoS                   4637\n",
      " Reconnaissance       3116\n",
      "Analysis               608\n",
      "Backdoor               370\n",
      " Shellcode             324\n",
      "Worms                   40\n",
      "Name: count, dtype: int64\n",
      "Set3\n",
      "attack_cat\n",
      "Normal              542576\n",
      "Generic             118198\n",
      "Exploits             16574\n",
      " Fuzzers              9137\n",
      "DoS                   5642\n",
      " Reconnaissance       5582\n",
      "Analysis               873\n",
      "Backdoor               759\n",
      " Shellcode             593\n",
      "Worms                   67\n",
      "Name: count, dtype: int64\n",
      "Set4\n",
      "attack_cat\n",
      "Normal              351150\n",
      "Generic              61878\n",
      "Exploits             11439\n",
      " Fuzzers              5390\n",
      "DoS                   4907\n",
      " Reconnaissance       3530\n",
      "Analysis               670\n",
      "Backdoor               666\n",
      " Shellcode             371\n",
      "Worms                   43\n",
      "Name: count, dtype: int64\n",
      "Set1\n",
      "attack_cat\n",
      "Normal            7522\n",
      "Generic           7522\n",
      "Exploits          5409\n",
      " Fuzzers          5051\n",
      "Reconnaissance    1759\n",
      "DoS               1167\n",
      "Backdoors          534\n",
      "Analysis           526\n",
      "Shellcode          223\n",
      "Worms               24\n",
      "Name: count, dtype: int64\n",
      "Set2\n",
      "attack_cat\n",
      "Normal              27883\n",
      "Generic             27883\n",
      "Exploits            11103\n",
      " Fuzzers             4668\n",
      "DoS                  4637\n",
      " Reconnaissance      3116\n",
      "Analysis              608\n",
      "Backdoor              370\n",
      " Shellcode            324\n",
      "Worms                  40\n",
      "Name: count, dtype: int64\n",
      "Set3\n",
      "attack_cat\n",
      "Normal              118198\n",
      "Generic             118198\n",
      "Exploits             16574\n",
      " Fuzzers              9137\n",
      "DoS                   5642\n",
      " Reconnaissance       5582\n",
      "Analysis               873\n",
      "Backdoor               759\n",
      " Shellcode             593\n",
      "Worms                   67\n",
      "Name: count, dtype: int64\n",
      "Set4\n",
      "attack_cat\n",
      "Normal              61878\n",
      "Generic             61878\n",
      "Exploits            11439\n",
      " Fuzzers             5390\n",
      "DoS                  4907\n",
      " Reconnaissance      3530\n",
      "Analysis              670\n",
      "Backdoor              666\n",
      " Shellcode            371\n",
      "Worms                  43\n",
      "Name: count, dtype: int64\n",
      "Train\n",
      "322018\n",
      "Val\n",
      "107339\n",
      "Test\n",
      "107339\n"
     ]
    }
   ],
   "source": [
    "df = DataSampler()\n",
    "# Type of data, proportion for slices, random seed.\n",
    "train_data, val_data, test_data = df.sample_data('full_data', 0.2, 42)"
   ]
  },
  {
   "cell_type": "code",
   "execution_count": 29,
   "metadata": {},
   "outputs": [],
   "source": [
    "dm = DataManager(train_data, val_data, test_data, 'multi')\n",
    "dm.label_encode()\n",
    "dm.standardise('minmax')\n",
    "train_loader, val_loader, test_loader = dm.get_sequence(32)"
   ]
  },
  {
   "cell_type": "code",
   "execution_count": 30,
   "metadata": {},
   "outputs": [
    {
     "name": "stderr",
     "output_type": "stream",
     "text": [
      "Epoch 1/20: 100%|██████████| 10064/10064 [00:27<00:00, 360.01batch/s]\n"
     ]
    },
    {
     "name": "stdout",
     "output_type": "stream",
     "text": [
      "Epoch [1/20], Loss: 0.3128, Accuracy: 89.08%, F1 Score: 0.88\n",
      "Validation Loss: 0.1947, Validation Accuracy: 92.79%, Validation F1 Score: 0.93\n",
      "Test Loss: 0.2016, Test Accuracy: 92.37%, Test F1 Score: 0.93\n"
     ]
    },
    {
     "name": "stderr",
     "output_type": "stream",
     "text": [
      "Epoch 2/20: 100%|██████████| 10064/10064 [00:28<00:00, 349.74batch/s]\n"
     ]
    },
    {
     "name": "stdout",
     "output_type": "stream",
     "text": [
      "Epoch [2/20], Loss: 0.2498, Accuracy: 90.80%, F1 Score: 0.90\n",
      "Validation Loss: 0.1844, Validation Accuracy: 93.00%, Validation F1 Score: 0.92\n",
      "Test Loss: 0.1895, Test Accuracy: 93.15%, Test F1 Score: 0.93\n"
     ]
    },
    {
     "name": "stderr",
     "output_type": "stream",
     "text": [
      "Epoch 3/20: 100%|██████████| 10064/10064 [00:26<00:00, 378.70batch/s]\n"
     ]
    },
    {
     "name": "stdout",
     "output_type": "stream",
     "text": [
      "Epoch [3/20], Loss: 0.2389, Accuracy: 91.07%, F1 Score: 0.90\n",
      "Validation Loss: 0.1854, Validation Accuracy: 92.89%, Validation F1 Score: 0.93\n",
      "Test Loss: 0.1915, Test Accuracy: 92.42%, Test F1 Score: 0.93\n"
     ]
    },
    {
     "name": "stderr",
     "output_type": "stream",
     "text": [
      "Epoch 4/20: 100%|██████████| 10064/10064 [00:26<00:00, 380.69batch/s]\n"
     ]
    },
    {
     "name": "stdout",
     "output_type": "stream",
     "text": [
      "Epoch [4/20], Loss: 0.2315, Accuracy: 91.28%, F1 Score: 0.91\n",
      "Validation Loss: 0.1951, Validation Accuracy: 92.66%, Validation F1 Score: 0.93\n",
      "Test Loss: 0.2048, Test Accuracy: 92.19%, Test F1 Score: 0.92\n"
     ]
    },
    {
     "name": "stderr",
     "output_type": "stream",
     "text": [
      "Epoch 5/20: 100%|██████████| 10064/10064 [00:27<00:00, 370.84batch/s]\n"
     ]
    },
    {
     "name": "stdout",
     "output_type": "stream",
     "text": [
      "Epoch [5/20], Loss: 0.2259, Accuracy: 91.44%, F1 Score: 0.91\n",
      "Validation Loss: 0.1795, Validation Accuracy: 93.25%, Validation F1 Score: 0.92\n",
      "Test Loss: 0.1860, Test Accuracy: 93.51%, Test F1 Score: 0.93\n"
     ]
    },
    {
     "name": "stderr",
     "output_type": "stream",
     "text": [
      "Epoch 6/20: 100%|██████████| 10064/10064 [00:26<00:00, 384.38batch/s]\n"
     ]
    },
    {
     "name": "stdout",
     "output_type": "stream",
     "text": [
      "Epoch [6/20], Loss: 0.2221, Accuracy: 91.54%, F1 Score: 0.91\n",
      "Validation Loss: 0.1736, Validation Accuracy: 93.34%, Validation F1 Score: 0.92\n",
      "Test Loss: 0.1774, Test Accuracy: 93.67%, Test F1 Score: 0.93\n"
     ]
    },
    {
     "name": "stderr",
     "output_type": "stream",
     "text": [
      "Epoch 7/20: 100%|██████████| 10064/10064 [00:27<00:00, 361.00batch/s]\n"
     ]
    },
    {
     "name": "stdout",
     "output_type": "stream",
     "text": [
      "Epoch [7/20], Loss: 0.2189, Accuracy: 91.65%, F1 Score: 0.91\n",
      "Validation Loss: 0.1703, Validation Accuracy: 93.37%, Validation F1 Score: 0.93\n",
      "Test Loss: 0.1743, Test Accuracy: 93.32%, Test F1 Score: 0.93\n"
     ]
    },
    {
     "name": "stderr",
     "output_type": "stream",
     "text": [
      "Epoch 8/20: 100%|██████████| 10064/10064 [00:27<00:00, 367.07batch/s]\n"
     ]
    },
    {
     "name": "stdout",
     "output_type": "stream",
     "text": [
      "Epoch [8/20], Loss: 0.2166, Accuracy: 91.70%, F1 Score: 0.91\n",
      "Validation Loss: 0.1676, Validation Accuracy: 93.51%, Validation F1 Score: 0.93\n",
      "Test Loss: 0.1706, Test Accuracy: 93.41%, Test F1 Score: 0.93\n"
     ]
    },
    {
     "name": "stderr",
     "output_type": "stream",
     "text": [
      "Epoch 9/20: 100%|██████████| 10064/10064 [00:27<00:00, 364.36batch/s]\n"
     ]
    },
    {
     "name": "stdout",
     "output_type": "stream",
     "text": [
      "Epoch [9/20], Loss: 0.2142, Accuracy: 91.79%, F1 Score: 0.91\n",
      "Validation Loss: 0.1667, Validation Accuracy: 93.46%, Validation F1 Score: 0.93\n",
      "Test Loss: 0.1721, Test Accuracy: 93.06%, Test F1 Score: 0.93\n"
     ]
    },
    {
     "name": "stderr",
     "output_type": "stream",
     "text": [
      "Epoch 10/20: 100%|██████████| 10064/10064 [00:27<00:00, 360.00batch/s]\n"
     ]
    },
    {
     "name": "stdout",
     "output_type": "stream",
     "text": [
      "Epoch [10/20], Loss: 0.2120, Accuracy: 91.84%, F1 Score: 0.91\n",
      "Validation Loss: 0.1983, Validation Accuracy: 92.68%, Validation F1 Score: 0.92\n",
      "Test Loss: 0.2059, Test Accuracy: 92.16%, Test F1 Score: 0.92\n"
     ]
    },
    {
     "name": "stderr",
     "output_type": "stream",
     "text": [
      "Epoch 11/20: 100%|██████████| 10064/10064 [00:26<00:00, 378.92batch/s]\n"
     ]
    },
    {
     "name": "stdout",
     "output_type": "stream",
     "text": [
      "Epoch [11/20], Loss: 0.2101, Accuracy: 91.89%, F1 Score: 0.91\n",
      "Validation Loss: 0.1703, Validation Accuracy: 93.44%, Validation F1 Score: 0.93\n",
      "Test Loss: 0.1764, Test Accuracy: 92.83%, Test F1 Score: 0.93\n"
     ]
    },
    {
     "name": "stderr",
     "output_type": "stream",
     "text": [
      "Epoch 12/20: 100%|██████████| 10064/10064 [00:26<00:00, 375.10batch/s]\n"
     ]
    },
    {
     "name": "stdout",
     "output_type": "stream",
     "text": [
      "Epoch [12/20], Loss: 0.2085, Accuracy: 91.92%, F1 Score: 0.91\n",
      "Validation Loss: 0.1680, Validation Accuracy: 93.44%, Validation F1 Score: 0.93\n",
      "Test Loss: 0.1723, Test Accuracy: 92.87%, Test F1 Score: 0.93\n"
     ]
    },
    {
     "name": "stderr",
     "output_type": "stream",
     "text": [
      "Epoch 13/20: 100%|██████████| 10064/10064 [00:26<00:00, 377.57batch/s]\n"
     ]
    },
    {
     "name": "stdout",
     "output_type": "stream",
     "text": [
      "Epoch [13/20], Loss: 0.2072, Accuracy: 91.96%, F1 Score: 0.92\n",
      "Validation Loss: 0.1768, Validation Accuracy: 93.15%, Validation F1 Score: 0.93\n",
      "Test Loss: 0.1842, Test Accuracy: 92.56%, Test F1 Score: 0.93\n"
     ]
    },
    {
     "name": "stderr",
     "output_type": "stream",
     "text": [
      "Epoch 14/20: 100%|██████████| 10064/10064 [00:28<00:00, 352.38batch/s]\n"
     ]
    },
    {
     "name": "stdout",
     "output_type": "stream",
     "text": [
      "Epoch [14/20], Loss: 0.2056, Accuracy: 92.00%, F1 Score: 0.92\n",
      "Validation Loss: 0.1736, Validation Accuracy: 93.18%, Validation F1 Score: 0.92\n",
      "Test Loss: 0.1787, Test Accuracy: 92.58%, Test F1 Score: 0.93\n"
     ]
    },
    {
     "name": "stderr",
     "output_type": "stream",
     "text": [
      "Epoch 15/20: 100%|██████████| 10064/10064 [00:26<00:00, 373.17batch/s]\n"
     ]
    },
    {
     "name": "stdout",
     "output_type": "stream",
     "text": [
      "Epoch [15/20], Loss: 0.2046, Accuracy: 92.04%, F1 Score: 0.92\n",
      "Validation Loss: 0.2026, Validation Accuracy: 92.82%, Validation F1 Score: 0.92\n",
      "Test Loss: 0.2120, Test Accuracy: 92.35%, Test F1 Score: 0.92\n"
     ]
    },
    {
     "name": "stderr",
     "output_type": "stream",
     "text": [
      "Epoch 16/20: 100%|██████████| 10064/10064 [00:26<00:00, 379.33batch/s]\n"
     ]
    },
    {
     "name": "stdout",
     "output_type": "stream",
     "text": [
      "Epoch [16/20], Loss: 0.2032, Accuracy: 92.07%, F1 Score: 0.92\n",
      "Validation Loss: 0.1881, Validation Accuracy: 93.04%, Validation F1 Score: 0.93\n",
      "Test Loss: 0.1945, Test Accuracy: 92.40%, Test F1 Score: 0.93\n"
     ]
    },
    {
     "name": "stderr",
     "output_type": "stream",
     "text": [
      "Epoch 17/20: 100%|██████████| 10064/10064 [00:27<00:00, 370.27batch/s]\n"
     ]
    },
    {
     "name": "stdout",
     "output_type": "stream",
     "text": [
      "Epoch [17/20], Loss: 0.2021, Accuracy: 92.15%, F1 Score: 0.92\n",
      "Validation Loss: 0.1740, Validation Accuracy: 93.35%, Validation F1 Score: 0.94\n",
      "Test Loss: 0.1798, Test Accuracy: 92.82%, Test F1 Score: 0.93\n"
     ]
    },
    {
     "name": "stderr",
     "output_type": "stream",
     "text": [
      "Epoch 18/20: 100%|██████████| 10064/10064 [00:26<00:00, 383.79batch/s]\n"
     ]
    },
    {
     "name": "stdout",
     "output_type": "stream",
     "text": [
      "Epoch [18/20], Loss: 0.2011, Accuracy: 92.16%, F1 Score: 0.92\n",
      "Validation Loss: 0.1616, Validation Accuracy: 93.70%, Validation F1 Score: 0.94\n",
      "Test Loss: 0.1652, Test Accuracy: 93.25%, Test F1 Score: 0.94\n"
     ]
    },
    {
     "name": "stderr",
     "output_type": "stream",
     "text": [
      "Epoch 19/20: 100%|██████████| 10064/10064 [00:25<00:00, 389.94batch/s]\n"
     ]
    },
    {
     "name": "stdout",
     "output_type": "stream",
     "text": [
      "Epoch [19/20], Loss: 0.2001, Accuracy: 92.20%, F1 Score: 0.92\n",
      "Validation Loss: 0.1634, Validation Accuracy: 93.59%, Validation F1 Score: 0.94\n",
      "Test Loss: 0.1664, Test Accuracy: 93.13%, Test F1 Score: 0.93\n"
     ]
    },
    {
     "name": "stderr",
     "output_type": "stream",
     "text": [
      "Epoch 20/20: 100%|██████████| 10064/10064 [00:25<00:00, 387.31batch/s]\n"
     ]
    },
    {
     "name": "stdout",
     "output_type": "stream",
     "text": [
      "Epoch [20/20], Loss: 0.1990, Accuracy: 92.22%, F1 Score: 0.92\n",
      "Validation Loss: 0.1728, Validation Accuracy: 93.38%, Validation F1 Score: 0.93\n",
      "Test Loss: 0.1764, Test Accuracy: 93.21%, Test F1 Score: 0.93\n"
     ]
    }
   ],
   "source": [
    "#device = torch.device(\"cpu\")\n",
    "device = torch.device(\"cuda\" if torch.cuda.is_available() else \"cpu\")\n",
    "\n",
    "n_features = 44\n",
    "hidden_size = 128\n",
    "n_layers = 2\n",
    "n_labels = 10\n",
    "# Weights have not been tried on this dataset and model.\n",
    "#weights = dm.get_weights('train')\n",
    "model = SimpleLSTM(n_features, hidden_size, n_layers, n_labels, nn.CrossEntropyLoss(), 0.001).to(device)\n",
    "# Datasets, Epochs, and Save Factor.\n",
    "# NOTE: Save Factor is set above epochs as models state_dict can be large in size.\n",
    "model.run(train_loader, val_loader, test_loader, 20, 100)"
   ]
  },
  {
   "cell_type": "code",
   "execution_count": 31,
   "metadata": {},
   "outputs": [
    {
     "data": {
      "image/png": "[encoded data removed]",
      "text/plain": [
       "<Figure size 800x800 with 1 Axes>"
      ]
     },
     "metadata": {},
     "output_type": "display_data"
    },
    {
     "data": {
      "image/png": "[encoded data removed]",
      "text/plain": [
       "<Figure size 800x800 with 1 Axes>"
      ]
     },
     "metadata": {},
     "output_type": "display_data"
    }
   ],
   "source": [
    "plot_metrics(model.loss, model.val_loss, model.test_loss, 20, 'LSTM Loss')\n",
    "plot_metrics(model.accuracy, model.val_accuracy, model.test_accuracy, 20, 'LSTM Accuracy')"
   ]
  }
 ],
 "metadata": {
  "kernelspec": {
   "display_name": "conda311new",
   "language": "python",
   "name": "python3"
  },
  "language_info": {
   "codemirror_mode": {
    "name": "ipython",
    "version": 3
   },
   "file_extension": ".py",
   "mimetype": "text/x-python",
   "name": "python",
   "nbconvert_exporter": "python",
   "pygments_lexer": "ipython3",
   "version": "3.11.9"
  }
 },
 "nbformat": 4,
 "nbformat_minor": 2
}
