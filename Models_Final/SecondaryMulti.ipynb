{
 "cells": [
  {
   "cell_type": "code",
   "execution_count": 7,
   "id": "ca7d6eb4",
   "metadata": {},
   "outputs": [],
   "source": [
    "import pandas as pd\n",
    "import numpy as np\n",
    "from sklearn.preprocessing import OneHotEncoder, LabelEncoder, StandardScaler, MinMaxScaler\n",
    "import seaborn as sns\n",
    "import matplotlib.pyplot as plt\n",
    "from sklearn.utils.class_weight import compute_class_weight\n",
    "import shap\n",
    "from sklearn.metrics import accuracy_score, classification_report, confusion_matrix, f1_score, precision_score, recall_score\n",
    "from sklearn.ensemble import RandomForestClassifier\n",
    "from sklearn.model_selection import train_test_split\n",
    "import shap\n",
    "from explainerdashboard import ExplainerDashboard, ClassifierExplainer\n",
    "import torch\n",
    "from torch.utils.data import DataLoader, TensorDataset\n",
    "import torch.nn as nn\n",
    "import torch.optim as optim\n",
    "import captum.attr as c\n",
    "import time\n",
    "from sklearn.metrics import accuracy_score, f1_score\n",
    "from tqdm import tqdm\n",
    "import os\n",
    "import joblib"
   ]
  },
  {
   "cell_type": "code",
   "execution_count": 8,
   "id": "a7ac1157",
   "metadata": {},
   "outputs": [
    {
     "name": "stderr",
     "output_type": "stream",
     "text": [
      "C:\\Users\\adi_s\\AppData\\Local\\Temp\\ipykernel_21072\\3121833706.py:1: DtypeWarning: Columns (1,3) have mixed types. Specify dtype option on import or set low_memory=False.\n"
     ]
    }
   ],
   "source": [
    "data = pd.read_csv('../Cleaned_full_data.csv')"
   ]
  },
  {
   "cell_type": "code",
   "execution_count": 9,
   "id": "d86c4b5f",
   "metadata": {},
   "outputs": [],
   "source": [
    "# Reset retained index.\n",
    "data = data.reset_index(drop=True)\n",
    "# Set NA to 0.\n",
    "data['ct_ftp_cmd'] = data['ct_ftp_cmd'].fillna(0)\n",
    "data['attack_cat'] = data['attack_cat'].str.replace(r'\\s+', '', regex=True)\n",
    "data['attack_cat'] = data['attack_cat'].str.replace('Backdoors', 'Backdoor')"
   ]
  },
  {
   "cell_type": "code",
   "execution_count": 10,
   "id": "ef318e8a",
   "metadata": {},
   "outputs": [],
   "source": [
    "data = data.drop(columns=['proto', 'dsport', 'service', 'state', 'srcip', 'sport', 'dstip'])"
   ]
  },
  {
   "cell_type": "code",
   "execution_count": 11,
   "id": "b936b273",
   "metadata": {},
   "outputs": [],
   "source": [
    "temp = data[['is_ftp_login', 'is_sm_ips_ports', 'label', 'attack_cat']]\n",
    "data = data.drop(columns=['is_ftp_login', 'is_sm_ips_ports', 'label', 'attack_cat'])"
   ]
  },
  {
   "cell_type": "code",
   "execution_count": 12,
   "id": "6e623e2d",
   "metadata": {},
   "outputs": [],
   "source": [
    "ohe1 = pd.read_csv('../Full_proto_encoded.csv')\n",
    "ohe2 = pd.read_csv('../Full_dsport_encoded.csv')\n",
    "ohe3 = pd.read_csv('../Full_service_encoded.csv')\n",
    "ohe4 = pd.read_csv('../Full_state_encoded.csv')\n",
    "# Spelling error.\n",
    "ohe5 = pd.read_csv('../Full_scrip_encoded.csv')\n",
    "#------------------------------------------#\n",
    "ohe6 = pd.read_csv('../Full_sport_encoded.csv')\n",
    "ohe7 = pd.read_csv('../Full_dstip_encoded.csv')"
   ]
  },
  {
   "cell_type": "code",
   "execution_count": 13,
   "id": "4c448fd5",
   "metadata": {},
   "outputs": [],
   "source": [
    "# MinMax seperates Normal data well and reduces noise. Please see Kmeans TSNE evaluation in Archive.\n",
    "scaler = MinMaxScaler()\n",
    "scaled_data = scaler.fit_transform(data)\n",
    "data = pd.DataFrame(scaled_data, columns=data.columns)\n",
    "data = pd.concat([data, temp, ohe1, ohe2, ohe3, ohe4, ohe5, ohe6, ohe7], axis=1)"
   ]
  },
  {
   "cell_type": "code",
   "execution_count": 14,
   "id": "6ec54881",
   "metadata": {},
   "outputs": [
    {
     "name": "stdout",
     "output_type": "stream",
     "text": [
      "Train: 6    1774933\n",
      "5     172371\n",
      "3      35793\n",
      "4      19462\n",
      "2      13038\n",
      "7      11137\n",
      "0       2127\n",
      "1       1852\n",
      "8       1191\n",
      "9        133\n",
      "Name: count, dtype: int64\n",
      "10\n",
      "Test: 6    443831\n",
      "5     43110\n",
      "3      8732\n",
      "4      4784\n",
      "2      3315\n",
      "7      2850\n",
      "0       550\n",
      "1       477\n",
      "8       320\n",
      "9        41\n",
      "Name: count, dtype: int64\n",
      "10\n"
     ]
    }
   ],
   "source": [
    "# Assuming 'data' is your DataFrame and 'attack_cat' is the target variable\n",
    "X = data.drop(columns=['label', 'attack_cat'])\n",
    "y = data['attack_cat']\n",
    "X_train, X_test, y_train, y_test = train_test_split(X, y, test_size=0.2, random_state=42)\n",
    "label_encoder = LabelEncoder()\n",
    "y_train = label_encoder.fit_transform(y_train)\n",
    "y_test = label_encoder.transform(y_test)\n",
    "path = './saved_models/label_encoder.joblib'\n",
    "joblib.dump(label_encoder, path)\n",
    "print('Train:', pd.Series(y_train).value_counts())\n",
    "print(len(pd.Series(y_train).value_counts()))\n",
    "print('Test:', pd.Series(y_test).value_counts())\n",
    "print(len(pd.Series(y_test).value_counts()))"
   ]
  },
  {
   "cell_type": "code",
   "execution_count": 15,
   "id": "ff9b0c61",
   "metadata": {},
   "outputs": [
    {
     "name": "stdout",
     "output_type": "stream",
     "text": [
      "\n",
      "Classification Report (Test Set):\n",
      "                precision    recall  f1-score   support\n",
      "\n",
      "      Analysis       0.69      0.08      0.14       550\n",
      "      Backdoor       0.74      0.06      0.12       477\n",
      "           DoS       0.30      0.22      0.26      3315\n",
      "      Exploits       0.61      0.82      0.70      8732\n",
      "       Fuzzers       0.79      0.70      0.74      4784\n",
      "       Generic       1.00      0.98      0.99     43110\n",
      "        Normal       1.00      1.00      1.00    443831\n",
      "Reconnaissance       0.94      0.77      0.85      2850\n",
      "     Shellcode       0.69      0.77      0.73       320\n",
      "         Worms       0.33      0.02      0.05        41\n",
      "\n",
      "      accuracy                           0.98    508010\n",
      "     macro avg       0.71      0.54      0.56    508010\n",
      "  weighted avg       0.98      0.98      0.98    508010\n",
      "\n"
     ]
    }
   ],
   "source": [
    "rf = RandomForestClassifier(random_state=42)\n",
    "rf.fit(X_train, y_train)\n",
    "y_pred = rf.predict(X_test)\n",
    "print('\\nClassification Report (Test Set):')\n",
    "print(classification_report(y_test, y_pred, target_names=label_encoder.classes_))"
   ]
  },
  {
   "cell_type": "code",
   "execution_count": 16,
   "id": "d3a254e5",
   "metadata": {},
   "outputs": [
    {
     "name": "stdout",
     "output_type": "stream",
     "text": [
      "\n",
      "Accuracy per label:\n",
      "Analysis: 0.0800\n",
      "Backdoor: 0.0650\n",
      "DoS: 0.2244\n",
      "Exploits: 0.8221\n",
      "Fuzzers: 0.7032\n",
      "Generic: 0.9835\n",
      "Normal: 0.9987\n",
      "Reconnaissance: 0.7723\n",
      "Shellcode: 0.7688\n",
      "Worms: 0.0244\n"
     ]
    }
   ],
   "source": [
    "accuracy_per_label = {}\n",
    "for i, label in enumerate(label_encoder.classes_):\n",
    "    true_label_indices = np.where(y_test == i)[0]\n",
    "    y_pred_for_label = y_pred[true_label_indices]\n",
    "    correct = np.sum(y_pred_for_label == i)\n",
    "    total = len(true_label_indices)\n",
    "    accuracy_per_label[label] = correct / total\n",
    "print(\"\\nAccuracy per label:\")\n",
    "for label, acc in accuracy_per_label.items():\n",
    "    print(f\"{label}: {acc:.4f}\")"
   ]
  },
  {
   "cell_type": "code",
   "execution_count": 17,
   "id": "84e42b74",
   "metadata": {},
   "outputs": [
    {
     "data": {
      "text/plain": [
       "['./saved_models/SecondaryMulti.joblib']"
      ]
     },
     "execution_count": 17,
     "metadata": {},
     "output_type": "execute_result"
    }
   ],
   "source": [
    "model_filename = './saved_models/SecondaryMulti.joblib'\n",
    "joblib.dump(rf, model_filename)"
   ]
  }
 ],
 "metadata": {
  "kernelspec": {
   "display_name": "conda12",
   "language": "python",
   "name": "python3"
  },
  "language_info": {
   "codemirror_mode": {
    "name": "ipython",
    "version": 3
   },
   "file_extension": ".py",
   "mimetype": "text/x-python",
   "name": "python",
   "nbconvert_exporter": "python",
   "pygments_lexer": "ipython3",
   "version": "3.12.9"
  }
 },
 "nbformat": 4,
 "nbformat_minor": 5
}
