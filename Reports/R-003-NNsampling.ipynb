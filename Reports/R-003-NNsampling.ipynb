{
 "cells": [
  {
   "cell_type": "markdown",
   "metadata": {},
   "source": [
    "Comparing Upampling and Downsampling Techniques with NN Module. Note: The tqdm progress bars may not actually reflect the number of iterations due to the change after."
   ]
  },
  {
   "cell_type": "code",
   "execution_count": 4,
   "metadata": {},
   "outputs": [],
   "source": [
    "import pandas as pd\n",
    "import numpy as np\n",
    "from sklearn.preprocessing import OneHotEncoder, LabelEncoder, StandardScaler, MinMaxScaler\n",
    "import seaborn as sns\n",
    "import matplotlib.pyplot as plt\n",
    "from sklearn.utils.class_weight import compute_class_weight\n",
    "import shap\n",
    "from sklearn.metrics import accuracy_score, classification_report, confusion_matrix, f1_score, precision_score, recall_score\n",
    "from sklearn.ensemble import RandomForestClassifier\n",
    "from sklearn.model_selection import train_test_split\n",
    "import shap\n",
    "from explainerdashboard import ExplainerDashboard, ClassifierExplainer\n",
    "import torch\n",
    "from torch.utils.data import DataLoader, TensorDataset\n",
    "import torch.nn as nn\n",
    "import torch.optim as optim\n",
    "import captum.attr as c\n",
    "import time\n",
    "from sklearn.metrics import accuracy_score, f1_score\n",
    "from tqdm import tqdm\n",
    "import os\n",
    "from imblearn.over_sampling import SMOTE\n",
    "from imblearn.under_sampling import TomekLinks\n",
    "from imblearn.under_sampling import EditedNearestNeighbours\n",
    "from imblearn.under_sampling import NearMiss"
   ]
  },
  {
   "cell_type": "code",
   "execution_count": 5,
   "metadata": {},
   "outputs": [],
   "source": [
    "def plot_metrics(train, val, epochs, title):\n",
    "    \"\"\"\n",
    "    Plot the training, validation, and test metrics.\n",
    "\n",
    "    Parameters:\n",
    "        - train_loss (list): Training metric.\n",
    "        - val_loss (list): Validation metric.\n",
    "        - test_loss (list): Test tmetric.\n",
    "        - epochs (int): The number of epochs.\n",
    "        - title (string): The title of the plot (imputes the category with type of plot).\n",
    "    \"\"\"\n",
    "\n",
    "    sns.set_theme(style=\"whitegrid\", palette=\"pastel\")\n",
    "    plt.figure(figsize=(6, 4))\n",
    "    plt.plot(range(1, epochs + 1), train, label='Training', color=sns.color_palette(\"pastel\")[0])\n",
    "    plt.plot(range(1, epochs + 1), val, label='Validation', color=sns.color_palette(\"pastel\")[1])\n",
    "    plt.xlabel('Epochs')\n",
    "    plt.ylabel(f\"{title}\")\n",
    "    plt.title(f\"{title}\")\n",
    "    plt.legend()\n",
    "    plt.ylim(bottom=0)\n",
    "    plt.show()"
   ]
  },
  {
   "cell_type": "code",
   "execution_count": 6,
   "metadata": {},
   "outputs": [],
   "source": [
    "def plot_confusion_matrix(actual_labels, predicted_labels):\n",
    "    \"\"\"\n",
    "    Plot confusion matrix with labels.\n",
    "    \"\"\"\n",
    "    cm = confusion_matrix(actual_labels, predicted_labels)\n",
    "    plt.figure(figsize=(8, 6))\n",
    "    sns.heatmap(cm, annot=True, fmt='d', cmap='Blues', xticklabels=['Negative', 'Positive'], yticklabels=['Negative', 'Positive'])\n",
    "    plt.xlabel('Predicted')\n",
    "    plt.ylabel('Actual')\n",
    "    plt.title('Confusion Matrix')\n",
    "    plt.show()"
   ]
  },
  {
   "cell_type": "code",
   "execution_count": 7,
   "metadata": {},
   "outputs": [
    {
     "name": "stderr",
     "output_type": "stream",
     "text": [
      "C:\\Users\\adi_s\\AppData\\Local\\Temp\\ipykernel_17228\\2584280520.py:1: DtypeWarning: Columns (1,3) have mixed types. Specify dtype option on import or set low_memory=False.\n"
     ]
    }
   ],
   "source": [
    "data = pd.read_csv('Cleaned_full_data.csv')"
   ]
  },
  {
   "cell_type": "code",
   "execution_count": 8,
   "metadata": {},
   "outputs": [],
   "source": [
    "# Reset retained index.\n",
    "data = data.reset_index(drop=True)\n",
    "# Set NA to 0.\n",
    "data['ct_ftp_cmd'] = data['ct_ftp_cmd'].fillna(0)\n",
    "data['attack_cat'] = data['attack_cat'].str.replace(r'\\s+', '', regex=True)\n",
    "data['attack_cat'] = data['attack_cat'].str.replace('Backdoors', 'Backdoor')"
   ]
  },
  {
   "cell_type": "code",
   "execution_count": 9,
   "metadata": {},
   "outputs": [],
   "source": [
    "data = data.drop(columns=['proto', 'dsport', 'service', 'state', 'srcip', 'sport', 'dstip'])"
   ]
  },
  {
   "cell_type": "code",
   "execution_count": 10,
   "metadata": {},
   "outputs": [],
   "source": [
    "temp = data[['is_ftp_login', 'is_sm_ips_ports', 'label', 'attack_cat']]\n",
    "data = data.drop(columns=['is_ftp_login', 'is_sm_ips_ports', 'label', 'attack_cat'])"
   ]
  },
  {
   "cell_type": "code",
   "execution_count": 11,
   "metadata": {},
   "outputs": [],
   "source": [
    "ohe1 = pd.read_csv('Full_proto_encoded.csv')\n",
    "ohe2 = pd.read_csv('Full_dsport_encoded.csv')\n",
    "ohe3 = pd.read_csv('Full_service_encoded.csv')\n",
    "ohe4 = pd.read_csv('Full_state_encoded.csv')\n",
    "# Spelling error.\n",
    "ohe5 = pd.read_csv('Full_scrip_encoded.csv')\n",
    "#------------------------------------------#\n",
    "ohe6 = pd.read_csv('Full_sport_encoded.csv')\n",
    "ohe7 = pd.read_csv('Full_dstip_encoded.csv')"
   ]
  },
  {
   "cell_type": "code",
   "execution_count": 12,
   "metadata": {},
   "outputs": [],
   "source": [
    "# MinMax seperates Normal data well and reduces noise. Please see Kmeans TSNE evaluation in Archive.\n",
    "scaler = MinMaxScaler()\n",
    "scaled_data = scaler.fit_transform(data)\n",
    "data = pd.DataFrame(scaled_data, columns=data.columns)\n",
    "data = pd.concat([data, temp, ohe1, ohe2, ohe3, ohe4, ohe5, ohe6, ohe7], axis=1)"
   ]
  },
  {
   "cell_type": "code",
   "execution_count": 13,
   "metadata": {},
   "outputs": [
    {
     "name": "stdout",
     "output_type": "stream",
     "text": [
      "label\n",
      "0    443831\n",
      "1     64179\n",
      "Name: count, dtype: int64\n"
     ]
    }
   ],
   "source": [
    "X_train, X_test, y_train, y_test = train_test_split(data, data['label'], test_size=0.2, random_state=42)\n",
    "# Drop attack cat before running model and store for later evaluation indexing.\n",
    "test_attack_cat = X_test['attack_cat']\n",
    "print(X_test['label'].value_counts())\n",
    "X_train = X_train.drop(columns=['attack_cat', 'label'])\n",
    "X_test = X_test.drop(columns=['attack_cat', 'label'])"
   ]
  },
  {
   "cell_type": "code",
   "execution_count": 14,
   "metadata": {},
   "outputs": [],
   "source": [
    "# Prepare batches.\n",
    "batch_size = 128\n",
    "X_train_tensor = torch.tensor(X_train.values, dtype=torch.float32)\n",
    "X_test_tensor = torch.tensor(X_test.values, dtype=torch.float32)\n",
    "y_train_tensor = torch.tensor(y_train.values, dtype=torch.float32)\n",
    "y_test_tensor = torch.tensor(y_test, dtype=torch.float32)\n",
    "train_dataset = TensorDataset(X_train_tensor, y_train_tensor)\n",
    "test_dataset = TensorDataset(X_test_tensor, y_test_tensor)\n",
    "train_loader = DataLoader(train_dataset, batch_size=batch_size, shuffle=True)\n",
    "test_loader = DataLoader(test_dataset, batch_size=batch_size, shuffle=False)"
   ]
  },
  {
   "cell_type": "code",
   "execution_count": null,
   "metadata": {},
   "outputs": [
    {
     "name": "stderr",
     "output_type": "stream",
     "text": [
      "Epoch 1/20: 100%|██████████| 15876/15876 [03:43<00:00, 70.89batch/s]\n"
     ]
    },
    {
     "name": "stdout",
     "output_type": "stream",
     "text": [
      "Epoch [1/20], Train Loss: 0.5084, Train Accuracy: 0.9914, Train F1: 0.9914\n"
     ]
    },
    {
     "name": "stderr",
     "output_type": "stream",
     "text": [
      "Epoch 2/20:  84%|████████▍ | 13375/15876 [03:00<00:32, 76.90batch/s]"
     ]
    },
    {
     "name": "stdout",
     "output_type": "stream",
     "text": [
      "Error running SMOTE.\n"
     ]
    },
    {
     "name": "stderr",
     "output_type": "stream",
     "text": [
      "Epoch 2/20: 100%|██████████| 15876/15876 [03:34<00:00, 74.10batch/s]\n"
     ]
    },
    {
     "name": "stdout",
     "output_type": "stream",
     "text": [
      "Epoch [2/20], Train Loss: 0.5082, Train Accuracy: 0.9915, Train F1: 0.9915\n"
     ]
    },
    {
     "name": "stderr",
     "output_type": "stream",
     "text": [
      "Epoch 3/20: 100%|██████████| 15876/15876 [03:44<00:00, 70.79batch/s]\n"
     ]
    },
    {
     "name": "stdout",
     "output_type": "stream",
     "text": [
      "Epoch [3/20], Train Loss: 0.5078, Train Accuracy: 0.9924, Train F1: 0.9924\n"
     ]
    },
    {
     "name": "stderr",
     "output_type": "stream",
     "text": [
      "Epoch 4/20:  55%|█████▍    | 8691/15876 [02:03<01:41, 70.86batch/s]"
     ]
    },
    {
     "name": "stdout",
     "output_type": "stream",
     "text": [
      "Error running SMOTE.\n"
     ]
    },
    {
     "name": "stderr",
     "output_type": "stream",
     "text": [
      "Epoch 4/20: 100%|██████████| 15876/15876 [03:46<00:00, 69.95batch/s]\n"
     ]
    },
    {
     "name": "stdout",
     "output_type": "stream",
     "text": [
      "Epoch [4/20], Train Loss: 0.5077, Train Accuracy: 0.9927, Train F1: 0.9927\n"
     ]
    },
    {
     "name": "stderr",
     "output_type": "stream",
     "text": [
      "Epoch 5/20:  47%|████▋     | 7401/15876 [01:42<01:52, 75.62batch/s]"
     ]
    },
    {
     "name": "stdout",
     "output_type": "stream",
     "text": [
      "Error running SMOTE.\n"
     ]
    },
    {
     "name": "stderr",
     "output_type": "stream",
     "text": [
      "Epoch 5/20: 100%|██████████| 15876/15876 [03:36<00:00, 73.18batch/s]\n"
     ]
    },
    {
     "name": "stdout",
     "output_type": "stream",
     "text": [
      "Epoch [5/20], Train Loss: 0.5077, Train Accuracy: 0.9927, Train F1: 0.9927\n"
     ]
    },
    {
     "name": "stderr",
     "output_type": "stream",
     "text": [
      "Epoch 6/20: 100%|██████████| 15876/15876 [03:36<00:00, 73.34batch/s]\n"
     ]
    },
    {
     "name": "stdout",
     "output_type": "stream",
     "text": [
      "Epoch [6/20], Train Loss: 0.5075, Train Accuracy: 0.9930, Train F1: 0.9930\n"
     ]
    },
    {
     "name": "stderr",
     "output_type": "stream",
     "text": [
      "Epoch 7/20: 100%|██████████| 15876/15876 [03:32<00:00, 74.61batch/s]\n"
     ]
    },
    {
     "name": "stdout",
     "output_type": "stream",
     "text": [
      "Epoch [7/20], Train Loss: 0.5076, Train Accuracy: 0.9928, Train F1: 0.9928\n"
     ]
    },
    {
     "name": "stderr",
     "output_type": "stream",
     "text": [
      "Epoch 8/20: 100%|██████████| 15876/15876 [03:32<00:00, 74.78batch/s]\n"
     ]
    },
    {
     "name": "stdout",
     "output_type": "stream",
     "text": [
      "Epoch [8/20], Train Loss: 0.5078, Train Accuracy: 0.9924, Train F1: 0.9924\n"
     ]
    },
    {
     "name": "stderr",
     "output_type": "stream",
     "text": [
      "Epoch 9/20:  36%|███▌      | 5755/15876 [01:16<02:11, 76.88batch/s]"
     ]
    },
    {
     "name": "stdout",
     "output_type": "stream",
     "text": [
      "Error running SMOTE.\n"
     ]
    },
    {
     "name": "stderr",
     "output_type": "stream",
     "text": [
      "Epoch 9/20: 100%|██████████| 15876/15876 [03:32<00:00, 74.71batch/s]\n"
     ]
    },
    {
     "name": "stdout",
     "output_type": "stream",
     "text": [
      "Epoch [9/20], Train Loss: 0.5077, Train Accuracy: 0.9928, Train F1: 0.9928\n"
     ]
    },
    {
     "name": "stderr",
     "output_type": "stream",
     "text": [
      "Epoch 10/20: 100%|██████████| 15876/15876 [03:33<00:00, 74.49batch/s]\n"
     ]
    },
    {
     "name": "stdout",
     "output_type": "stream",
     "text": [
      "Error running SMOTE.\n",
      "Epoch [10/20], Train Loss: 0.5077, Train Accuracy: 0.9928, Train F1: 0.9928\n"
     ]
    },
    {
     "name": "stderr",
     "output_type": "stream",
     "text": [
      "Epoch 11/20:  41%|████▏     | 6559/15876 [01:27<02:01, 76.62batch/s]"
     ]
    },
    {
     "name": "stdout",
     "output_type": "stream",
     "text": [
      "Error running SMOTE.\n"
     ]
    },
    {
     "name": "stderr",
     "output_type": "stream",
     "text": [
      "Epoch 11/20: 100%|██████████| 15876/15876 [03:32<00:00, 74.87batch/s]\n"
     ]
    },
    {
     "name": "stdout",
     "output_type": "stream",
     "text": [
      "Epoch [11/20], Train Loss: 0.5077, Train Accuracy: 0.9928, Train F1: 0.9928\n"
     ]
    },
    {
     "name": "stderr",
     "output_type": "stream",
     "text": [
      "Epoch 12/20:  39%|███▉      | 6254/15876 [01:24<02:01, 79.46batch/s]"
     ]
    },
    {
     "name": "stdout",
     "output_type": "stream",
     "text": [
      "Error running SMOTE.\n"
     ]
    },
    {
     "name": "stderr",
     "output_type": "stream",
     "text": [
      "Epoch 12/20: 100%|██████████| 15876/15876 [03:33<00:00, 74.34batch/s]\n"
     ]
    },
    {
     "name": "stdout",
     "output_type": "stream",
     "text": [
      "Epoch [12/20], Train Loss: 0.5078, Train Accuracy: 0.9926, Train F1: 0.9926\n"
     ]
    },
    {
     "name": "stderr",
     "output_type": "stream",
     "text": [
      "Epoch 13/20: 100%|██████████| 15876/15876 [03:33<00:00, 74.34batch/s]\n"
     ]
    },
    {
     "name": "stdout",
     "output_type": "stream",
     "text": [
      "Epoch [13/20], Train Loss: 0.5079, Train Accuracy: 0.9924, Train F1: 0.9924\n"
     ]
    },
    {
     "name": "stderr",
     "output_type": "stream",
     "text": [
      "Epoch 14/20: 100%|██████████| 15876/15876 [03:34<00:00, 74.17batch/s]\n"
     ]
    },
    {
     "name": "stdout",
     "output_type": "stream",
     "text": [
      "Error running SMOTE.\n",
      "Epoch [14/20], Train Loss: 0.5079, Train Accuracy: 0.9924, Train F1: 0.9924\n"
     ]
    },
    {
     "name": "stderr",
     "output_type": "stream",
     "text": [
      "Epoch 15/20: 100%|██████████| 15876/15876 [03:33<00:00, 74.48batch/s]\n"
     ]
    },
    {
     "name": "stdout",
     "output_type": "stream",
     "text": [
      "Epoch [15/20], Train Loss: 0.5079, Train Accuracy: 0.9924, Train F1: 0.9924\n"
     ]
    },
    {
     "name": "stderr",
     "output_type": "stream",
     "text": [
      "Epoch 16/20: 100%|██████████| 15876/15876 [03:32<00:00, 74.62batch/s]\n"
     ]
    },
    {
     "name": "stdout",
     "output_type": "stream",
     "text": [
      "Epoch [16/20], Train Loss: 0.5079, Train Accuracy: 0.9924, Train F1: 0.9924\n"
     ]
    },
    {
     "name": "stderr",
     "output_type": "stream",
     "text": [
      "Epoch 17/20: 100%|██████████| 15876/15876 [03:32<00:00, 74.58batch/s]\n"
     ]
    },
    {
     "name": "stdout",
     "output_type": "stream",
     "text": [
      "Error running SMOTE.\n",
      "Epoch [17/20], Train Loss: 0.5079, Train Accuracy: 0.9924, Train F1: 0.9924\n"
     ]
    },
    {
     "name": "stderr",
     "output_type": "stream",
     "text": [
      "Epoch 18/20: 100%|██████████| 15876/15876 [03:35<00:00, 73.80batch/s]\n"
     ]
    },
    {
     "name": "stdout",
     "output_type": "stream",
     "text": [
      "Epoch [18/20], Train Loss: 0.5079, Train Accuracy: 0.9924, Train F1: 0.9924\n"
     ]
    },
    {
     "name": "stderr",
     "output_type": "stream",
     "text": [
      "Epoch 19/20:  35%|███▌      | 5595/15876 [01:14<02:20, 73.40batch/s]"
     ]
    },
    {
     "name": "stdout",
     "output_type": "stream",
     "text": [
      "Error running SMOTE.\n"
     ]
    },
    {
     "name": "stderr",
     "output_type": "stream",
     "text": [
      "Epoch 19/20: 100%|██████████| 15876/15876 [03:32<00:00, 74.73batch/s]\n"
     ]
    },
    {
     "name": "stdout",
     "output_type": "stream",
     "text": [
      "Epoch [19/20], Train Loss: 0.5079, Train Accuracy: 0.9924, Train F1: 0.9924\n"
     ]
    },
    {
     "name": "stderr",
     "output_type": "stream",
     "text": [
      "Epoch 20/20: 100%|██████████| 15876/15876 [03:32<00:00, 74.72batch/s]\n"
     ]
    },
    {
     "name": "stdout",
     "output_type": "stream",
     "text": [
      "Epoch [20/20], Train Loss: 0.5079, Train Accuracy: 0.9924, Train F1: 0.9924\n"
     ]
    },
    {
     "name": "stderr",
     "output_type": "stream",
     "text": [
      "Testing: 100%|██████████| 3969/3969 [00:10<00:00, 362.91batch/s]"
     ]
    },
    {
     "name": "stdout",
     "output_type": "stream",
     "text": [
      "Test Loss: 0.6533, Test Accuracy: 0.9869, Test F1: 0.9874\n"
     ]
    },
    {
     "name": "stderr",
     "output_type": "stream",
     "text": [
      "\n"
     ]
    }
   ],
   "source": [
    "class NNsmote(nn.Module):\n",
    "    \"\"\"\n",
    "    SMOTE\n",
    "    \"\"\"\n",
    "    def __init__(self, n_features, fc_size, device, save_dir, name):\n",
    "        super(NNsmote, self).__init__()\n",
    "        self.name = name\n",
    "        self.device = device\n",
    "        self.save_dir = save_dir\n",
    "        self.fc1 = nn.Linear(n_features, fc_size)\n",
    "        self.fc2 = nn.Linear(fc_size, 1)\n",
    "        # Seleect initial activation.\n",
    "        self.activation1 = nn.ReLU()\n",
    "        # Final activation for output.\n",
    "        self.sigmoid = nn.Sigmoid()\n",
    "        self.to(self.device)\n",
    "\n",
    "        # To store metrics.\n",
    "        self.train_loss = []\n",
    "        self.train_accuracy = []\n",
    "        self.train_f1 = []\n",
    "        self.test_accuracy = None\n",
    "        self.test_loss = None\n",
    "        self.test_f1 = None\n",
    "        self.test_predicted = []\n",
    "        self.epoch_time = []\n",
    "\n",
    "    def forward(self, x):\n",
    "        \"\"\"\n",
    "        Forward pass for the Fully Connected model.\n",
    "        \"\"\"\n",
    "        x = self.activation1(self.fc1(x))\n",
    "        x = self.fc2(x)\n",
    "        output = self.sigmoid(x)\n",
    "        return output\n",
    "\n",
    "    def calculate_accuracy_f1(self, predictions, labels):\n",
    "        \"\"\"\n",
    "        Calculate accuracy and F1 score.\n",
    "        \"\"\"\n",
    "        preds = (predictions > 0.5).float()\n",
    "        accuracy = accuracy_score(labels.cpu(), preds.cpu())\n",
    "        f1 = f1_score(labels.cpu(), preds.cpu(), average='weighted')\n",
    "        return accuracy, f1\n",
    "\n",
    "    def run(self, train_loader, criterion, optimizer, epochs, save_factor):\n",
    "        \"\"\"\n",
    "        Train the model.\n",
    "        \"\"\"\n",
    "        for epoch in range(epochs):\n",
    "            start_time = time.time()\n",
    "            self.train()\n",
    "            epoch_loss = 0\n",
    "            epoch_accuracy = 0\n",
    "            epoch_f1 = 0\n",
    "            num_batches = len(train_loader)\n",
    "\n",
    "            for batch_idx, (train_seq, train_label) in tqdm(enumerate(train_loader), total=num_batches, desc=f\"Epoch {epoch+1}/{epochs}\", unit=\"batch\"):\n",
    "                train_seq, train_label = train_seq.to(self.device), train_label.to(self.device)\n",
    "                batch_size = len(train_seq)\n",
    "                # Set neighbours to number as batch size.\n",
    "                smote_neighbors = min(batch_size, 2)\n",
    "                # When batching the last list is usually inconsistent with the rest.\n",
    "                if batch_size > 1:\n",
    "                    try:\n",
    "                        smote = SMOTE(random_state=42, k_neighbors=smote_neighbors)\n",
    "                        train_smote, train_label_smote = smote.fit_resample(train_seq.cpu().numpy(), train_label.cpu().numpy())\n",
    "                        train_smote = torch.tensor(train_smote, dtype=torch.float32).to(self.device)\n",
    "                        train_label_smote = torch.tensor(train_label_smote, dtype=torch.float32).to(self.device)\n",
    "                    # Occurs from inconsistences in list length.\n",
    "                    except ValueError as e:\n",
    "                        print('Error running SMOTE.')\n",
    "                        train_smote, train_label_smote = train_seq, train_label\n",
    "                else:\n",
    "                    train_smote, train_label_smote = train_seq, train_label\n",
    "\n",
    "                optimizer.zero_grad()\n",
    "\n",
    "                # Forward pass\n",
    "                outputs = self(train_smote)\n",
    "\n",
    "                loss = criterion(outputs.squeeze(), train_label_smote)\n",
    "                loss.backward()\n",
    "                optimizer.step()\n",
    "\n",
    "                train_accuracy, train_f1 = self.calculate_accuracy_f1(outputs, train_label_smote)\n",
    "                epoch_loss += loss.item()\n",
    "                epoch_accuracy += train_accuracy\n",
    "                epoch_f1 += train_f1\n",
    "\n",
    "            # Store overall metrics for the epoch.\n",
    "            avg_train_loss = epoch_loss / num_batches\n",
    "            avg_train_accuracy = epoch_accuracy / num_batches\n",
    "            avg_train_f1 = epoch_f1 / num_batches\n",
    "            self.train_loss.append(avg_train_loss)\n",
    "            self.train_accuracy.append(avg_train_accuracy)\n",
    "            self.train_f1.append(avg_train_f1)\n",
    "            self.epoch_time.append(time.time() - start_time)\n",
    "            print(f\"Epoch [{epoch+1}/{epochs}], Train Loss: {avg_train_loss:.4f}, Train Accuracy: {avg_train_accuracy:.4f}, Train F1: {avg_train_f1:.4f}\")\n",
    "\n",
    "            if (epoch + 1) % save_factor == 0:\n",
    "                self.save_model(epoch + 1)\n",
    "\n",
    "    def test(self, test_loader, criterion):\n",
    "        \"\"\"\n",
    "        Test the model.\n",
    "        \"\"\"\n",
    "        self.eval()\n",
    "        test_loss = 0\n",
    "        test_accuracy = 0\n",
    "        test_f1 = 0\n",
    "        num_batches = len(test_loader)\n",
    "        with torch.no_grad():\n",
    "            for test_seq, test_label in tqdm(test_loader, total=num_batches, desc=\"Testing\", unit=\"batch\"):\n",
    "                test_seq, test_label = test_seq.to(self.device), test_label.to(self.device)\n",
    "                # Forward pass\n",
    "                test_outputs = self(test_seq)\n",
    "\n",
    "                loss = criterion(test_outputs.squeeze(), test_label)\n",
    "                accuracy, f1 = self.calculate_accuracy_f1(test_outputs, test_label)\n",
    "                test_loss += loss.item()\n",
    "                test_accuracy += accuracy\n",
    "                test_f1 += f1\n",
    "                preds = (test_outputs > 0.5).float()\n",
    "                self.test_predicted.extend(preds.cpu().numpy())\n",
    "        # Store overall test metrics.\n",
    "        avg_test_loss = test_loss / num_batches\n",
    "        avg_test_accuracy = test_accuracy / num_batches\n",
    "        avg_test_f1 = test_f1 / num_batches\n",
    "        self.test_loss = avg_test_loss\n",
    "        self.test_accuracy = avg_test_accuracy\n",
    "        self.test_f1 = avg_test_f1\n",
    "        print(f\"Test Loss: {self.test_loss:.4f}, Test Accuracy: {self.test_accuracy:.4f}, Test F1: {self.test_f1:.4f}\")\n",
    "\n",
    "    def save_model(self, epoch):\n",
    "        \"\"\"\n",
    "        Save the model state_dict for the given epoch.\n",
    "        \"\"\"\n",
    "        checkpoint_path = os.path.join(self.save_dir, f\"fc_epoch_{epoch}.pt\")\n",
    "        torch.save({\n",
    "            'epoch': epoch,\n",
    "            'model_state_dict': self.state_dict(),\n",
    "        }, checkpoint_path)\n",
    "\n",
    "    def load_model(self, epoch):\n",
    "        \"\"\"\n",
    "        Load a state_dict of a model.\n",
    "        \"\"\"\n",
    "        checkpoint_path = os.path.join(self.save_dir, f\"fc_epoch_{epoch}.pt\")\n",
    "        checkpoint = torch.load(checkpoint_path)\n",
    "        self.load_state_dict(checkpoint['model_state_dict'])\n",
    "\n",
    "device = torch.device(\"cuda\" if torch.cuda.is_available() else \"cpu\")\n",
    "n_features = X_train_tensor.shape[1]\n",
    "fully_connected_size = 64\n",
    "save_dir = \"./saved_models/\"\n",
    "model_name = \"NNsmote\"\n",
    "model1 = NNsmote(n_features=n_features, fc_size=fully_connected_size, device=device, save_dir=save_dir, name=model_name)\n",
    "criterion = nn.BCEWithLogitsLoss()\n",
    "# High learning rate for testing.\n",
    "optimizer = optim.Adam(model1.parameters(), lr=0.1)\n",
    "\n",
    "model1.run(train_loader, criterion, optimizer, epochs=20, save_factor=100)\n",
    "model1.test(test_loader, criterion)"
   ]
  },
  {
   "cell_type": "code",
   "execution_count": 16,
   "metadata": {},
   "outputs": [
    {
     "name": "stderr",
     "output_type": "stream",
     "text": [
      "Epoch 1/20: 100%|██████████| 15876/15876 [03:36<00:00, 73.23batch/s]\n"
     ]
    },
    {
     "name": "stdout",
     "output_type": "stream",
     "text": [
      "Epoch [1/20], Train Loss: 0.6718, Train Accuracy: 0.9297, Train F1: 0.9029\n"
     ]
    },
    {
     "name": "stderr",
     "output_type": "stream",
     "text": [
      "Epoch 2/20: 100%|██████████| 15876/15876 [03:26<00:00, 76.79batch/s]\n"
     ]
    },
    {
     "name": "stdout",
     "output_type": "stream",
     "text": [
      "Epoch [2/20], Train Loss: 0.6527, Train Accuracy: 0.9859, Train F1: 0.9860\n"
     ]
    },
    {
     "name": "stderr",
     "output_type": "stream",
     "text": [
      "Epoch 3/20: 100%|██████████| 15876/15876 [03:33<00:00, 74.43batch/s]\n"
     ]
    },
    {
     "name": "stdout",
     "output_type": "stream",
     "text": [
      "Epoch [3/20], Train Loss: 0.6524, Train Accuracy: 0.9878, Train F1: 0.9883\n"
     ]
    },
    {
     "name": "stderr",
     "output_type": "stream",
     "text": [
      "Epoch 4/20: 100%|██████████| 15876/15876 [03:46<00:00, 70.06batch/s]\n"
     ]
    },
    {
     "name": "stdout",
     "output_type": "stream",
     "text": [
      "Epoch [4/20], Train Loss: 0.6523, Train Accuracy: 0.9880, Train F1: 0.9884\n"
     ]
    },
    {
     "name": "stderr",
     "output_type": "stream",
     "text": [
      "Epoch 5/20: 100%|██████████| 15876/15876 [03:30<00:00, 75.53batch/s]\n"
     ]
    },
    {
     "name": "stdout",
     "output_type": "stream",
     "text": [
      "Epoch [5/20], Train Loss: 0.6524, Train Accuracy: 0.9879, Train F1: 0.9883\n"
     ]
    },
    {
     "name": "stderr",
     "output_type": "stream",
     "text": [
      "Epoch 6/20: 100%|██████████| 15876/15876 [03:25<00:00, 77.21batch/s]\n"
     ]
    },
    {
     "name": "stdout",
     "output_type": "stream",
     "text": [
      "Epoch [6/20], Train Loss: 0.6523, Train Accuracy: 0.9880, Train F1: 0.9884\n"
     ]
    },
    {
     "name": "stderr",
     "output_type": "stream",
     "text": [
      "Epoch 7/20: 100%|██████████| 15876/15876 [03:28<00:00, 76.23batch/s]\n"
     ]
    },
    {
     "name": "stdout",
     "output_type": "stream",
     "text": [
      "Epoch [7/20], Train Loss: 0.6523, Train Accuracy: 0.9880, Train F1: 0.9884\n"
     ]
    },
    {
     "name": "stderr",
     "output_type": "stream",
     "text": [
      "Epoch 8/20: 100%|██████████| 15876/15876 [03:26<00:00, 76.93batch/s]\n"
     ]
    },
    {
     "name": "stdout",
     "output_type": "stream",
     "text": [
      "Epoch [8/20], Train Loss: 0.6524, Train Accuracy: 0.9879, Train F1: 0.9883\n"
     ]
    },
    {
     "name": "stderr",
     "output_type": "stream",
     "text": [
      "Epoch 9/20: 100%|██████████| 15876/15876 [03:25<00:00, 77.26batch/s]\n"
     ]
    },
    {
     "name": "stdout",
     "output_type": "stream",
     "text": [
      "Epoch [9/20], Train Loss: 0.6523, Train Accuracy: 0.9880, Train F1: 0.9884\n"
     ]
    },
    {
     "name": "stderr",
     "output_type": "stream",
     "text": [
      "Epoch 10/20: 100%|██████████| 15876/15876 [03:25<00:00, 77.31batch/s]\n"
     ]
    },
    {
     "name": "stdout",
     "output_type": "stream",
     "text": [
      "Epoch [10/20], Train Loss: 0.6523, Train Accuracy: 0.9880, Train F1: 0.9884\n"
     ]
    },
    {
     "name": "stderr",
     "output_type": "stream",
     "text": [
      "Epoch 11/20: 100%|██████████| 15876/15876 [03:28<00:00, 76.19batch/s]\n"
     ]
    },
    {
     "name": "stdout",
     "output_type": "stream",
     "text": [
      "Epoch [11/20], Train Loss: 0.6523, Train Accuracy: 0.9880, Train F1: 0.9884\n"
     ]
    },
    {
     "name": "stderr",
     "output_type": "stream",
     "text": [
      "Epoch 12/20: 100%|██████████| 15876/15876 [03:29<00:00, 75.91batch/s]\n"
     ]
    },
    {
     "name": "stdout",
     "output_type": "stream",
     "text": [
      "Epoch [12/20], Train Loss: 0.6523, Train Accuracy: 0.9879, Train F1: 0.9884\n"
     ]
    },
    {
     "name": "stderr",
     "output_type": "stream",
     "text": [
      "Epoch 13/20: 100%|██████████| 15876/15876 [03:27<00:00, 76.57batch/s]\n"
     ]
    },
    {
     "name": "stdout",
     "output_type": "stream",
     "text": [
      "Epoch [13/20], Train Loss: 0.6523, Train Accuracy: 0.9879, Train F1: 0.9884\n"
     ]
    },
    {
     "name": "stderr",
     "output_type": "stream",
     "text": [
      "Epoch 14/20: 100%|██████████| 15876/15876 [03:27<00:00, 76.55batch/s]\n"
     ]
    },
    {
     "name": "stdout",
     "output_type": "stream",
     "text": [
      "Epoch [14/20], Train Loss: 0.6523, Train Accuracy: 0.9880, Train F1: 0.9884\n"
     ]
    },
    {
     "name": "stderr",
     "output_type": "stream",
     "text": [
      "Epoch 15/20: 100%|██████████| 15876/15876 [03:27<00:00, 76.68batch/s]\n"
     ]
    },
    {
     "name": "stdout",
     "output_type": "stream",
     "text": [
      "Epoch [15/20], Train Loss: 0.6523, Train Accuracy: 0.9880, Train F1: 0.9884\n"
     ]
    },
    {
     "name": "stderr",
     "output_type": "stream",
     "text": [
      "Epoch 16/20: 100%|██████████| 15876/15876 [03:27<00:00, 76.48batch/s]\n"
     ]
    },
    {
     "name": "stdout",
     "output_type": "stream",
     "text": [
      "Epoch [16/20], Train Loss: 0.6523, Train Accuracy: 0.9880, Train F1: 0.9884\n"
     ]
    },
    {
     "name": "stderr",
     "output_type": "stream",
     "text": [
      "Epoch 17/20: 100%|██████████| 15876/15876 [03:28<00:00, 76.08batch/s]\n"
     ]
    },
    {
     "name": "stdout",
     "output_type": "stream",
     "text": [
      "Epoch [17/20], Train Loss: 0.6523, Train Accuracy: 0.9880, Train F1: 0.9885\n"
     ]
    },
    {
     "name": "stderr",
     "output_type": "stream",
     "text": [
      "Epoch 18/20: 100%|██████████| 15876/15876 [03:28<00:00, 76.11batch/s]\n"
     ]
    },
    {
     "name": "stdout",
     "output_type": "stream",
     "text": [
      "Epoch [18/20], Train Loss: 0.6523, Train Accuracy: 0.9879, Train F1: 0.9883\n"
     ]
    },
    {
     "name": "stderr",
     "output_type": "stream",
     "text": [
      "Epoch 19/20: 100%|██████████| 15876/15876 [03:46<00:00, 70.13batch/s]\n"
     ]
    },
    {
     "name": "stdout",
     "output_type": "stream",
     "text": [
      "Epoch [19/20], Train Loss: 0.6524, Train Accuracy: 0.9879, Train F1: 0.9883\n"
     ]
    },
    {
     "name": "stderr",
     "output_type": "stream",
     "text": [
      "Epoch 20/20: 100%|██████████| 15876/15876 [04:14<00:00, 62.40batch/s]\n"
     ]
    },
    {
     "name": "stdout",
     "output_type": "stream",
     "text": [
      "Epoch [20/20], Train Loss: 0.6523, Train Accuracy: 0.9880, Train F1: 0.9884\n"
     ]
    },
    {
     "name": "stderr",
     "output_type": "stream",
     "text": [
      "Testing: 100%|██████████| 3969/3969 [00:16<00:00, 235.85batch/s]"
     ]
    },
    {
     "name": "stdout",
     "output_type": "stream",
     "text": [
      "Test Loss: 0.6550, Test Accuracy: 0.9841, Test F1: 0.9847\n"
     ]
    },
    {
     "name": "stderr",
     "output_type": "stream",
     "text": [
      "\n"
     ]
    }
   ],
   "source": [
    "class NNtomeks(nn.Module):\n",
    "    \"\"\"\n",
    "    BinaryFC: Tomeks L\n",
    "    \"\"\"\n",
    "    def __init__(self, n_features, fc_size, device, save_dir, name):\n",
    "        super(NNtomeks, self).__init__()\n",
    "        self.name = name\n",
    "        self.device = device\n",
    "        self.save_dir = save_dir\n",
    "        self.fc1 = nn.Linear(n_features, fc_size)\n",
    "        self.fc2 = nn.Linear(fc_size, 1)\n",
    "        self.activation1 = nn.ReLU()\n",
    "        self.sigmoid = nn.Sigmoid()\n",
    "        self.to(self.device)\n",
    "\n",
    "        self.train_loss = []\n",
    "        self.train_accuracy = []\n",
    "        self.train_f1 = []\n",
    "        self.test_accuracy = None\n",
    "        self.test_loss = None\n",
    "        self.test_f1 = None\n",
    "        self.test_predicted = []\n",
    "        self.epoch_time = []\n",
    "\n",
    "    def forward(self, x):\n",
    "        x = self.activation1(self.fc1(x))\n",
    "        x = self.fc2(x)\n",
    "        output = self.sigmoid(x)\n",
    "        return output\n",
    "\n",
    "    def calculate_accuracy_f1(self, predictions, labels):\n",
    "        preds = (predictions > 0.5).float()\n",
    "        accuracy = accuracy_score(labels.cpu(), preds.cpu())\n",
    "        f1 = f1_score(labels.cpu(), preds.cpu(), average='weighted')\n",
    "        return accuracy, f1\n",
    "\n",
    "    def run(self, train_loader, criterion, optimizer, epochs, save_factor):\n",
    "        tl = TomekLinks()\n",
    "\n",
    "        for epoch in range(epochs):\n",
    "            start_time = time.time()\n",
    "            self.train()\n",
    "            epoch_loss = 0\n",
    "            epoch_accuracy = 0\n",
    "            epoch_f1 = 0\n",
    "            num_batches = len(train_loader)\n",
    "\n",
    "            for batch_idx, (train_seq, train_label) in tqdm(enumerate(train_loader), total=num_batches, desc=f\"Epoch {epoch+1}/{epochs}\", unit=\"batch\"):\n",
    "                train_seq, train_label = train_seq.to(self.device), train_label.to(self.device)\n",
    "                batch_size = len(train_seq)\n",
    "                if batch_size > 1:\n",
    "                    try:\n",
    "                        train_seq_np, train_label_np = train_seq.cpu().numpy(), train_label.cpu().numpy()\n",
    "                        X_resampled_tl, y_resampled_tl = tl.fit_resample(train_seq_np, train_label_np)\n",
    "                        train_seq = torch.tensor(X_resampled_tl, dtype=torch.float32).to(self.device)\n",
    "                        train_label = torch.tensor(y_resampled_tl, dtype=torch.float32).to(self.device)\n",
    "                    except ValueError as e:\n",
    "                        print('Error applying Tomek Links.')\n",
    "                        train_seq, train_label = train_seq, train_label\n",
    "\n",
    "                optimizer.zero_grad()\n",
    "\n",
    "                # Forward pass\n",
    "                outputs = self(train_seq)\n",
    "\n",
    "                loss = criterion(outputs.squeeze(), train_label)\n",
    "                loss.backward()\n",
    "                optimizer.step()\n",
    "\n",
    "                train_accuracy, train_f1 = self.calculate_accuracy_f1(outputs, train_label)\n",
    "                epoch_loss += loss.item()\n",
    "                epoch_accuracy += train_accuracy\n",
    "                epoch_f1 += train_f1\n",
    "\n",
    "            # Store overall metrics for the epoch\n",
    "            avg_train_loss = epoch_loss / num_batches\n",
    "            avg_train_accuracy = epoch_accuracy / num_batches\n",
    "            avg_train_f1 = epoch_f1 / num_batches\n",
    "            self.train_loss.append(avg_train_loss)\n",
    "            self.train_accuracy.append(avg_train_accuracy)\n",
    "            self.train_f1.append(avg_train_f1)\n",
    "            self.epoch_time.append(time.time() - start_time)\n",
    "            print(f\"Epoch [{epoch+1}/{epochs}], Train Loss: {avg_train_loss:.4f}, Train Accuracy: {avg_train_accuracy:.4f}, Train F1: {avg_train_f1:.4f}\")\n",
    "\n",
    "            if (epoch + 1) % save_factor == 0:\n",
    "                self.save_model(epoch + 1)\n",
    "\n",
    "    def test(self, test_loader, criterion):\n",
    "        self.eval()\n",
    "        test_loss = 0\n",
    "        test_accuracy = 0\n",
    "        test_f1 = 0\n",
    "        num_batches = len(test_loader)\n",
    "        with torch.no_grad():\n",
    "            for test_seq, test_label in tqdm(test_loader, total=num_batches, desc=\"Testing\", unit=\"batch\"):\n",
    "                test_seq, test_label = test_seq.to(self.device), test_label.to(self.device)\n",
    "                test_outputs = self(test_seq)\n",
    "\n",
    "                loss = criterion(test_outputs.squeeze(), test_label)\n",
    "                accuracy, f1 = self.calculate_accuracy_f1(test_outputs, test_label)\n",
    "                test_loss += loss.item()\n",
    "                test_accuracy += accuracy\n",
    "                test_f1 += f1\n",
    "                preds = (test_outputs > 0.5).float()\n",
    "                self.test_predicted.extend(preds.cpu().numpy())\n",
    "\n",
    "        avg_test_loss = test_loss / num_batches\n",
    "        avg_test_accuracy = test_accuracy / num_batches\n",
    "        avg_test_f1 = test_f1 / num_batches\n",
    "        self.test_loss = avg_test_loss\n",
    "        self.test_accuracy = avg_test_accuracy\n",
    "        self.test_f1 = avg_test_f1\n",
    "        print(f\"Test Loss: {self.test_loss:.4f}, Test Accuracy: {self.test_accuracy:.4f}, Test F1: {self.test_f1:.4f}\")\n",
    "\n",
    "    def save_model(self, epoch):\n",
    "        checkpoint_path = os.path.join(self.save_dir, f\"fc_epoch_{epoch}.pt\")\n",
    "        torch.save({\n",
    "            'epoch': epoch,\n",
    "            'model_state_dict': self.state_dict(),\n",
    "        }, checkpoint_path)\n",
    "\n",
    "    def load_model(self, epoch):\n",
    "        checkpoint_path = os.path.join(self.save_dir, f\"fc_epoch_{epoch}.pt\")\n",
    "        checkpoint = torch.load(checkpoint_path)\n",
    "        self.load_state_dict(checkpoint['model_state_dict'])\n",
    "\n",
    "device = torch.device(\"cuda\" if torch.cuda.is_available() else \"cpu\")\n",
    "n_features = X_train_tensor.shape[1]\n",
    "fully_connected_size = 64\n",
    "save_dir = \"./saved_models/\"\n",
    "model_name = \"NNtomeks\"\n",
    "model2 = NNtomeks(n_features=n_features, fc_size=fully_connected_size, device=device, save_dir=save_dir, name=model_name)\n",
    "criterion = nn.BCEWithLogitsLoss()\n",
    "optimizer = optim.Adam(model2.parameters(), lr=0.1)\n",
    "\n",
    "model2.run(train_loader, criterion, optimizer, epochs=20, save_factor=100)\n",
    "model2.test(test_loader, criterion)"
   ]
  },
  {
   "cell_type": "code",
   "execution_count": 17,
   "metadata": {},
   "outputs": [
    {
     "name": "stderr",
     "output_type": "stream",
     "text": [
      "Epoch 1/20: 100%|██████████| 15876/15876 [05:43<00:00, 46.22batch/s]\n"
     ]
    },
    {
     "name": "stdout",
     "output_type": "stream",
     "text": [
      "Epoch [1/20], Train Loss: 0.6472, Train Accuracy: 0.9938, Train F1: 0.9937\n"
     ]
    },
    {
     "name": "stderr",
     "output_type": "stream",
     "text": [
      "Epoch 2/20: 100%|██████████| 15876/15876 [05:40<00:00, 46.62batch/s]\n"
     ]
    },
    {
     "name": "stdout",
     "output_type": "stream",
     "text": [
      "Epoch [2/20], Train Loss: 0.6465, Train Accuracy: 0.9958, Train F1: 0.9958\n"
     ]
    },
    {
     "name": "stderr",
     "output_type": "stream",
     "text": [
      "Epoch 3/20: 100%|██████████| 15876/15876 [05:51<00:00, 45.13batch/s]\n"
     ]
    },
    {
     "name": "stdout",
     "output_type": "stream",
     "text": [
      "Epoch [3/20], Train Loss: 0.6464, Train Accuracy: 0.9959, Train F1: 0.9959\n"
     ]
    },
    {
     "name": "stderr",
     "output_type": "stream",
     "text": [
      "Epoch 4/20: 100%|██████████| 15876/15876 [06:04<00:00, 43.61batch/s]\n"
     ]
    },
    {
     "name": "stdout",
     "output_type": "stream",
     "text": [
      "Epoch [4/20], Train Loss: 0.6464, Train Accuracy: 0.9960, Train F1: 0.9961\n"
     ]
    },
    {
     "name": "stderr",
     "output_type": "stream",
     "text": [
      "Epoch 5/20: 100%|██████████| 15876/15876 [05:27<00:00, 48.51batch/s]\n"
     ]
    },
    {
     "name": "stdout",
     "output_type": "stream",
     "text": [
      "Epoch [5/20], Train Loss: 0.6463, Train Accuracy: 0.9961, Train F1: 0.9962\n"
     ]
    },
    {
     "name": "stderr",
     "output_type": "stream",
     "text": [
      "Epoch 6/20: 100%|██████████| 15876/15876 [05:28<00:00, 48.30batch/s]\n"
     ]
    },
    {
     "name": "stdout",
     "output_type": "stream",
     "text": [
      "Epoch [6/20], Train Loss: 0.6463, Train Accuracy: 0.9964, Train F1: 0.9964\n"
     ]
    },
    {
     "name": "stderr",
     "output_type": "stream",
     "text": [
      "Epoch 7/20: 100%|██████████| 15876/15876 [05:40<00:00, 46.69batch/s]\n"
     ]
    },
    {
     "name": "stdout",
     "output_type": "stream",
     "text": [
      "Epoch [7/20], Train Loss: 0.6462, Train Accuracy: 0.9966, Train F1: 0.9967\n"
     ]
    },
    {
     "name": "stderr",
     "output_type": "stream",
     "text": [
      "Epoch 8/20: 100%|██████████| 15876/15876 [05:57<00:00, 44.36batch/s]\n"
     ]
    },
    {
     "name": "stdout",
     "output_type": "stream",
     "text": [
      "Epoch [8/20], Train Loss: 0.6462, Train Accuracy: 0.9966, Train F1: 0.9967\n"
     ]
    },
    {
     "name": "stderr",
     "output_type": "stream",
     "text": [
      "Epoch 9/20: 100%|██████████| 15876/15876 [03:46<00:00, 70.17batch/s]\n"
     ]
    },
    {
     "name": "stdout",
     "output_type": "stream",
     "text": [
      "Epoch [9/20], Train Loss: 0.6463, Train Accuracy: 0.9962, Train F1: 0.9962\n"
     ]
    },
    {
     "name": "stderr",
     "output_type": "stream",
     "text": [
      "Epoch 10/20: 100%|██████████| 15876/15876 [03:30<00:00, 75.52batch/s]\n"
     ]
    },
    {
     "name": "stdout",
     "output_type": "stream",
     "text": [
      "Epoch [10/20], Train Loss: 0.6464, Train Accuracy: 0.9961, Train F1: 0.9962\n"
     ]
    },
    {
     "name": "stderr",
     "output_type": "stream",
     "text": [
      "Epoch 11/20: 100%|██████████| 15876/15876 [03:27<00:00, 76.42batch/s]\n"
     ]
    },
    {
     "name": "stdout",
     "output_type": "stream",
     "text": [
      "Epoch [11/20], Train Loss: 0.6463, Train Accuracy: 0.9964, Train F1: 0.9965\n"
     ]
    },
    {
     "name": "stderr",
     "output_type": "stream",
     "text": [
      "Epoch 12/20: 100%|██████████| 15876/15876 [03:28<00:00, 76.10batch/s]\n"
     ]
    },
    {
     "name": "stdout",
     "output_type": "stream",
     "text": [
      "Epoch [12/20], Train Loss: 0.6463, Train Accuracy: 0.9963, Train F1: 0.9964\n"
     ]
    },
    {
     "name": "stderr",
     "output_type": "stream",
     "text": [
      "Epoch 13/20: 100%|██████████| 15876/15876 [03:26<00:00, 76.87batch/s]\n"
     ]
    },
    {
     "name": "stdout",
     "output_type": "stream",
     "text": [
      "Epoch [13/20], Train Loss: 0.6462, Train Accuracy: 0.9966, Train F1: 0.9967\n"
     ]
    },
    {
     "name": "stderr",
     "output_type": "stream",
     "text": [
      "Epoch 14/20: 100%|██████████| 15876/15876 [03:26<00:00, 76.97batch/s]\n"
     ]
    },
    {
     "name": "stdout",
     "output_type": "stream",
     "text": [
      "Epoch [14/20], Train Loss: 0.6463, Train Accuracy: 0.9964, Train F1: 0.9965\n"
     ]
    },
    {
     "name": "stderr",
     "output_type": "stream",
     "text": [
      "Epoch 15/20: 100%|██████████| 15876/15876 [03:26<00:00, 76.94batch/s]\n"
     ]
    },
    {
     "name": "stdout",
     "output_type": "stream",
     "text": [
      "Epoch [15/20], Train Loss: 0.6462, Train Accuracy: 0.9965, Train F1: 0.9966\n"
     ]
    },
    {
     "name": "stderr",
     "output_type": "stream",
     "text": [
      "Epoch 16/20: 100%|██████████| 15876/15876 [03:39<00:00, 72.35batch/s]\n"
     ]
    },
    {
     "name": "stdout",
     "output_type": "stream",
     "text": [
      "Epoch [16/20], Train Loss: 0.6464, Train Accuracy: 0.9958, Train F1: 0.9958\n"
     ]
    },
    {
     "name": "stderr",
     "output_type": "stream",
     "text": [
      "Epoch 17/20: 100%|██████████| 15876/15876 [03:49<00:00, 69.14batch/s]\n"
     ]
    },
    {
     "name": "stdout",
     "output_type": "stream",
     "text": [
      "Epoch [17/20], Train Loss: 0.6463, Train Accuracy: 0.9963, Train F1: 0.9963\n"
     ]
    },
    {
     "name": "stderr",
     "output_type": "stream",
     "text": [
      "Epoch 18/20: 100%|██████████| 15876/15876 [03:35<00:00, 73.68batch/s]\n"
     ]
    },
    {
     "name": "stdout",
     "output_type": "stream",
     "text": [
      "Epoch [18/20], Train Loss: 0.6462, Train Accuracy: 0.9966, Train F1: 0.9966\n"
     ]
    },
    {
     "name": "stderr",
     "output_type": "stream",
     "text": [
      "Epoch 19/20: 100%|██████████| 15876/15876 [03:27<00:00, 76.33batch/s]\n"
     ]
    },
    {
     "name": "stdout",
     "output_type": "stream",
     "text": [
      "Epoch [19/20], Train Loss: 0.6462, Train Accuracy: 0.9965, Train F1: 0.9966\n"
     ]
    },
    {
     "name": "stderr",
     "output_type": "stream",
     "text": [
      "Epoch 20/20: 100%|██████████| 15876/15876 [03:30<00:00, 75.59batch/s]\n"
     ]
    },
    {
     "name": "stdout",
     "output_type": "stream",
     "text": [
      "Epoch [20/20], Train Loss: 0.6462, Train Accuracy: 0.9966, Train F1: 0.9967\n"
     ]
    },
    {
     "name": "stderr",
     "output_type": "stream",
     "text": [
      "Testing: 100%|██████████| 3969/3969 [00:11<00:00, 334.78batch/s]"
     ]
    },
    {
     "name": "stdout",
     "output_type": "stream",
     "text": [
      "Test Loss: 0.6527, Test Accuracy: 0.9878, Test F1: 0.9882\n"
     ]
    },
    {
     "name": "stderr",
     "output_type": "stream",
     "text": [
      "\n"
     ]
    }
   ],
   "source": [
    "class NNenn(nn.Module):\n",
    "    \"\"\"\n",
    "    BinaryFC: Edited Nearest Neighbour.\n",
    "    \"\"\"\n",
    "    def __init__(self, n_features, fc_size, device, save_dir, name):\n",
    "        super(NNenn, self).__init__()\n",
    "        self.name = name\n",
    "        self.device = device\n",
    "        self.save_dir = save_dir\n",
    "        self.fc1 = nn.Linear(n_features, fc_size)\n",
    "        self.fc2 = nn.Linear(fc_size, 1)\n",
    "        self.activation1 = nn.ReLU()\n",
    "        self.sigmoid = nn.Sigmoid()\n",
    "        self.to(self.device)\n",
    "\n",
    "        self.train_loss = []\n",
    "        self.train_accuracy = []\n",
    "        self.train_f1 = []\n",
    "        self.test_accuracy = None\n",
    "        self.test_loss = None\n",
    "        self.test_f1 = None\n",
    "        self.test_predicted = []\n",
    "        self.epoch_time = []\n",
    "\n",
    "    def forward(self, x):\n",
    "        x = self.activation1(self.fc1(x))\n",
    "        x = self.fc2(x)\n",
    "        output = self.sigmoid(x)\n",
    "        return output\n",
    "\n",
    "    def calculate_accuracy_f1(self, predictions, labels):\n",
    "        preds = (predictions > 0.5).float()\n",
    "        accuracy = accuracy_score(labels.cpu(), preds.cpu())\n",
    "        f1 = f1_score(labels.cpu(), preds.cpu(), average='weighted')\n",
    "        return accuracy, f1\n",
    "\n",
    "    def run(self, train_loader, criterion, optimizer, epochs, save_factor):\n",
    "        enn = EditedNearestNeighbours()\n",
    "\n",
    "        for epoch in range(epochs):\n",
    "            start_time = time.time()\n",
    "            self.train()\n",
    "            epoch_loss = 0\n",
    "            epoch_accuracy = 0\n",
    "            epoch_f1 = 0\n",
    "            num_batches = len(train_loader)\n",
    "\n",
    "            for batch_idx, (train_seq, train_label) in tqdm(enumerate(train_loader), total=num_batches, desc=f\"Epoch {epoch+1}/{epochs}\", unit=\"batch\"):\n",
    "                train_seq, train_label = train_seq.to(self.device), train_label.to(self.device)\n",
    "                batch_size = len(train_seq)\n",
    "                if batch_size > 1:\n",
    "                    try:\n",
    "                        train_seq_np, train_label_np = train_seq.cpu().numpy(), train_label.cpu().numpy()\n",
    "                        X_resampled_enn, y_resampled_enn = enn.fit_resample(train_seq_np, train_label_np)\n",
    "                        train_seq = torch.tensor(X_resampled_enn, dtype=torch.float32).to(self.device)\n",
    "                        train_label = torch.tensor(y_resampled_enn, dtype=torch.float32).to(self.device)\n",
    "                    except ValueError as e:\n",
    "                        print('Error applying ENN.')\n",
    "                        train_seq, train_label = train_seq, train_label\n",
    "\n",
    "                optimizer.zero_grad()\n",
    "\n",
    "                # Forward pass\n",
    "                outputs = self(train_seq)\n",
    "\n",
    "                loss = criterion(outputs.squeeze(), train_label)\n",
    "                loss.backward()\n",
    "                optimizer.step()\n",
    "\n",
    "                train_accuracy, train_f1 = self.calculate_accuracy_f1(outputs, train_label)\n",
    "                epoch_loss += loss.item()\n",
    "                epoch_accuracy += train_accuracy\n",
    "                epoch_f1 += train_f1\n",
    "\n",
    "            # Store overall metrics for the epoch\n",
    "            avg_train_loss = epoch_loss / num_batches\n",
    "            avg_train_accuracy = epoch_accuracy / num_batches\n",
    "            avg_train_f1 = epoch_f1 / num_batches\n",
    "            self.train_loss.append(avg_train_loss)\n",
    "            self.train_accuracy.append(avg_train_accuracy)\n",
    "            self.train_f1.append(avg_train_f1)\n",
    "            self.epoch_time.append(time.time() - start_time)\n",
    "            print(f\"Epoch [{epoch+1}/{epochs}], Train Loss: {avg_train_loss:.4f}, Train Accuracy: {avg_train_accuracy:.4f}, Train F1: {avg_train_f1:.4f}\")\n",
    "\n",
    "            if (epoch + 1) % save_factor == 0:\n",
    "                self.save_model(epoch + 1)\n",
    "\n",
    "    def test(self, test_loader, criterion):\n",
    "        self.eval()\n",
    "        test_loss = 0\n",
    "        test_accuracy = 0\n",
    "        test_f1 = 0\n",
    "        num_batches = len(test_loader)\n",
    "        with torch.no_grad():\n",
    "            for test_seq, test_label in tqdm(test_loader, total=num_batches, desc=\"Testing\", unit=\"batch\"):\n",
    "                test_seq, test_label = test_seq.to(self.device), test_label.to(self.device)\n",
    "                test_outputs = self(test_seq)\n",
    "\n",
    "                loss = criterion(test_outputs.squeeze(), test_label)\n",
    "                accuracy, f1 = self.calculate_accuracy_f1(test_outputs, test_label)\n",
    "                test_loss += loss.item()\n",
    "                test_accuracy += accuracy\n",
    "                test_f1 += f1\n",
    "                preds = (test_outputs > 0.5).float()\n",
    "                self.test_predicted.extend(preds.cpu().numpy())\n",
    "\n",
    "        avg_test_loss = test_loss / num_batches\n",
    "        avg_test_accuracy = test_accuracy / num_batches\n",
    "        avg_test_f1 = test_f1 / num_batches\n",
    "        self.test_loss = avg_test_loss\n",
    "        self.test_accuracy = avg_test_accuracy\n",
    "        self.test_f1 = avg_test_f1\n",
    "        print(f\"Test Loss: {self.test_loss:.4f}, Test Accuracy: {self.test_accuracy:.4f}, Test F1: {self.test_f1:.4f}\")\n",
    "\n",
    "    def save_model(self, epoch):\n",
    "        checkpoint_path = os.path.join(self.save_dir, f\"fc_epoch_{epoch}.pt\")\n",
    "        torch.save({\n",
    "            'epoch': epoch,\n",
    "            'model_state_dict': self.state_dict(),\n",
    "        }, checkpoint_path)\n",
    "\n",
    "    def load_model(self, epoch):\n",
    "        checkpoint_path = os.path.join(self.save_dir, f\"fc_epoch_{epoch}.pt\")\n",
    "        checkpoint = torch.load(checkpoint_path)\n",
    "        self.load_state_dict(checkpoint['model_state_dict'])\n",
    "\n",
    "device = torch.device(\"cuda\" if torch.cuda.is_available() else \"cpu\")\n",
    "n_features = X_train_tensor.shape[1]\n",
    "fully_connected_size = 64\n",
    "save_dir = \"./saved_models/\"\n",
    "model_name = \"NNenn\"\n",
    "model3 = NNenn(n_features=n_features, fc_size=fully_connected_size, device=device, save_dir=save_dir, name=model_name)\n",
    "criterion = nn.BCEWithLogitsLoss()\n",
    "optimizer = optim.Adam(model3.parameters(), lr=0.05)\n",
    "\n",
    "model3.run(train_loader, criterion, optimizer, epochs=20, save_factor=100)\n",
    "model3.test(test_loader, criterion)"
   ]
  },
  {
   "cell_type": "code",
   "execution_count": 18,
   "metadata": {},
   "outputs": [
    {
     "name": "stderr",
     "output_type": "stream",
     "text": [
      "Epoch 1/20: 100%|██████████| 15876/15876 [04:37<00:00, 57.18batch/s]\n"
     ]
    },
    {
     "name": "stdout",
     "output_type": "stream",
     "text": [
      "Epoch [1/20], Train Loss: 0.5171, Train Accuracy: 0.9773, Train F1: 0.9771\n"
     ]
    },
    {
     "name": "stderr",
     "output_type": "stream",
     "text": [
      "Epoch 2/20: 100%|██████████| 15876/15876 [05:26<00:00, 48.55batch/s]\n"
     ]
    },
    {
     "name": "stdout",
     "output_type": "stream",
     "text": [
      "Epoch [2/20], Train Loss: 0.5210, Train Accuracy: 0.9709, Train F1: 0.9703\n"
     ]
    },
    {
     "name": "stderr",
     "output_type": "stream",
     "text": [
      "Epoch 3/20: 100%|██████████| 15876/15876 [05:30<00:00, 48.10batch/s]\n"
     ]
    },
    {
     "name": "stdout",
     "output_type": "stream",
     "text": [
      "Epoch [3/20], Train Loss: 0.5211, Train Accuracy: 0.9656, Train F1: 0.9652\n"
     ]
    },
    {
     "name": "stderr",
     "output_type": "stream",
     "text": [
      "Epoch 4/20:  53%|█████▎    | 8352/15876 [02:55<02:27, 50.90batch/s]"
     ]
    },
    {
     "name": "stdout",
     "output_type": "stream",
     "text": [
      "Error applying NearMiss.\n"
     ]
    },
    {
     "name": "stderr",
     "output_type": "stream",
     "text": [
      "Epoch 4/20: 100%|██████████| 15876/15876 [05:30<00:00, 48.05batch/s]\n"
     ]
    },
    {
     "name": "stdout",
     "output_type": "stream",
     "text": [
      "Epoch [4/20], Train Loss: 0.5171, Train Accuracy: 0.9776, Train F1: 0.9775\n"
     ]
    },
    {
     "name": "stderr",
     "output_type": "stream",
     "text": [
      "Epoch 5/20: 100%|██████████| 15876/15876 [05:14<00:00, 50.42batch/s]\n"
     ]
    },
    {
     "name": "stdout",
     "output_type": "stream",
     "text": [
      "Epoch [5/20], Train Loss: 0.5172, Train Accuracy: 0.9775, Train F1: 0.9774\n"
     ]
    },
    {
     "name": "stderr",
     "output_type": "stream",
     "text": [
      "Epoch 6/20: 100%|██████████| 15876/15876 [05:16<00:00, 50.22batch/s]\n"
     ]
    },
    {
     "name": "stdout",
     "output_type": "stream",
     "text": [
      "Epoch [6/20], Train Loss: 0.5173, Train Accuracy: 0.9773, Train F1: 0.9772\n"
     ]
    },
    {
     "name": "stderr",
     "output_type": "stream",
     "text": [
      "Epoch 7/20: 100%|██████████| 15876/15876 [05:12<00:00, 50.79batch/s]\n"
     ]
    },
    {
     "name": "stdout",
     "output_type": "stream",
     "text": [
      "Epoch [7/20], Train Loss: 0.5168, Train Accuracy: 0.9780, Train F1: 0.9779\n"
     ]
    },
    {
     "name": "stderr",
     "output_type": "stream",
     "text": [
      "Epoch 8/20: 100%|██████████| 15876/15876 [05:16<00:00, 50.12batch/s]\n"
     ]
    },
    {
     "name": "stdout",
     "output_type": "stream",
     "text": [
      "Epoch [8/20], Train Loss: 0.5173, Train Accuracy: 0.9770, Train F1: 0.9769\n"
     ]
    },
    {
     "name": "stderr",
     "output_type": "stream",
     "text": [
      "Epoch 9/20: 100%|██████████| 15876/15876 [05:21<00:00, 49.43batch/s]\n"
     ]
    },
    {
     "name": "stdout",
     "output_type": "stream",
     "text": [
      "Epoch [9/20], Train Loss: 0.5170, Train Accuracy: 0.9777, Train F1: 0.9776\n"
     ]
    },
    {
     "name": "stderr",
     "output_type": "stream",
     "text": [
      "Epoch 10/20: 100%|██████████| 15876/15876 [05:14<00:00, 50.48batch/s]\n"
     ]
    },
    {
     "name": "stdout",
     "output_type": "stream",
     "text": [
      "Epoch [10/20], Train Loss: 0.5169, Train Accuracy: 0.9779, Train F1: 0.9778\n"
     ]
    },
    {
     "name": "stderr",
     "output_type": "stream",
     "text": [
      "Epoch 11/20: 100%|██████████| 15876/15876 [05:14<00:00, 50.40batch/s]\n"
     ]
    },
    {
     "name": "stdout",
     "output_type": "stream",
     "text": [
      "Epoch [11/20], Train Loss: 0.5171, Train Accuracy: 0.9777, Train F1: 0.9776\n"
     ]
    },
    {
     "name": "stderr",
     "output_type": "stream",
     "text": [
      "Epoch 12/20: 100%|██████████| 15876/15876 [04:54<00:00, 53.92batch/s]\n"
     ]
    },
    {
     "name": "stdout",
     "output_type": "stream",
     "text": [
      "Epoch [12/20], Train Loss: 0.5168, Train Accuracy: 0.9780, Train F1: 0.9779\n"
     ]
    },
    {
     "name": "stderr",
     "output_type": "stream",
     "text": [
      "Epoch 13/20: 100%|██████████| 15876/15876 [05:12<00:00, 50.87batch/s]\n"
     ]
    },
    {
     "name": "stdout",
     "output_type": "stream",
     "text": [
      "Epoch [13/20], Train Loss: 0.5170, Train Accuracy: 0.9778, Train F1: 0.9777\n"
     ]
    },
    {
     "name": "stderr",
     "output_type": "stream",
     "text": [
      "Epoch 14/20: 100%|██████████| 15876/15876 [05:10<00:00, 51.11batch/s]\n"
     ]
    },
    {
     "name": "stdout",
     "output_type": "stream",
     "text": [
      "Epoch [14/20], Train Loss: 0.5171, Train Accuracy: 0.9776, Train F1: 0.9775\n"
     ]
    },
    {
     "name": "stderr",
     "output_type": "stream",
     "text": [
      "Epoch 15/20: 100%|██████████| 15876/15876 [05:10<00:00, 51.10batch/s]\n"
     ]
    },
    {
     "name": "stdout",
     "output_type": "stream",
     "text": [
      "Epoch [15/20], Train Loss: 0.5171, Train Accuracy: 0.9776, Train F1: 0.9775\n"
     ]
    },
    {
     "name": "stderr",
     "output_type": "stream",
     "text": [
      "Epoch 16/20: 100%|██████████| 15876/15876 [05:13<00:00, 50.64batch/s]\n"
     ]
    },
    {
     "name": "stdout",
     "output_type": "stream",
     "text": [
      "Epoch [16/20], Train Loss: 0.5169, Train Accuracy: 0.9778, Train F1: 0.9777\n"
     ]
    },
    {
     "name": "stderr",
     "output_type": "stream",
     "text": [
      "Epoch 17/20: 100%|██████████| 15876/15876 [05:12<00:00, 50.73batch/s]\n"
     ]
    },
    {
     "name": "stdout",
     "output_type": "stream",
     "text": [
      "Epoch [17/20], Train Loss: 0.5172, Train Accuracy: 0.9775, Train F1: 0.9774\n"
     ]
    },
    {
     "name": "stderr",
     "output_type": "stream",
     "text": [
      "Epoch 18/20: 100%|██████████| 15876/15876 [05:14<00:00, 50.49batch/s]\n"
     ]
    },
    {
     "name": "stdout",
     "output_type": "stream",
     "text": [
      "Epoch [18/20], Train Loss: 0.5171, Train Accuracy: 0.9776, Train F1: 0.9775\n"
     ]
    },
    {
     "name": "stderr",
     "output_type": "stream",
     "text": [
      "Epoch 19/20: 100%|██████████| 15876/15876 [05:13<00:00, 50.60batch/s]\n"
     ]
    },
    {
     "name": "stdout",
     "output_type": "stream",
     "text": [
      "Epoch [19/20], Train Loss: 0.5169, Train Accuracy: 0.9779, Train F1: 0.9779\n"
     ]
    },
    {
     "name": "stderr",
     "output_type": "stream",
     "text": [
      "Epoch 20/20: 100%|██████████| 15876/15876 [05:25<00:00, 48.83batch/s]\n"
     ]
    },
    {
     "name": "stdout",
     "output_type": "stream",
     "text": [
      "Epoch [20/20], Train Loss: 0.5171, Train Accuracy: 0.9776, Train F1: 0.9775\n"
     ]
    },
    {
     "name": "stderr",
     "output_type": "stream",
     "text": [
      "Testing: 100%|██████████| 3969/3969 [00:16<00:00, 238.70batch/s]"
     ]
    },
    {
     "name": "stdout",
     "output_type": "stream",
     "text": [
      "Test Loss: 0.6550, Test Accuracy: 0.9842, Test F1: 0.9848\n"
     ]
    },
    {
     "name": "stderr",
     "output_type": "stream",
     "text": [
      "\n"
     ]
    }
   ],
   "source": [
    "class NNnearmiss(nn.Module):\n",
    "    \"\"\"\n",
    "    Near Miss\n",
    "    \"\"\"\n",
    "    def __init__(self, n_features, fc_size, device, save_dir, name):\n",
    "        super(NNnearmiss, self).__init__()\n",
    "        self.name = name\n",
    "        self.device = device\n",
    "        self.save_dir = save_dir\n",
    "        self.fc1 = nn.Linear(n_features, fc_size)\n",
    "        self.fc2 = nn.Linear(fc_size, 1)\n",
    "        self.activation1 = nn.ReLU()\n",
    "        self.sigmoid = nn.Sigmoid()\n",
    "        self.to(self.device)\n",
    "\n",
    "        self.train_loss = []\n",
    "        self.train_accuracy = []\n",
    "        self.train_f1 = []\n",
    "        self.test_accuracy = None\n",
    "        self.test_loss = None\n",
    "        self.test_f1 = None\n",
    "        self.test_predicted = []\n",
    "        self.epoch_time = []\n",
    "\n",
    "    def forward(self, x):\n",
    "        x = self.activation1(self.fc1(x))\n",
    "        x = self.fc2(x)\n",
    "        output = self.sigmoid(x)\n",
    "        return output\n",
    "\n",
    "    def calculate_accuracy_f1(self, predictions, labels):\n",
    "        preds = (predictions > 0.5).float()\n",
    "        accuracy = accuracy_score(labels.cpu(), preds.cpu())\n",
    "        f1 = f1_score(labels.cpu(), preds.cpu(), average='weighted')\n",
    "        return accuracy, f1\n",
    "\n",
    "    def run(self, train_loader, criterion, optimizer, epochs, save_factor):\n",
    "        # Initialize NearMiss for downsampling\n",
    "        nearmiss = NearMiss()\n",
    "\n",
    "        for epoch in range(epochs):\n",
    "            start_time = time.time()\n",
    "            self.train()\n",
    "            epoch_loss = 0\n",
    "            epoch_accuracy = 0\n",
    "            epoch_f1 = 0\n",
    "            num_batches = len(train_loader)\n",
    "\n",
    "            for batch_idx, (train_seq, train_label) in tqdm(enumerate(train_loader), total=num_batches, desc=f\"Epoch {epoch+1}/{epochs}\", unit=\"batch\"):\n",
    "                train_seq, train_label = train_seq.to(self.device), train_label.to(self.device)\n",
    "                batch_size = len(train_seq)\n",
    "\n",
    "                # Apply NearMiss downsampling\n",
    "                if batch_size > 1:\n",
    "                    try:\n",
    "                        # Apply NearMiss to the batch (select majority class samples near the minority class)\n",
    "                        train_seq_np, train_label_np = train_seq.cpu().numpy(), train_label.cpu().numpy()\n",
    "                        X_resampled_nm, y_resampled_nm = nearmiss.fit_resample(train_seq_np, train_label_np)\n",
    "                        train_seq = torch.tensor(X_resampled_nm, dtype=torch.float32).to(self.device)\n",
    "                        train_label = torch.tensor(y_resampled_nm, dtype=torch.float32).to(self.device)\n",
    "                    except ValueError as e:\n",
    "                        print('Error applying NearMiss.')\n",
    "                        # If there's an error (e.g., not enough instances for resampling), fall back to original batch\n",
    "                        train_seq, train_label = train_seq, train_label\n",
    "\n",
    "                optimizer.zero_grad()\n",
    "\n",
    "                # Forward pass\n",
    "                outputs = self(train_seq)\n",
    "\n",
    "                loss = criterion(outputs.squeeze(), train_label)\n",
    "                loss.backward()\n",
    "                optimizer.step()\n",
    "\n",
    "                train_accuracy, train_f1 = self.calculate_accuracy_f1(outputs, train_label)\n",
    "                epoch_loss += loss.item()\n",
    "                epoch_accuracy += train_accuracy\n",
    "                epoch_f1 += train_f1\n",
    "\n",
    "            # Store overall metrics for the epoch\n",
    "            avg_train_loss = epoch_loss / num_batches\n",
    "            avg_train_accuracy = epoch_accuracy / num_batches\n",
    "            avg_train_f1 = epoch_f1 / num_batches\n",
    "            self.train_loss.append(avg_train_loss)\n",
    "            self.train_accuracy.append(avg_train_accuracy)\n",
    "            self.train_f1.append(avg_train_f1)\n",
    "            self.epoch_time.append(time.time() - start_time)\n",
    "            print(f\"Epoch [{epoch+1}/{epochs}], Train Loss: {avg_train_loss:.4f}, Train Accuracy: {avg_train_accuracy:.4f}, Train F1: {avg_train_f1:.4f}\")\n",
    "\n",
    "            if (epoch + 1) % save_factor == 0:\n",
    "                self.save_model(epoch + 1)\n",
    "\n",
    "    def test(self, test_loader, criterion):\n",
    "        self.eval()\n",
    "        test_loss = 0\n",
    "        test_accuracy = 0\n",
    "        test_f1 = 0\n",
    "        num_batches = len(test_loader)\n",
    "        with torch.no_grad():\n",
    "            for test_seq, test_label in tqdm(test_loader, total=num_batches, desc=\"Testing\", unit=\"batch\"):\n",
    "                test_seq, test_label = test_seq.to(self.device), test_label.to(self.device)\n",
    "                test_outputs = self(test_seq)\n",
    "\n",
    "                loss = criterion(test_outputs.squeeze(), test_label)\n",
    "                accuracy, f1 = self.calculate_accuracy_f1(test_outputs, test_label)\n",
    "                test_loss += loss.item()\n",
    "                test_accuracy += accuracy\n",
    "                test_f1 += f1\n",
    "                preds = (test_outputs > 0.5).float()\n",
    "                self.test_predicted.extend(preds.cpu().numpy())\n",
    "\n",
    "        avg_test_loss = test_loss / num_batches\n",
    "        avg_test_accuracy = test_accuracy / num_batches\n",
    "        avg_test_f1 = test_f1 / num_batches\n",
    "        self.test_loss = avg_test_loss\n",
    "        self.test_accuracy = avg_test_accuracy\n",
    "        self.test_f1 = avg_test_f1\n",
    "        print(f\"Test Loss: {self.test_loss:.4f}, Test Accuracy: {self.test_accuracy:.4f}, Test F1: {self.test_f1:.4f}\")\n",
    "\n",
    "    def save_model(self, epoch):\n",
    "        checkpoint_path = os.path.join(self.save_dir, f\"fc_epoch_{epoch}.pt\")\n",
    "        torch.save({\n",
    "            'epoch': epoch,\n",
    "            'model_state_dict': self.state_dict(),\n",
    "        }, checkpoint_path)\n",
    "\n",
    "    def load_model(self, epoch):\n",
    "        checkpoint_path = os.path.join(self.save_dir, f\"fc_epoch_{epoch}.pt\")\n",
    "        checkpoint = torch.load(checkpoint_path)\n",
    "        self.load_state_dict(checkpoint['model_state_dict'])\n",
    "\n",
    "device = torch.device(\"cuda\" if torch.cuda.is_available() else \"cpu\")\n",
    "n_features = X_train_tensor.shape[1]\n",
    "fully_connected_size = 64\n",
    "save_dir = \"./saved_models/\"\n",
    "model_name = \"NNnearmiss\"\n",
    "model4 = NNnearmiss(n_features=n_features, fc_size=fully_connected_size, device=device, save_dir=save_dir, name=model_name)\n",
    "criterion = nn.BCEWithLogitsLoss()\n",
    "optimizer = optim.Adam(model4.parameters(), lr=0.05)\n",
    "\n",
    "model4.run(train_loader, criterion, optimizer, epochs=20, save_factor=100)\n",
    "model4.test(test_loader, criterion)"
   ]
  },
  {
   "cell_type": "code",
   "execution_count": 19,
   "metadata": {},
   "outputs": [
    {
     "name": "stderr",
     "output_type": "stream",
     "text": [
      "Epoch 1/20: 100%|██████████| 15876/15876 [01:52<00:00, 140.85batch/s]\n"
     ]
    },
    {
     "name": "stdout",
     "output_type": "stream",
     "text": [
      "Epoch [1/20], Train Loss: 0.6498, Train Accuracy: 0.9897, Train F1: 0.9896\n"
     ]
    },
    {
     "name": "stderr",
     "output_type": "stream",
     "text": [
      "Epoch 2/20: 100%|██████████| 15876/15876 [01:47<00:00, 147.52batch/s]\n"
     ]
    },
    {
     "name": "stdout",
     "output_type": "stream",
     "text": [
      "Epoch [2/20], Train Loss: 0.6494, Train Accuracy: 0.9905, Train F1: 0.9904\n"
     ]
    },
    {
     "name": "stderr",
     "output_type": "stream",
     "text": [
      "Epoch 3/20: 100%|██████████| 15876/15876 [01:46<00:00, 149.01batch/s]\n"
     ]
    },
    {
     "name": "stdout",
     "output_type": "stream",
     "text": [
      "Epoch [3/20], Train Loss: 0.6498, Train Accuracy: 0.9907, Train F1: 0.9907\n"
     ]
    },
    {
     "name": "stderr",
     "output_type": "stream",
     "text": [
      "Epoch 4/20: 100%|██████████| 15876/15876 [01:48<00:00, 146.22batch/s]\n"
     ]
    },
    {
     "name": "stdout",
     "output_type": "stream",
     "text": [
      "Epoch [4/20], Train Loss: 0.6499, Train Accuracy: 0.9903, Train F1: 0.9903\n"
     ]
    },
    {
     "name": "stderr",
     "output_type": "stream",
     "text": [
      "Epoch 5/20: 100%|██████████| 15876/15876 [01:50<00:00, 143.52batch/s]\n"
     ]
    },
    {
     "name": "stdout",
     "output_type": "stream",
     "text": [
      "Epoch [5/20], Train Loss: 0.6494, Train Accuracy: 0.9909, Train F1: 0.9908\n"
     ]
    },
    {
     "name": "stderr",
     "output_type": "stream",
     "text": [
      "Epoch 6/20: 100%|██████████| 15876/15876 [01:48<00:00, 146.86batch/s]\n"
     ]
    },
    {
     "name": "stdout",
     "output_type": "stream",
     "text": [
      "Epoch [6/20], Train Loss: 0.6495, Train Accuracy: 0.9912, Train F1: 0.9912\n"
     ]
    },
    {
     "name": "stderr",
     "output_type": "stream",
     "text": [
      "Epoch 7/20: 100%|██████████| 15876/15876 [01:54<00:00, 138.88batch/s]\n"
     ]
    },
    {
     "name": "stdout",
     "output_type": "stream",
     "text": [
      "Epoch [7/20], Train Loss: 0.6493, Train Accuracy: 0.9913, Train F1: 0.9913\n"
     ]
    },
    {
     "name": "stderr",
     "output_type": "stream",
     "text": [
      "Epoch 8/20: 100%|██████████| 15876/15876 [01:56<00:00, 136.72batch/s]\n"
     ]
    },
    {
     "name": "stdout",
     "output_type": "stream",
     "text": [
      "Epoch [8/20], Train Loss: 0.6492, Train Accuracy: 0.9916, Train F1: 0.9916\n"
     ]
    },
    {
     "name": "stderr",
     "output_type": "stream",
     "text": [
      "Epoch 9/20: 100%|██████████| 15876/15876 [01:46<00:00, 148.54batch/s]\n"
     ]
    },
    {
     "name": "stdout",
     "output_type": "stream",
     "text": [
      "Epoch [9/20], Train Loss: 0.6497, Train Accuracy: 0.9907, Train F1: 0.9907\n"
     ]
    },
    {
     "name": "stderr",
     "output_type": "stream",
     "text": [
      "Epoch 10/20: 100%|██████████| 15876/15876 [01:45<00:00, 150.21batch/s]\n"
     ]
    },
    {
     "name": "stdout",
     "output_type": "stream",
     "text": [
      "Epoch [10/20], Train Loss: 0.6492, Train Accuracy: 0.9916, Train F1: 0.9915\n"
     ]
    },
    {
     "name": "stderr",
     "output_type": "stream",
     "text": [
      "Epoch 11/20: 100%|██████████| 15876/15876 [01:44<00:00, 151.56batch/s]\n"
     ]
    },
    {
     "name": "stdout",
     "output_type": "stream",
     "text": [
      "Epoch [11/20], Train Loss: 0.6492, Train Accuracy: 0.9916, Train F1: 0.9915\n"
     ]
    },
    {
     "name": "stderr",
     "output_type": "stream",
     "text": [
      "Epoch 12/20: 100%|██████████| 15876/15876 [01:51<00:00, 142.96batch/s]\n"
     ]
    },
    {
     "name": "stdout",
     "output_type": "stream",
     "text": [
      "Epoch [12/20], Train Loss: 0.6491, Train Accuracy: 0.9917, Train F1: 0.9917\n"
     ]
    },
    {
     "name": "stderr",
     "output_type": "stream",
     "text": [
      "Epoch 13/20: 100%|██████████| 15876/15876 [01:45<00:00, 150.49batch/s]\n"
     ]
    },
    {
     "name": "stdout",
     "output_type": "stream",
     "text": [
      "Epoch [13/20], Train Loss: 0.6491, Train Accuracy: 0.9916, Train F1: 0.9916\n"
     ]
    },
    {
     "name": "stderr",
     "output_type": "stream",
     "text": [
      "Epoch 14/20: 100%|██████████| 15876/15876 [01:49<00:00, 145.38batch/s]\n"
     ]
    },
    {
     "name": "stdout",
     "output_type": "stream",
     "text": [
      "Epoch [14/20], Train Loss: 0.6495, Train Accuracy: 0.9911, Train F1: 0.9910\n"
     ]
    },
    {
     "name": "stderr",
     "output_type": "stream",
     "text": [
      "Epoch 15/20: 100%|██████████| 15876/15876 [01:39<00:00, 160.17batch/s]\n"
     ]
    },
    {
     "name": "stdout",
     "output_type": "stream",
     "text": [
      "Epoch [15/20], Train Loss: 0.6497, Train Accuracy: 0.9911, Train F1: 0.9911\n"
     ]
    },
    {
     "name": "stderr",
     "output_type": "stream",
     "text": [
      "Epoch 16/20: 100%|██████████| 15876/15876 [01:27<00:00, 180.85batch/s]\n"
     ]
    },
    {
     "name": "stdout",
     "output_type": "stream",
     "text": [
      "Epoch [16/20], Train Loss: 0.6494, Train Accuracy: 0.9914, Train F1: 0.9914\n"
     ]
    },
    {
     "name": "stderr",
     "output_type": "stream",
     "text": [
      "Epoch 17/20: 100%|██████████| 15876/15876 [01:45<00:00, 150.36batch/s]\n"
     ]
    },
    {
     "name": "stdout",
     "output_type": "stream",
     "text": [
      "Epoch [17/20], Train Loss: 0.6494, Train Accuracy: 0.9913, Train F1: 0.9913\n"
     ]
    },
    {
     "name": "stderr",
     "output_type": "stream",
     "text": [
      "Epoch 18/20: 100%|██████████| 15876/15876 [01:44<00:00, 151.79batch/s]\n"
     ]
    },
    {
     "name": "stdout",
     "output_type": "stream",
     "text": [
      "Epoch [18/20], Train Loss: 0.6492, Train Accuracy: 0.9916, Train F1: 0.9916\n"
     ]
    },
    {
     "name": "stderr",
     "output_type": "stream",
     "text": [
      "Epoch 19/20: 100%|██████████| 15876/15876 [01:47<00:00, 147.74batch/s]\n"
     ]
    },
    {
     "name": "stdout",
     "output_type": "stream",
     "text": [
      "Epoch [19/20], Train Loss: 0.6491, Train Accuracy: 0.9916, Train F1: 0.9916\n"
     ]
    },
    {
     "name": "stderr",
     "output_type": "stream",
     "text": [
      "Epoch 20/20: 100%|██████████| 15876/15876 [02:03<00:00, 128.44batch/s]\n"
     ]
    },
    {
     "name": "stdout",
     "output_type": "stream",
     "text": [
      "Epoch [20/20], Train Loss: 0.6492, Train Accuracy: 0.9916, Train F1: 0.9916\n"
     ]
    },
    {
     "name": "stderr",
     "output_type": "stream",
     "text": [
      "Testing: 100%|██████████| 3969/3969 [00:17<00:00, 221.55batch/s]"
     ]
    },
    {
     "name": "stdout",
     "output_type": "stream",
     "text": [
      "Test Loss: 0.6493, Test Accuracy: 0.9918, Test F1: 0.9918\n"
     ]
    },
    {
     "name": "stderr",
     "output_type": "stream",
     "text": [
      "\n"
     ]
    }
   ],
   "source": [
    "class NNstandard(nn.Module):\n",
    "    \"\"\"\n",
    "    BinaryFC: A fully connected nn Model. The activation function can be changed. Standard Run.\n",
    "    \"\"\"\n",
    "    def __init__(self, n_features, fc_size, device, save_dir, name):\n",
    "        super(NNstandard, self).__init__()\n",
    "        self.name = name\n",
    "        self.device = device\n",
    "        self.save_dir = save_dir\n",
    "        self.fc1 = nn.Linear(n_features, fc_size)\n",
    "        self.fc2 = nn.Linear(fc_size, 1)\n",
    "        self.activation1 = nn.ReLU()\n",
    "        self.sigmoid = nn.Sigmoid()\n",
    "        self.to(self.device)\n",
    "\n",
    "        # To store metrics.\n",
    "        self.train_loss = []\n",
    "        self.train_accuracy = []\n",
    "        self.train_f1 = []\n",
    "        self.test_accuracy = None\n",
    "        self.test_loss = None\n",
    "        self.test_f1 = None\n",
    "        self.test_predicted = []\n",
    "        self.epoch_time = []\n",
    "\n",
    "    def forward(self, x):\n",
    "        \"\"\"\n",
    "        Forward pass for the Fully Connected model.\n",
    "        \"\"\"\n",
    "        x = self.activation1(self.fc1(x))\n",
    "        x = self.fc2(x)\n",
    "        output = self.sigmoid(x)\n",
    "        return output\n",
    "\n",
    "    def calculate_accuracy_f1(self, predictions, labels):\n",
    "        \"\"\"\n",
    "        Calculate accuracy and F1 score.\n",
    "        \"\"\"\n",
    "        preds = (predictions > 0.5).float()\n",
    "        accuracy = accuracy_score(labels.cpu(), preds.cpu())\n",
    "        f1 = f1_score(labels.cpu(), preds.cpu(), average='weighted')\n",
    "        return accuracy, f1\n",
    "\n",
    "    def run(self, train_loader, criterion, optimizer, epochs, save_factor, train_labels=None):\n",
    "        \"\"\"\n",
    "        Train the model.\n",
    "        \"\"\"\n",
    "        for epoch in range(epochs):\n",
    "            start_time = time.time()\n",
    "            self.train()\n",
    "            epoch_loss = 0\n",
    "            epoch_accuracy = 0\n",
    "            epoch_f1 = 0\n",
    "            num_batches = len(train_loader)\n",
    "\n",
    "            for batch_idx, (train_seq, train_label) in tqdm(enumerate(train_loader), total=num_batches, desc=f\"Epoch {epoch+1}/{epochs}\", unit=\"batch\"):\n",
    "                train_seq, train_label = train_seq.to(self.device), train_label.to(self.device)\n",
    "                optimizer.zero_grad()\n",
    "\n",
    "                # Forward pass\n",
    "                outputs = self(train_seq)\n",
    "\n",
    "                loss = criterion(outputs.squeeze(), train_label)\n",
    "                loss.backward()\n",
    "                optimizer.step()\n",
    "\n",
    "                train_accuracy, train_f1 = self.calculate_accuracy_f1(outputs, train_label)\n",
    "                epoch_loss += loss.item()\n",
    "                epoch_accuracy += train_accuracy\n",
    "                epoch_f1 += train_f1\n",
    "\n",
    "            # Store overall metrics for the epoch.\n",
    "            avg_train_loss = epoch_loss / num_batches\n",
    "            avg_train_accuracy = epoch_accuracy / num_batches\n",
    "            avg_train_f1 = epoch_f1 / num_batches\n",
    "            self.train_loss.append(avg_train_loss)\n",
    "            self.train_accuracy.append(avg_train_accuracy)\n",
    "            self.train_f1.append(avg_train_f1)\n",
    "            self.epoch_time.append(time.time() - start_time)\n",
    "            print(f\"Epoch [{epoch+1}/{epochs}], Train Loss: {avg_train_loss:.4f}, Train Accuracy: {avg_train_accuracy:.4f}, Train F1: {avg_train_f1:.4f}\")\n",
    "\n",
    "            if (epoch + 1) % save_factor == 0:\n",
    "                self.save_model(epoch + 1)\n",
    "\n",
    "    def test(self, test_loader, criterion):\n",
    "        \"\"\"\n",
    "        Test the model.\n",
    "        \"\"\"\n",
    "        self.eval()\n",
    "        test_loss = 0\n",
    "        test_accuracy = 0\n",
    "        test_f1 = 0\n",
    "        num_batches = len(test_loader)\n",
    "        with torch.no_grad():\n",
    "            for test_seq, test_label in tqdm(test_loader, total=num_batches, desc=\"Testing\", unit=\"batch\"):\n",
    "                test_seq, test_label = test_seq.to(self.device), test_label.to(self.device)\n",
    "                # Forward pass\n",
    "                test_outputs = self(test_seq)\n",
    "\n",
    "                loss = criterion(test_outputs.squeeze(), test_label)\n",
    "                accuracy, f1 = self.calculate_accuracy_f1(test_outputs, test_label)\n",
    "                test_loss += loss.item()\n",
    "                test_accuracy += accuracy\n",
    "                test_f1 += f1\n",
    "                preds = (test_outputs > 0.5).float()\n",
    "                self.test_predicted.extend(preds.cpu().numpy())\n",
    "        # Store overall test metrics.\n",
    "        avg_test_loss = test_loss / num_batches\n",
    "        avg_test_accuracy = test_accuracy / num_batches\n",
    "        avg_test_f1 = test_f1 / num_batches\n",
    "        self.test_loss = avg_test_loss\n",
    "        self.test_accuracy = avg_test_accuracy\n",
    "        self.test_f1 = avg_test_f1\n",
    "        print(f\"Test Loss: {self.test_loss:.4f}, Test Accuracy: {self.test_accuracy:.4f}, Test F1: {self.test_f1:.4f}\")\n",
    "\n",
    "    def save_model(self, epoch):\n",
    "        \"\"\"\n",
    "        Save the model state_dict for the given epoch.\n",
    "        \"\"\"\n",
    "        checkpoint_path = os.path.join(self.save_dir, f\"fc_epoch_{epoch}.pt\")\n",
    "        torch.save({\n",
    "            'epoch': epoch,\n",
    "            'model_state_dict': self.state_dict(),\n",
    "        }, checkpoint_path)\n",
    "\n",
    "    def load_model(self, epoch):\n",
    "        \"\"\"\n",
    "        Load a state_dict of a model.\n",
    "        \"\"\"\n",
    "        checkpoint_path = os.path.join(self.save_dir, f\"fc_epoch_{epoch}.pt\")\n",
    "        checkpoint = torch.load(checkpoint_path)\n",
    "        self.load_state_dict(checkpoint['model_state_dict'])\n",
    "\n",
    "device = torch.device(\"cuda\" if torch.cuda.is_available() else \"cpu\")\n",
    "n_features = X_train_tensor.shape[1]\n",
    "fully_connected_size = 64\n",
    "save_dir = \"./saved_models/\"\n",
    "model_name = \"NNstandard\"\n",
    "model5 = NNstandard(n_features=n_features, fc_size=fully_connected_size, device=device, save_dir=save_dir, name=model_name)\n",
    "criterion = nn.BCEWithLogitsLoss()\n",
    "optimizer = optim.Adam(model5.parameters(), lr=0.05)\n",
    "\n",
    "model5.run(train_loader, criterion, optimizer, epochs=20, save_factor=100)\n",
    "model5.test(test_loader, criterion)"
   ]
  },
  {
   "cell_type": "code",
   "execution_count": 20,
   "metadata": {},
   "outputs": [
    {
     "name": "stdout",
     "output_type": "stream",
     "text": [
      "SMOTE\n"
     ]
    },
    {
     "data": {
      "image/png": "[encoded data removed]",
      "text/plain": [
       "<Figure size 800x600 with 2 Axes>"
      ]
     },
     "metadata": {},
     "output_type": "display_data"
    }
   ],
   "source": [
    "print('SMOTE')\n",
    "labels = test_dataset.tensors[1]\n",
    "plot_confusion_matrix(labels, model1.test_predicted)"
   ]
  },
  {
   "cell_type": "code",
   "execution_count": 21,
   "metadata": {},
   "outputs": [
    {
     "name": "stdout",
     "output_type": "stream",
     "text": [
      "Tomeks Links\n"
     ]
    },
    {
     "data": {
      "image/png": "[encoded data removed]",
      "text/plain": [
       "<Figure size 800x600 with 2 Axes>"
      ]
     },
     "metadata": {},
     "output_type": "display_data"
    }
   ],
   "source": [
    "print('Tomeks Links')\n",
    "labels = test_dataset.tensors[1]\n",
    "plot_confusion_matrix(labels, model2.test_predicted)"
   ]
  },
  {
   "cell_type": "code",
   "execution_count": 22,
   "metadata": {},
   "outputs": [
    {
     "name": "stdout",
     "output_type": "stream",
     "text": [
      "Edited Nearest Neighbours\n"
     ]
    },
    {
     "data": {
      "image/png": "[encoded data removed]",
      "text/plain": [
       "<Figure size 800x600 with 2 Axes>"
      ]
     },
     "metadata": {},
     "output_type": "display_data"
    }
   ],
   "source": [
    "print('Edited Nearest Neighbours')\n",
    "labels = test_dataset.tensors[1]\n",
    "plot_confusion_matrix(labels, model3.test_predicted)"
   ]
  },
  {
   "cell_type": "code",
   "execution_count": 23,
   "metadata": {},
   "outputs": [
    {
     "name": "stdout",
     "output_type": "stream",
     "text": [
      "Near Miss\n"
     ]
    },
    {
     "data": {
      "image/png": "[encoded data removed]",
      "text/plain": [
       "<Figure size 800x600 with 2 Axes>"
      ]
     },
     "metadata": {},
     "output_type": "display_data"
    }
   ],
   "source": [
    "print('Near Miss')\n",
    "labels = test_dataset.tensors[1]\n",
    "plot_confusion_matrix(labels, model4.test_predicted)"
   ]
  },
  {
   "cell_type": "code",
   "execution_count": 24,
   "metadata": {},
   "outputs": [
    {
     "name": "stdout",
     "output_type": "stream",
     "text": [
      "Standard (No Sampling Method)\n"
     ]
    },
    {
     "data": {
      "image/png": "[encoded data removed]",
      "text/plain": [
       "<Figure size 800x600 with 2 Axes>"
      ]
     },
     "metadata": {},
     "output_type": "display_data"
    }
   ],
   "source": [
    "print('Standard (No Sampling Method)')\n",
    "labels = test_dataset.tensors[1]\n",
    "plot_confusion_matrix(labels, model5.test_predicted)"
   ]
  }
 ],
 "metadata": {
  "kernelspec": {
   "display_name": "conda12",
   "language": "python",
   "name": "python3"
  },
  "language_info": {
   "codemirror_mode": {
    "name": "ipython",
    "version": 3
   },
   "file_extension": ".py",
   "mimetype": "text/x-python",
   "name": "python",
   "nbconvert_exporter": "python",
   "pygments_lexer": "ipython3",
   "version": "3.12.9"
  }
 },
 "nbformat": 4,
 "nbformat_minor": 2
}
