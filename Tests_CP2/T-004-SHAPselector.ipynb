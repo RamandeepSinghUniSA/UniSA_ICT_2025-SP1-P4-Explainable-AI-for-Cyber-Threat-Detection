{
 "cells": [
  {
   "cell_type": "code",
   "execution_count": 1,
   "id": "7c4b88b6",
   "metadata": {},
   "outputs": [],
   "source": [
    "import pandas as pd\n",
    "import numpy as np\n",
    "from sklearn.preprocessing import OneHotEncoder, LabelEncoder, StandardScaler, MinMaxScaler\n",
    "from sklearn.metrics import classification_report\n",
    "from sklearn.ensemble import RandomForestClassifier\n",
    "from sklearn.model_selection import train_test_split\n",
    "from torch.utils.data import DataLoader, TensorDataset\n",
    "import torch\n",
    "from Models.models import NNdynamic, plot_confusion_matrix, plot_metrics\n",
    "import shap\n",
    "from xgboost import XGBClassifier\n",
    "from sklearn.metrics import accuracy_score"
   ]
  },
  {
   "cell_type": "code",
   "execution_count": 2,
   "id": "caa1de81",
   "metadata": {},
   "outputs": [
    {
     "name": "stderr",
     "output_type": "stream",
     "text": [
      "C:\\Users\\adi_s\\AppData\\Local\\Temp\\ipykernel_34116\\2584280520.py:1: DtypeWarning: Columns (1,3) have mixed types. Specify dtype option on import or set low_memory=False.\n",
      "  data = pd.read_csv('Cleaned_full_data.csv')\n"
     ]
    }
   ],
   "source": [
    "data = pd.read_csv('Cleaned_full_data.csv')"
   ]
  },
  {
   "cell_type": "code",
   "execution_count": 3,
   "id": "af7faf6f",
   "metadata": {},
   "outputs": [],
   "source": [
    "# Reset retained index.\n",
    "data = data.reset_index(drop=True)\n",
    "# Set NA to 0.\n",
    "data['ct_ftp_cmd'] = data['ct_ftp_cmd'].fillna(0)\n",
    "data['attack_cat'] = data['attack_cat'].str.replace(r'\\s+', '', regex=True)\n",
    "data['attack_cat'] = data['attack_cat'].str.replace('Backdoors', 'Backdoor')"
   ]
  },
  {
   "cell_type": "code",
   "execution_count": 4,
   "id": "a119e95b",
   "metadata": {},
   "outputs": [],
   "source": [
    "data = data.drop(columns=['proto', 'dsport', 'service', 'state', 'srcip', 'sport', 'dstip'])"
   ]
  },
  {
   "cell_type": "code",
   "execution_count": 5,
   "id": "89683c87",
   "metadata": {},
   "outputs": [],
   "source": [
    "temp = data[['is_ftp_login', 'is_sm_ips_ports', 'label', 'attack_cat']]\n",
    "data = data.drop(columns=['is_ftp_login', 'is_sm_ips_ports', 'label', 'attack_cat'])"
   ]
  },
  {
   "cell_type": "code",
   "execution_count": 6,
   "id": "5182654c",
   "metadata": {},
   "outputs": [],
   "source": [
    "# The resulting encoded features can be found in Tools/EncoderTests.\n",
    "ohe1 = pd.read_csv('Full_proto_encoded.csv')\n",
    "ohe2 = pd.read_csv('Full_dsport_encoded.csv')\n",
    "ohe3 = pd.read_csv('Full_service_encoded.csv')\n",
    "ohe4 = pd.read_csv('Full_state_encoded.csv')\n",
    "# Spelling error.\n",
    "ohe5 = pd.read_csv('Full_scrip_encoded.csv')\n",
    "#------------------------------------------#\n",
    "ohe6 = pd.read_csv('Full_sport_encoded.csv')\n",
    "ohe7 = pd.read_csv('Full_dstip_encoded.csv')"
   ]
  },
  {
   "cell_type": "code",
   "execution_count": 7,
   "id": "0436af07",
   "metadata": {},
   "outputs": [],
   "source": [
    "# MinMax seperates Normal data well and reduces noise. Please see Kmeans TSNE evaluation in Tools.\n",
    "scaler = MinMaxScaler()\n",
    "scaled_data = scaler.fit_transform(data)\n",
    "data = pd.DataFrame(scaled_data, columns=data.columns)\n",
    "data = pd.concat([data, temp, ohe1, ohe2, ohe3, ohe4, ohe5, ohe6, ohe7], axis=1)"
   ]
  },
  {
   "cell_type": "code",
   "execution_count": 8,
   "id": "db47fe07",
   "metadata": {},
   "outputs": [],
   "source": [
    "data = data.sample(n=10000)"
   ]
  },
  {
   "cell_type": "code",
   "execution_count": 9,
   "id": "deaf5ee8",
   "metadata": {},
   "outputs": [
    {
     "name": "stdout",
     "output_type": "stream",
     "text": [
      "Train: label\n",
      "0    6975\n",
      "1    1025\n",
      "Name: count, dtype: int64\n",
      "Test label\n",
      "0    1766\n",
      "1     234\n",
      "Name: count, dtype: int64\n"
     ]
    }
   ],
   "source": [
    "X_temp = data.drop(columns=['label'])\n",
    "y = data['label']\n",
    "X_train, X_test, y_train, y_test = train_test_split(\n",
    "    X_temp, y, test_size=0.2, random_state=42)\n",
    "test_attack_cat = X_test['attack_cat']\n",
    "print('Train:', y_train.value_counts())\n",
    "print('Test', y_test.value_counts())\n",
    "X_train = X_train.drop(columns=['attack_cat'])\n",
    "X_test = X_test.drop(columns=['attack_cat'])"
   ]
  },
  {
   "cell_type": "code",
   "execution_count": 10,
   "id": "0f594fd5",
   "metadata": {},
   "outputs": [],
   "source": [
    "# Prepare batches.\n",
    "batch_size = 128\n",
    "X_train_tensor = torch.tensor(X_train.values, dtype=torch.float32)\n",
    "X_test_tensor = torch.tensor(X_test.values, dtype=torch.float32)\n",
    "y_train_tensor = torch.tensor(y_train.values, dtype=torch.float32)\n",
    "y_test_tensor = torch.tensor(y_test.values, dtype=torch.float32)\n",
    "train_dataset = TensorDataset(X_train_tensor, y_train_tensor)\n",
    "test_dataset = TensorDataset(X_test_tensor, y_test_tensor)\n",
    "train_loader = DataLoader(train_dataset, batch_size=batch_size, shuffle=True)\n",
    "test_loader = DataLoader(test_dataset, batch_size=batch_size, shuffle=False)"
   ]
  },
  {
   "cell_type": "code",
   "execution_count": 11,
   "id": "6e6f490a",
   "metadata": {},
   "outputs": [],
   "source": [
    "device = torch.device(\"cuda\" if torch.cuda.is_available() else \"cpu\")\n",
    "n_features = X_train_tensor.shape[1]\n",
    "fc_size = 128\n",
    "save_dir = './Models/saved_models/'\n",
    "model1 = NNdynamic(n_features, fc_size, device, save_dir)"
   ]
  },
  {
   "cell_type": "code",
   "execution_count": 13,
   "id": "69e6fd1e",
   "metadata": {},
   "outputs": [
    {
     "name": "stderr",
     "output_type": "stream",
     "text": [
      "Epoch 1/5: 100%|██████████| 63/63 [00:00<00:00, 146.45batch/s]\n"
     ]
    },
    {
     "name": "stdout",
     "output_type": "stream",
     "text": [
      "Epoch [1/5], Train Loss: 0.0960, Train Acc: 0.9680, Train F1: 0.9600\n"
     ]
    },
    {
     "name": "stderr",
     "output_type": "stream",
     "text": [
      "Epoch 2/5: 100%|██████████| 63/63 [00:00<00:00, 176.78batch/s]\n"
     ]
    },
    {
     "name": "stdout",
     "output_type": "stream",
     "text": [
      "Epoch [2/5], Train Loss: 0.0214, Train Acc: 0.9895, Train F1: 0.9893\n"
     ]
    },
    {
     "name": "stderr",
     "output_type": "stream",
     "text": [
      "Epoch 3/5: 100%|██████████| 63/63 [00:00<00:00, 162.04batch/s]\n"
     ]
    },
    {
     "name": "stdout",
     "output_type": "stream",
     "text": [
      "Epoch [3/5], Train Loss: 0.0192, Train Acc: 0.9907, Train F1: 0.9906\n"
     ]
    },
    {
     "name": "stderr",
     "output_type": "stream",
     "text": [
      "Epoch 4/5: 100%|██████████| 63/63 [00:00<00:00, 174.94batch/s]\n"
     ]
    },
    {
     "name": "stdout",
     "output_type": "stream",
     "text": [
      "Epoch [4/5], Train Loss: 0.0173, Train Acc: 0.9914, Train F1: 0.9914\n"
     ]
    },
    {
     "name": "stderr",
     "output_type": "stream",
     "text": [
      "Epoch 5/5: 100%|██████████| 63/63 [00:00<00:00, 197.66batch/s]\n"
     ]
    },
    {
     "name": "stdout",
     "output_type": "stream",
     "text": [
      "Epoch [5/5], Train Loss: 0.0174, Train Acc: 0.9914, Train F1: 0.9914\n"
     ]
    },
    {
     "name": "stderr",
     "output_type": "stream",
     "text": [
      "Testing: 100%|██████████| 16/16 [00:00<00:00, 340.68batch/s]\n"
     ]
    },
    {
     "name": "stdout",
     "output_type": "stream",
     "text": [
      "Test Loss: 0.0210, Test Accuracy: 0.9881, Test F1: 0.9885\n"
     ]
    },
    {
     "data": {
      "image/png": "[encoded data removed]",
      "text/plain": [
       "<Figure size 600x400 with 1 Axes>"
      ]
     },
     "metadata": {},
     "output_type": "display_data"
    },
    {
     "data": {
      "image/png": "[encoded data removed]",
      "text/plain": [
       "<Figure size 800x600 with 2 Axes>"
      ]
     },
     "metadata": {},
     "output_type": "display_data"
    }
   ],
   "source": [
    "sampler = None\n",
    "params = None\n",
    "learning_rate = 0.01\n",
    "epochs = 5\n",
    "save_factor = 100\n",
    "store_data = False\n",
    "model1.run(train_loader, learning_rate, epochs, save_factor, sampler, params, store_data)\n",
    "model1.test(test_loader)\n",
    "plot_metrics(model1.train_loss, len(model1.train_loss), title=\"Train Loss\")\n",
    "labels = test_dataset.tensors[1]\n",
    "plot_confusion_matrix(labels, model1.test_predicted)"
   ]
  },
  {
   "cell_type": "code",
   "execution_count": 35,
   "id": "279d0aca",
   "metadata": {},
   "outputs": [],
   "source": [
    "X_background = torch.tensor(X_train.iloc[:, :10].values, dtype=torch.float32)"
   ]
  },
  {
   "cell_type": "code",
   "execution_count": 31,
   "id": "720438b4",
   "metadata": {},
   "outputs": [
    {
     "name": "stdout",
     "output_type": "stream",
     "text": [
      "322\n",
      "10\n"
     ]
    }
   ],
   "source": [
    "print(len(X_train.columns))\n",
    "print(len(X_train.iloc[:, :10].columns))"
   ]
  },
  {
   "cell_type": "markdown",
   "id": "ddf4e271",
   "metadata": {},
   "source": [
    "# I probably need to spend some time on the visualisations then develop this further."
   ]
  },
  {
   "cell_type": "code",
   "execution_count": null,
   "id": "467869f3",
   "metadata": {},
   "outputs": [],
   "source": [
    "class SHAPselector:\n",
    "    def __init__(self, data):\n",
    "        self.background = data\n",
    "        self.shap_data = None\n",
    "        self.tensor = None\n",
    "        self.actual = None\n",
    "        self.predicted = None\n",
    "        self.background_data = None\n",
    "        self.background_tensor = None\n",
    "\n",
    "    def add_labels(self, type_of, labels):\n",
    "        \n",
    "        if type_of == 'predicted':\n",
    "            self.predicted = labels\n",
    "        if type_of == 'actual':\n",
    "            self.actual = labels\n",
    "\n",
    "\n",
    "    def sample_background(self, size, rs):\n",
    "        bk = data.sample(n=size, random_state=rs)\n",
    "        static_columns = bk.columns[bk.nunique() == 1].tolist()\n",
    "        if static_columns:\n",
    "            print('Warning. Static variables in background sample may not truly represent the data')\n",
    "            for col in static_columns:\n",
    "                print(f\"{col}\")\n",
    "        else:\n",
    "            print('No static variables in sample')\n",
    "        self.background_data = bk\n",
    "\n",
    "    \n",
    "    \n",
    "\n",
    "\n",
    "\n",
    "\n"
   ]
  },
  {
   "cell_type": "code",
   "execution_count": 27,
   "id": "24ef7c0f",
   "metadata": {},
   "outputs": [],
   "source": [
    "ss = SHAPselector(X_train, X_test)"
   ]
  },
  {
   "cell_type": "code",
   "execution_count": 25,
   "id": "b97d7c4e",
   "metadata": {},
   "outputs": [
    {
     "name": "stdout",
     "output_type": "stream",
     "text": [
      "Warning. Static variables in background sample may not truly represent the data\n",
      "proto_icmp\n",
      "proto_any\n",
      "proto_gre\n",
      "proto_rsvp\n",
      "proto_ipv6\n",
      "proto_swipe\n",
      "proto_sun-nd\n",
      "proto_pim\n",
      "proto_mobile\n",
      "proto_sep\n",
      "proto_micp\n",
      "proto_aes-sp3-d\n",
      "proto_encap\n",
      "proto_eigrp\n",
      "proto_ipip\n",
      "proto_mtp\n",
      "proto_larp\n",
      "proto_sprite-rpc\n",
      "proto_pri-enc\n",
      "proto_etherip\n",
      "proto_vmtp\n",
      "proto_tcf\n",
      "proto_dgp\n",
      "proto_nsfnet-igp\n",
      "proto_ttp\n",
      "proto_vines\n",
      "proto_pnni\n",
      "proto_secure-vmtp\n",
      "proto_iso-ip\n",
      "proto_wb-expak\n",
      "proto_wb-mon\n",
      "proto_br-sat-mon\n",
      "proto_pvp\n",
      "proto_wsn\n",
      "proto_gmtp\n",
      "proto_scps\n",
      "proto_ifmp\n",
      "proto_stp\n",
      "proto_fc\n",
      "proto_iplt\n",
      "proto_pipe\n",
      "proto_sps\n",
      "proto_sccopmce\n",
      "proto_crudp\n",
      "proto_isis\n",
      "proto_crtp\n",
      "proto_fire\n",
      "proto_ptp\n",
      "proto_sm\n",
      "proto_uti\n",
      "proto_smp\n",
      "proto_srp\n",
      "proto_aris\n",
      "proto_l2tp\n",
      "proto_ddx\n",
      "proto_pgm\n",
      "proto_zero\n",
      "proto_vrrp\n",
      "proto_ipx-n-ip\n",
      "proto_compaq-peer\n",
      "proto_ipcomp\n",
      "proto_snp\n",
      "proto_cpnx\n",
      "proto_a/n\n",
      "proto_qnx\n",
      "proto_cphb\n",
      "proto_cftp\n",
      "proto_visa\n",
      "proto_netblt\n",
      "proto_rdp\n",
      "proto_irtp\n",
      "proto_leaf-2\n",
      "proto_leaf-1\n",
      "proto_trunk-2\n",
      "proto_xns-idp\n",
      "proto_trunk-1\n",
      "proto_prm\n",
      "proto_dcn\n",
      "proto_mux\n",
      "proto_hmp\n",
      "proto_pup\n",
      "proto_chaos\n",
      "proto_bbn-rcc\n",
      "proto_argus\n",
      "proto_igp\n",
      "proto_nvp\n",
      "proto_emcon\n",
      "proto_cbt\n",
      "proto_egp\n",
      "proto_st2\n",
      "proto_ggp\n",
      "proto_ip\n",
      "proto_ipnip\n",
      "proto_ipcv\n",
      "proto_iso-tp4\n",
      "proto_mfe-nsp\n",
      "proto_bna\n",
      "proto_sat-mon\n",
      "proto_ippc\n",
      "proto_rvd\n",
      "proto_kryptolan\n",
      "proto_sat-expak\n",
      "proto_skip\n",
      "proto_tlsp\n",
      "proto_ipv6-no\n",
      "proto_narp\n",
      "proto_i-nlsp\n",
      "proto_merit-inp\n",
      "proto_ib\n",
      "proto_mhrp\n",
      "proto_ipv6-route\n",
      "proto_sdrp\n",
      "proto_ipv6-frag\n",
      "proto_idrp\n",
      "proto_il\n",
      "proto_idpr-cmtp\n",
      "proto_ddp\n",
      "proto_tp++\n",
      "proto_idpr\n",
      "proto_xtp\n",
      "proto_3pc\n",
      "proto_igmp\n",
      "dsport_135\n",
      "dsport_5060\n",
      "dsport_69\n",
      "dsport_8080\n",
      "dsport_137\n",
      "dsport_139\n",
      "dsport_67\n",
      "dsport_23\n",
      "dsport_389\n",
      "dsport_5555\n",
      "dsport_443\n",
      "dsport_1900\n",
      "dsport_554\n",
      "dsport_161\n",
      "dsport_5600\n",
      "dsport_548\n",
      "dsport_631\n",
      "dsport_6667\n",
      "dsport_500\n",
      "dsport_515\n",
      "service_pop3\n",
      "service_dhcp\n",
      "service_ssl\n",
      "service_snmp\n",
      "service_radius\n",
      "service_irc\n",
      "state_RST\n",
      "state_ECO\n",
      "state_CLO\n",
      "state_URH\n",
      "state_ACC\n",
      "srcip_10.40.182.3\n",
      "srcip_10.40.85.10\n",
      "srcip_149.171.126.5\n",
      "srcip_149.171.126.1\n",
      "srcip_149.171.126.3\n",
      "srcip_149.171.126.4\n",
      "srcip_149.171.126.6\n",
      "srcip_149.171.126.2\n",
      "srcip_149.171.126.8\n",
      "srcip_149.171.126.9\n",
      "srcip_149.171.126.7\n",
      "srcip_149.171.126.0\n",
      "srcip_149.171.126.13\n",
      "srcip_192.168.241.243\n",
      "sport_137\n",
      "sport_68\n",
      "sport_800\n",
      "dstip_10.40.182.3\n",
      "dstip_59.166.0.0\n",
      "dstip_59.166.0.1\n",
      "dstip_59.166.0.2\n",
      "dstip_59.166.0.9\n",
      "dstip_59.166.0.4\n",
      "dstip_59.166.0.6\n",
      "dstip_59.166.0.8\n",
      "dstip_59.166.0.5\n",
      "dstip_59.166.0.7\n",
      "dstip_192.168.241.50\n",
      "dstip_10.40.198.10\n",
      "dstip_59.166.0.3\n",
      "dstip_192.168.241.243\n",
      "dstip_175.45.176.2\n",
      "dstip_224.0.0.1\n"
     ]
    }
   ],
   "source": [
    "ss.sample_background(1000, 42)"
   ]
  },
  {
   "cell_type": "code",
   "execution_count": null,
   "id": "092f9819",
   "metadata": {},
   "outputs": [],
   "source": []
  }
 ],
 "metadata": {
  "kernelspec": {
   "display_name": "conda12",
   "language": "python",
   "name": "python3"
  },
  "language_info": {
   "codemirror_mode": {
    "name": "ipython",
    "version": 3
   },
   "file_extension": ".py",
   "mimetype": "text/x-python",
   "name": "python",
   "nbconvert_exporter": "python",
   "pygments_lexer": "ipython3",
   "version": "3.12.9"
  }
 },
 "nbformat": 4,
 "nbformat_minor": 5
}
