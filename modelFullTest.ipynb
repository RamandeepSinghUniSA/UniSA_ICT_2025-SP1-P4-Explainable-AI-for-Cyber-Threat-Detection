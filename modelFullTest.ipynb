{
 "cells": [
  {
   "cell_type": "code",
   "execution_count": 1,
   "id": "a6a4a35c",
   "metadata": {},
   "outputs": [],
   "source": [
    "import pandas as pd\n",
    "import numpy as np\n",
    "from sklearn.preprocessing import OneHotEncoder, LabelEncoder, StandardScaler, MinMaxScaler\n",
    "from sklearn.metrics import classification_report\n",
    "from sklearn.ensemble import RandomForestClassifier\n",
    "from sklearn.model_selection import train_test_split\n",
    "from torch.utils.data import DataLoader, TensorDataset\n",
    "import joblib\n",
    "import torch\n",
    "from Models.models import NNdynamic, plot_confusion_matrix, plot_metrics"
   ]
  },
  {
   "cell_type": "code",
   "execution_count": 2,
   "id": "5a370e2d",
   "metadata": {},
   "outputs": [
    {
     "name": "stderr",
     "output_type": "stream",
     "text": [
      "C:\\Users\\adi_s\\AppData\\Local\\Temp\\ipykernel_7776\\2584280520.py:1: DtypeWarning: Columns (1,3) have mixed types. Specify dtype option on import or set low_memory=False.\n",
      "  data = pd.read_csv('Cleaned_full_data.csv')\n"
     ]
    }
   ],
   "source": [
    "data = pd.read_csv('Cleaned_full_data.csv')"
   ]
  },
  {
   "cell_type": "code",
   "execution_count": 3,
   "id": "f19d3bee",
   "metadata": {},
   "outputs": [],
   "source": [
    "# Reset retained index.\n",
    "data = data.reset_index(drop=True)\n",
    "# Set NA to 0.\n",
    "data['ct_ftp_cmd'] = data['ct_ftp_cmd'].fillna(0)\n",
    "data['attack_cat'] = data['attack_cat'].str.replace(r'\\s+', '', regex=True)\n",
    "data['attack_cat'] = data['attack_cat'].str.replace('Backdoors', 'Backdoor')"
   ]
  },
  {
   "cell_type": "code",
   "execution_count": 4,
   "id": "2f56484b",
   "metadata": {},
   "outputs": [],
   "source": [
    "data = data.drop(columns=['proto', 'dsport', 'service', 'state', 'srcip', 'sport', 'dstip'])"
   ]
  },
  {
   "cell_type": "code",
   "execution_count": 5,
   "id": "6fc17efa",
   "metadata": {},
   "outputs": [],
   "source": [
    "temp = data[['is_ftp_login', 'is_sm_ips_ports', 'label', 'attack_cat']]\n",
    "data = data.drop(columns=['is_ftp_login', 'is_sm_ips_ports', 'label', 'attack_cat'])"
   ]
  },
  {
   "cell_type": "code",
   "execution_count": 6,
   "id": "b8173e12",
   "metadata": {},
   "outputs": [],
   "source": [
    "# The resulting encoded features can be found in Tools/EncoderTests.\n",
    "ohe1 = pd.read_csv('Full_proto_encoded.csv')\n",
    "ohe2 = pd.read_csv('Full_dsport_encoded.csv')\n",
    "ohe3 = pd.read_csv('Full_service_encoded.csv')\n",
    "ohe4 = pd.read_csv('Full_state_encoded.csv')\n",
    "# Spelling error.\n",
    "ohe5 = pd.read_csv('Full_scrip_encoded.csv')\n",
    "#------------------------------------------#\n",
    "ohe6 = pd.read_csv('Full_sport_encoded.csv')\n",
    "ohe7 = pd.read_csv('Full_dstip_encoded.csv')"
   ]
  },
  {
   "cell_type": "code",
   "execution_count": 7,
   "id": "78685c9e",
   "metadata": {},
   "outputs": [],
   "source": [
    "# MinMax seperates Normal data well and reduces noise. Please see Kmeans TSNE evaluation in Tools.\n",
    "scaler = MinMaxScaler()\n",
    "scaled_data = scaler.fit_transform(data)\n",
    "data = pd.DataFrame(scaled_data, columns=data.columns)\n",
    "data = pd.concat([data, temp, ohe1, ohe2, ohe3, ohe4, ohe5, ohe6, ohe7], axis=1)"
   ]
  },
  {
   "cell_type": "code",
   "execution_count": 8,
   "id": "d0d0652b",
   "metadata": {},
   "outputs": [
    {
     "name": "stdout",
     "output_type": "stream",
     "text": [
      "Train: label\n",
      "0    1774933\n",
      "1     257104\n",
      "Name: count, dtype: int64\n",
      "Test label\n",
      "0    443831\n",
      "1     64179\n",
      "Name: count, dtype: int64\n"
     ]
    }
   ],
   "source": [
    "X_temp = data.drop(columns=['label'])\n",
    "y = data['label']\n",
    "X_train, X_test, y_train, y_test = train_test_split(\n",
    "    X_temp, y, test_size=0.2, random_state=42)\n",
    "test_attack_cat = X_test['attack_cat']\n",
    "print('Train:', y_train.value_counts())\n",
    "print('Test', y_test.value_counts())\n",
    "X_train = X_train.drop(columns=['attack_cat'])\n",
    "X_test = X_test.drop(columns=['attack_cat'])"
   ]
  },
  {
   "cell_type": "code",
   "execution_count": 9,
   "id": "2bf55caf",
   "metadata": {},
   "outputs": [],
   "source": [
    "# Prepare batches.\n",
    "batch_size = 128\n",
    "X_train_tensor = torch.tensor(X_train.values, dtype=torch.float32)\n",
    "X_test_tensor = torch.tensor(X_test.values, dtype=torch.float32)\n",
    "y_train_tensor = torch.tensor(y_train.values, dtype=torch.float32)\n",
    "y_test_tensor = torch.tensor(y_test, dtype=torch.float32)\n",
    "train_dataset = TensorDataset(X_train_tensor, y_train_tensor)\n",
    "test_dataset = TensorDataset(X_test_tensor, y_test_tensor)\n",
    "train_loader = DataLoader(train_dataset, batch_size=batch_size, shuffle=True)\n",
    "test_loader = DataLoader(test_dataset, batch_size=batch_size, shuffle=False)"
   ]
  },
  {
   "cell_type": "code",
   "execution_count": 10,
   "id": "38a5ce40",
   "metadata": {},
   "outputs": [],
   "source": [
    "device = torch.device(\"cuda\" if torch.cuda.is_available() else \"cpu\")\n",
    "n_features = X_train_tensor.shape[1]\n",
    "fc_size = 128\n",
    "save_dir = './Models/saved_models/128/smote/'\n",
    "model1 = NNdynamic(n_features, fc_size, device, save_dir)"
   ]
  },
  {
   "cell_type": "code",
   "execution_count": 11,
   "id": "45c3e790",
   "metadata": {},
   "outputs": [
    {
     "name": "stderr",
     "output_type": "stream",
     "text": [
      "Epoch 1/5: 100%|██████████| 15876/15876 [04:08<00:00, 63.93batch/s]\n"
     ]
    },
    {
     "name": "stdout",
     "output_type": "stream",
     "text": [
      "Epoch [1/5], Train Loss: 0.0209, Train Acc: 0.9914, Train F1: 0.9914\n"
     ]
    },
    {
     "name": "stderr",
     "output_type": "stream",
     "text": [
      "Epoch 2/5: 100%|██████████| 15876/15876 [04:02<00:00, 65.48batch/s]\n"
     ]
    },
    {
     "name": "stdout",
     "output_type": "stream",
     "text": [
      "Epoch [2/5], Train Loss: 0.0195, Train Acc: 0.9920, Train F1: 0.9920\n"
     ]
    },
    {
     "name": "stderr",
     "output_type": "stream",
     "text": [
      "Epoch 3/5: 100%|██████████| 15876/15876 [04:06<00:00, 64.40batch/s]\n"
     ]
    },
    {
     "name": "stdout",
     "output_type": "stream",
     "text": [
      "Epoch [3/5], Train Loss: 0.0205, Train Acc: 0.9925, Train F1: 0.9925\n"
     ]
    },
    {
     "name": "stderr",
     "output_type": "stream",
     "text": [
      "Epoch 4/5: 100%|██████████| 15876/15876 [04:14<00:00, 62.36batch/s]\n"
     ]
    },
    {
     "name": "stdout",
     "output_type": "stream",
     "text": [
      "Epoch [4/5], Train Loss: 0.0216, Train Acc: 0.9927, Train F1: 0.9927\n"
     ]
    },
    {
     "name": "stderr",
     "output_type": "stream",
     "text": [
      "Epoch 5/5: 100%|██████████| 15876/15876 [04:12<00:00, 62.78batch/s]\n"
     ]
    },
    {
     "name": "stdout",
     "output_type": "stream",
     "text": [
      "Epoch [5/5], Train Loss: 0.0212, Train Acc: 0.9926, Train F1: 0.9926\n"
     ]
    },
    {
     "name": "stderr",
     "output_type": "stream",
     "text": [
      "Testing: 100%|██████████| 3969/3969 [00:11<00:00, 335.86batch/s]\n"
     ]
    },
    {
     "name": "stdout",
     "output_type": "stream",
     "text": [
      "Test Loss: 0.0182, Test Accuracy: 0.9878, Test F1: 0.9882\n"
     ]
    },
    {
     "data": {
      "image/png": "[encoded data removed]",
      "text/plain": [
       "<Figure size 600x400 with 1 Axes>"
      ]
     },
     "metadata": {},
     "output_type": "display_data"
    },
    {
     "name": "stdout",
     "output_type": "stream",
     "text": [
      "SMOTE Test\n"
     ]
    },
    {
     "data": {
      "image/png": "[encoded data removed]",
      "text/plain": [
       "<Figure size 800x600 with 2 Axes>"
      ]
     },
     "metadata": {},
     "output_type": "display_data"
    }
   ],
   "source": [
    "sampler = 'smote'\n",
    "params = {'k_neighbors': 2}\n",
    "learning_rate = 0.1\n",
    "epochs = 5\n",
    "save_factor = 1\n",
    "model1.run(train_loader, learning_rate, epochs, save_factor, sampler, params)\n",
    "model1.test(test_loader)\n",
    "plot_metrics(model1.train_loss, len(model1.train_loss), title=\"Train Loss\")\n",
    "print('SMOTE Test')\n",
    "labels = test_dataset.tensors[1]\n",
    "plot_confusion_matrix(labels, model1.test_predicted)"
   ]
  },
  {
   "cell_type": "code",
   "execution_count": 13,
   "id": "2efdb3c3",
   "metadata": {},
   "outputs": [],
   "source": [
    "device = torch.device(\"cuda\" if torch.cuda.is_available() else \"cpu\")\n",
    "n_features = X_train_tensor.shape[1]\n",
    "fc_size = 128\n",
    "save_dir = './Models/saved_models/128/smote/'\n",
    "model1 = NNdynamic(n_features, fc_size, device, save_dir)"
   ]
  },
  {
   "cell_type": "code",
   "execution_count": 15,
   "id": "7ad54f17",
   "metadata": {},
   "outputs": [
    {
     "ename": "NameError",
     "evalue": "name 'model' is not defined",
     "output_type": "error",
     "traceback": [
      "\u001b[1;31m---------------------------------------------------------------------------\u001b[0m",
      "\u001b[1;31mNameError\u001b[0m                                 Traceback (most recent call last)",
      "Cell \u001b[1;32mIn[15], line 1\u001b[0m\n\u001b[1;32m----> 1\u001b[0m \u001b[43mmodel1\u001b[49m\u001b[38;5;241;43m.\u001b[39;49m\u001b[43mload_model\u001b[49m\u001b[43m(\u001b[49m\u001b[38;5;124;43m'\u001b[39;49m\u001b[38;5;124;43m./Models/saved_models/smote/PB_epoch_5.pth\u001b[39;49m\u001b[38;5;124;43m'\u001b[39;49m\u001b[43m)\u001b[49m\n",
      "File \u001b[1;32mc:\\Users\\adi_s\\Desktop\\LSTM\\Models\\models.py:266\u001b[0m, in \u001b[0;36mNNdynamic.load_model\u001b[1;34m(self, path)\u001b[0m\n\u001b[0;32m    258\u001b[0m \u001b[38;5;28;01mdef\u001b[39;00m \u001b[38;5;21mload_model\u001b[39m(\u001b[38;5;28mself\u001b[39m, path):\n\u001b[0;32m    259\u001b[0m \u001b[38;5;250m    \u001b[39m\u001b[38;5;124;03m\"\"\"\u001b[39;00m\n\u001b[0;32m    260\u001b[0m \u001b[38;5;124;03m    load_model: Load a previously saved model for testing.\u001b[39;00m\n\u001b[0;32m    261\u001b[0m \n\u001b[1;32m   (...)\u001b[0m\n\u001b[0;32m    264\u001b[0m \n\u001b[0;32m    265\u001b[0m \u001b[38;5;124;03m    \"\"\"\u001b[39;00m\n\u001b[1;32m--> 266\u001b[0m     \u001b[43mmodel\u001b[49m\u001b[38;5;241m.\u001b[39mload_state_dict(torch\u001b[38;5;241m.\u001b[39mload(path))\n\u001b[0;32m    267\u001b[0m     model\u001b[38;5;241m.\u001b[39mto(\u001b[38;5;28mself\u001b[39m\u001b[38;5;241m.\u001b[39mdevice)\n",
      "\u001b[1;31mNameError\u001b[0m: name 'model' is not defined"
     ]
    }
   ],
   "source": [
    "model1.load_model('./Models/saved_models/smote/PB_epoch_5.pth')"
   ]
  },
  {
   "cell_type": "code",
   "execution_count": null,
   "id": "4a7376ac",
   "metadata": {},
   "outputs": [
    {
     "ename": "NameError",
     "evalue": "name 'model' is not defined",
     "output_type": "error",
     "traceback": [
      "\u001b[1;31m---------------------------------------------------------------------------\u001b[0m",
      "\u001b[1;31mNameError\u001b[0m                                 Traceback (most recent call last)",
      "Cell \u001b[1;32mIn[14], line 1\u001b[0m\n\u001b[1;32m----> 1\u001b[0m \u001b[43mmodel1\u001b[49m\u001b[38;5;241;43m.\u001b[39;49m\u001b[43mload_model\u001b[49m\u001b[43m(\u001b[49m\u001b[38;5;124;43m'\u001b[39;49m\u001b[38;5;124;43m./Models/saved_models/smote/PB_epoch_5.pth\u001b[39;49m\u001b[38;5;124;43m'\u001b[39;49m\u001b[43m)\u001b[49m\n\u001b[0;32m      2\u001b[0m model1\u001b[38;5;241m.\u001b[39mtest(test_loader)\n\u001b[0;32m      3\u001b[0m plot_metrics(model1\u001b[38;5;241m.\u001b[39mtrain_loss, \u001b[38;5;28mlen\u001b[39m(model1\u001b[38;5;241m.\u001b[39mtrain_loss), title\u001b[38;5;241m=\u001b[39m\u001b[38;5;124m\"\u001b[39m\u001b[38;5;124mTrain Loss\u001b[39m\u001b[38;5;124m\"\u001b[39m)\n",
      "File \u001b[1;32mc:\\Users\\adi_s\\Desktop\\LSTM\\Models\\models.py:266\u001b[0m, in \u001b[0;36mNNdynamic.load_model\u001b[1;34m(self, path)\u001b[0m\n\u001b[0;32m    258\u001b[0m \u001b[38;5;28;01mdef\u001b[39;00m \u001b[38;5;21mload_model\u001b[39m(\u001b[38;5;28mself\u001b[39m, path):\n\u001b[0;32m    259\u001b[0m \u001b[38;5;250m    \u001b[39m\u001b[38;5;124;03m\"\"\"\u001b[39;00m\n\u001b[0;32m    260\u001b[0m \u001b[38;5;124;03m    load_model: Load a previously saved model for testing.\u001b[39;00m\n\u001b[0;32m    261\u001b[0m \n\u001b[1;32m   (...)\u001b[0m\n\u001b[0;32m    264\u001b[0m \n\u001b[0;32m    265\u001b[0m \u001b[38;5;124;03m    \"\"\"\u001b[39;00m\n\u001b[1;32m--> 266\u001b[0m     \u001b[43mmodel\u001b[49m\u001b[38;5;241m.\u001b[39mload_state_dict(torch\u001b[38;5;241m.\u001b[39mload(path))\n\u001b[0;32m    267\u001b[0m     model\u001b[38;5;241m.\u001b[39mto(\u001b[38;5;28mself\u001b[39m\u001b[38;5;241m.\u001b[39mdevice)\n",
      "\u001b[1;31mNameError\u001b[0m: name 'model' is not defined"
     ]
    }
   ],
   "source": [
    "\n",
    "model1.test(test_loader)\n",
    "plot_metrics(model1.train_loss, len(model1.train_loss), title=\"Train Loss\")\n",
    "print('SMOTE Test')\n",
    "labels = test_dataset.tensors[1]\n",
    "plot_confusion_matrix(labels, model1.test_predicted)"
   ]
  },
  {
   "cell_type": "code",
   "execution_count": null,
   "id": "e66a487a",
   "metadata": {},
   "outputs": [],
   "source": [
    "modelx = NNdynamic(train_loader, 128, device, None)\n",
    "modelx.load_model('./Models/saved_models/smote/PB_epoch_1.pth')"
   ]
  },
  {
   "cell_type": "code",
   "execution_count": 13,
   "id": "da1f641c",
   "metadata": {},
   "outputs": [],
   "source": [
    "import shap"
   ]
  },
  {
   "cell_type": "code",
   "execution_count": 14,
   "id": "270e1550",
   "metadata": {},
   "outputs": [],
   "source": [
    "xp = shap.GradientExplainer(model1, X_test_tensor[:1000])\n",
    "sh = xp.shap_values(X_test_tensor[:1000])"
   ]
  },
  {
   "cell_type": "code",
   "execution_count": null,
   "id": "d5abf26a",
   "metadata": {},
   "outputs": [
    {
     "ename": "TypeError",
     "evalue": "empty(): argument 'size' failed to unpack the object at pos 2 with error \"type must be tuple of ints,but got DataLoader\"",
     "output_type": "error",
     "traceback": [
      "\u001b[1;31m---------------------------------------------------------------------------\u001b[0m",
      "\u001b[1;31mTypeError\u001b[0m                                 Traceback (most recent call last)",
      "Cell \u001b[1;32mIn[15], line 1\u001b[0m\n\u001b[1;32m----> 1\u001b[0m modelx \u001b[38;5;241m=\u001b[39m \u001b[43mNNdynamic\u001b[49m\u001b[43m(\u001b[49m\u001b[43mtrain_loader\u001b[49m\u001b[43m,\u001b[49m\u001b[43m \u001b[49m\u001b[38;5;241;43m128\u001b[39;49m\u001b[43m,\u001b[49m\u001b[43m \u001b[49m\u001b[43mdevice\u001b[49m\u001b[43m,\u001b[49m\u001b[43m \u001b[49m\u001b[38;5;28;43;01mNone\u001b[39;49;00m\u001b[43m)\u001b[49m\n\u001b[0;32m      2\u001b[0m modelx\u001b[38;5;241m.\u001b[39mload_model(\u001b[38;5;124m'\u001b[39m\u001b[38;5;124m./Models/saved_models/smote/PB_epoch_1.pth\u001b[39m\u001b[38;5;124m'\u001b[39m)\n",
      "File \u001b[1;32mc:\\Users\\adi_s\\Desktop\\LSTM\\Models\\models.py:69\u001b[0m, in \u001b[0;36mNNdynamic.__init__\u001b[1;34m(self, n_features, fc_size, device, save_dir)\u001b[0m\n\u001b[0;32m     67\u001b[0m \u001b[38;5;28mself\u001b[39m\u001b[38;5;241m.\u001b[39mdevice \u001b[38;5;241m=\u001b[39m device\n\u001b[0;32m     68\u001b[0m \u001b[38;5;28mself\u001b[39m\u001b[38;5;241m.\u001b[39msave_dir \u001b[38;5;241m=\u001b[39m save_dir\n\u001b[1;32m---> 69\u001b[0m \u001b[38;5;28mself\u001b[39m\u001b[38;5;241m.\u001b[39mfc1 \u001b[38;5;241m=\u001b[39m \u001b[43mnn\u001b[49m\u001b[38;5;241;43m.\u001b[39;49m\u001b[43mLinear\u001b[49m\u001b[43m(\u001b[49m\u001b[43mn_features\u001b[49m\u001b[43m,\u001b[49m\u001b[43m \u001b[49m\u001b[43mfc_size\u001b[49m\u001b[43m)\u001b[49m\n\u001b[0;32m     70\u001b[0m \u001b[38;5;28mself\u001b[39m\u001b[38;5;241m.\u001b[39mfc2 \u001b[38;5;241m=\u001b[39m nn\u001b[38;5;241m.\u001b[39mLinear(fc_size, \u001b[38;5;241m1\u001b[39m)\n\u001b[0;32m     71\u001b[0m \u001b[38;5;28mself\u001b[39m\u001b[38;5;241m.\u001b[39mactivation1 \u001b[38;5;241m=\u001b[39m nn\u001b[38;5;241m.\u001b[39mReLU()\n",
      "File \u001b[1;32mc:\\Users\\adi_s\\anaconda3\\envs\\conda12\\Lib\\site-packages\\torch\\nn\\modules\\linear.py:106\u001b[0m, in \u001b[0;36mLinear.__init__\u001b[1;34m(self, in_features, out_features, bias, device, dtype)\u001b[0m\n\u001b[0;32m    103\u001b[0m \u001b[38;5;28mself\u001b[39m\u001b[38;5;241m.\u001b[39min_features \u001b[38;5;241m=\u001b[39m in_features\n\u001b[0;32m    104\u001b[0m \u001b[38;5;28mself\u001b[39m\u001b[38;5;241m.\u001b[39mout_features \u001b[38;5;241m=\u001b[39m out_features\n\u001b[0;32m    105\u001b[0m \u001b[38;5;28mself\u001b[39m\u001b[38;5;241m.\u001b[39mweight \u001b[38;5;241m=\u001b[39m Parameter(\n\u001b[1;32m--> 106\u001b[0m     \u001b[43mtorch\u001b[49m\u001b[38;5;241;43m.\u001b[39;49m\u001b[43mempty\u001b[49m\u001b[43m(\u001b[49m\u001b[43m(\u001b[49m\u001b[43mout_features\u001b[49m\u001b[43m,\u001b[49m\u001b[43m \u001b[49m\u001b[43min_features\u001b[49m\u001b[43m)\u001b[49m\u001b[43m,\u001b[49m\u001b[43m \u001b[49m\u001b[38;5;241;43m*\u001b[39;49m\u001b[38;5;241;43m*\u001b[39;49m\u001b[43mfactory_kwargs\u001b[49m\u001b[43m)\u001b[49m\n\u001b[0;32m    107\u001b[0m )\n\u001b[0;32m    108\u001b[0m \u001b[38;5;28;01mif\u001b[39;00m bias:\n\u001b[0;32m    109\u001b[0m     \u001b[38;5;28mself\u001b[39m\u001b[38;5;241m.\u001b[39mbias \u001b[38;5;241m=\u001b[39m Parameter(torch\u001b[38;5;241m.\u001b[39mempty(out_features, \u001b[38;5;241m*\u001b[39m\u001b[38;5;241m*\u001b[39mfactory_kwargs))\n",
      "\u001b[1;31mTypeError\u001b[0m: empty(): argument 'size' failed to unpack the object at pos 2 with error \"type must be tuple of ints,but got DataLoader\""
     ]
    }
   ],
   "source": []
  },
  {
   "cell_type": "code",
   "execution_count": 12,
   "id": "1f7fd27c",
   "metadata": {},
   "outputs": [
    {
     "ename": "AttributeError",
     "evalue": "'NNdynamic' object has no attribute 'args'",
     "output_type": "error",
     "traceback": [
      "\u001b[1;31m---------------------------------------------------------------------------\u001b[0m",
      "\u001b[1;31mAttributeError\u001b[0m                            Traceback (most recent call last)",
      "Cell \u001b[1;32mIn[12], line 3\u001b[0m\n\u001b[0;32m      1\u001b[0m \u001b[38;5;28;01mfor\u001b[39;00m i \u001b[38;5;129;01min\u001b[39;00m \u001b[38;5;28mrange\u001b[39m(\u001b[38;5;241m1\u001b[39m, epochs\u001b[38;5;241m+\u001b[39m\u001b[38;5;241m1\u001b[39m):\n\u001b[0;32m      2\u001b[0m     path \u001b[38;5;241m=\u001b[39m \u001b[38;5;124mf\u001b[39m\u001b[38;5;124m\"\u001b[39m\u001b[38;5;124m./Models/saved_models/smote/PB_epoch_\u001b[39m\u001b[38;5;132;01m{\u001b[39;00mi\u001b[38;5;132;01m}\u001b[39;00m\u001b[38;5;124m.pth\u001b[39m\u001b[38;5;124m\"\u001b[39m\n\u001b[1;32m----> 3\u001b[0m     model \u001b[38;5;241m=\u001b[39m \u001b[43mmodel1\u001b[49m\u001b[38;5;241;43m.\u001b[39;49m\u001b[43mload_model\u001b[49m\u001b[43m(\u001b[49m\u001b[43mpath\u001b[49m\u001b[43m)\u001b[49m\n\u001b[0;32m      4\u001b[0m     \u001b[38;5;28mprint\u001b[39m(\u001b[38;5;124mf\u001b[39m\u001b[38;5;124m\"\u001b[39m\u001b[38;5;124mEpoch: \u001b[39m\u001b[38;5;132;01m{\u001b[39;00mi\u001b[38;5;132;01m}\u001b[39;00m\u001b[38;5;124m\"\u001b[39m)\n\u001b[0;32m      5\u001b[0m     model\u001b[38;5;241m.\u001b[39mtest(test_loader)\n",
      "File \u001b[1;32mc:\\Users\\adi_s\\Desktop\\LSTM\\Models\\models.py:266\u001b[0m, in \u001b[0;36mNNdynamic.load_model\u001b[1;34m(self, path)\u001b[0m\n\u001b[0;32m    258\u001b[0m \u001b[38;5;28;01mdef\u001b[39;00m \u001b[38;5;21mload_model\u001b[39m(\u001b[38;5;28mself\u001b[39m, path):\n\u001b[0;32m    259\u001b[0m \u001b[38;5;250m    \u001b[39m\u001b[38;5;124;03m\"\"\"\u001b[39;00m\n\u001b[0;32m    260\u001b[0m \u001b[38;5;124;03m    load_model: Load a previously saved model for testing.\u001b[39;00m\n\u001b[0;32m    261\u001b[0m \n\u001b[1;32m   (...)\u001b[0m\n\u001b[0;32m    264\u001b[0m \n\u001b[0;32m    265\u001b[0m \u001b[38;5;124;03m    \"\"\"\u001b[39;00m\n\u001b[1;32m--> 266\u001b[0m     model \u001b[38;5;241m=\u001b[39m \u001b[38;5;28mself\u001b[39m\u001b[38;5;241m.\u001b[39m\u001b[38;5;18m__class__\u001b[39m(\u001b[38;5;241m*\u001b[39m\u001b[38;5;28;43mself\u001b[39;49m\u001b[38;5;241;43m.\u001b[39;49m\u001b[43margs\u001b[49m)\n\u001b[0;32m    267\u001b[0m     model\u001b[38;5;241m.\u001b[39mload_state_dict(torch\u001b[38;5;241m.\u001b[39mload(path))\n\u001b[0;32m    268\u001b[0m     model\u001b[38;5;241m.\u001b[39mto(\u001b[38;5;28mself\u001b[39m\u001b[38;5;241m.\u001b[39mdevice)\n",
      "File \u001b[1;32mc:\\Users\\adi_s\\anaconda3\\envs\\conda12\\Lib\\site-packages\\torch\\nn\\modules\\module.py:1931\u001b[0m, in \u001b[0;36mModule.__getattr__\u001b[1;34m(self, name)\u001b[0m\n\u001b[0;32m   1929\u001b[0m     \u001b[38;5;28;01mif\u001b[39;00m name \u001b[38;5;129;01min\u001b[39;00m modules:\n\u001b[0;32m   1930\u001b[0m         \u001b[38;5;28;01mreturn\u001b[39;00m modules[name]\n\u001b[1;32m-> 1931\u001b[0m \u001b[38;5;28;01mraise\u001b[39;00m \u001b[38;5;167;01mAttributeError\u001b[39;00m(\n\u001b[0;32m   1932\u001b[0m     \u001b[38;5;124mf\u001b[39m\u001b[38;5;124m\"\u001b[39m\u001b[38;5;124m'\u001b[39m\u001b[38;5;132;01m{\u001b[39;00m\u001b[38;5;28mtype\u001b[39m(\u001b[38;5;28mself\u001b[39m)\u001b[38;5;241m.\u001b[39m\u001b[38;5;18m__name__\u001b[39m\u001b[38;5;132;01m}\u001b[39;00m\u001b[38;5;124m'\u001b[39m\u001b[38;5;124m object has no attribute \u001b[39m\u001b[38;5;124m'\u001b[39m\u001b[38;5;132;01m{\u001b[39;00mname\u001b[38;5;132;01m}\u001b[39;00m\u001b[38;5;124m'\u001b[39m\u001b[38;5;124m\"\u001b[39m\n\u001b[0;32m   1933\u001b[0m )\n",
      "\u001b[1;31mAttributeError\u001b[0m: 'NNdynamic' object has no attribute 'args'"
     ]
    }
   ],
   "source": [
    "for i in range(1, epochs+1):\n",
    "    path = f\"./Models/saved_models/smote/PB_epoch_{i}.pth\"\n",
    "    model = model1.load_model(path)\n",
    "    print(f\"Epoch: {i}\")\n",
    "    model.test(test_loader)\n",
    "    y_pred = np.array(model.test_predicted)\n",
    "    y_true = []\n",
    "    for _, labels in test_loader:\n",
    "        y_true.extend(labels.numpy())\n",
    "    y_true = np.array(y_true)\n",
    "    plot_confusion_matrix(y_true, y_pred)\n",
    "    model.test_predicted = []"
   ]
  },
  {
   "cell_type": "code",
   "execution_count": null,
   "id": "d3320a37",
   "metadata": {},
   "outputs": [],
   "source": [
    "device = torch.device(\"cuda\" if torch.cuda.is_available() else \"cpu\")\n",
    "n_features = X_train_tensor.shape[1]\n",
    "fc_size = 128\n",
    "save_dir = './Models/saved_models/tomeks/'\n",
    "model2 = NNdynamic(n_features, fc_size, device, save_dir)"
   ]
  },
  {
   "cell_type": "code",
   "execution_count": null,
   "id": "db54cf11",
   "metadata": {},
   "outputs": [],
   "source": [
    "sampler = 'tomeks'\n",
    "params = {'sampling_strategy': 'auto'}\n",
    "learning_rate = 0.1\n",
    "epochs = 5\n",
    "save_factor = 1\n",
    "model2.run(train_loader, learning_rate, epochs, save_factor, sampler, params)\n",
    "model2.test(test_loader)\n",
    "plot_metrics(model1.train_loss, len(model2.train_loss), title=\"Train Loss\")\n",
    "print('Tomeks Test')\n",
    "labels = test_dataset.tensors[1]\n",
    "plot_confusion_matrix(labels, model2.test_predicted)\n"
   ]
  },
  {
   "cell_type": "code",
   "execution_count": null,
   "id": "1115b074",
   "metadata": {},
   "outputs": [],
   "source": [
    "for i in range(1, epochs+1):\n",
    "    path = f\"./Models/saved_models/tomeks/PB_epoch_{i}.pth\"\n",
    "    model = model1.load_model(path)\n",
    "    print(f\"Epoch: {i}\")\n",
    "    model.test(test_loader)\n",
    "    y_pred = np.array(model.test_predicted)\n",
    "    y_true = []\n",
    "    for _, labels in test_loader:\n",
    "        y_true.extend(labels.numpy())\n",
    "    y_true = np.array(y_true)\n",
    "    plot_confusion_matrix(y_true, y_pred)\n",
    "    model.test_predicted = []"
   ]
  },
  {
   "cell_type": "code",
   "execution_count": null,
   "id": "562484ec",
   "metadata": {},
   "outputs": [],
   "source": [
    "device = torch.device(\"cuda\" if torch.cuda.is_available() else \"cpu\")\n",
    "n_features = X_train_tensor.shape[1]\n",
    "fc_size = 128\n",
    "save_dir = './Models/saved_models/edited_nearest/'\n",
    "model2 = NNdynamic(n_features, fc_size, device, save_dir)"
   ]
  },
  {
   "cell_type": "code",
   "execution_count": null,
   "id": "4abbd01a",
   "metadata": {},
   "outputs": [],
   "source": [
    "sampler = 'edited_nearest'\n",
    "params = {'n_neighbors': 2}\n",
    "learning_rate = 0.1\n",
    "epochs = 5\n",
    "save_factor = 1\n",
    "model2.run(train_loader, learning_rate, epochs, save_factor, sampler, params)\n",
    "model2.test(test_loader)\n",
    "plot_metrics(model1.train_loss, len(model2.train_loss), title=\"Train Loss\")\n",
    "model2.test(test_loader)\n",
    "print('Edited Nearest Test')\n",
    "labels = test_dataset.tensors[1]\n",
    "plot_confusion_matrix(labels, model2.test_predicted)"
   ]
  },
  {
   "cell_type": "code",
   "execution_count": null,
   "id": "c56c2da8",
   "metadata": {},
   "outputs": [],
   "source": [
    "for i in range(1, epochs+1):\n",
    "    path = f\"./Models/saved_models/edited_nearest/PB_epoch_{i}.pth\"\n",
    "    model = model1.load_model(path)\n",
    "    print(f\"Epoch: {i}\")\n",
    "    model.test(test_loader)\n",
    "    y_pred = np.array(model.test_predicted)\n",
    "    y_true = []\n",
    "    for _, labels in test_loader:\n",
    "        y_true.extend(labels.numpy())\n",
    "    y_true = np.array(y_true)\n",
    "    plot_confusion_matrix(y_true, y_pred)\n",
    "    model.test_predicted = []"
   ]
  },
  {
   "cell_type": "code",
   "execution_count": null,
   "id": "337bbe75",
   "metadata": {},
   "outputs": [],
   "source": [
    "device = torch.device(\"cuda\" if torch.cuda.is_available() else \"cpu\")\n",
    "n_features = X_train_tensor.shape[1]\n",
    "fc_size = 128\n",
    "save_dir = './Models/saved_models/near_miss/'\n",
    "model2 = NNdynamic(n_features, fc_size, device, save_dir)"
   ]
  },
  {
   "cell_type": "code",
   "execution_count": null,
   "id": "ab6c045c",
   "metadata": {},
   "outputs": [],
   "source": [
    "sampler = 'near_miss'\n",
    "params = {'n_neighbors': 2}\n",
    "learning_rate = 0.1\n",
    "epochs = 5\n",
    "save_factor = 1\n",
    "model2.run(train_loader, learning_rate, epochs, save_factor, sampler, params)\n",
    "model2.test(test_loader)\n",
    "plot_metrics(model1.train_loss, len(model2.train_loss), title=\"Train Loss\")\n",
    "model2.test(test_loader)\n",
    "print('Near Miss Test')\n",
    "labels = test_dataset.tensors[1]\n",
    "plot_confusion_matrix(labels, model2.test_predicted)"
   ]
  },
  {
   "cell_type": "code",
   "execution_count": null,
   "id": "db46cfdd",
   "metadata": {},
   "outputs": [],
   "source": [
    "for i in range(1, epochs+1):\n",
    "    path = f\"./Models/saved_models/near_miss/PB_epoch_{i}.pth\"\n",
    "    model = model1.load_model(path)\n",
    "    print(f\"Epoch: {i}\")\n",
    "    model.test(test_loader)\n",
    "    y_pred = np.array(model.test_predicted)\n",
    "    y_true = []\n",
    "    for _, labels in test_loader:\n",
    "        y_true.extend(labels.numpy())\n",
    "    y_true = np.array(y_true)\n",
    "    plot_confusion_matrix(y_true, y_pred)\n",
    "    model.test_predicted = []"
   ]
  },
  {
   "cell_type": "code",
   "execution_count": null,
   "id": "a4e29220",
   "metadata": {},
   "outputs": [],
   "source": [
    "device = torch.device(\"cuda\" if torch.cuda.is_available() else \"cpu\")\n",
    "n_features = X_train_tensor.shape[1]\n",
    "fc_size = 128\n",
    "save_dir = './Models/saved_models/condensed_nearest/'\n",
    "model2 = NNdynamic(n_features, fc_size, device, save_dir)"
   ]
  },
  {
   "cell_type": "code",
   "execution_count": null,
   "id": "bb656f24",
   "metadata": {},
   "outputs": [],
   "source": [
    "sampler = 'condensed_nearest'\n",
    "params = {'n_neighbors': 2}\n",
    "learning_rate = 0.1\n",
    "epochs = 5\n",
    "save_factor = 1\n",
    "model2.run(train_loader, learning_rate, epochs, save_factor, sampler, params)\n",
    "model2.test(test_loader)\n",
    "plot_metrics(model1.train_loss, len(model2.train_loss), title=\"Train Loss\")\n",
    "model2.test(test_loader)\n",
    "print('Condensed Nearest Test')\n",
    "labels = test_dataset.tensors[1]\n",
    "plot_confusion_matrix(labels, model2.test_predicted)"
   ]
  },
  {
   "cell_type": "code",
   "execution_count": null,
   "id": "d6a81167",
   "metadata": {},
   "outputs": [],
   "source": [
    "for i in range(1, epochs+1):\n",
    "    path = f\"./Models/saved_models/condensed_nearest/PB_epoch_{i}.pth\"\n",
    "    model = model1.load_model(path)\n",
    "    print(f\"Epoch: {i}\")\n",
    "    model.test(test_loader)\n",
    "    y_pred = np.array(model.test_predicted)\n",
    "    y_true = []\n",
    "    for _, labels in test_loader:\n",
    "        y_true.extend(labels.numpy())\n",
    "    y_true = np.array(y_true)\n",
    "    plot_confusion_matrix(y_true, y_pred)\n",
    "    model.test_predicted = []"
   ]
  },
  {
   "cell_type": "code",
   "execution_count": null,
   "id": "fefa857c",
   "metadata": {},
   "outputs": [],
   "source": [
    "device = torch.device(\"cuda\" if torch.cuda.is_available() else \"cpu\")\n",
    "n_features = X_train_tensor.shape[1]\n",
    "fc_size = 128\n",
    "save_dir = './Models/saved_models/one_sided_1/'\n",
    "model2 = NNdynamic(n_features, fc_size, device, save_dir)"
   ]
  },
  {
   "cell_type": "code",
   "execution_count": null,
   "id": "a21375ee",
   "metadata": {},
   "outputs": [],
   "source": [
    "sampler = 'one_sided'\n",
    "params = {'n_neighbors': None}\n",
    "learning_rate = 0.1\n",
    "epochs = 5\n",
    "save_factor = 1\n",
    "model2.run(train_loader, learning_rate, epochs, save_factor, sampler, params)\n",
    "model2.test(test_loader)\n",
    "plot_metrics(model1.train_loss, len(model2.train_loss), title=\"Train Loss\")\n",
    "model2.test(test_loader)\n",
    "print('One Sided Selection Test')\n",
    "labels = test_dataset.tensors[1]\n",
    "plot_confusion_matrix(labels, model2.test_predicted)"
   ]
  },
  {
   "cell_type": "code",
   "execution_count": null,
   "id": "f475eec8",
   "metadata": {},
   "outputs": [],
   "source": [
    "for i in range(1, epochs+1):\n",
    "    path = f\"./Models/saved_models/one_sided_1/PB_epoch_{i}.pth\"\n",
    "    model = model1.load_model(path)\n",
    "    print(f\"Epoch: {i}\")\n",
    "    model.test(test_loader)\n",
    "    y_pred = np.array(model.test_predicted)\n",
    "    y_true = []\n",
    "    for _, labels in test_loader:\n",
    "        y_true.extend(labels.numpy())\n",
    "    y_true = np.array(y_true)\n",
    "    plot_confusion_matrix(y_true, y_pred)\n",
    "    model.test_predicted = []"
   ]
  },
  {
   "cell_type": "code",
   "execution_count": null,
   "id": "f50682ce",
   "metadata": {},
   "outputs": [],
   "source": [
    "device = torch.device(\"cuda\" if torch.cuda.is_available() else \"cpu\")\n",
    "n_features = X_train_tensor.shape[1]\n",
    "fc_size = 128\n",
    "save_dir = './Models/saved_models/one_sided_2/'\n",
    "model2 = NNdynamic(n_features, fc_size, device, save_dir)"
   ]
  },
  {
   "cell_type": "code",
   "execution_count": null,
   "id": "14f7ddf2",
   "metadata": {},
   "outputs": [],
   "source": [
    "sampler = 'one_sided'\n",
    "params = {'n_neighbors': None}\n",
    "learning_rate = 0.1\n",
    "epochs = 5\n",
    "save_factor = 1\n",
    "model2.run(train_loader, learning_rate, epochs, save_factor, sampler, params)\n",
    "model2.test(test_loader)\n",
    "plot_metrics(model1.train_loss, len(model2.train_loss), title=\"Train Loss\")\n",
    "model2.test(test_loader)\n",
    "print('One Sided Selection Test')\n",
    "labels = test_dataset.tensors[1]\n",
    "plot_confusion_matrix(labels, model2.test_predicted)"
   ]
  },
  {
   "cell_type": "code",
   "execution_count": null,
   "id": "7c763952",
   "metadata": {},
   "outputs": [],
   "source": [
    "for i in range(1, epochs+1):\n",
    "    path = f\"./Models/saved_models/one_sided_2/PB_epoch_{i}.pth\"\n",
    "    model = model1.load_model(path)\n",
    "    print(f\"Epoch: {i}\")\n",
    "    model.test(test_loader)\n",
    "    y_pred = np.array(model.test_predicted)\n",
    "    y_true = []\n",
    "    for _, labels in test_loader:\n",
    "        y_true.extend(labels.numpy())\n",
    "    y_true = np.array(y_true)\n",
    "    plot_confusion_matrix(y_true, y_pred)\n",
    "    model.test_predicted = []"
   ]
  },
  {
   "cell_type": "markdown",
   "id": "4b806bdf",
   "metadata": {},
   "source": [
    "# Increase Batch Size and Dense Layers."
   ]
  }
 ],
 "metadata": {
  "kernelspec": {
   "display_name": "conda12",
   "language": "python",
   "name": "python3"
  },
  "language_info": {
   "codemirror_mode": {
    "name": "ipython",
    "version": 3
   },
   "file_extension": ".py",
   "mimetype": "text/x-python",
   "name": "python",
   "nbconvert_exporter": "python",
   "pygments_lexer": "ipython3",
   "version": "3.12.9"
  }
 },
 "nbformat": 4,
 "nbformat_minor": 5
}
