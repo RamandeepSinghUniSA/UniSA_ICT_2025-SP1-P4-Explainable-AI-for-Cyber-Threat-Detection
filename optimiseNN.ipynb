{
 "cells": [
  {
   "cell_type": "markdown",
   "id": "0af7cbc3",
   "metadata": {},
   "source": [
    "# Some preliminary tests. I have already done some testing with NN previously. Here we look for any signs of good Loss reduction and prediction accuracy and shift them to the following tests for further optimisation."
   ]
  },
  {
   "cell_type": "markdown",
   "id": "33d68ad2",
   "metadata": {},
   "source": [
    "Result: We find with the Standard model it tend to predict Normal labels better but with SMOTE we can force the model to prioritise threats without a significant impact on false predictions on Normal labels."
   ]
  },
  {
   "cell_type": "code",
   "execution_count": 5,
   "id": "d8158114",
   "metadata": {},
   "outputs": [
    {
     "ename": "ModuleNotFoundError",
     "evalue": "No module named 'Models'",
     "output_type": "error",
     "traceback": [
      "\u001b[1;31m---------------------------------------------------------------------------\u001b[0m",
      "\u001b[1;31mModuleNotFoundError\u001b[0m                       Traceback (most recent call last)",
      "Cell \u001b[1;32mIn[5], line 10\u001b[0m\n\u001b[0;32m      8\u001b[0m \u001b[38;5;28;01mimport\u001b[39;00m \u001b[38;5;21;01mjoblib\u001b[39;00m\n\u001b[0;32m      9\u001b[0m \u001b[38;5;28;01mimport\u001b[39;00m \u001b[38;5;21;01mtorch\u001b[39;00m\n\u001b[1;32m---> 10\u001b[0m \u001b[38;5;28;01mfrom\u001b[39;00m \u001b[38;5;21;01mModels\u001b[39;00m\u001b[38;5;21;01m.\u001b[39;00m\u001b[38;5;21;01mmodels\u001b[39;00m \u001b[38;5;28;01mimport\u001b[39;00m NNdynamic, plot_confusion_matrix, plot_metrics\n\u001b[0;32m     11\u001b[0m \u001b[38;5;28;01mfrom\u001b[39;00m \u001b[38;5;21;01mimblearn\u001b[39;00m\u001b[38;5;21;01m.\u001b[39;00m\u001b[38;5;21;01mover_sampling\u001b[39;00m \u001b[38;5;28;01mimport\u001b[39;00m SMOTE\n",
      "\u001b[1;31mModuleNotFoundError\u001b[0m: No module named 'Models'"
     ]
    }
   ],
   "source": [
    "import pandas as pd\n",
    "import numpy as np\n",
    "from sklearn.preprocessing import OneHotEncoder, LabelEncoder, StandardScaler, MinMaxScaler\n",
    "from sklearn.metrics import classification_report\n",
    "from sklearn.ensemble import RandomForestClassifier\n",
    "from sklearn.model_selection import train_test_split\n",
    "from torch.utils.data import DataLoader, TensorDataset\n",
    "import joblib\n",
    "import torch\n",
    "from Models.models import NNdynamic, plot_confusion_matrix, plot_metrics\n",
    "from imblearn.over_sampling import SMOTE"
   ]
  },
  {
   "cell_type": "code",
   "execution_count": null,
   "id": "079caf73",
   "metadata": {},
   "outputs": [
    {
     "name": "stderr",
     "output_type": "stream",
     "text": [
      "C:\\Users\\adi_s\\AppData\\Local\\Temp\\ipykernel_22700\\2584280520.py:1: DtypeWarning: Columns (1,3) have mixed types. Specify dtype option on import or set low_memory=False.\n",
      "  data = pd.read_csv('Cleaned_full_data.csv')\n"
     ]
    }
   ],
   "source": [
    "data = pd.read_csv('Cleaned_full_data.csv')"
   ]
  },
  {
   "cell_type": "code",
   "execution_count": null,
   "id": "7014f206",
   "metadata": {},
   "outputs": [],
   "source": [
    "# Reset retained index.\n",
    "data = data.reset_index(drop=True)\n",
    "# Set NA to 0.\n",
    "data['ct_ftp_cmd'] = data['ct_ftp_cmd'].fillna(0)\n",
    "data['attack_cat'] = data['attack_cat'].str.replace(r'\\s+', '', regex=True)\n",
    "data['attack_cat'] = data['attack_cat'].str.replace('Backdoors', 'Backdoor')"
   ]
  },
  {
   "cell_type": "code",
   "execution_count": null,
   "id": "7734acb2",
   "metadata": {},
   "outputs": [],
   "source": [
    "data = data.drop(columns=['proto', 'dsport', 'service', 'state', 'srcip', 'sport', 'dstip'])"
   ]
  },
  {
   "cell_type": "code",
   "execution_count": 4,
   "id": "2fcec882",
   "metadata": {},
   "outputs": [
    {
     "ename": "NameError",
     "evalue": "name 'data' is not defined",
     "output_type": "error",
     "traceback": [
      "\u001b[1;31m---------------------------------------------------------------------------\u001b[0m",
      "\u001b[1;31mNameError\u001b[0m                                 Traceback (most recent call last)",
      "Cell \u001b[1;32mIn[4], line 1\u001b[0m\n\u001b[1;32m----> 1\u001b[0m temp \u001b[38;5;241m=\u001b[39m \u001b[43mdata\u001b[49m[[\u001b[38;5;124m'\u001b[39m\u001b[38;5;124mis_ftp_login\u001b[39m\u001b[38;5;124m'\u001b[39m, \u001b[38;5;124m'\u001b[39m\u001b[38;5;124mis_sm_ips_ports\u001b[39m\u001b[38;5;124m'\u001b[39m, \u001b[38;5;124m'\u001b[39m\u001b[38;5;124mlabel\u001b[39m\u001b[38;5;124m'\u001b[39m, \u001b[38;5;124m'\u001b[39m\u001b[38;5;124mattack_cat\u001b[39m\u001b[38;5;124m'\u001b[39m]]\n\u001b[0;32m      2\u001b[0m data \u001b[38;5;241m=\u001b[39m data\u001b[38;5;241m.\u001b[39mdrop(columns\u001b[38;5;241m=\u001b[39m[\u001b[38;5;124m'\u001b[39m\u001b[38;5;124mis_ftp_login\u001b[39m\u001b[38;5;124m'\u001b[39m, \u001b[38;5;124m'\u001b[39m\u001b[38;5;124mis_sm_ips_ports\u001b[39m\u001b[38;5;124m'\u001b[39m, \u001b[38;5;124m'\u001b[39m\u001b[38;5;124mlabel\u001b[39m\u001b[38;5;124m'\u001b[39m, \u001b[38;5;124m'\u001b[39m\u001b[38;5;124mattack_cat\u001b[39m\u001b[38;5;124m'\u001b[39m])\n",
      "\u001b[1;31mNameError\u001b[0m: name 'data' is not defined"
     ]
    }
   ],
   "source": [
    "temp = data[['is_ftp_login', 'is_sm_ips_ports', 'label', 'attack_cat']]\n",
    "data = data.drop(columns=['is_ftp_login', 'is_sm_ips_ports', 'label', 'attack_cat'])"
   ]
  },
  {
   "cell_type": "code",
   "execution_count": 7,
   "id": "becfdb80",
   "metadata": {},
   "outputs": [],
   "source": [
    "# The resulting encoded features can be found in Tools/EncoderTests.\n",
    "ohe1 = pd.read_csv('Full_proto_encoded.csv')\n",
    "ohe2 = pd.read_csv('Full_dsport_encoded.csv')\n",
    "ohe3 = pd.read_csv('Full_service_encoded.csv')\n",
    "ohe4 = pd.read_csv('Full_state_encoded.csv')\n",
    "# Spelling error.\n",
    "ohe5 = pd.read_csv('Full_scrip_encoded.csv')\n",
    "#------------------------------------------#\n",
    "ohe6 = pd.read_csv('Full_sport_encoded.csv')\n",
    "ohe7 = pd.read_csv('Full_dstip_encoded.csv')"
   ]
  },
  {
   "cell_type": "code",
   "execution_count": 8,
   "id": "58064d50",
   "metadata": {},
   "outputs": [],
   "source": [
    "# MinMax seperates Normal data well and reduces noise. Please see Kmeans TSNE evaluation in Tools.\n",
    "scaler = MinMaxScaler()\n",
    "scaled_data = scaler.fit_transform(data)\n",
    "data = pd.DataFrame(scaled_data, columns=data.columns)\n",
    "data = pd.concat([data, temp, ohe1, ohe2, ohe3, ohe4, ohe5, ohe6, ohe7], axis=1)"
   ]
  },
  {
   "cell_type": "code",
   "execution_count": 9,
   "id": "97bf9d53",
   "metadata": {},
   "outputs": [
    {
     "name": "stdout",
     "output_type": "stream",
     "text": [
      "Train: label\n",
      "0    1774933\n",
      "1     257104\n",
      "Name: count, dtype: int64\n",
      "Test label\n",
      "0    443831\n",
      "1     64179\n",
      "Name: count, dtype: int64\n"
     ]
    }
   ],
   "source": [
    "X_temp = data.drop(columns=['label'])\n",
    "y = data['label']\n",
    "X_train, X_test, y_train, y_test = train_test_split(\n",
    "    X_temp, y, test_size=0.2, random_state=42)\n",
    "test_attack_cat = X_test['attack_cat']\n",
    "print('Train:', y_train.value_counts())\n",
    "print('Test', y_test.value_counts())\n",
    "X_train = X_train.drop(columns=['attack_cat'])\n",
    "X_test = X_test.drop(columns=['attack_cat'])"
   ]
  },
  {
   "cell_type": "code",
   "execution_count": 10,
   "id": "02a0f21d",
   "metadata": {},
   "outputs": [],
   "source": [
    "# Prepare batches.\n",
    "batch_size = 128\n",
    "X_train_tensor = torch.tensor(X_train.values, dtype=torch.float32)\n",
    "X_test_tensor = torch.tensor(X_test.values, dtype=torch.float32)\n",
    "y_train_tensor = torch.tensor(y_train.values, dtype=torch.float32)\n",
    "y_test_tensor = torch.tensor(y_test, dtype=torch.float32)\n",
    "train_dataset = TensorDataset(X_train_tensor, y_train_tensor)\n",
    "test_dataset = TensorDataset(X_test_tensor, y_test_tensor)\n",
    "train_loader = DataLoader(train_dataset, batch_size=batch_size, shuffle=True)\n",
    "test_loader = DataLoader(test_dataset, batch_size=batch_size, shuffle=False)"
   ]
  },
  {
   "cell_type": "markdown",
   "id": "df2e7548",
   "metadata": {},
   "source": [
    "# STANDARD TUNING"
   ]
  },
  {
   "cell_type": "code",
   "execution_count": 10,
   "id": "bc1bfd42",
   "metadata": {},
   "outputs": [
    {
     "name": "stderr",
     "output_type": "stream",
     "text": [
      "Epoch 1/5: 100%|██████████| 15876/15876 [01:29<00:00, 177.81batch/s]\n"
     ]
    },
    {
     "name": "stdout",
     "output_type": "stream",
     "text": [
      "Epoch [1/5], Train Loss: 0.0204, Train Acc: 0.9908, Train F1: 0.9907\n"
     ]
    },
    {
     "name": "stderr",
     "output_type": "stream",
     "text": [
      "Epoch 2/5: 100%|██████████| 15876/15876 [01:24<00:00, 188.45batch/s]\n"
     ]
    },
    {
     "name": "stdout",
     "output_type": "stream",
     "text": [
      "Epoch [2/5], Train Loss: 0.0194, Train Acc: 0.9914, Train F1: 0.9913\n"
     ]
    },
    {
     "name": "stderr",
     "output_type": "stream",
     "text": [
      "Epoch 3/5: 100%|██████████| 15876/15876 [01:27<00:00, 180.73batch/s]\n"
     ]
    },
    {
     "name": "stdout",
     "output_type": "stream",
     "text": [
      "Epoch [3/5], Train Loss: 0.0195, Train Acc: 0.9914, Train F1: 0.9914\n"
     ]
    },
    {
     "name": "stderr",
     "output_type": "stream",
     "text": [
      "Epoch 4/5: 100%|██████████| 15876/15876 [01:30<00:00, 175.36batch/s]\n"
     ]
    },
    {
     "name": "stdout",
     "output_type": "stream",
     "text": [
      "Epoch [4/5], Train Loss: 0.0193, Train Acc: 0.9915, Train F1: 0.9915\n"
     ]
    },
    {
     "name": "stderr",
     "output_type": "stream",
     "text": [
      "Epoch 5/5: 100%|██████████| 15876/15876 [01:33<00:00, 169.98batch/s]\n"
     ]
    },
    {
     "name": "stdout",
     "output_type": "stream",
     "text": [
      "Epoch [5/5], Train Loss: 0.0193, Train Acc: 0.9914, Train F1: 0.9913\n"
     ]
    },
    {
     "name": "stderr",
     "output_type": "stream",
     "text": [
      "Testing: 100%|██████████| 3969/3969 [00:12<00:00, 322.33batch/s]\n"
     ]
    },
    {
     "name": "stdout",
     "output_type": "stream",
     "text": [
      "Test Loss: 0.0212, Test Accuracy: 0.9919, Test F1: 0.9917\n"
     ]
    },
    {
     "data": {
      "image/png": "[encoded data removed]",
      "text/plain": [
       "<Figure size 600x400 with 1 Axes>"
      ]
     },
     "metadata": {},
     "output_type": "display_data"
    },
    {
     "name": "stdout",
     "output_type": "stream",
     "text": [
      "Standard Test\n"
     ]
    },
    {
     "data": {
      "image/png": "[encoded data removed]",
      "text/plain": [
       "<Figure size 800x600 with 2 Axes>"
      ]
     },
     "metadata": {},
     "output_type": "display_data"
    }
   ],
   "source": [
    "device = torch.device(\"cuda\" if torch.cuda.is_available() else \"cpu\")\n",
    "n_features = X_train_tensor.shape[1]\n",
    "fc_size = 128\n",
    "save_dir = './Models/saved_models/02/standard/01'\n",
    "model1 = NNdynamic(n_features, fc_size, device, save_dir)\n",
    "# 37.23 min\n",
    "sampler = None\n",
    "params = None\n",
    "learning_rate = 0.1\n",
    "epochs = 5\n",
    "save_factor = 1\n",
    "model1.run(train_loader, learning_rate, epochs, save_factor, sampler, params, False)\n",
    "model1.test(test_loader)\n",
    "plot_metrics(model1.train_loss, len(model1.train_loss), title=\"Train Loss\")\n",
    "print('Standard Test')\n",
    "labels = test_dataset.tensors[1]\n",
    "plot_confusion_matrix(labels, model1.test_predicted)"
   ]
  },
  {
   "cell_type": "code",
   "execution_count": 11,
   "id": "ebaf4287",
   "metadata": {},
   "outputs": [
    {
     "name": "stderr",
     "output_type": "stream",
     "text": [
      "Epoch 1/20: 100%|██████████| 15876/15876 [01:31<00:00, 174.30batch/s]\n"
     ]
    },
    {
     "name": "stdout",
     "output_type": "stream",
     "text": [
      "Epoch [1/20], Train Loss: 0.0148, Train Acc: 0.9926, Train F1: 0.9925\n"
     ]
    },
    {
     "name": "stderr",
     "output_type": "stream",
     "text": [
      "Epoch 2/20: 100%|██████████| 15876/15876 [01:32<00:00, 171.33batch/s]\n"
     ]
    },
    {
     "name": "stdout",
     "output_type": "stream",
     "text": [
      "Epoch [2/20], Train Loss: 0.0133, Train Acc: 0.9933, Train F1: 0.9932\n"
     ]
    },
    {
     "name": "stderr",
     "output_type": "stream",
     "text": [
      "Epoch 3/20: 100%|██████████| 15876/15876 [01:33<00:00, 170.66batch/s]\n"
     ]
    },
    {
     "name": "stdout",
     "output_type": "stream",
     "text": [
      "Epoch [3/20], Train Loss: 0.0130, Train Acc: 0.9935, Train F1: 0.9934\n"
     ]
    },
    {
     "name": "stderr",
     "output_type": "stream",
     "text": [
      "Epoch 4/20: 100%|██████████| 15876/15876 [01:35<00:00, 166.66batch/s]\n"
     ]
    },
    {
     "name": "stdout",
     "output_type": "stream",
     "text": [
      "Epoch [4/20], Train Loss: 0.0129, Train Acc: 0.9935, Train F1: 0.9934\n"
     ]
    },
    {
     "name": "stderr",
     "output_type": "stream",
     "text": [
      "Epoch 5/20: 100%|██████████| 15876/15876 [01:30<00:00, 175.89batch/s]\n"
     ]
    },
    {
     "name": "stdout",
     "output_type": "stream",
     "text": [
      "Epoch [5/20], Train Loss: 0.0128, Train Acc: 0.9935, Train F1: 0.9934\n"
     ]
    },
    {
     "name": "stderr",
     "output_type": "stream",
     "text": [
      "Epoch 6/20: 100%|██████████| 15876/15876 [01:31<00:00, 172.80batch/s]\n"
     ]
    },
    {
     "name": "stdout",
     "output_type": "stream",
     "text": [
      "Epoch [6/20], Train Loss: 0.0128, Train Acc: 0.9935, Train F1: 0.9934\n"
     ]
    },
    {
     "name": "stderr",
     "output_type": "stream",
     "text": [
      "Epoch 7/20: 100%|██████████| 15876/15876 [01:44<00:00, 152.56batch/s]\n"
     ]
    },
    {
     "name": "stdout",
     "output_type": "stream",
     "text": [
      "Epoch [7/20], Train Loss: 0.0127, Train Acc: 0.9936, Train F1: 0.9934\n"
     ]
    },
    {
     "name": "stderr",
     "output_type": "stream",
     "text": [
      "Epoch 8/20: 100%|██████████| 15876/15876 [01:41<00:00, 156.48batch/s]\n"
     ]
    },
    {
     "name": "stdout",
     "output_type": "stream",
     "text": [
      "Epoch [8/20], Train Loss: 0.0127, Train Acc: 0.9936, Train F1: 0.9935\n"
     ]
    },
    {
     "name": "stderr",
     "output_type": "stream",
     "text": [
      "Epoch 9/20: 100%|██████████| 15876/15876 [01:34<00:00, 168.11batch/s]\n"
     ]
    },
    {
     "name": "stdout",
     "output_type": "stream",
     "text": [
      "Epoch [9/20], Train Loss: 0.0126, Train Acc: 0.9936, Train F1: 0.9935\n"
     ]
    },
    {
     "name": "stderr",
     "output_type": "stream",
     "text": [
      "Epoch 10/20: 100%|██████████| 15876/15876 [01:41<00:00, 155.99batch/s]\n"
     ]
    },
    {
     "name": "stdout",
     "output_type": "stream",
     "text": [
      "Epoch [10/20], Train Loss: 0.0126, Train Acc: 0.9936, Train F1: 0.9935\n"
     ]
    },
    {
     "name": "stderr",
     "output_type": "stream",
     "text": [
      "Epoch 11/20: 100%|██████████| 15876/15876 [01:36<00:00, 164.32batch/s]\n"
     ]
    },
    {
     "name": "stdout",
     "output_type": "stream",
     "text": [
      "Epoch [11/20], Train Loss: 0.0125, Train Acc: 0.9937, Train F1: 0.9935\n"
     ]
    },
    {
     "name": "stderr",
     "output_type": "stream",
     "text": [
      "Epoch 12/20: 100%|██████████| 15876/15876 [01:43<00:00, 153.67batch/s]\n"
     ]
    },
    {
     "name": "stdout",
     "output_type": "stream",
     "text": [
      "Epoch [12/20], Train Loss: 0.0125, Train Acc: 0.9936, Train F1: 0.9935\n"
     ]
    },
    {
     "name": "stderr",
     "output_type": "stream",
     "text": [
      "Epoch 13/20: 100%|██████████| 15876/15876 [01:36<00:00, 164.03batch/s]\n"
     ]
    },
    {
     "name": "stdout",
     "output_type": "stream",
     "text": [
      "Epoch [13/20], Train Loss: 0.0125, Train Acc: 0.9937, Train F1: 0.9935\n"
     ]
    },
    {
     "name": "stderr",
     "output_type": "stream",
     "text": [
      "Epoch 14/20: 100%|██████████| 15876/15876 [01:42<00:00, 155.53batch/s]\n"
     ]
    },
    {
     "name": "stdout",
     "output_type": "stream",
     "text": [
      "Epoch [14/20], Train Loss: 0.0124, Train Acc: 0.9937, Train F1: 0.9936\n"
     ]
    },
    {
     "name": "stderr",
     "output_type": "stream",
     "text": [
      "Epoch 15/20: 100%|██████████| 15876/15876 [01:43<00:00, 153.79batch/s]\n"
     ]
    },
    {
     "name": "stdout",
     "output_type": "stream",
     "text": [
      "Epoch [15/20], Train Loss: 0.0125, Train Acc: 0.9936, Train F1: 0.9935\n"
     ]
    },
    {
     "name": "stderr",
     "output_type": "stream",
     "text": [
      "Epoch 16/20: 100%|██████████| 15876/15876 [02:05<00:00, 126.44batch/s]\n"
     ]
    },
    {
     "name": "stdout",
     "output_type": "stream",
     "text": [
      "Epoch [16/20], Train Loss: 0.0124, Train Acc: 0.9936, Train F1: 0.9935\n"
     ]
    },
    {
     "name": "stderr",
     "output_type": "stream",
     "text": [
      "Epoch 17/20: 100%|██████████| 15876/15876 [01:54<00:00, 138.16batch/s]\n"
     ]
    },
    {
     "name": "stdout",
     "output_type": "stream",
     "text": [
      "Epoch [17/20], Train Loss: 0.0124, Train Acc: 0.9937, Train F1: 0.9936\n"
     ]
    },
    {
     "name": "stderr",
     "output_type": "stream",
     "text": [
      "Epoch 18/20: 100%|██████████| 15876/15876 [01:43<00:00, 153.28batch/s]\n"
     ]
    },
    {
     "name": "stdout",
     "output_type": "stream",
     "text": [
      "Epoch [18/20], Train Loss: 0.0124, Train Acc: 0.9937, Train F1: 0.9936\n"
     ]
    },
    {
     "name": "stderr",
     "output_type": "stream",
     "text": [
      "Epoch 19/20: 100%|██████████| 15876/15876 [01:45<00:00, 150.50batch/s]\n"
     ]
    },
    {
     "name": "stdout",
     "output_type": "stream",
     "text": [
      "Epoch [19/20], Train Loss: 0.0124, Train Acc: 0.9937, Train F1: 0.9936\n"
     ]
    },
    {
     "name": "stderr",
     "output_type": "stream",
     "text": [
      "Epoch 20/20: 100%|██████████| 15876/15876 [02:54<00:00, 91.10batch/s] \n"
     ]
    },
    {
     "name": "stdout",
     "output_type": "stream",
     "text": [
      "Epoch [20/20], Train Loss: 0.0124, Train Acc: 0.9937, Train F1: 0.9936\n"
     ]
    },
    {
     "name": "stderr",
     "output_type": "stream",
     "text": [
      "Testing: 100%|██████████| 3969/3969 [00:15<00:00, 255.00batch/s]\n"
     ]
    },
    {
     "name": "stdout",
     "output_type": "stream",
     "text": [
      "Test Loss: 0.0124, Test Accuracy: 0.9940, Test F1: 0.9939\n"
     ]
    },
    {
     "data": {
      "image/png": "[encoded data removed]",
      "text/plain": [
       "<Figure size 600x400 with 1 Axes>"
      ]
     },
     "metadata": {},
     "output_type": "display_data"
    },
    {
     "name": "stdout",
     "output_type": "stream",
     "text": [
      "Standard Test\n"
     ]
    },
    {
     "data": {
      "image/png": "[encoded data removed]",
      "text/plain": [
       "<Figure size 800x600 with 2 Axes>"
      ]
     },
     "metadata": {},
     "output_type": "display_data"
    }
   ],
   "source": [
    "device = torch.device(\"cuda\" if torch.cuda.is_available() else \"cpu\")\n",
    "n_features = X_train_tensor.shape[1]\n",
    "fc_size = 128\n",
    "save_dir = './Models/saved_models/02/standard/001'\n",
    "model1 = NNdynamic(n_features, fc_size, device, save_dir)\n",
    "# 37.23 min\n",
    "sampler = None\n",
    "params = None\n",
    "learning_rate = 0.01\n",
    "epochs = 20\n",
    "save_factor = 1\n",
    "model1.run(train_loader, learning_rate, epochs, save_factor, sampler, params, False)\n",
    "model1.test(test_loader)\n",
    "plot_metrics(model1.train_loss, len(model1.train_loss), title=\"Train Loss\")\n",
    "print('Standard Test')\n",
    "labels = test_dataset.tensors[1]\n",
    "plot_confusion_matrix(labels, model1.test_predicted)"
   ]
  },
  {
   "cell_type": "code",
   "execution_count": 12,
   "id": "2e7d5ccf",
   "metadata": {},
   "outputs": [
    {
     "name": "stderr",
     "output_type": "stream",
     "text": [
      "Epoch 1/10: 100%|██████████| 15876/15876 [02:07<00:00, 124.89batch/s]\n"
     ]
    },
    {
     "name": "stdout",
     "output_type": "stream",
     "text": [
      "Epoch [1/10], Train Loss: 0.0173, Train Acc: 0.9908, Train F1: 0.9906\n"
     ]
    },
    {
     "name": "stderr",
     "output_type": "stream",
     "text": [
      "Epoch 2/10: 100%|██████████| 15876/15876 [02:05<00:00, 126.12batch/s]\n"
     ]
    },
    {
     "name": "stdout",
     "output_type": "stream",
     "text": [
      "Epoch [2/10], Train Loss: 0.0167, Train Acc: 0.9910, Train F1: 0.9907\n"
     ]
    },
    {
     "name": "stderr",
     "output_type": "stream",
     "text": [
      "Epoch 3/10: 100%|██████████| 15876/15876 [02:22<00:00, 111.55batch/s]\n"
     ]
    },
    {
     "name": "stdout",
     "output_type": "stream",
     "text": [
      "Epoch [3/10], Train Loss: 0.0165, Train Acc: 0.9910, Train F1: 0.9907\n"
     ]
    },
    {
     "name": "stderr",
     "output_type": "stream",
     "text": [
      "Epoch 4/10: 100%|██████████| 15876/15876 [01:44<00:00, 151.51batch/s]\n"
     ]
    },
    {
     "name": "stdout",
     "output_type": "stream",
     "text": [
      "Epoch [4/10], Train Loss: 0.0165, Train Acc: 0.9910, Train F1: 0.9907\n"
     ]
    },
    {
     "name": "stderr",
     "output_type": "stream",
     "text": [
      "Epoch 5/10: 100%|██████████| 15876/15876 [01:31<00:00, 173.81batch/s]\n"
     ]
    },
    {
     "name": "stdout",
     "output_type": "stream",
     "text": [
      "Epoch [5/10], Train Loss: 0.0168, Train Acc: 0.9908, Train F1: 0.9905\n"
     ]
    },
    {
     "name": "stderr",
     "output_type": "stream",
     "text": [
      "Epoch 6/10: 100%|██████████| 15876/15876 [01:32<00:00, 172.36batch/s]\n"
     ]
    },
    {
     "name": "stdout",
     "output_type": "stream",
     "text": [
      "Epoch [6/10], Train Loss: 0.0164, Train Acc: 0.9910, Train F1: 0.9908\n"
     ]
    },
    {
     "name": "stderr",
     "output_type": "stream",
     "text": [
      "Epoch 7/10: 100%|██████████| 15876/15876 [01:33<00:00, 169.19batch/s]\n"
     ]
    },
    {
     "name": "stdout",
     "output_type": "stream",
     "text": [
      "Epoch [7/10], Train Loss: 0.0167, Train Acc: 0.9910, Train F1: 0.9908\n"
     ]
    },
    {
     "name": "stderr",
     "output_type": "stream",
     "text": [
      "Epoch 8/10: 100%|██████████| 15876/15876 [01:33<00:00, 170.28batch/s]\n"
     ]
    },
    {
     "name": "stdout",
     "output_type": "stream",
     "text": [
      "Epoch [8/10], Train Loss: 0.0167, Train Acc: 0.9909, Train F1: 0.9906\n"
     ]
    },
    {
     "name": "stderr",
     "output_type": "stream",
     "text": [
      "Epoch 9/10: 100%|██████████| 15876/15876 [01:31<00:00, 172.90batch/s]\n"
     ]
    },
    {
     "name": "stdout",
     "output_type": "stream",
     "text": [
      "Epoch [9/10], Train Loss: 0.0164, Train Acc: 0.9910, Train F1: 0.9908\n"
     ]
    },
    {
     "name": "stderr",
     "output_type": "stream",
     "text": [
      "Epoch 10/10: 100%|██████████| 15876/15876 [01:35<00:00, 165.52batch/s]\n"
     ]
    },
    {
     "name": "stdout",
     "output_type": "stream",
     "text": [
      "Epoch [10/10], Train Loss: 0.0164, Train Acc: 0.9911, Train F1: 0.9909\n"
     ]
    },
    {
     "name": "stderr",
     "output_type": "stream",
     "text": [
      "Testing: 100%|██████████| 3969/3969 [00:12<00:00, 324.90batch/s]"
     ]
    },
    {
     "name": "stdout",
     "output_type": "stream",
     "text": [
      "Test Loss: 0.0177, Test Accuracy: 0.9922, Test F1: 0.9920\n"
     ]
    },
    {
     "name": "stderr",
     "output_type": "stream",
     "text": [
      "\n"
     ]
    },
    {
     "data": {
      "image/png": "[encoded data removed]",
      "text/plain": [
       "<Figure size 600x400 with 1 Axes>"
      ]
     },
     "metadata": {},
     "output_type": "display_data"
    },
    {
     "name": "stdout",
     "output_type": "stream",
     "text": [
      "Standard Test\n"
     ]
    },
    {
     "data": {
      "image/png": "[encoded data removed]",
      "text/plain": [
       "<Figure size 800x600 with 2 Axes>"
      ]
     },
     "metadata": {},
     "output_type": "display_data"
    }
   ],
   "source": [
    "device = torch.device(\"cuda\" if torch.cuda.is_available() else \"cpu\")\n",
    "n_features = X_train_tensor.shape[1]\n",
    "fc_size = 128\n",
    "save_dir = './Models/saved_models/02/standard/09'\n",
    "model1 = NNdynamic(n_features, fc_size, device, save_dir)\n",
    "# 37.23 min\n",
    "sampler = None\n",
    "params = None\n",
    "learning_rate = 0.09\n",
    "epochs = 10\n",
    "save_factor = 1\n",
    "model1.run(train_loader, learning_rate, epochs, save_factor, sampler, params, False)\n",
    "model1.test(test_loader)\n",
    "plot_metrics(model1.train_loss, len(model1.train_loss), title=\"Train Loss\")\n",
    "print('Standard Test')\n",
    "labels = test_dataset.tensors[1]\n",
    "plot_confusion_matrix(labels, model1.test_predicted)"
   ]
  },
  {
   "cell_type": "code",
   "execution_count": 13,
   "id": "221b4399",
   "metadata": {},
   "outputs": [
    {
     "name": "stderr",
     "output_type": "stream",
     "text": [
      "Epoch 1/15: 100%|██████████| 15876/15876 [01:34<00:00, 168.87batch/s]\n"
     ]
    },
    {
     "name": "stdout",
     "output_type": "stream",
     "text": [
      "Epoch [1/15], Train Loss: 0.0174, Train Acc: 0.9911, Train F1: 0.9909\n"
     ]
    },
    {
     "name": "stderr",
     "output_type": "stream",
     "text": [
      "Epoch 2/15: 100%|██████████| 15876/15876 [01:30<00:00, 175.26batch/s]\n"
     ]
    },
    {
     "name": "stdout",
     "output_type": "stream",
     "text": [
      "Epoch [2/15], Train Loss: 0.0167, Train Acc: 0.9912, Train F1: 0.9909\n"
     ]
    },
    {
     "name": "stderr",
     "output_type": "stream",
     "text": [
      "Epoch 3/15: 100%|██████████| 15876/15876 [01:28<00:00, 179.43batch/s]\n"
     ]
    },
    {
     "name": "stdout",
     "output_type": "stream",
     "text": [
      "Epoch [3/15], Train Loss: 0.0165, Train Acc: 0.9912, Train F1: 0.9910\n"
     ]
    },
    {
     "name": "stderr",
     "output_type": "stream",
     "text": [
      "Epoch 4/15: 100%|██████████| 15876/15876 [01:27<00:00, 181.62batch/s]\n"
     ]
    },
    {
     "name": "stdout",
     "output_type": "stream",
     "text": [
      "Epoch [4/15], Train Loss: 0.0167, Train Acc: 0.9905, Train F1: 0.9902\n"
     ]
    },
    {
     "name": "stderr",
     "output_type": "stream",
     "text": [
      "Epoch 5/15: 100%|██████████| 15876/15876 [01:29<00:00, 177.61batch/s]\n"
     ]
    },
    {
     "name": "stdout",
     "output_type": "stream",
     "text": [
      "Epoch [5/15], Train Loss: 0.0167, Train Acc: 0.9906, Train F1: 0.9904\n"
     ]
    },
    {
     "name": "stderr",
     "output_type": "stream",
     "text": [
      "Epoch 6/15: 100%|██████████| 15876/15876 [01:31<00:00, 172.71batch/s]\n"
     ]
    },
    {
     "name": "stdout",
     "output_type": "stream",
     "text": [
      "Epoch [6/15], Train Loss: 0.0161, Train Acc: 0.9914, Train F1: 0.9912\n"
     ]
    },
    {
     "name": "stderr",
     "output_type": "stream",
     "text": [
      "Epoch 7/15: 100%|██████████| 15876/15876 [01:31<00:00, 173.73batch/s]\n"
     ]
    },
    {
     "name": "stdout",
     "output_type": "stream",
     "text": [
      "Epoch [7/15], Train Loss: 0.0160, Train Acc: 0.9915, Train F1: 0.9913\n"
     ]
    },
    {
     "name": "stderr",
     "output_type": "stream",
     "text": [
      "Epoch 8/15: 100%|██████████| 15876/15876 [01:29<00:00, 177.56batch/s]\n"
     ]
    },
    {
     "name": "stdout",
     "output_type": "stream",
     "text": [
      "Epoch [8/15], Train Loss: 0.0163, Train Acc: 0.9911, Train F1: 0.9909\n"
     ]
    },
    {
     "name": "stderr",
     "output_type": "stream",
     "text": [
      "Epoch 9/15: 100%|██████████| 15876/15876 [01:30<00:00, 176.29batch/s]\n"
     ]
    },
    {
     "name": "stdout",
     "output_type": "stream",
     "text": [
      "Epoch [9/15], Train Loss: 0.0161, Train Acc: 0.9913, Train F1: 0.9910\n"
     ]
    },
    {
     "name": "stderr",
     "output_type": "stream",
     "text": [
      "Epoch 10/15: 100%|██████████| 15876/15876 [01:30<00:00, 174.97batch/s]\n"
     ]
    },
    {
     "name": "stdout",
     "output_type": "stream",
     "text": [
      "Epoch [10/15], Train Loss: 0.0163, Train Acc: 0.9911, Train F1: 0.9908\n"
     ]
    },
    {
     "name": "stderr",
     "output_type": "stream",
     "text": [
      "Epoch 11/15: 100%|██████████| 15876/15876 [01:31<00:00, 174.14batch/s]\n"
     ]
    },
    {
     "name": "stdout",
     "output_type": "stream",
     "text": [
      "Epoch [11/15], Train Loss: 0.0162, Train Acc: 0.9913, Train F1: 0.9911\n"
     ]
    },
    {
     "name": "stderr",
     "output_type": "stream",
     "text": [
      "Epoch 12/15: 100%|██████████| 15876/15876 [01:39<00:00, 160.18batch/s]\n"
     ]
    },
    {
     "name": "stdout",
     "output_type": "stream",
     "text": [
      "Epoch [12/15], Train Loss: 0.0164, Train Acc: 0.9910, Train F1: 0.9908\n"
     ]
    },
    {
     "name": "stderr",
     "output_type": "stream",
     "text": [
      "Epoch 13/15: 100%|██████████| 15876/15876 [01:29<00:00, 176.51batch/s]\n"
     ]
    },
    {
     "name": "stdout",
     "output_type": "stream",
     "text": [
      "Epoch [13/15], Train Loss: 0.0162, Train Acc: 0.9911, Train F1: 0.9909\n"
     ]
    },
    {
     "name": "stderr",
     "output_type": "stream",
     "text": [
      "Epoch 14/15: 100%|██████████| 15876/15876 [01:28<00:00, 178.66batch/s]\n"
     ]
    },
    {
     "name": "stdout",
     "output_type": "stream",
     "text": [
      "Epoch [14/15], Train Loss: 0.0164, Train Acc: 0.9912, Train F1: 0.9910\n"
     ]
    },
    {
     "name": "stderr",
     "output_type": "stream",
     "text": [
      "Epoch 15/15: 100%|██████████| 15876/15876 [01:31<00:00, 173.60batch/s]\n"
     ]
    },
    {
     "name": "stdout",
     "output_type": "stream",
     "text": [
      "Epoch [15/15], Train Loss: 0.0164, Train Acc: 0.9911, Train F1: 0.9908\n"
     ]
    },
    {
     "name": "stderr",
     "output_type": "stream",
     "text": [
      "Testing: 100%|██████████| 3969/3969 [00:12<00:00, 316.14batch/s]"
     ]
    },
    {
     "name": "stdout",
     "output_type": "stream",
     "text": [
      "Test Loss: 0.0150, Test Accuracy: 0.9922, Test F1: 0.9920\n"
     ]
    },
    {
     "name": "stderr",
     "output_type": "stream",
     "text": [
      "\n"
     ]
    },
    {
     "data": {
      "image/png": "[encoded data removed]",
      "text/plain": [
       "<Figure size 600x400 with 1 Axes>"
      ]
     },
     "metadata": {},
     "output_type": "display_data"
    },
    {
     "name": "stdout",
     "output_type": "stream",
     "text": [
      "Standard Test\n"
     ]
    },
    {
     "data": {
      "image/png": "[encoded data removed]",
      "text/plain": [
       "<Figure size 800x600 with 2 Axes>"
      ]
     },
     "metadata": {},
     "output_type": "display_data"
    }
   ],
   "source": [
    "device = torch.device(\"cuda\" if torch.cuda.is_available() else \"cpu\")\n",
    "n_features = X_train_tensor.shape[1]\n",
    "fc_size = 128\n",
    "save_dir = './Models/saved_models/02/standard/08'\n",
    "model1 = NNdynamic(n_features, fc_size, device, save_dir)\n",
    "# 37.23 min\n",
    "sampler = None\n",
    "params = None\n",
    "learning_rate = 0.08\n",
    "epochs = 15\n",
    "save_factor = 1\n",
    "model1.run(train_loader, learning_rate, epochs, save_factor, sampler, params, False)\n",
    "model1.test(test_loader)\n",
    "plot_metrics(model1.train_loss, len(model1.train_loss), title=\"Train Loss\")\n",
    "print('Standard Test')\n",
    "labels = test_dataset.tensors[1]\n",
    "plot_confusion_matrix(labels, model1.test_predicted)"
   ]
  },
  {
   "cell_type": "code",
   "execution_count": 14,
   "id": "8f8ddae7",
   "metadata": {},
   "outputs": [
    {
     "name": "stderr",
     "output_type": "stream",
     "text": [
      "Epoch 1/20: 100%|██████████| 15876/15876 [01:33<00:00, 169.43batch/s]\n"
     ]
    },
    {
     "name": "stdout",
     "output_type": "stream",
     "text": [
      "Epoch [1/20], Train Loss: 0.0168, Train Acc: 0.9914, Train F1: 0.9912\n"
     ]
    },
    {
     "name": "stderr",
     "output_type": "stream",
     "text": [
      "Epoch 2/20: 100%|██████████| 15876/15876 [01:34<00:00, 167.59batch/s]\n"
     ]
    },
    {
     "name": "stdout",
     "output_type": "stream",
     "text": [
      "Epoch [2/20], Train Loss: 0.0162, Train Acc: 0.9915, Train F1: 0.9914\n"
     ]
    },
    {
     "name": "stderr",
     "output_type": "stream",
     "text": [
      "Epoch 3/20: 100%|██████████| 15876/15876 [01:38<00:00, 161.54batch/s]\n"
     ]
    },
    {
     "name": "stdout",
     "output_type": "stream",
     "text": [
      "Epoch [3/20], Train Loss: 0.0162, Train Acc: 0.9915, Train F1: 0.9913\n"
     ]
    },
    {
     "name": "stderr",
     "output_type": "stream",
     "text": [
      "Epoch 4/20: 100%|██████████| 15876/15876 [01:40<00:00, 158.16batch/s]\n"
     ]
    },
    {
     "name": "stdout",
     "output_type": "stream",
     "text": [
      "Epoch [4/20], Train Loss: 0.0159, Train Acc: 0.9916, Train F1: 0.9914\n"
     ]
    },
    {
     "name": "stderr",
     "output_type": "stream",
     "text": [
      "Epoch 5/20: 100%|██████████| 15876/15876 [01:55<00:00, 137.25batch/s]\n"
     ]
    },
    {
     "name": "stdout",
     "output_type": "stream",
     "text": [
      "Epoch [5/20], Train Loss: 0.0160, Train Acc: 0.9916, Train F1: 0.9914\n"
     ]
    },
    {
     "name": "stderr",
     "output_type": "stream",
     "text": [
      "Epoch 6/20: 100%|██████████| 15876/15876 [02:00<00:00, 131.22batch/s]\n"
     ]
    },
    {
     "name": "stdout",
     "output_type": "stream",
     "text": [
      "Epoch [6/20], Train Loss: 0.0160, Train Acc: 0.9914, Train F1: 0.9912\n"
     ]
    },
    {
     "name": "stderr",
     "output_type": "stream",
     "text": [
      "Epoch 7/20: 100%|██████████| 15876/15876 [02:05<00:00, 126.47batch/s]\n"
     ]
    },
    {
     "name": "stdout",
     "output_type": "stream",
     "text": [
      "Epoch [7/20], Train Loss: 0.0159, Train Acc: 0.9915, Train F1: 0.9913\n"
     ]
    },
    {
     "name": "stderr",
     "output_type": "stream",
     "text": [
      "Epoch 8/20: 100%|██████████| 15876/15876 [02:08<00:00, 123.22batch/s]\n"
     ]
    },
    {
     "name": "stdout",
     "output_type": "stream",
     "text": [
      "Epoch [8/20], Train Loss: 0.0157, Train Acc: 0.9917, Train F1: 0.9915\n"
     ]
    },
    {
     "name": "stderr",
     "output_type": "stream",
     "text": [
      "Epoch 9/20: 100%|██████████| 15876/15876 [02:09<00:00, 122.26batch/s]\n"
     ]
    },
    {
     "name": "stdout",
     "output_type": "stream",
     "text": [
      "Epoch [9/20], Train Loss: 0.0159, Train Acc: 0.9916, Train F1: 0.9914\n"
     ]
    },
    {
     "name": "stderr",
     "output_type": "stream",
     "text": [
      "Epoch 10/20: 100%|██████████| 15876/15876 [02:08<00:00, 123.99batch/s]\n"
     ]
    },
    {
     "name": "stdout",
     "output_type": "stream",
     "text": [
      "Epoch [10/20], Train Loss: 0.0158, Train Acc: 0.9916, Train F1: 0.9914\n"
     ]
    },
    {
     "name": "stderr",
     "output_type": "stream",
     "text": [
      "Epoch 11/20: 100%|██████████| 15876/15876 [02:07<00:00, 124.91batch/s]\n"
     ]
    },
    {
     "name": "stdout",
     "output_type": "stream",
     "text": [
      "Epoch [11/20], Train Loss: 0.0159, Train Acc: 0.9916, Train F1: 0.9914\n"
     ]
    },
    {
     "name": "stderr",
     "output_type": "stream",
     "text": [
      "Epoch 12/20: 100%|██████████| 15876/15876 [01:57<00:00, 134.61batch/s]\n"
     ]
    },
    {
     "name": "stdout",
     "output_type": "stream",
     "text": [
      "Epoch [12/20], Train Loss: 0.0159, Train Acc: 0.9915, Train F1: 0.9913\n"
     ]
    },
    {
     "name": "stderr",
     "output_type": "stream",
     "text": [
      "Epoch 13/20: 100%|██████████| 15876/15876 [01:33<00:00, 170.62batch/s]\n"
     ]
    },
    {
     "name": "stdout",
     "output_type": "stream",
     "text": [
      "Epoch [13/20], Train Loss: 0.0159, Train Acc: 0.9916, Train F1: 0.9913\n"
     ]
    },
    {
     "name": "stderr",
     "output_type": "stream",
     "text": [
      "Epoch 14/20: 100%|██████████| 15876/15876 [01:44<00:00, 151.70batch/s]\n"
     ]
    },
    {
     "name": "stdout",
     "output_type": "stream",
     "text": [
      "Epoch [14/20], Train Loss: 0.0160, Train Acc: 0.9913, Train F1: 0.9911\n"
     ]
    },
    {
     "name": "stderr",
     "output_type": "stream",
     "text": [
      "Epoch 15/20: 100%|██████████| 15876/15876 [01:29<00:00, 177.15batch/s]\n"
     ]
    },
    {
     "name": "stdout",
     "output_type": "stream",
     "text": [
      "Epoch [15/20], Train Loss: 0.0159, Train Acc: 0.9915, Train F1: 0.9912\n"
     ]
    },
    {
     "name": "stderr",
     "output_type": "stream",
     "text": [
      "Epoch 16/20: 100%|██████████| 15876/15876 [01:33<00:00, 170.61batch/s]\n"
     ]
    },
    {
     "name": "stdout",
     "output_type": "stream",
     "text": [
      "Epoch [16/20], Train Loss: 0.0160, Train Acc: 0.9914, Train F1: 0.9912\n"
     ]
    },
    {
     "name": "stderr",
     "output_type": "stream",
     "text": [
      "Epoch 17/20: 100%|██████████| 15876/15876 [01:33<00:00, 170.10batch/s]\n"
     ]
    },
    {
     "name": "stdout",
     "output_type": "stream",
     "text": [
      "Epoch [17/20], Train Loss: 0.0159, Train Acc: 0.9914, Train F1: 0.9912\n"
     ]
    },
    {
     "name": "stderr",
     "output_type": "stream",
     "text": [
      "Epoch 18/20: 100%|██████████| 15876/15876 [02:01<00:00, 130.69batch/s]\n"
     ]
    },
    {
     "name": "stdout",
     "output_type": "stream",
     "text": [
      "Epoch [18/20], Train Loss: 0.0160, Train Acc: 0.9914, Train F1: 0.9912\n"
     ]
    },
    {
     "name": "stderr",
     "output_type": "stream",
     "text": [
      "Epoch 19/20: 100%|██████████| 15876/15876 [02:04<00:00, 127.66batch/s]\n"
     ]
    },
    {
     "name": "stdout",
     "output_type": "stream",
     "text": [
      "Epoch [19/20], Train Loss: 0.0158, Train Acc: 0.9916, Train F1: 0.9914\n"
     ]
    },
    {
     "name": "stderr",
     "output_type": "stream",
     "text": [
      "Epoch 20/20: 100%|██████████| 15876/15876 [02:00<00:00, 131.49batch/s]\n"
     ]
    },
    {
     "name": "stdout",
     "output_type": "stream",
     "text": [
      "Epoch [20/20], Train Loss: 0.0161, Train Acc: 0.9913, Train F1: 0.9911\n"
     ]
    },
    {
     "name": "stderr",
     "output_type": "stream",
     "text": [
      "Testing: 100%|██████████| 3969/3969 [00:15<00:00, 261.78batch/s]\n"
     ]
    },
    {
     "name": "stdout",
     "output_type": "stream",
     "text": [
      "Test Loss: 0.0158, Test Accuracy: 0.9912, Test F1: 0.9909\n"
     ]
    },
    {
     "data": {
      "image/png": "[encoded data removed]",
      "text/plain": [
       "<Figure size 600x400 with 1 Axes>"
      ]
     },
     "metadata": {},
     "output_type": "display_data"
    },
    {
     "name": "stdout",
     "output_type": "stream",
     "text": [
      "Standard Test\n"
     ]
    },
    {
     "data": {
      "image/png": "[encoded data removed]",
      "text/plain": [
       "<Figure size 800x600 with 2 Axes>"
      ]
     },
     "metadata": {},
     "output_type": "display_data"
    }
   ],
   "source": [
    "device = torch.device(\"cuda\" if torch.cuda.is_available() else \"cpu\")\n",
    "n_features = X_train_tensor.shape[1]\n",
    "fc_size = 128\n",
    "save_dir = './Models/saved_models/02/standard/07'\n",
    "model1 = NNdynamic(n_features, fc_size, device, save_dir)\n",
    "# 37.23 min\n",
    "sampler = None\n",
    "params = None\n",
    "learning_rate = 0.07\n",
    "epochs = 20\n",
    "save_factor = 1\n",
    "model1.run(train_loader, learning_rate, epochs, save_factor, sampler, params, False)\n",
    "model1.test(test_loader)\n",
    "plot_metrics(model1.train_loss, len(model1.train_loss), title=\"Train Loss\")\n",
    "print('Standard Test')\n",
    "labels = test_dataset.tensors[1]\n",
    "plot_confusion_matrix(labels, model1.test_predicted)"
   ]
  },
  {
   "cell_type": "markdown",
   "id": "c9d90382",
   "metadata": {},
   "source": [
    "# Layer"
   ]
  },
  {
   "cell_type": "code",
   "execution_count": 15,
   "id": "62fe0487",
   "metadata": {},
   "outputs": [
    {
     "name": "stderr",
     "output_type": "stream",
     "text": [
      "Epoch 1/20: 100%|██████████| 15876/15876 [02:03<00:00, 128.59batch/s]\n"
     ]
    },
    {
     "name": "stdout",
     "output_type": "stream",
     "text": [
      "Epoch [1/20], Train Loss: 0.0172, Train Acc: 0.9913, Train F1: 0.9911\n"
     ]
    },
    {
     "name": "stderr",
     "output_type": "stream",
     "text": [
      "Epoch 2/20: 100%|██████████| 15876/15876 [02:06<00:00, 125.31batch/s]\n"
     ]
    },
    {
     "name": "stdout",
     "output_type": "stream",
     "text": [
      "Epoch [2/20], Train Loss: 0.0165, Train Acc: 0.9913, Train F1: 0.9911\n"
     ]
    },
    {
     "name": "stderr",
     "output_type": "stream",
     "text": [
      "Epoch 3/20: 100%|██████████| 15876/15876 [02:10<00:00, 121.24batch/s]\n"
     ]
    },
    {
     "name": "stdout",
     "output_type": "stream",
     "text": [
      "Epoch [3/20], Train Loss: 0.0175, Train Acc: 0.9898, Train F1: 0.9895\n"
     ]
    },
    {
     "name": "stderr",
     "output_type": "stream",
     "text": [
      "Epoch 4/20: 100%|██████████| 15876/15876 [01:51<00:00, 142.18batch/s]\n"
     ]
    },
    {
     "name": "stdout",
     "output_type": "stream",
     "text": [
      "Epoch [4/20], Train Loss: 0.0166, Train Acc: 0.9909, Train F1: 0.9907\n"
     ]
    },
    {
     "name": "stderr",
     "output_type": "stream",
     "text": [
      "Epoch 5/20: 100%|██████████| 15876/15876 [02:11<00:00, 120.87batch/s]\n"
     ]
    },
    {
     "name": "stdout",
     "output_type": "stream",
     "text": [
      "Epoch [5/20], Train Loss: 0.0167, Train Acc: 0.9908, Train F1: 0.9905\n"
     ]
    },
    {
     "name": "stderr",
     "output_type": "stream",
     "text": [
      "Epoch 6/20: 100%|██████████| 15876/15876 [02:44<00:00, 96.23batch/s] \n"
     ]
    },
    {
     "name": "stdout",
     "output_type": "stream",
     "text": [
      "Epoch [6/20], Train Loss: 0.0174, Train Acc: 0.9899, Train F1: 0.9896\n"
     ]
    },
    {
     "name": "stderr",
     "output_type": "stream",
     "text": [
      "Epoch 7/20: 100%|██████████| 15876/15876 [02:42<00:00, 97.57batch/s] \n"
     ]
    },
    {
     "name": "stdout",
     "output_type": "stream",
     "text": [
      "Epoch [7/20], Train Loss: 0.0169, Train Acc: 0.9905, Train F1: 0.9903\n"
     ]
    },
    {
     "name": "stderr",
     "output_type": "stream",
     "text": [
      "Epoch 8/20: 100%|██████████| 15876/15876 [02:44<00:00, 96.59batch/s] \n"
     ]
    },
    {
     "name": "stdout",
     "output_type": "stream",
     "text": [
      "Epoch [8/20], Train Loss: 0.0183, Train Acc: 0.9889, Train F1: 0.9886\n"
     ]
    },
    {
     "name": "stderr",
     "output_type": "stream",
     "text": [
      "Epoch 9/20: 100%|██████████| 15876/15876 [02:44<00:00, 96.71batch/s] \n"
     ]
    },
    {
     "name": "stdout",
     "output_type": "stream",
     "text": [
      "Epoch [9/20], Train Loss: 0.0172, Train Acc: 0.9902, Train F1: 0.9900\n"
     ]
    },
    {
     "name": "stderr",
     "output_type": "stream",
     "text": [
      "Epoch 10/20: 100%|██████████| 15876/15876 [02:45<00:00, 95.86batch/s] \n"
     ]
    },
    {
     "name": "stdout",
     "output_type": "stream",
     "text": [
      "Epoch [10/20], Train Loss: 0.0177, Train Acc: 0.9896, Train F1: 0.9893\n"
     ]
    },
    {
     "name": "stderr",
     "output_type": "stream",
     "text": [
      "Epoch 11/20: 100%|██████████| 15876/15876 [01:52<00:00, 141.04batch/s]\n"
     ]
    },
    {
     "name": "stdout",
     "output_type": "stream",
     "text": [
      "Epoch [11/20], Train Loss: 0.0174, Train Acc: 0.9899, Train F1: 0.9897\n"
     ]
    },
    {
     "name": "stderr",
     "output_type": "stream",
     "text": [
      "Epoch 12/20: 100%|██████████| 15876/15876 [01:46<00:00, 149.69batch/s]\n"
     ]
    },
    {
     "name": "stdout",
     "output_type": "stream",
     "text": [
      "Epoch [12/20], Train Loss: 0.0173, Train Acc: 0.9899, Train F1: 0.9896\n"
     ]
    },
    {
     "name": "stderr",
     "output_type": "stream",
     "text": [
      "Epoch 13/20: 100%|██████████| 15876/15876 [01:45<00:00, 149.83batch/s]\n"
     ]
    },
    {
     "name": "stdout",
     "output_type": "stream",
     "text": [
      "Epoch [13/20], Train Loss: 0.0174, Train Acc: 0.9900, Train F1: 0.9897\n"
     ]
    },
    {
     "name": "stderr",
     "output_type": "stream",
     "text": [
      "Epoch 14/20: 100%|██████████| 15876/15876 [01:45<00:00, 150.26batch/s]\n"
     ]
    },
    {
     "name": "stdout",
     "output_type": "stream",
     "text": [
      "Epoch [14/20], Train Loss: 0.0173, Train Acc: 0.9903, Train F1: 0.9900\n"
     ]
    },
    {
     "name": "stderr",
     "output_type": "stream",
     "text": [
      "Epoch 15/20: 100%|██████████| 15876/15876 [01:46<00:00, 149.42batch/s]\n"
     ]
    },
    {
     "name": "stdout",
     "output_type": "stream",
     "text": [
      "Epoch [15/20], Train Loss: 0.0180, Train Acc: 0.9895, Train F1: 0.9892\n"
     ]
    },
    {
     "name": "stderr",
     "output_type": "stream",
     "text": [
      "Epoch 16/20: 100%|██████████| 15876/15876 [01:51<00:00, 142.43batch/s]\n"
     ]
    },
    {
     "name": "stdout",
     "output_type": "stream",
     "text": [
      "Epoch [16/20], Train Loss: 0.0174, Train Acc: 0.9903, Train F1: 0.9900\n"
     ]
    },
    {
     "name": "stderr",
     "output_type": "stream",
     "text": [
      "Epoch 17/20: 100%|██████████| 15876/15876 [01:50<00:00, 143.86batch/s]\n"
     ]
    },
    {
     "name": "stdout",
     "output_type": "stream",
     "text": [
      "Epoch [17/20], Train Loss: 0.0180, Train Acc: 0.9894, Train F1: 0.9891\n"
     ]
    },
    {
     "name": "stderr",
     "output_type": "stream",
     "text": [
      "Epoch 18/20: 100%|██████████| 15876/15876 [01:51<00:00, 142.01batch/s]\n"
     ]
    },
    {
     "name": "stdout",
     "output_type": "stream",
     "text": [
      "Epoch [18/20], Train Loss: 0.0180, Train Acc: 0.9893, Train F1: 0.9890\n"
     ]
    },
    {
     "name": "stderr",
     "output_type": "stream",
     "text": [
      "Epoch 19/20: 100%|██████████| 15876/15876 [02:49<00:00, 93.54batch/s] \n"
     ]
    },
    {
     "name": "stdout",
     "output_type": "stream",
     "text": [
      "Epoch [19/20], Train Loss: 0.0183, Train Acc: 0.9887, Train F1: 0.9883\n"
     ]
    },
    {
     "name": "stderr",
     "output_type": "stream",
     "text": [
      "Epoch 20/20: 100%|██████████| 15876/15876 [02:46<00:00, 95.39batch/s] \n"
     ]
    },
    {
     "name": "stdout",
     "output_type": "stream",
     "text": [
      "Epoch [20/20], Train Loss: 0.0171, Train Acc: 0.9902, Train F1: 0.9900\n"
     ]
    },
    {
     "name": "stderr",
     "output_type": "stream",
     "text": [
      "Testing: 100%|██████████| 3969/3969 [00:16<00:00, 235.41batch/s]"
     ]
    },
    {
     "name": "stdout",
     "output_type": "stream",
     "text": [
      "Test Loss: 0.0163, Test Accuracy: 0.9920, Test F1: 0.9919\n"
     ]
    },
    {
     "name": "stderr",
     "output_type": "stream",
     "text": [
      "\n"
     ]
    },
    {
     "data": {
      "image/png": "[encoded data removed]",
      "text/plain": [
       "<Figure size 600x400 with 1 Axes>"
      ]
     },
     "metadata": {},
     "output_type": "display_data"
    },
    {
     "name": "stdout",
     "output_type": "stream",
     "text": [
      "Standard Test\n"
     ]
    },
    {
     "data": {
      "image/png": "[encoded data removed]",
      "text/plain": [
       "<Figure size 800x600 with 2 Axes>"
      ]
     },
     "metadata": {},
     "output_type": "display_data"
    }
   ],
   "source": [
    "device = torch.device(\"cuda\" if torch.cuda.is_available() else \"cpu\")\n",
    "n_features = X_train_tensor.shape[1]\n",
    "fc_size = 256\n",
    "save_dir = './Models/saved_models/02/standard/07L256'\n",
    "model1 = NNdynamic(n_features, fc_size, device, save_dir)\n",
    "# 37.23 min\n",
    "sampler = None\n",
    "params = None\n",
    "learning_rate = 0.08\n",
    "epochs = 20\n",
    "save_factor = 1\n",
    "model1.run(train_loader, learning_rate, epochs, save_factor, sampler, params, False)\n",
    "model1.test(test_loader)\n",
    "plot_metrics(model1.train_loss, len(model1.train_loss), title=\"Train Loss\")\n",
    "print('Standard Test')\n",
    "labels = test_dataset.tensors[1]\n",
    "plot_confusion_matrix(labels, model1.test_predicted)"
   ]
  },
  {
   "cell_type": "code",
   "execution_count": 10,
   "id": "cf800d93",
   "metadata": {},
   "outputs": [
    {
     "name": "stderr",
     "output_type": "stream",
     "text": [
      "Epoch 1/20: 100%|██████████| 15876/15876 [02:54<00:00, 90.81batch/s] \n"
     ]
    },
    {
     "name": "stdout",
     "output_type": "stream",
     "text": [
      "Epoch [1/20], Train Loss: 0.0175, Train Acc: 0.9911, Train F1: 0.9909\n"
     ]
    },
    {
     "name": "stderr",
     "output_type": "stream",
     "text": [
      "Epoch 2/20: 100%|██████████| 15876/15876 [03:03<00:00, 86.31batch/s] \n"
     ]
    },
    {
     "name": "stdout",
     "output_type": "stream",
     "text": [
      "Epoch [2/20], Train Loss: 0.0166, Train Acc: 0.9915, Train F1: 0.9913\n"
     ]
    },
    {
     "name": "stderr",
     "output_type": "stream",
     "text": [
      "Epoch 3/20: 100%|██████████| 15876/15876 [02:10<00:00, 121.97batch/s]\n"
     ]
    },
    {
     "name": "stdout",
     "output_type": "stream",
     "text": [
      "Epoch [3/20], Train Loss: 0.0167, Train Acc: 0.9911, Train F1: 0.9909\n"
     ]
    },
    {
     "name": "stderr",
     "output_type": "stream",
     "text": [
      "Epoch 4/20: 100%|██████████| 15876/15876 [02:05<00:00, 126.64batch/s]\n"
     ]
    },
    {
     "name": "stdout",
     "output_type": "stream",
     "text": [
      "Epoch [4/20], Train Loss: 0.0166, Train Acc: 0.9913, Train F1: 0.9910\n"
     ]
    },
    {
     "name": "stderr",
     "output_type": "stream",
     "text": [
      "Epoch 5/20: 100%|██████████| 15876/15876 [02:09<00:00, 122.88batch/s]\n"
     ]
    },
    {
     "name": "stdout",
     "output_type": "stream",
     "text": [
      "Epoch [5/20], Train Loss: 0.0166, Train Acc: 0.9909, Train F1: 0.9907\n"
     ]
    },
    {
     "name": "stderr",
     "output_type": "stream",
     "text": [
      "Epoch 6/20: 100%|██████████| 15876/15876 [02:10<00:00, 121.56batch/s]\n"
     ]
    },
    {
     "name": "stdout",
     "output_type": "stream",
     "text": [
      "Epoch [6/20], Train Loss: 0.0164, Train Acc: 0.9910, Train F1: 0.9907\n"
     ]
    },
    {
     "name": "stderr",
     "output_type": "stream",
     "text": [
      "Epoch 7/20: 100%|██████████| 15876/15876 [02:12<00:00, 120.01batch/s]\n"
     ]
    },
    {
     "name": "stdout",
     "output_type": "stream",
     "text": [
      "Epoch [7/20], Train Loss: 0.0162, Train Acc: 0.9914, Train F1: 0.9912\n"
     ]
    },
    {
     "name": "stderr",
     "output_type": "stream",
     "text": [
      "Epoch 8/20: 100%|██████████| 15876/15876 [03:00<00:00, 88.03batch/s] \n"
     ]
    },
    {
     "name": "stdout",
     "output_type": "stream",
     "text": [
      "Epoch [8/20], Train Loss: 0.0160, Train Acc: 0.9915, Train F1: 0.9913\n"
     ]
    },
    {
     "name": "stderr",
     "output_type": "stream",
     "text": [
      "Epoch 9/20: 100%|██████████| 15876/15876 [02:18<00:00, 114.56batch/s]\n"
     ]
    },
    {
     "name": "stdout",
     "output_type": "stream",
     "text": [
      "Epoch [9/20], Train Loss: 0.0163, Train Acc: 0.9913, Train F1: 0.9911\n"
     ]
    },
    {
     "name": "stderr",
     "output_type": "stream",
     "text": [
      "Epoch 10/20: 100%|██████████| 15876/15876 [03:06<00:00, 84.90batch/s]\n"
     ]
    },
    {
     "name": "stdout",
     "output_type": "stream",
     "text": [
      "Epoch [10/20], Train Loss: 0.0162, Train Acc: 0.9913, Train F1: 0.9911\n"
     ]
    },
    {
     "name": "stderr",
     "output_type": "stream",
     "text": [
      "Epoch 11/20: 100%|██████████| 15876/15876 [03:13<00:00, 82.11batch/s] \n"
     ]
    },
    {
     "name": "stdout",
     "output_type": "stream",
     "text": [
      "Epoch [11/20], Train Loss: 0.0161, Train Acc: 0.9912, Train F1: 0.9910\n"
     ]
    },
    {
     "name": "stderr",
     "output_type": "stream",
     "text": [
      "Epoch 12/20: 100%|██████████| 15876/15876 [03:28<00:00, 75.97batch/s]\n"
     ]
    },
    {
     "name": "stdout",
     "output_type": "stream",
     "text": [
      "Epoch [12/20], Train Loss: 0.0163, Train Acc: 0.9911, Train F1: 0.9908\n"
     ]
    },
    {
     "name": "stderr",
     "output_type": "stream",
     "text": [
      "Epoch 13/20: 100%|██████████| 15876/15876 [03:29<00:00, 75.69batch/s]\n"
     ]
    },
    {
     "name": "stdout",
     "output_type": "stream",
     "text": [
      "Epoch [13/20], Train Loss: 0.0162, Train Acc: 0.9911, Train F1: 0.9908\n"
     ]
    },
    {
     "name": "stderr",
     "output_type": "stream",
     "text": [
      "Epoch 14/20: 100%|██████████| 15876/15876 [03:29<00:00, 75.77batch/s]\n"
     ]
    },
    {
     "name": "stdout",
     "output_type": "stream",
     "text": [
      "Epoch [14/20], Train Loss: 0.0163, Train Acc: 0.9911, Train F1: 0.9909\n"
     ]
    },
    {
     "name": "stderr",
     "output_type": "stream",
     "text": [
      "Epoch 15/20: 100%|██████████| 15876/15876 [03:27<00:00, 76.51batch/s]\n"
     ]
    },
    {
     "name": "stdout",
     "output_type": "stream",
     "text": [
      "Epoch [15/20], Train Loss: 0.0161, Train Acc: 0.9912, Train F1: 0.9910\n"
     ]
    },
    {
     "name": "stderr",
     "output_type": "stream",
     "text": [
      "Epoch 16/20: 100%|██████████| 15876/15876 [03:02<00:00, 86.76batch/s] \n"
     ]
    },
    {
     "name": "stdout",
     "output_type": "stream",
     "text": [
      "Epoch [16/20], Train Loss: 0.0164, Train Acc: 0.9910, Train F1: 0.9907\n"
     ]
    },
    {
     "name": "stderr",
     "output_type": "stream",
     "text": [
      "Epoch 17/20: 100%|██████████| 15876/15876 [02:07<00:00, 124.59batch/s]\n"
     ]
    },
    {
     "name": "stdout",
     "output_type": "stream",
     "text": [
      "Epoch [17/20], Train Loss: 0.0162, Train Acc: 0.9911, Train F1: 0.9909\n"
     ]
    },
    {
     "name": "stderr",
     "output_type": "stream",
     "text": [
      "Epoch 18/20: 100%|██████████| 15876/15876 [02:07<00:00, 124.74batch/s]\n"
     ]
    },
    {
     "name": "stdout",
     "output_type": "stream",
     "text": [
      "Epoch [18/20], Train Loss: 0.0163, Train Acc: 0.9910, Train F1: 0.9908\n"
     ]
    },
    {
     "name": "stderr",
     "output_type": "stream",
     "text": [
      "Epoch 19/20: 100%|██████████| 15876/15876 [02:07<00:00, 124.83batch/s]\n"
     ]
    },
    {
     "name": "stdout",
     "output_type": "stream",
     "text": [
      "Epoch [19/20], Train Loss: 0.0162, Train Acc: 0.9912, Train F1: 0.9910\n"
     ]
    },
    {
     "name": "stderr",
     "output_type": "stream",
     "text": [
      "Epoch 20/20: 100%|██████████| 15876/15876 [02:08<00:00, 123.89batch/s]\n"
     ]
    },
    {
     "name": "stdout",
     "output_type": "stream",
     "text": [
      "Epoch [20/20], Train Loss: 0.0163, Train Acc: 0.9910, Train F1: 0.9908\n"
     ]
    },
    {
     "name": "stderr",
     "output_type": "stream",
     "text": [
      "Testing: 100%|██████████| 3969/3969 [00:13<00:00, 293.04batch/s]\n"
     ]
    },
    {
     "name": "stdout",
     "output_type": "stream",
     "text": [
      "Test Loss: 0.0167, Test Accuracy: 0.9913, Test F1: 0.9911\n"
     ]
    },
    {
     "data": {
      "image/png": "[encoded data removed]",
      "text/plain": [
       "<Figure size 600x400 with 1 Axes>"
      ]
     },
     "metadata": {},
     "output_type": "display_data"
    },
    {
     "name": "stdout",
     "output_type": "stream",
     "text": [
      "Standard Test\n"
     ]
    },
    {
     "data": {
      "image/png": "[encoded data removed]",
      "text/plain": [
       "<Figure size 800x600 with 2 Axes>"
      ]
     },
     "metadata": {},
     "output_type": "display_data"
    }
   ],
   "source": [
    "device = torch.device(\"cuda\" if torch.cuda.is_available() else \"cpu\")\n",
    "n_features = X_train_tensor.shape[1]\n",
    "fc_size = 512\n",
    "save_dir = './Models/saved_models/02/standard/09L512'\n",
    "model1 = NNdynamic(n_features, fc_size, device, save_dir)\n",
    "# 37.23 min\n",
    "sampler = None\n",
    "params = None\n",
    "learning_rate = 0.08\n",
    "epochs = 20\n",
    "save_factor = 1\n",
    "model1.run(train_loader, learning_rate, epochs, save_factor, sampler, params, False)\n",
    "model1.test(test_loader)\n",
    "plot_metrics(model1.train_loss, len(model1.train_loss), title=\"Train Loss\")\n",
    "print('Standard Test')\n",
    "labels = test_dataset.tensors[1]\n",
    "plot_confusion_matrix(labels, model1.test_predicted)"
   ]
  },
  {
   "cell_type": "code",
   "execution_count": null,
   "id": "fd424cf6",
   "metadata": {},
   "outputs": [
    {
     "name": "stderr",
     "output_type": "stream",
     "text": [
      "Epoch 1/5: 100%|██████████| 15876/15876 [01:51<00:00, 142.31batch/s]\n"
     ]
    },
    {
     "name": "stdout",
     "output_type": "stream",
     "text": [
      "Epoch [1/5], Train Loss: 0.0180, Train Acc: 0.9910, Train F1: 0.9907\n"
     ]
    },
    {
     "name": "stderr",
     "output_type": "stream",
     "text": [
      "Epoch 2/5: 100%|██████████| 15876/15876 [01:50<00:00, 143.83batch/s]\n"
     ]
    },
    {
     "name": "stdout",
     "output_type": "stream",
     "text": [
      "Epoch [2/5], Train Loss: 0.0170, Train Acc: 0.9909, Train F1: 0.9906\n"
     ]
    },
    {
     "name": "stderr",
     "output_type": "stream",
     "text": [
      "Epoch 3/5: 100%|██████████| 15876/15876 [01:54<00:00, 138.37batch/s]\n"
     ]
    },
    {
     "name": "stdout",
     "output_type": "stream",
     "text": [
      "Epoch [3/5], Train Loss: 0.0173, Train Acc: 0.9903, Train F1: 0.9901\n"
     ]
    },
    {
     "name": "stderr",
     "output_type": "stream",
     "text": [
      "Epoch 4/5: 100%|██████████| 15876/15876 [01:57<00:00, 134.82batch/s]\n"
     ]
    },
    {
     "name": "stdout",
     "output_type": "stream",
     "text": [
      "Epoch [4/5], Train Loss: 0.0170, Train Acc: 0.9906, Train F1: 0.9903\n"
     ]
    },
    {
     "name": "stderr",
     "output_type": "stream",
     "text": [
      "Epoch 5/5: 100%|██████████| 15876/15876 [02:17<00:00, 115.78batch/s]\n"
     ]
    },
    {
     "name": "stdout",
     "output_type": "stream",
     "text": [
      "Epoch [5/5], Train Loss: 0.0169, Train Acc: 0.9907, Train F1: 0.9905\n"
     ]
    },
    {
     "name": "stderr",
     "output_type": "stream",
     "text": [
      "Testing: 100%|██████████| 3969/3969 [00:13<00:00, 292.40batch/s]"
     ]
    },
    {
     "name": "stdout",
     "output_type": "stream",
     "text": [
      "Test Loss: 0.0209, Test Accuracy: 0.9886, Test F1: 0.9882\n"
     ]
    },
    {
     "name": "stderr",
     "output_type": "stream",
     "text": [
      "\n"
     ]
    },
    {
     "data": {
      "image/png": "[encoded data removed]",
      "text/plain": [
       "<Figure size 600x400 with 1 Axes>"
      ]
     },
     "metadata": {},
     "output_type": "display_data"
    },
    {
     "name": "stdout",
     "output_type": "stream",
     "text": [
      "Standard Test\n"
     ]
    },
    {
     "data": {
      "image/png": "[encoded data removed]",
      "text/plain": [
       "<Figure size 800x600 with 2 Axes>"
      ]
     },
     "metadata": {},
     "output_type": "display_data"
    }
   ],
   "source": [
    "# This is actually a potential candidate for further tests, the loss continues to decrease without reverting. This is looks like the almost inverse of SMOTE.\n",
    "device = torch.device(\"cuda\" if torch.cuda.is_available() else \"cpu\")\n",
    "n_features = X_train_tensor.shape[1]\n",
    "fc_size = 512\n",
    "save_dir = './Models/saved_models/02/standard/1L512'\n",
    "model1 = NNdynamic(n_features, fc_size, device, save_dir)\n",
    "# 37.23 min\n",
    "sampler = None\n",
    "params = None\n",
    "learning_rate = 0.1\n",
    "epochs = 5\n",
    "save_factor = 1\n",
    "model1.run(train_loader, learning_rate, epochs, save_factor, sampler, params, False)\n",
    "model1.test(test_loader)\n",
    "plot_metrics(model1.train_loss, len(model1.train_loss), title=\"Train Loss\")\n",
    "print('Standard Test')\n",
    "labels = test_dataset.tensors[1]\n",
    "plot_confusion_matrix(labels, model1.test_predicted)"
   ]
  },
  {
   "cell_type": "markdown",
   "id": "2f6f784c",
   "metadata": {},
   "source": [
    "Result: Nothing we do in terms of tuning seems to have a significant effect on minority labels."
   ]
  },
  {
   "cell_type": "markdown",
   "id": "59b73fd5",
   "metadata": {},
   "source": [
    "# SMOTE TUNING"
   ]
  },
  {
   "cell_type": "markdown",
   "id": "248bc35f",
   "metadata": {},
   "source": [
    "Layers on best current model."
   ]
  },
  {
   "cell_type": "code",
   "execution_count": 10,
   "id": "b9c79ebd",
   "metadata": {},
   "outputs": [
    {
     "name": "stderr",
     "output_type": "stream",
     "text": [
      "Epoch 1/5:  12%|█▏        | 1868/15876 [00:30<03:43, 62.76batch/s]"
     ]
    },
    {
     "name": "stdout",
     "output_type": "stream",
     "text": [
      "Error running sampler. Using normal sample.\n"
     ]
    },
    {
     "name": "stderr",
     "output_type": "stream",
     "text": [
      "Epoch 1/5:  12%|█▏        | 1932/15876 [00:31<03:49, 60.71batch/s]"
     ]
    },
    {
     "name": "stdout",
     "output_type": "stream",
     "text": [
      "Error running sampler. Using normal sample.\n"
     ]
    },
    {
     "name": "stderr",
     "output_type": "stream",
     "text": [
      "Epoch 1/5:  21%|██        | 3329/15876 [00:54<03:21, 62.42batch/s]"
     ]
    },
    {
     "name": "stdout",
     "output_type": "stream",
     "text": [
      "Error running sampler. Using normal sample.\n"
     ]
    },
    {
     "name": "stderr",
     "output_type": "stream",
     "text": [
      "Epoch 1/5:  26%|██▌       | 4050/15876 [01:06<03:21, 58.64batch/s]"
     ]
    },
    {
     "name": "stdout",
     "output_type": "stream",
     "text": [
      "Error running sampler. Using normal sample.\n"
     ]
    },
    {
     "name": "stderr",
     "output_type": "stream",
     "text": [
      "Epoch 1/5:  49%|████▊     | 7704/15876 [02:09<02:10, 62.83batch/s]"
     ]
    },
    {
     "name": "stdout",
     "output_type": "stream",
     "text": [
      "Error running sampler. Using normal sample.\n"
     ]
    },
    {
     "name": "stderr",
     "output_type": "stream",
     "text": [
      "Epoch 1/5:  74%|███████▍  | 11730/15876 [03:15<01:03, 65.77batch/s]"
     ]
    },
    {
     "name": "stdout",
     "output_type": "stream",
     "text": [
      "Error running sampler. Using normal sample.\n"
     ]
    },
    {
     "name": "stderr",
     "output_type": "stream",
     "text": [
      "Epoch 1/5:  75%|███████▍  | 11839/15876 [03:16<01:02, 64.30batch/s]"
     ]
    },
    {
     "name": "stdout",
     "output_type": "stream",
     "text": [
      "Error running sampler. Using normal sample.\n"
     ]
    },
    {
     "name": "stderr",
     "output_type": "stream",
     "text": [
      "Epoch 1/5:  81%|████████  | 12870/15876 [03:32<00:43, 68.97batch/s]"
     ]
    },
    {
     "name": "stdout",
     "output_type": "stream",
     "text": [
      "Error running sampler. Using normal sample.\n"
     ]
    },
    {
     "name": "stderr",
     "output_type": "stream",
     "text": [
      "Epoch 1/5:  93%|█████████▎| 14790/15876 [04:03<00:17, 60.70batch/s]"
     ]
    },
    {
     "name": "stdout",
     "output_type": "stream",
     "text": [
      "Error running sampler. Using normal sample.\n"
     ]
    },
    {
     "name": "stderr",
     "output_type": "stream",
     "text": [
      "Epoch 1/5:  96%|█████████▋| 15287/15876 [04:11<00:09, 64.35batch/s]"
     ]
    },
    {
     "name": "stdout",
     "output_type": "stream",
     "text": [
      "Error running sampler. Using normal sample.\n"
     ]
    },
    {
     "name": "stderr",
     "output_type": "stream",
     "text": [
      "Epoch 1/5: 100%|██████████| 15876/15876 [04:20<00:00, 60.93batch/s]\n"
     ]
    },
    {
     "name": "stdout",
     "output_type": "stream",
     "text": [
      "Error running sampler. Using normal sample.\n",
      "Epoch [1/5], Train Loss: 0.0202, Train Acc: 0.9917, Train F1: 0.9917\n"
     ]
    },
    {
     "name": "stderr",
     "output_type": "stream",
     "text": [
      "Epoch 2/5:  32%|███▏      | 5106/15876 [01:20<02:46, 64.57batch/s]"
     ]
    },
    {
     "name": "stdout",
     "output_type": "stream",
     "text": [
      "Error running sampler. Using normal sample.\n"
     ]
    },
    {
     "name": "stderr",
     "output_type": "stream",
     "text": [
      "Epoch 2/5:  40%|███▉      | 6274/15876 [01:38<02:24, 66.53batch/s]"
     ]
    },
    {
     "name": "stdout",
     "output_type": "stream",
     "text": [
      "Error running sampler. Using normal sample.\n"
     ]
    },
    {
     "name": "stderr",
     "output_type": "stream",
     "text": [
      "Epoch 2/5:  40%|████      | 6407/15876 [01:41<02:30, 63.04batch/s]"
     ]
    },
    {
     "name": "stdout",
     "output_type": "stream",
     "text": [
      "Error running sampler. Using normal sample.\n"
     ]
    },
    {
     "name": "stderr",
     "output_type": "stream",
     "text": [
      "Epoch 2/5:  57%|█████▋    | 9116/15876 [02:24<01:41, 66.72batch/s]"
     ]
    },
    {
     "name": "stdout",
     "output_type": "stream",
     "text": [
      "Error running sampler. Using normal sample.\n"
     ]
    },
    {
     "name": "stderr",
     "output_type": "stream",
     "text": [
      "Epoch 2/5:  59%|█████▊    | 9324/15876 [02:27<01:41, 64.47batch/s]"
     ]
    },
    {
     "name": "stdout",
     "output_type": "stream",
     "text": [
      "Error running sampler. Using normal sample.\n"
     ]
    },
    {
     "name": "stderr",
     "output_type": "stream",
     "text": [
      "Epoch 2/5:  68%|██████▊   | 10797/15876 [02:51<01:31, 55.65batch/s]"
     ]
    },
    {
     "name": "stdout",
     "output_type": "stream",
     "text": [
      "Error running sampler. Using normal sample.\n"
     ]
    },
    {
     "name": "stderr",
     "output_type": "stream",
     "text": [
      "Epoch 2/5:  80%|███████▉  | 12685/15876 [03:21<00:52, 61.30batch/s]"
     ]
    },
    {
     "name": "stdout",
     "output_type": "stream",
     "text": [
      "Error running sampler. Using normal sample.\n"
     ]
    },
    {
     "name": "stderr",
     "output_type": "stream",
     "text": [
      "Epoch 2/5:  93%|█████████▎| 14819/15876 [03:55<00:16, 65.83batch/s]"
     ]
    },
    {
     "name": "stdout",
     "output_type": "stream",
     "text": [
      "Error running sampler. Using normal sample.\n"
     ]
    },
    {
     "name": "stderr",
     "output_type": "stream",
     "text": [
      "Epoch 2/5: 100%|██████████| 15876/15876 [04:12<00:00, 62.98batch/s]\n"
     ]
    },
    {
     "name": "stdout",
     "output_type": "stream",
     "text": [
      "Error running sampler. Using normal sample.\n",
      "Epoch [2/5], Train Loss: 0.0200, Train Acc: 0.9920, Train F1: 0.9920\n"
     ]
    },
    {
     "name": "stderr",
     "output_type": "stream",
     "text": [
      "Epoch 3/5:   2%|▏         | 386/15876 [00:06<03:48, 67.69batch/s]"
     ]
    },
    {
     "name": "stdout",
     "output_type": "stream",
     "text": [
      "Error running sampler. Using normal sample.\n"
     ]
    },
    {
     "name": "stderr",
     "output_type": "stream",
     "text": [
      "Epoch 3/5:   7%|▋         | 1140/15876 [00:17<03:52, 63.35batch/s]"
     ]
    },
    {
     "name": "stdout",
     "output_type": "stream",
     "text": [
      "Error running sampler. Using normal sample.\n"
     ]
    },
    {
     "name": "stderr",
     "output_type": "stream",
     "text": [
      "Epoch 3/5:  14%|█▍        | 2186/15876 [00:34<03:21, 67.82batch/s]"
     ]
    },
    {
     "name": "stdout",
     "output_type": "stream",
     "text": [
      "Error running sampler. Using normal sample.\n"
     ]
    },
    {
     "name": "stderr",
     "output_type": "stream",
     "text": [
      "Epoch 3/5:  23%|██▎       | 3578/15876 [00:56<03:05, 66.26batch/s]"
     ]
    },
    {
     "name": "stdout",
     "output_type": "stream",
     "text": [
      "Error running sampler. Using normal sample.\n"
     ]
    },
    {
     "name": "stderr",
     "output_type": "stream",
     "text": [
      "Epoch 3/5:  31%|███▏      | 4987/15876 [01:19<02:54, 62.42batch/s]"
     ]
    },
    {
     "name": "stdout",
     "output_type": "stream",
     "text": [
      "Error running sampler. Using normal sample.\n"
     ]
    },
    {
     "name": "stderr",
     "output_type": "stream",
     "text": [
      "Epoch 3/5:  39%|███▊      | 6134/15876 [01:37<02:23, 67.74batch/s]"
     ]
    },
    {
     "name": "stdout",
     "output_type": "stream",
     "text": [
      "Error running sampler. Using normal sample.\n"
     ]
    },
    {
     "name": "stderr",
     "output_type": "stream",
     "text": [
      "Epoch 3/5:  44%|████▍     | 6975/15876 [01:50<02:12, 67.02batch/s]"
     ]
    },
    {
     "name": "stdout",
     "output_type": "stream",
     "text": [
      "Error running sampler. Using normal sample.\n"
     ]
    },
    {
     "name": "stderr",
     "output_type": "stream",
     "text": [
      "Epoch 3/5:  44%|████▍     | 7054/15876 [01:51<02:22, 61.90batch/s]"
     ]
    },
    {
     "name": "stdout",
     "output_type": "stream",
     "text": [
      "Error running sampler. Using normal sample.\n"
     ]
    },
    {
     "name": "stderr",
     "output_type": "stream",
     "text": [
      "Epoch 3/5:  74%|███████▍  | 11716/15876 [03:05<01:03, 65.98batch/s]"
     ]
    },
    {
     "name": "stdout",
     "output_type": "stream",
     "text": [
      "Error running sampler. Using normal sample.\n"
     ]
    },
    {
     "name": "stderr",
     "output_type": "stream",
     "text": [
      "Epoch 3/5:  77%|███████▋  | 12297/15876 [03:14<00:56, 62.79batch/s]"
     ]
    },
    {
     "name": "stdout",
     "output_type": "stream",
     "text": [
      "Error running sampler. Using normal sample.\n"
     ]
    },
    {
     "name": "stderr",
     "output_type": "stream",
     "text": [
      "Epoch 3/5:  78%|███████▊  | 12405/15876 [03:16<00:55, 62.33batch/s]"
     ]
    },
    {
     "name": "stdout",
     "output_type": "stream",
     "text": [
      "Error running sampler. Using normal sample.\n"
     ]
    },
    {
     "name": "stderr",
     "output_type": "stream",
     "text": [
      "Epoch 3/5: 100%|██████████| 15876/15876 [04:11<00:00, 63.10batch/s]\n"
     ]
    },
    {
     "name": "stdout",
     "output_type": "stream",
     "text": [
      "Error running sampler. Using normal sample.\n",
      "Epoch [3/5], Train Loss: 0.0184, Train Acc: 0.9921, Train F1: 0.9920\n"
     ]
    },
    {
     "name": "stderr",
     "output_type": "stream",
     "text": [
      "Epoch 4/5:   2%|▏         | 260/15876 [00:04<04:03, 64.09batch/s]"
     ]
    },
    {
     "name": "stdout",
     "output_type": "stream",
     "text": [
      "Error running sampler. Using normal sample.\n"
     ]
    },
    {
     "name": "stderr",
     "output_type": "stream",
     "text": [
      "Epoch 4/5:   2%|▏         | 372/15876 [00:06<04:00, 64.45batch/s]"
     ]
    },
    {
     "name": "stdout",
     "output_type": "stream",
     "text": [
      "Error running sampler. Using normal sample.\n"
     ]
    },
    {
     "name": "stderr",
     "output_type": "stream",
     "text": [
      "Epoch 4/5:  23%|██▎       | 3624/15876 [00:58<03:11, 63.99batch/s]"
     ]
    },
    {
     "name": "stdout",
     "output_type": "stream",
     "text": [
      "Error running sampler. Using normal sample.\n"
     ]
    },
    {
     "name": "stderr",
     "output_type": "stream",
     "text": [
      "Epoch 4/5:  27%|██▋       | 4346/15876 [01:09<02:58, 64.68batch/s]"
     ]
    },
    {
     "name": "stdout",
     "output_type": "stream",
     "text": [
      "Error running sampler. Using normal sample.\n"
     ]
    },
    {
     "name": "stderr",
     "output_type": "stream",
     "text": [
      "Epoch 4/5:  64%|██████▍   | 10193/15876 [02:44<01:28, 64.36batch/s]"
     ]
    },
    {
     "name": "stdout",
     "output_type": "stream",
     "text": [
      "Error running sampler. Using normal sample.\n"
     ]
    },
    {
     "name": "stderr",
     "output_type": "stream",
     "text": [
      "Epoch 4/5:  83%|████████▎ | 13219/15876 [03:35<00:44, 59.21batch/s]"
     ]
    },
    {
     "name": "stdout",
     "output_type": "stream",
     "text": [
      "Error running sampler. Using normal sample.\n"
     ]
    },
    {
     "name": "stderr",
     "output_type": "stream",
     "text": [
      "Epoch 4/5:  93%|█████████▎| 14774/15876 [04:07<00:18, 59.98batch/s]"
     ]
    },
    {
     "name": "stdout",
     "output_type": "stream",
     "text": [
      "Error running sampler. Using normal sample.\n",
      "Error running sampler. Using normal sample.\n"
     ]
    },
    {
     "name": "stderr",
     "output_type": "stream",
     "text": [
      "Epoch 4/5: 100%|██████████| 15876/15876 [04:26<00:00, 59.63batch/s]\n"
     ]
    },
    {
     "name": "stdout",
     "output_type": "stream",
     "text": [
      "Error running sampler. Using normal sample.\n",
      "Epoch [4/5], Train Loss: 0.0203, Train Acc: 0.9922, Train F1: 0.9922\n"
     ]
    },
    {
     "name": "stderr",
     "output_type": "stream",
     "text": [
      "Epoch 5/5:   5%|▌         | 854/15876 [00:14<04:08, 60.35batch/s]"
     ]
    },
    {
     "name": "stdout",
     "output_type": "stream",
     "text": [
      "Error running sampler. Using normal sample.\n"
     ]
    },
    {
     "name": "stderr",
     "output_type": "stream",
     "text": [
      "Epoch 5/5:   7%|▋         | 1091/15876 [00:17<03:44, 65.80batch/s]"
     ]
    },
    {
     "name": "stdout",
     "output_type": "stream",
     "text": [
      "Error running sampler. Using normal sample.\n"
     ]
    },
    {
     "name": "stderr",
     "output_type": "stream",
     "text": [
      "Epoch 5/5:  10%|█         | 1605/15876 [00:26<03:40, 64.70batch/s]"
     ]
    },
    {
     "name": "stdout",
     "output_type": "stream",
     "text": [
      "Error running sampler. Using normal sample.\n"
     ]
    },
    {
     "name": "stderr",
     "output_type": "stream",
     "text": [
      "Epoch 5/5:  11%|█         | 1752/15876 [00:28<03:53, 60.37batch/s]"
     ]
    },
    {
     "name": "stdout",
     "output_type": "stream",
     "text": [
      "Error running sampler. Using normal sample.\n"
     ]
    },
    {
     "name": "stderr",
     "output_type": "stream",
     "text": [
      "Epoch 5/5:  13%|█▎        | 2139/15876 [00:35<03:34, 64.01batch/s]"
     ]
    },
    {
     "name": "stdout",
     "output_type": "stream",
     "text": [
      "Error running sampler. Using normal sample.\n"
     ]
    },
    {
     "name": "stderr",
     "output_type": "stream",
     "text": [
      "Epoch 5/5:  30%|██▉       | 4741/15876 [01:17<02:54, 63.78batch/s]"
     ]
    },
    {
     "name": "stdout",
     "output_type": "stream",
     "text": [
      "Error running sampler. Using normal sample.\n"
     ]
    },
    {
     "name": "stderr",
     "output_type": "stream",
     "text": [
      "Epoch 5/5:  66%|██████▌   | 10458/15876 [03:11<01:24, 64.48batch/s]"
     ]
    },
    {
     "name": "stdout",
     "output_type": "stream",
     "text": [
      "Error running sampler. Using normal sample.\n"
     ]
    },
    {
     "name": "stderr",
     "output_type": "stream",
     "text": [
      "Epoch 5/5:  68%|██████▊   | 10873/15876 [03:18<01:20, 62.17batch/s]"
     ]
    },
    {
     "name": "stdout",
     "output_type": "stream",
     "text": [
      "Error running sampler. Using normal sample.\n"
     ]
    },
    {
     "name": "stderr",
     "output_type": "stream",
     "text": [
      "Epoch 5/5:  79%|███████▉  | 12597/15876 [03:46<00:54, 59.68batch/s]"
     ]
    },
    {
     "name": "stdout",
     "output_type": "stream",
     "text": [
      "Error running sampler. Using normal sample.\n"
     ]
    },
    {
     "name": "stderr",
     "output_type": "stream",
     "text": [
      "Epoch 5/5:  97%|█████████▋| 15324/15876 [04:34<00:09, 60.05batch/s]"
     ]
    },
    {
     "name": "stdout",
     "output_type": "stream",
     "text": [
      "Error running sampler. Using normal sample.\n"
     ]
    },
    {
     "name": "stderr",
     "output_type": "stream",
     "text": [
      "Epoch 5/5: 100%|██████████| 15876/15876 [04:44<00:00, 55.84batch/s]\n"
     ]
    },
    {
     "name": "stdout",
     "output_type": "stream",
     "text": [
      "Error running sampler. Using normal sample.\n",
      "Epoch [5/5], Train Loss: 0.0207, Train Acc: 0.9922, Train F1: 0.9922\n"
     ]
    },
    {
     "name": "stderr",
     "output_type": "stream",
     "text": [
      "Testing: 100%|██████████| 3969/3969 [00:12<00:00, 320.92batch/s]\n"
     ]
    },
    {
     "name": "stdout",
     "output_type": "stream",
     "text": [
      "Test Loss: 0.0314, Test Accuracy: 0.9873, Test F1: 0.9877\n"
     ]
    },
    {
     "data": {
      "image/png": "[encoded data removed]",
      "text/plain": [
       "<Figure size 600x400 with 1 Axes>"
      ]
     },
     "metadata": {},
     "output_type": "display_data"
    },
    {
     "name": "stdout",
     "output_type": "stream",
     "text": [
      "Standard Test\n"
     ]
    },
    {
     "data": {
      "image/png": "[encoded data removed]",
      "text/plain": [
       "<Figure size 800x600 with 2 Axes>"
      ]
     },
     "metadata": {},
     "output_type": "display_data"
    }
   ],
   "source": [
    "# Odd Errors? - didn't really encounter these before..\n",
    "device = torch.device(\"cuda\" if torch.cuda.is_available() else \"cpu\")\n",
    "n_features = X_train_tensor.shape[1]\n",
    "fc_size = 128\n",
    "save_dir = './Models/saved_models/02/smote/01-128'\n",
    "model1 = NNdynamic(n_features, fc_size, device, save_dir)\n",
    "# 37.23 min\n",
    "sampler = 'smote'\n",
    "# This can be tuned to percentatage but we risk not classifying all threats.\n",
    "params = {'sampling_strategy': 'auto'}\n",
    "learning_rate = 0.1\n",
    "epochs = 5\n",
    "save_factor = 1\n",
    "model1.run(train_loader, learning_rate, epochs, save_factor, sampler, params, False)\n",
    "model1.test(test_loader)\n",
    "plot_metrics(model1.train_loss, len(model1.train_loss), title=\"Train Loss\")\n",
    "print('Standard Test')\n",
    "labels = test_dataset.tensors[1]\n",
    "plot_confusion_matrix(labels, model1.test_predicted)"
   ]
  },
  {
   "cell_type": "code",
   "execution_count": 12,
   "id": "123326b6",
   "metadata": {},
   "outputs": [
    {
     "name": "stderr",
     "output_type": "stream",
     "text": [
      "Epoch 1/5:   2%|▏         | 280/15876 [00:04<04:08, 62.70batch/s]"
     ]
    },
    {
     "name": "stdout",
     "output_type": "stream",
     "text": [
      "Error running sampler. Using normal sample.\n"
     ]
    },
    {
     "name": "stderr",
     "output_type": "stream",
     "text": [
      "Epoch 1/5:   6%|▋         | 1026/15876 [00:17<05:15, 47.04batch/s]"
     ]
    },
    {
     "name": "stdout",
     "output_type": "stream",
     "text": [
      "Error running sampler. Using normal sample.\n"
     ]
    },
    {
     "name": "stderr",
     "output_type": "stream",
     "text": [
      "Epoch 1/5:  12%|█▏        | 1896/15876 [00:34<03:56, 59.19batch/s]"
     ]
    },
    {
     "name": "stdout",
     "output_type": "stream",
     "text": [
      "Error running sampler. Using normal sample.\n"
     ]
    },
    {
     "name": "stderr",
     "output_type": "stream",
     "text": [
      "Epoch 1/5:  29%|██▉       | 4573/15876 [01:23<03:22, 55.89batch/s]"
     ]
    },
    {
     "name": "stdout",
     "output_type": "stream",
     "text": [
      "Error running sampler. Using normal sample.\n"
     ]
    },
    {
     "name": "stderr",
     "output_type": "stream",
     "text": [
      "Epoch 1/5:  34%|███▍      | 5399/15876 [01:44<04:19, 40.31batch/s]"
     ]
    },
    {
     "name": "stdout",
     "output_type": "stream",
     "text": [
      "Error running sampler. Using normal sample.\n"
     ]
    },
    {
     "name": "stderr",
     "output_type": "stream",
     "text": [
      "Epoch 1/5:  35%|███▌      | 5623/15876 [01:50<04:04, 41.97batch/s]"
     ]
    },
    {
     "name": "stdout",
     "output_type": "stream",
     "text": [
      "Error running sampler. Using normal sample.\n"
     ]
    },
    {
     "name": "stderr",
     "output_type": "stream",
     "text": [
      "Epoch 1/5:  41%|████      | 6495/15876 [02:08<02:52, 54.48batch/s]"
     ]
    },
    {
     "name": "stdout",
     "output_type": "stream",
     "text": [
      "Error running sampler. Using normal sample.\n"
     ]
    },
    {
     "name": "stderr",
     "output_type": "stream",
     "text": [
      "Epoch 1/5:  50%|█████     | 7983/15876 [02:35<02:14, 58.56batch/s]"
     ]
    },
    {
     "name": "stdout",
     "output_type": "stream",
     "text": [
      "Error running sampler. Using normal sample.\n"
     ]
    },
    {
     "name": "stderr",
     "output_type": "stream",
     "text": [
      "Epoch 1/5:  55%|█████▌    | 8751/15876 [02:52<02:42, 43.89batch/s]"
     ]
    },
    {
     "name": "stdout",
     "output_type": "stream",
     "text": [
      "Error running sampler. Using normal sample.\n"
     ]
    },
    {
     "name": "stderr",
     "output_type": "stream",
     "text": [
      "Epoch 1/5:  57%|█████▋    | 9078/15876 [03:00<02:41, 42.17batch/s]"
     ]
    },
    {
     "name": "stdout",
     "output_type": "stream",
     "text": [
      "Error running sampler. Using normal sample.\n"
     ]
    },
    {
     "name": "stderr",
     "output_type": "stream",
     "text": [
      "Epoch 1/5:  62%|██████▏   | 9878/15876 [03:18<01:59, 50.18batch/s]"
     ]
    },
    {
     "name": "stdout",
     "output_type": "stream",
     "text": [
      "Error running sampler. Using normal sample.\n"
     ]
    },
    {
     "name": "stderr",
     "output_type": "stream",
     "text": [
      "Epoch 1/5:  77%|███████▋  | 12219/15876 [04:13<01:27, 42.03batch/s]"
     ]
    },
    {
     "name": "stdout",
     "output_type": "stream",
     "text": [
      "Error running sampler. Using normal sample.\n"
     ]
    },
    {
     "name": "stderr",
     "output_type": "stream",
     "text": [
      "Epoch 1/5:  79%|███████▉  | 12506/15876 [04:20<01:15, 44.80batch/s]"
     ]
    },
    {
     "name": "stdout",
     "output_type": "stream",
     "text": [
      "Error running sampler. Using normal sample.\n"
     ]
    },
    {
     "name": "stderr",
     "output_type": "stream",
     "text": [
      "Epoch 1/5:  85%|████████▍ | 13491/15876 [04:44<00:57, 41.75batch/s]"
     ]
    },
    {
     "name": "stdout",
     "output_type": "stream",
     "text": [
      "Error running sampler. Using normal sample.\n"
     ]
    },
    {
     "name": "stderr",
     "output_type": "stream",
     "text": [
      "Epoch 1/5:  90%|████████▉ | 14218/15876 [05:00<00:28, 59.15batch/s]"
     ]
    },
    {
     "name": "stdout",
     "output_type": "stream",
     "text": [
      "Error running sampler. Using normal sample.\n"
     ]
    },
    {
     "name": "stderr",
     "output_type": "stream",
     "text": [
      "Epoch 1/5: 100%|██████████| 15876/15876 [05:31<00:00, 47.94batch/s]\n"
     ]
    },
    {
     "name": "stdout",
     "output_type": "stream",
     "text": [
      "Error running sampler. Using normal sample.\n",
      "Epoch [1/5], Train Loss: 0.0196, Train Acc: 0.9918, Train F1: 0.9918\n"
     ]
    },
    {
     "name": "stderr",
     "output_type": "stream",
     "text": [
      "Epoch 2/5:   3%|▎         | 453/15876 [00:10<05:41, 45.15batch/s]"
     ]
    },
    {
     "name": "stdout",
     "output_type": "stream",
     "text": [
      "Error running sampler. Using normal sample.\n"
     ]
    },
    {
     "name": "stderr",
     "output_type": "stream",
     "text": [
      "Epoch 2/5:  10%|█         | 1589/15876 [00:37<05:16, 45.08batch/s]"
     ]
    },
    {
     "name": "stdout",
     "output_type": "stream",
     "text": [
      "Error running sampler. Using normal sample.\n"
     ]
    },
    {
     "name": "stderr",
     "output_type": "stream",
     "text": [
      "Epoch 2/5:  12%|█▏        | 1979/15876 [00:46<04:47, 48.40batch/s]"
     ]
    },
    {
     "name": "stdout",
     "output_type": "stream",
     "text": [
      "Error running sampler. Using normal sample.\n"
     ]
    },
    {
     "name": "stderr",
     "output_type": "stream",
     "text": [
      "Epoch 2/5:  15%|█▌        | 2444/15876 [00:57<04:55, 45.42batch/s]"
     ]
    },
    {
     "name": "stdout",
     "output_type": "stream",
     "text": [
      "Error running sampler. Using normal sample.\n"
     ]
    },
    {
     "name": "stderr",
     "output_type": "stream",
     "text": [
      "Epoch 2/5:  29%|██▉       | 4675/15876 [01:43<03:15, 57.18batch/s]"
     ]
    },
    {
     "name": "stdout",
     "output_type": "stream",
     "text": [
      "Error running sampler. Using normal sample.\n"
     ]
    },
    {
     "name": "stderr",
     "output_type": "stream",
     "text": [
      "Epoch 2/5:  56%|█████▌    | 8812/15876 [02:56<02:02, 57.44batch/s]"
     ]
    },
    {
     "name": "stdout",
     "output_type": "stream",
     "text": [
      "Error running sampler. Using normal sample.\n"
     ]
    },
    {
     "name": "stderr",
     "output_type": "stream",
     "text": [
      "Epoch 2/5:  89%|████████▉ | 14177/15876 [04:30<00:28, 59.82batch/s]"
     ]
    },
    {
     "name": "stdout",
     "output_type": "stream",
     "text": [
      "Error running sampler. Using normal sample.\n"
     ]
    },
    {
     "name": "stderr",
     "output_type": "stream",
     "text": [
      "Epoch 2/5: 100%|██████████| 15876/15876 [05:00<00:00, 52.77batch/s]\n"
     ]
    },
    {
     "name": "stdout",
     "output_type": "stream",
     "text": [
      "Epoch [2/5], Train Loss: 0.0184, Train Acc: 0.9920, Train F1: 0.9920\n"
     ]
    },
    {
     "name": "stderr",
     "output_type": "stream",
     "text": [
      "Epoch 3/5:   3%|▎         | 523/15876 [00:09<04:32, 56.33batch/s]"
     ]
    },
    {
     "name": "stdout",
     "output_type": "stream",
     "text": [
      "Error running sampler. Using normal sample.\n"
     ]
    },
    {
     "name": "stderr",
     "output_type": "stream",
     "text": [
      "Epoch 3/5:   4%|▎         | 573/15876 [00:10<04:28, 56.99batch/s]"
     ]
    },
    {
     "name": "stdout",
     "output_type": "stream",
     "text": [
      "Error running sampler. Using normal sample.\n"
     ]
    },
    {
     "name": "stderr",
     "output_type": "stream",
     "text": [
      "Epoch 3/5:  12%|█▏        | 1830/15876 [00:32<03:51, 60.64batch/s]"
     ]
    },
    {
     "name": "stdout",
     "output_type": "stream",
     "text": [
      "Error running sampler. Using normal sample.\n"
     ]
    },
    {
     "name": "stderr",
     "output_type": "stream",
     "text": [
      "Epoch 3/5:  39%|███▉      | 6166/15876 [01:49<02:50, 56.91batch/s]"
     ]
    },
    {
     "name": "stdout",
     "output_type": "stream",
     "text": [
      "Error running sampler. Using normal sample.\n"
     ]
    },
    {
     "name": "stderr",
     "output_type": "stream",
     "text": [
      "Epoch 3/5:  40%|███▉      | 6274/15876 [01:51<02:55, 54.77batch/s]"
     ]
    },
    {
     "name": "stdout",
     "output_type": "stream",
     "text": [
      "Error running sampler. Using normal sample.\n"
     ]
    },
    {
     "name": "stderr",
     "output_type": "stream",
     "text": [
      "Epoch 3/5:  47%|████▋     | 7439/15876 [02:12<02:29, 56.40batch/s]"
     ]
    },
    {
     "name": "stdout",
     "output_type": "stream",
     "text": [
      "Error running sampler. Using normal sample.\n"
     ]
    },
    {
     "name": "stderr",
     "output_type": "stream",
     "text": [
      "Epoch 3/5:  53%|█████▎    | 8471/15876 [02:30<02:07, 57.98batch/s]"
     ]
    },
    {
     "name": "stdout",
     "output_type": "stream",
     "text": [
      "Error running sampler. Using normal sample.\n"
     ]
    },
    {
     "name": "stderr",
     "output_type": "stream",
     "text": [
      "Epoch 3/5:  55%|█████▍    | 8701/15876 [02:34<02:04, 57.51batch/s]"
     ]
    },
    {
     "name": "stdout",
     "output_type": "stream",
     "text": [
      "Error running sampler. Using normal sample.\n"
     ]
    },
    {
     "name": "stderr",
     "output_type": "stream",
     "text": [
      "Epoch 3/5:  64%|██████▎   | 10116/15876 [02:59<01:44, 55.38batch/s]"
     ]
    },
    {
     "name": "stdout",
     "output_type": "stream",
     "text": [
      "Error running sampler. Using normal sample.\n"
     ]
    },
    {
     "name": "stderr",
     "output_type": "stream",
     "text": [
      "Epoch 3/5:  68%|██████▊   | 10784/15876 [03:11<01:30, 56.22batch/s]"
     ]
    },
    {
     "name": "stdout",
     "output_type": "stream",
     "text": [
      "Error running sampler. Using normal sample.\n"
     ]
    },
    {
     "name": "stderr",
     "output_type": "stream",
     "text": [
      "Epoch 3/5:  71%|███████   | 11239/15876 [03:19<01:24, 55.17batch/s]"
     ]
    },
    {
     "name": "stdout",
     "output_type": "stream",
     "text": [
      "Error running sampler. Using normal sample.\n"
     ]
    },
    {
     "name": "stderr",
     "output_type": "stream",
     "text": [
      "Epoch 3/5:  73%|███████▎  | 11621/15876 [03:26<01:13, 57.62batch/s]"
     ]
    },
    {
     "name": "stdout",
     "output_type": "stream",
     "text": [
      "Error running sampler. Using normal sample.\n"
     ]
    },
    {
     "name": "stderr",
     "output_type": "stream",
     "text": [
      "Epoch 3/5:  83%|████████▎ | 13098/15876 [03:52<00:49, 56.17batch/s]"
     ]
    },
    {
     "name": "stdout",
     "output_type": "stream",
     "text": [
      "Error running sampler. Using normal sample.\n"
     ]
    },
    {
     "name": "stderr",
     "output_type": "stream",
     "text": [
      "Epoch 3/5:  87%|████████▋ | 13879/15876 [04:06<00:34, 57.51batch/s]"
     ]
    },
    {
     "name": "stdout",
     "output_type": "stream",
     "text": [
      "Error running sampler. Using normal sample.\n"
     ]
    },
    {
     "name": "stderr",
     "output_type": "stream",
     "text": [
      "Epoch 3/5:  88%|████████▊ | 13927/15876 [04:07<00:35, 54.34batch/s]"
     ]
    },
    {
     "name": "stdout",
     "output_type": "stream",
     "text": [
      "Error running sampler. Using normal sample.\n"
     ]
    },
    {
     "name": "stderr",
     "output_type": "stream",
     "text": [
      "Epoch 3/5:  96%|█████████▋| 15292/15876 [04:32<00:10, 57.59batch/s]"
     ]
    },
    {
     "name": "stdout",
     "output_type": "stream",
     "text": [
      "Error running sampler. Using normal sample.\n"
     ]
    },
    {
     "name": "stderr",
     "output_type": "stream",
     "text": [
      "Epoch 3/5:  99%|█████████▊| 15666/15876 [04:38<00:03, 55.81batch/s]"
     ]
    },
    {
     "name": "stdout",
     "output_type": "stream",
     "text": [
      "Error running sampler. Using normal sample.\n"
     ]
    },
    {
     "name": "stderr",
     "output_type": "stream",
     "text": [
      "Epoch 3/5: 100%|█████████▉| 15850/15876 [04:42<00:00, 56.83batch/s]"
     ]
    },
    {
     "name": "stdout",
     "output_type": "stream",
     "text": [
      "Error running sampler. Using normal sample.\n"
     ]
    },
    {
     "name": "stderr",
     "output_type": "stream",
     "text": [
      "Epoch 3/5: 100%|██████████| 15876/15876 [04:42<00:00, 56.18batch/s]\n"
     ]
    },
    {
     "name": "stdout",
     "output_type": "stream",
     "text": [
      "Error running sampler. Using normal sample.\n",
      "Epoch [3/5], Train Loss: 0.0183, Train Acc: 0.9921, Train F1: 0.9921\n"
     ]
    },
    {
     "name": "stderr",
     "output_type": "stream",
     "text": [
      "Epoch 4/5:   0%|          | 58/15876 [00:01<04:49, 54.61batch/s]"
     ]
    },
    {
     "name": "stdout",
     "output_type": "stream",
     "text": [
      "Error running sampler. Using normal sample.\n"
     ]
    },
    {
     "name": "stderr",
     "output_type": "stream",
     "text": [
      "Epoch 4/5:  10%|█         | 1637/15876 [00:29<04:09, 57.05batch/s]"
     ]
    },
    {
     "name": "stdout",
     "output_type": "stream",
     "text": [
      "Error running sampler. Using normal sample.\n",
      "Error running sampler. Using normal sample.\n"
     ]
    },
    {
     "name": "stderr",
     "output_type": "stream",
     "text": [
      "Epoch 4/5:  13%|█▎        | 2091/15876 [00:38<05:20, 43.00batch/s]"
     ]
    },
    {
     "name": "stdout",
     "output_type": "stream",
     "text": [
      "Error running sampler. Using normal sample.\n"
     ]
    },
    {
     "name": "stderr",
     "output_type": "stream",
     "text": [
      "Epoch 4/5:  29%|██▉       | 4646/15876 [01:34<03:27, 54.20batch/s]"
     ]
    },
    {
     "name": "stdout",
     "output_type": "stream",
     "text": [
      "Error running sampler. Using normal sample.\n"
     ]
    },
    {
     "name": "stderr",
     "output_type": "stream",
     "text": [
      "Epoch 4/5:  47%|████▋     | 7444/15876 [02:31<03:28, 40.51batch/s]"
     ]
    },
    {
     "name": "stdout",
     "output_type": "stream",
     "text": [
      "Error running sampler. Using normal sample.\n"
     ]
    },
    {
     "name": "stderr",
     "output_type": "stream",
     "text": [
      "Epoch 4/5:  49%|████▉     | 7767/15876 [02:38<03:06, 43.58batch/s]"
     ]
    },
    {
     "name": "stdout",
     "output_type": "stream",
     "text": [
      "Error running sampler. Using normal sample.\n"
     ]
    },
    {
     "name": "stderr",
     "output_type": "stream",
     "text": [
      "Epoch 4/5:  59%|█████▉    | 9420/15876 [03:17<02:17, 46.93batch/s]"
     ]
    },
    {
     "name": "stdout",
     "output_type": "stream",
     "text": [
      "Error running sampler. Using normal sample.\n"
     ]
    },
    {
     "name": "stderr",
     "output_type": "stream",
     "text": [
      "Epoch 4/5:  68%|██████▊   | 10755/15876 [03:49<02:01, 42.26batch/s]"
     ]
    },
    {
     "name": "stdout",
     "output_type": "stream",
     "text": [
      "Error running sampler. Using normal sample.\n"
     ]
    },
    {
     "name": "stderr",
     "output_type": "stream",
     "text": [
      "Epoch 4/5:  87%|████████▋ | 13799/15876 [05:01<00:50, 41.06batch/s]"
     ]
    },
    {
     "name": "stdout",
     "output_type": "stream",
     "text": [
      "Error running sampler. Using normal sample.\n"
     ]
    },
    {
     "name": "stderr",
     "output_type": "stream",
     "text": [
      "Epoch 4/5: 100%|██████████| 15876/15876 [05:51<00:00, 45.17batch/s]\n"
     ]
    },
    {
     "name": "stdout",
     "output_type": "stream",
     "text": [
      "Error running sampler. Using normal sample.\n",
      "Epoch [4/5], Train Loss: 0.0204, Train Acc: 0.9925, Train F1: 0.9925\n"
     ]
    },
    {
     "name": "stderr",
     "output_type": "stream",
     "text": [
      "Epoch 5/5:   3%|▎         | 448/15876 [00:10<06:07, 42.02batch/s]"
     ]
    },
    {
     "name": "stdout",
     "output_type": "stream",
     "text": [
      "Error running sampler. Using normal sample.\n"
     ]
    },
    {
     "name": "stderr",
     "output_type": "stream",
     "text": [
      "Epoch 5/5:  16%|█▌        | 2468/15876 [00:59<05:02, 44.28batch/s]"
     ]
    },
    {
     "name": "stdout",
     "output_type": "stream",
     "text": [
      "Error running sampler. Using normal sample.\n"
     ]
    },
    {
     "name": "stderr",
     "output_type": "stream",
     "text": [
      "Epoch 5/5:  21%|██        | 3364/15876 [01:21<04:48, 43.29batch/s]"
     ]
    },
    {
     "name": "stdout",
     "output_type": "stream",
     "text": [
      "Error running sampler. Using normal sample.\n"
     ]
    },
    {
     "name": "stderr",
     "output_type": "stream",
     "text": [
      "Epoch 5/5:  35%|███▍      | 5529/15876 [02:09<03:01, 57.02batch/s]"
     ]
    },
    {
     "name": "stdout",
     "output_type": "stream",
     "text": [
      "Error running sampler. Using normal sample.\n"
     ]
    },
    {
     "name": "stderr",
     "output_type": "stream",
     "text": [
      "Epoch 5/5:  60%|█████▉    | 9496/15876 [03:31<02:27, 43.14batch/s]"
     ]
    },
    {
     "name": "stdout",
     "output_type": "stream",
     "text": [
      "Error running sampler. Using normal sample.\n"
     ]
    },
    {
     "name": "stderr",
     "output_type": "stream",
     "text": [
      "Epoch 5/5:  73%|███████▎  | 11587/15876 [04:21<01:40, 42.70batch/s]"
     ]
    },
    {
     "name": "stdout",
     "output_type": "stream",
     "text": [
      "Error running sampler. Using normal sample.\n"
     ]
    },
    {
     "name": "stderr",
     "output_type": "stream",
     "text": [
      "Epoch 5/5:  85%|████████▍ | 13444/15876 [04:59<00:56, 43.24batch/s]"
     ]
    },
    {
     "name": "stdout",
     "output_type": "stream",
     "text": [
      "Error running sampler. Using normal sample.\n"
     ]
    },
    {
     "name": "stderr",
     "output_type": "stream",
     "text": [
      "Epoch 5/5:  85%|████████▌ | 13504/15876 [05:01<00:54, 43.13batch/s]"
     ]
    },
    {
     "name": "stdout",
     "output_type": "stream",
     "text": [
      "Error running sampler. Using normal sample.\n"
     ]
    },
    {
     "name": "stderr",
     "output_type": "stream",
     "text": [
      "Epoch 5/5: 100%|██████████| 15876/15876 [05:45<00:00, 45.98batch/s]\n"
     ]
    },
    {
     "name": "stdout",
     "output_type": "stream",
     "text": [
      "Epoch [5/5], Train Loss: 0.0189, Train Acc: 0.9922, Train F1: 0.9922\n"
     ]
    },
    {
     "name": "stderr",
     "output_type": "stream",
     "text": [
      "Testing: 100%|██████████| 3969/3969 [00:12<00:00, 327.82batch/s]\n"
     ]
    },
    {
     "name": "stdout",
     "output_type": "stream",
     "text": [
      "Test Loss: 0.0199, Test Accuracy: 0.9910, Test F1: 0.9911\n"
     ]
    },
    {
     "data": {
      "image/png": "[encoded data removed]",
      "text/plain": [
       "<Figure size 600x400 with 1 Axes>"
      ]
     },
     "metadata": {},
     "output_type": "display_data"
    },
    {
     "name": "stdout",
     "output_type": "stream",
     "text": [
      "Standard Test\n"
     ]
    },
    {
     "data": {
      "image/png": "[encoded data removed]",
      "text/plain": [
       "<Figure size 800x600 with 2 Axes>"
      ]
     },
     "metadata": {},
     "output_type": "display_data"
    }
   ],
   "source": [
    "device = torch.device(\"cuda\" if torch.cuda.is_available() else \"cpu\")\n",
    "n_features = X_train_tensor.shape[1]\n",
    "fc_size = 256\n",
    "save_dir = './Models/saved_models/02/smote/01-256'\n",
    "model1 = NNdynamic(n_features, fc_size, device, save_dir)\n",
    "# 37.23 min\n",
    "sampler = 'smote'\n",
    "params = {'sampling_strategy': 'auto'}\n",
    "learning_rate = 0.1\n",
    "epochs = 5\n",
    "save_factor = 1\n",
    "model1.run(train_loader, learning_rate, epochs, save_factor, sampler, params, False)\n",
    "model1.test(test_loader)\n",
    "plot_metrics(model1.train_loss, len(model1.train_loss), title=\"Train Loss\")\n",
    "print('Standard Test')\n",
    "labels = test_dataset.tensors[1]\n",
    "plot_confusion_matrix(labels, model1.test_predicted)"
   ]
  },
  {
   "cell_type": "code",
   "execution_count": 14,
   "id": "da52aa39",
   "metadata": {},
   "outputs": [
    {
     "name": "stderr",
     "output_type": "stream",
     "text": [
      "Epoch 1/5:   6%|▌         | 926/15876 [00:17<04:48, 51.73batch/s]"
     ]
    },
    {
     "name": "stdout",
     "output_type": "stream",
     "text": [
      "Error running sampler. Using normal sample.\n"
     ]
    },
    {
     "name": "stderr",
     "output_type": "stream",
     "text": [
      "Epoch 1/5:  57%|█████▋    | 9050/15876 [03:06<01:59, 57.04batch/s]"
     ]
    },
    {
     "name": "stdout",
     "output_type": "stream",
     "text": [
      "Error running sampler. Using normal sample.\n"
     ]
    },
    {
     "name": "stderr",
     "output_type": "stream",
     "text": [
      "Epoch 1/5:  72%|███████▏  | 11489/15876 [03:50<01:21, 53.61batch/s]"
     ]
    },
    {
     "name": "stdout",
     "output_type": "stream",
     "text": [
      "Error running sampler. Using normal sample.\n"
     ]
    },
    {
     "name": "stderr",
     "output_type": "stream",
     "text": [
      "Epoch 1/5:  73%|███████▎  | 11646/15876 [03:53<01:18, 54.17batch/s]"
     ]
    },
    {
     "name": "stdout",
     "output_type": "stream",
     "text": [
      "Error running sampler. Using normal sample.\n"
     ]
    },
    {
     "name": "stderr",
     "output_type": "stream",
     "text": [
      "Epoch 1/5:  86%|████████▋ | 13702/15876 [04:30<00:40, 53.92batch/s]"
     ]
    },
    {
     "name": "stdout",
     "output_type": "stream",
     "text": [
      "Error running sampler. Using normal sample.\n"
     ]
    },
    {
     "name": "stderr",
     "output_type": "stream",
     "text": [
      "Epoch 1/5: 100%|█████████▉| 15859/15876 [05:10<00:00, 56.48batch/s]"
     ]
    },
    {
     "name": "stdout",
     "output_type": "stream",
     "text": [
      "Error running sampler. Using normal sample.\n"
     ]
    },
    {
     "name": "stderr",
     "output_type": "stream",
     "text": [
      "Epoch 1/5: 100%|██████████| 15876/15876 [05:10<00:00, 51.07batch/s]\n"
     ]
    },
    {
     "name": "stdout",
     "output_type": "stream",
     "text": [
      "Error running sampler. Using normal sample.\n",
      "Epoch [1/5], Train Loss: 0.0414, Train Acc: 0.9919, Train F1: 0.9919\n"
     ]
    },
    {
     "name": "stderr",
     "output_type": "stream",
     "text": [
      "Epoch 2/5:  17%|█▋        | 2755/15876 [00:50<03:50, 57.01batch/s]"
     ]
    },
    {
     "name": "stdout",
     "output_type": "stream",
     "text": [
      "Error running sampler. Using normal sample.\n"
     ]
    },
    {
     "name": "stderr",
     "output_type": "stream",
     "text": [
      "Epoch 2/5:  19%|█▉        | 3067/15876 [00:56<03:50, 55.61batch/s]"
     ]
    },
    {
     "name": "stdout",
     "output_type": "stream",
     "text": [
      "Error running sampler. Using normal sample.\n"
     ]
    },
    {
     "name": "stderr",
     "output_type": "stream",
     "text": [
      "Epoch 2/5:  22%|██▏       | 3523/15876 [01:04<03:45, 54.83batch/s]"
     ]
    },
    {
     "name": "stdout",
     "output_type": "stream",
     "text": [
      "Error running sampler. Using normal sample.\n"
     ]
    },
    {
     "name": "stderr",
     "output_type": "stream",
     "text": [
      "Epoch 2/5:  27%|██▋       | 4305/15876 [01:18<03:23, 56.92batch/s]"
     ]
    },
    {
     "name": "stdout",
     "output_type": "stream",
     "text": [
      "Error running sampler. Using normal sample.\n"
     ]
    },
    {
     "name": "stderr",
     "output_type": "stream",
     "text": [
      "Epoch 2/5:  31%|███▏      | 4967/15876 [01:30<03:17, 55.35batch/s]"
     ]
    },
    {
     "name": "stdout",
     "output_type": "stream",
     "text": [
      "Error running sampler. Using normal sample.\n"
     ]
    },
    {
     "name": "stderr",
     "output_type": "stream",
     "text": [
      "Epoch 2/5:  44%|████▎     | 6933/15876 [02:07<02:33, 58.22batch/s]"
     ]
    },
    {
     "name": "stdout",
     "output_type": "stream",
     "text": [
      "Error running sampler. Using normal sample.\n"
     ]
    },
    {
     "name": "stderr",
     "output_type": "stream",
     "text": [
      "Epoch 2/5:  59%|█████▉    | 9372/15876 [02:50<01:46, 61.23batch/s]"
     ]
    },
    {
     "name": "stdout",
     "output_type": "stream",
     "text": [
      "Error running sampler. Using normal sample.\n"
     ]
    },
    {
     "name": "stderr",
     "output_type": "stream",
     "text": [
      "Epoch 2/5:  62%|██████▏   | 9846/15876 [02:59<01:45, 57.05batch/s]"
     ]
    },
    {
     "name": "stdout",
     "output_type": "stream",
     "text": [
      "Error running sampler. Using normal sample.\n"
     ]
    },
    {
     "name": "stderr",
     "output_type": "stream",
     "text": [
      "Epoch 2/5: 100%|██████████| 15876/15876 [04:47<00:00, 55.30batch/s]\n"
     ]
    },
    {
     "name": "stdout",
     "output_type": "stream",
     "text": [
      "Error running sampler. Using normal sample.\n",
      "Epoch [2/5], Train Loss: 0.0163, Train Acc: 0.9918, Train F1: 0.9917\n"
     ]
    },
    {
     "name": "stderr",
     "output_type": "stream",
     "text": [
      "Epoch 3/5:  12%|█▏        | 1931/15876 [00:34<04:01, 57.81batch/s]"
     ]
    },
    {
     "name": "stdout",
     "output_type": "stream",
     "text": [
      "Error running sampler. Using normal sample.\n"
     ]
    },
    {
     "name": "stderr",
     "output_type": "stream",
     "text": [
      "Epoch 3/5:  35%|███▌      | 5570/15876 [01:40<03:03, 56.32batch/s]"
     ]
    },
    {
     "name": "stdout",
     "output_type": "stream",
     "text": [
      "Error running sampler. Using normal sample.\n"
     ]
    },
    {
     "name": "stderr",
     "output_type": "stream",
     "text": [
      "Epoch 3/5:  47%|████▋     | 7384/15876 [02:12<02:33, 55.39batch/s]"
     ]
    },
    {
     "name": "stdout",
     "output_type": "stream",
     "text": [
      "Error running sampler. Using normal sample.\n"
     ]
    },
    {
     "name": "stderr",
     "output_type": "stream",
     "text": [
      "Epoch 3/5:  55%|█████▌    | 8752/15876 [02:37<02:06, 56.29batch/s]"
     ]
    },
    {
     "name": "stdout",
     "output_type": "stream",
     "text": [
      "Error running sampler. Using normal sample.\n"
     ]
    },
    {
     "name": "stderr",
     "output_type": "stream",
     "text": [
      "Epoch 3/5:  62%|██████▏   | 9827/15876 [02:56<01:45, 57.35batch/s]"
     ]
    },
    {
     "name": "stdout",
     "output_type": "stream",
     "text": [
      "Error running sampler. Using normal sample.\n"
     ]
    },
    {
     "name": "stderr",
     "output_type": "stream",
     "text": [
      "Epoch 3/5:  83%|████████▎ | 13175/15876 [03:57<00:47, 57.34batch/s]"
     ]
    },
    {
     "name": "stdout",
     "output_type": "stream",
     "text": [
      "Error running sampler. Using normal sample.\n"
     ]
    },
    {
     "name": "stderr",
     "output_type": "stream",
     "text": [
      "Epoch 3/5: 100%|██████████| 15876/15876 [04:47<00:00, 55.26batch/s]\n"
     ]
    },
    {
     "name": "stdout",
     "output_type": "stream",
     "text": [
      "Epoch [3/5], Train Loss: 0.0176, Train Acc: 0.9920, Train F1: 0.9920\n"
     ]
    },
    {
     "name": "stderr",
     "output_type": "stream",
     "text": [
      "Epoch 4/5:   4%|▍         | 672/15876 [00:12<06:01, 42.10batch/s]"
     ]
    },
    {
     "name": "stdout",
     "output_type": "stream",
     "text": [
      "Error running sampler. Using normal sample.\n"
     ]
    },
    {
     "name": "stderr",
     "output_type": "stream",
     "text": [
      "Epoch 4/5:  13%|█▎        | 2037/15876 [00:51<06:16, 36.76batch/s]"
     ]
    },
    {
     "name": "stdout",
     "output_type": "stream",
     "text": [
      "Error running sampler. Using normal sample.\n"
     ]
    },
    {
     "name": "stderr",
     "output_type": "stream",
     "text": [
      "Epoch 4/5:  15%|█▍        | 2337/15876 [00:59<06:30, 34.67batch/s]"
     ]
    },
    {
     "name": "stdout",
     "output_type": "stream",
     "text": [
      "Error running sampler. Using normal sample.\n"
     ]
    },
    {
     "name": "stderr",
     "output_type": "stream",
     "text": [
      "Epoch 4/5:  37%|███▋      | 5844/15876 [02:08<03:37, 46.04batch/s]"
     ]
    },
    {
     "name": "stdout",
     "output_type": "stream",
     "text": [
      "Error running sampler. Using normal sample.\n"
     ]
    },
    {
     "name": "stderr",
     "output_type": "stream",
     "text": [
      "Epoch 4/5:  42%|████▏     | 6745/15876 [02:29<03:37, 42.00batch/s]"
     ]
    },
    {
     "name": "stdout",
     "output_type": "stream",
     "text": [
      "Error running sampler. Using normal sample.\n"
     ]
    },
    {
     "name": "stderr",
     "output_type": "stream",
     "text": [
      "Epoch 4/5:  45%|████▌     | 7203/15876 [02:39<03:54, 36.92batch/s]"
     ]
    },
    {
     "name": "stdout",
     "output_type": "stream",
     "text": [
      "Error running sampler. Using normal sample.\n"
     ]
    },
    {
     "name": "stderr",
     "output_type": "stream",
     "text": [
      "Epoch 4/5:  47%|████▋     | 7438/15876 [02:45<03:50, 36.63batch/s]"
     ]
    },
    {
     "name": "stdout",
     "output_type": "stream",
     "text": [
      "Error running sampler. Using normal sample.\n"
     ]
    },
    {
     "name": "stderr",
     "output_type": "stream",
     "text": [
      "Epoch 4/5:  59%|█████▉    | 9356/15876 [03:40<03:04, 35.31batch/s]"
     ]
    },
    {
     "name": "stdout",
     "output_type": "stream",
     "text": [
      "Error running sampler. Using normal sample.\n"
     ]
    },
    {
     "name": "stderr",
     "output_type": "stream",
     "text": [
      "Epoch 4/5:  61%|██████▏   | 9728/15876 [03:50<02:47, 36.70batch/s]"
     ]
    },
    {
     "name": "stdout",
     "output_type": "stream",
     "text": [
      "Error running sampler. Using normal sample.\n"
     ]
    },
    {
     "name": "stderr",
     "output_type": "stream",
     "text": [
      "Epoch 4/5:  70%|███████   | 11169/15876 [04:28<01:31, 51.42batch/s]"
     ]
    },
    {
     "name": "stdout",
     "output_type": "stream",
     "text": [
      "Error running sampler. Using normal sample.\n"
     ]
    },
    {
     "name": "stderr",
     "output_type": "stream",
     "text": [
      "Epoch 4/5:  77%|███████▋  | 12245/15876 [04:54<01:22, 43.76batch/s]"
     ]
    },
    {
     "name": "stdout",
     "output_type": "stream",
     "text": [
      "Error running sampler. Using normal sample.\n"
     ]
    },
    {
     "name": "stderr",
     "output_type": "stream",
     "text": [
      "Epoch 4/5: 100%|██████████| 15876/15876 [06:15<00:00, 42.31batch/s]\n"
     ]
    },
    {
     "name": "stdout",
     "output_type": "stream",
     "text": [
      "Error running sampler. Using normal sample.\n",
      "Epoch [4/5], Train Loss: 0.0186, Train Acc: 0.9922, Train F1: 0.9922\n"
     ]
    },
    {
     "name": "stderr",
     "output_type": "stream",
     "text": [
      "Epoch 5/5:   5%|▌         | 829/15876 [00:20<05:50, 42.88batch/s]"
     ]
    },
    {
     "name": "stdout",
     "output_type": "stream",
     "text": [
      "Error running sampler. Using normal sample.\n"
     ]
    },
    {
     "name": "stderr",
     "output_type": "stream",
     "text": [
      "Epoch 5/5:   6%|▋         | 1006/15876 [00:24<06:16, 39.48batch/s]"
     ]
    },
    {
     "name": "stdout",
     "output_type": "stream",
     "text": [
      "Error running sampler. Using normal sample.\n"
     ]
    },
    {
     "name": "stderr",
     "output_type": "stream",
     "text": [
      "Epoch 5/5:  12%|█▏        | 1957/15876 [00:48<05:22, 43.09batch/s]"
     ]
    },
    {
     "name": "stdout",
     "output_type": "stream",
     "text": [
      "Error running sampler. Using normal sample.\n"
     ]
    },
    {
     "name": "stderr",
     "output_type": "stream",
     "text": [
      "Epoch 5/5:  17%|█▋        | 2758/15876 [01:08<04:59, 43.84batch/s]"
     ]
    },
    {
     "name": "stdout",
     "output_type": "stream",
     "text": [
      "Error running sampler. Using normal sample.\n"
     ]
    },
    {
     "name": "stderr",
     "output_type": "stream",
     "text": [
      "Epoch 5/5:  18%|█▊        | 2818/15876 [01:09<05:14, 41.50batch/s]"
     ]
    },
    {
     "name": "stdout",
     "output_type": "stream",
     "text": [
      "Error running sampler. Using normal sample.\n"
     ]
    },
    {
     "name": "stderr",
     "output_type": "stream",
     "text": [
      "Epoch 5/5:  20%|█▉        | 3160/15876 [01:17<04:48, 44.13batch/s]"
     ]
    },
    {
     "name": "stdout",
     "output_type": "stream",
     "text": [
      "Error running sampler. Using normal sample.\n"
     ]
    },
    {
     "name": "stderr",
     "output_type": "stream",
     "text": [
      "Epoch 5/5:  21%|██        | 3364/15876 [01:22<04:59, 41.79batch/s]"
     ]
    },
    {
     "name": "stdout",
     "output_type": "stream",
     "text": [
      "Error running sampler. Using normal sample.\n"
     ]
    },
    {
     "name": "stderr",
     "output_type": "stream",
     "text": [
      "Epoch 5/5:  26%|██▋       | 4199/15876 [01:42<05:06, 38.05batch/s]"
     ]
    },
    {
     "name": "stdout",
     "output_type": "stream",
     "text": [
      "Error running sampler. Using normal sample.\n"
     ]
    },
    {
     "name": "stderr",
     "output_type": "stream",
     "text": [
      "Epoch 5/5:  27%|██▋       | 4262/15876 [01:44<04:39, 41.55batch/s]"
     ]
    },
    {
     "name": "stdout",
     "output_type": "stream",
     "text": [
      "Error running sampler. Using normal sample.\n"
     ]
    },
    {
     "name": "stderr",
     "output_type": "stream",
     "text": [
      "Epoch 5/5:  28%|██▊       | 4413/15876 [01:47<04:32, 42.09batch/s]"
     ]
    },
    {
     "name": "stdout",
     "output_type": "stream",
     "text": [
      "Error running sampler. Using normal sample.\n"
     ]
    },
    {
     "name": "stderr",
     "output_type": "stream",
     "text": [
      "Epoch 5/5:  30%|███       | 4764/15876 [01:56<04:38, 39.91batch/s]"
     ]
    },
    {
     "name": "stdout",
     "output_type": "stream",
     "text": [
      "Error running sampler. Using normal sample.\n"
     ]
    },
    {
     "name": "stderr",
     "output_type": "stream",
     "text": [
      "Epoch 5/5:  31%|███▏      | 4963/15876 [02:01<04:25, 41.09batch/s]"
     ]
    },
    {
     "name": "stdout",
     "output_type": "stream",
     "text": [
      "Error running sampler. Using normal sample.\n"
     ]
    },
    {
     "name": "stderr",
     "output_type": "stream",
     "text": [
      "Epoch 5/5:  54%|█████▍    | 8605/15876 [03:11<02:13, 54.40batch/s]"
     ]
    },
    {
     "name": "stdout",
     "output_type": "stream",
     "text": [
      "Error running sampler. Using normal sample.\n"
     ]
    },
    {
     "name": "stderr",
     "output_type": "stream",
     "text": [
      "Epoch 5/5:  61%|██████▏   | 9763/15876 [03:34<01:49, 55.84batch/s]"
     ]
    },
    {
     "name": "stdout",
     "output_type": "stream",
     "text": [
      "Error running sampler. Using normal sample.\n"
     ]
    },
    {
     "name": "stderr",
     "output_type": "stream",
     "text": [
      "Epoch 5/5:  63%|██████▎   | 9950/15876 [03:37<01:46, 55.60batch/s]"
     ]
    },
    {
     "name": "stdout",
     "output_type": "stream",
     "text": [
      "Error running sampler. Using normal sample.\n"
     ]
    },
    {
     "name": "stderr",
     "output_type": "stream",
     "text": [
      "Epoch 5/5:  69%|██████▉   | 11032/15876 [03:58<01:32, 52.10batch/s]"
     ]
    },
    {
     "name": "stdout",
     "output_type": "stream",
     "text": [
      "Error running sampler. Using normal sample.\n"
     ]
    },
    {
     "name": "stderr",
     "output_type": "stream",
     "text": [
      "Epoch 5/5:  72%|███████▏  | 11447/15876 [04:05<01:21, 54.06batch/s]"
     ]
    },
    {
     "name": "stdout",
     "output_type": "stream",
     "text": [
      "Error running sampler. Using normal sample.\n"
     ]
    },
    {
     "name": "stderr",
     "output_type": "stream",
     "text": [
      "Epoch 5/5:  81%|████████  | 12781/15876 [04:31<00:57, 54.16batch/s]"
     ]
    },
    {
     "name": "stdout",
     "output_type": "stream",
     "text": [
      "Error running sampler. Using normal sample.\n"
     ]
    },
    {
     "name": "stderr",
     "output_type": "stream",
     "text": [
      "Epoch 5/5: 100%|██████████| 15876/15876 [05:36<00:00, 47.18batch/s]\n"
     ]
    },
    {
     "name": "stdout",
     "output_type": "stream",
     "text": [
      "Epoch [5/5], Train Loss: 0.0204, Train Acc: 0.9922, Train F1: 0.9922\n"
     ]
    },
    {
     "name": "stderr",
     "output_type": "stream",
     "text": [
      "Testing: 100%|██████████| 3969/3969 [00:18<00:00, 208.96batch/s]\n"
     ]
    },
    {
     "name": "stdout",
     "output_type": "stream",
     "text": [
      "Test Loss: 0.0320, Test Accuracy: 0.9879, Test F1: 0.9882\n"
     ]
    },
    {
     "data": {
      "image/png": "[encoded data removed]",
      "text/plain": [
       "<Figure size 600x400 with 1 Axes>"
      ]
     },
     "metadata": {},
     "output_type": "display_data"
    },
    {
     "name": "stdout",
     "output_type": "stream",
     "text": [
      "Standard Test\n"
     ]
    },
    {
     "data": {
      "image/png": "[encoded data removed]",
      "text/plain": [
       "<Figure size 800x600 with 2 Axes>"
      ]
     },
     "metadata": {},
     "output_type": "display_data"
    }
   ],
   "source": [
    "device = torch.device(\"cuda\" if torch.cuda.is_available() else \"cpu\")\n",
    "n_features = X_train_tensor.shape[1]\n",
    "fc_size = 512\n",
    "save_dir = './Models/saved_models/02/smote/01-512'\n",
    "model1 = NNdynamic(n_features, fc_size, device, save_dir)\n",
    "# 37.23 min\n",
    "sampler = 'smote'\n",
    "params = {'sampling_strategy': 'auto'}\n",
    "learning_rate = 0.1\n",
    "epochs = 5\n",
    "save_factor = 1\n",
    "model1.run(train_loader, learning_rate, epochs, save_factor, sampler, params, False)\n",
    "model1.test(test_loader)\n",
    "plot_metrics(model1.train_loss, len(model1.train_loss), title=\"Train Loss\")\n",
    "print('Standard Test')\n",
    "labels = test_dataset.tensors[1]\n",
    "plot_confusion_matrix(labels, model1.test_predicted)"
   ]
  },
  {
   "cell_type": "markdown",
   "id": "574b3b1b",
   "metadata": {},
   "source": [
    "LR and Epochs"
   ]
  },
  {
   "cell_type": "code",
   "execution_count": 15,
   "id": "9c4a0d3d",
   "metadata": {},
   "outputs": [
    {
     "name": "stderr",
     "output_type": "stream",
     "text": [
      "Epoch 1/5:   0%|          | 66/15876 [00:01<04:28, 58.78batch/s]"
     ]
    },
    {
     "name": "stdout",
     "output_type": "stream",
     "text": [
      "Error running sampler. Using normal sample.\n"
     ]
    },
    {
     "name": "stderr",
     "output_type": "stream",
     "text": [
      "Epoch 1/5:  11%|█▏        | 1825/15876 [00:36<05:38, 41.53batch/s]"
     ]
    },
    {
     "name": "stdout",
     "output_type": "stream",
     "text": [
      "Error running sampler. Using normal sample.\n"
     ]
    },
    {
     "name": "stderr",
     "output_type": "stream",
     "text": [
      "Epoch 1/5:  37%|███▋      | 5889/15876 [02:24<04:23, 37.90batch/s]"
     ]
    },
    {
     "name": "stdout",
     "output_type": "stream",
     "text": [
      "Error running sampler. Using normal sample.\n"
     ]
    },
    {
     "name": "stderr",
     "output_type": "stream",
     "text": [
      "Epoch 1/5:  49%|████▉     | 7842/15876 [03:17<03:25, 39.12batch/s]"
     ]
    },
    {
     "name": "stdout",
     "output_type": "stream",
     "text": [
      "Error running sampler. Using normal sample.\n"
     ]
    },
    {
     "name": "stderr",
     "output_type": "stream",
     "text": [
      "Epoch 1/5:  53%|█████▎    | 8402/15876 [03:32<03:02, 40.85batch/s]"
     ]
    },
    {
     "name": "stdout",
     "output_type": "stream",
     "text": [
      "Error running sampler. Using normal sample.\n"
     ]
    },
    {
     "name": "stderr",
     "output_type": "stream",
     "text": [
      "Epoch 1/5:  56%|█████▋    | 8938/15876 [03:46<02:59, 38.63batch/s]"
     ]
    },
    {
     "name": "stdout",
     "output_type": "stream",
     "text": [
      "Error running sampler. Using normal sample.\n"
     ]
    },
    {
     "name": "stderr",
     "output_type": "stream",
     "text": [
      "Epoch 1/5:  62%|██████▏   | 9859/15876 [04:10<02:34, 39.01batch/s]"
     ]
    },
    {
     "name": "stdout",
     "output_type": "stream",
     "text": [
      "Error running sampler. Using normal sample.\n"
     ]
    },
    {
     "name": "stderr",
     "output_type": "stream",
     "text": [
      "Epoch 1/5:  83%|████████▎ | 13156/15876 [05:36<01:10, 38.62batch/s]"
     ]
    },
    {
     "name": "stdout",
     "output_type": "stream",
     "text": [
      "Error running sampler. Using normal sample.\n"
     ]
    },
    {
     "name": "stderr",
     "output_type": "stream",
     "text": [
      "Epoch 1/5:  95%|█████████▌| 15083/15876 [06:25<00:20, 39.13batch/s]"
     ]
    },
    {
     "name": "stdout",
     "output_type": "stream",
     "text": [
      "Error running sampler. Using normal sample.\n"
     ]
    },
    {
     "name": "stderr",
     "output_type": "stream",
     "text": [
      "Epoch 1/5:  96%|█████████▌| 15164/15876 [06:27<00:17, 39.80batch/s]"
     ]
    },
    {
     "name": "stdout",
     "output_type": "stream",
     "text": [
      "Error running sampler. Using normal sample.\n"
     ]
    },
    {
     "name": "stderr",
     "output_type": "stream",
     "text": [
      "Epoch 1/5:  96%|█████████▋| 15320/15876 [06:31<00:13, 41.46batch/s]"
     ]
    },
    {
     "name": "stdout",
     "output_type": "stream",
     "text": [
      "Error running sampler. Using normal sample.\n"
     ]
    },
    {
     "name": "stderr",
     "output_type": "stream",
     "text": [
      "Epoch 1/5: 100%|██████████| 15876/15876 [06:46<00:00, 39.08batch/s]\n"
     ]
    },
    {
     "name": "stdout",
     "output_type": "stream",
     "text": [
      "Error running sampler. Using normal sample.\n",
      "Epoch [1/5], Train Loss: 0.0198, Train Acc: 0.9918, Train F1: 0.9918\n"
     ]
    },
    {
     "name": "stderr",
     "output_type": "stream",
     "text": [
      "Epoch 2/5:  19%|█▊        | 2972/15876 [01:17<05:33, 38.67batch/s]"
     ]
    },
    {
     "name": "stdout",
     "output_type": "stream",
     "text": [
      "Error running sampler. Using normal sample.\n"
     ]
    },
    {
     "name": "stderr",
     "output_type": "stream",
     "text": [
      "Epoch 2/5:  30%|███       | 4763/15876 [02:03<04:37, 40.04batch/s]"
     ]
    },
    {
     "name": "stdout",
     "output_type": "stream",
     "text": [
      "Error running sampler. Using normal sample.\n"
     ]
    },
    {
     "name": "stderr",
     "output_type": "stream",
     "text": [
      "Epoch 2/5:  34%|███▍      | 5375/15876 [02:19<04:14, 41.33batch/s]"
     ]
    },
    {
     "name": "stdout",
     "output_type": "stream",
     "text": [
      "Error running sampler. Using normal sample.\n"
     ]
    },
    {
     "name": "stderr",
     "output_type": "stream",
     "text": [
      "Epoch 2/5:  46%|████▌     | 7230/15876 [03:08<03:34, 40.32batch/s]"
     ]
    },
    {
     "name": "stdout",
     "output_type": "stream",
     "text": [
      "Error running sampler. Using normal sample.\n"
     ]
    },
    {
     "name": "stderr",
     "output_type": "stream",
     "text": [
      "Epoch 2/5:  85%|████████▍ | 13437/15876 [05:48<01:00, 40.07batch/s]"
     ]
    },
    {
     "name": "stdout",
     "output_type": "stream",
     "text": [
      "Error running sampler. Using normal sample.\n"
     ]
    },
    {
     "name": "stderr",
     "output_type": "stream",
     "text": [
      "Epoch 2/5:  90%|█████████ | 14343/15876 [06:12<00:39, 39.02batch/s]"
     ]
    },
    {
     "name": "stdout",
     "output_type": "stream",
     "text": [
      "Error running sampler. Using normal sample.\n"
     ]
    },
    {
     "name": "stderr",
     "output_type": "stream",
     "text": [
      "Epoch 2/5: 100%|██████████| 15876/15876 [06:51<00:00, 38.56batch/s]\n"
     ]
    },
    {
     "name": "stdout",
     "output_type": "stream",
     "text": [
      "Error running sampler. Using normal sample.\n",
      "Epoch [2/5], Train Loss: 0.0172, Train Acc: 0.9921, Train F1: 0.9921\n"
     ]
    },
    {
     "name": "stderr",
     "output_type": "stream",
     "text": [
      "Epoch 3/5:  29%|██▉       | 4607/15876 [02:00<04:45, 39.49batch/s]"
     ]
    },
    {
     "name": "stdout",
     "output_type": "stream",
     "text": [
      "Error running sampler. Using normal sample.\n"
     ]
    },
    {
     "name": "stderr",
     "output_type": "stream",
     "text": [
      "Epoch 3/5:  35%|███▍      | 5491/15876 [02:23<04:23, 39.37batch/s]"
     ]
    },
    {
     "name": "stdout",
     "output_type": "stream",
     "text": [
      "Error running sampler. Using normal sample.\n"
     ]
    },
    {
     "name": "stderr",
     "output_type": "stream",
     "text": [
      "Epoch 3/5:  45%|████▌     | 7204/15876 [03:08<03:46, 38.35batch/s]"
     ]
    },
    {
     "name": "stdout",
     "output_type": "stream",
     "text": [
      "Error running sampler. Using normal sample.\n"
     ]
    },
    {
     "name": "stderr",
     "output_type": "stream",
     "text": [
      "Epoch 3/5:  46%|████▌     | 7304/15876 [03:10<03:44, 38.25batch/s]"
     ]
    },
    {
     "name": "stdout",
     "output_type": "stream",
     "text": [
      "Error running sampler. Using normal sample.\n"
     ]
    },
    {
     "name": "stderr",
     "output_type": "stream",
     "text": [
      "Epoch 3/5:  51%|█████     | 8133/15876 [03:32<03:16, 39.41batch/s]"
     ]
    },
    {
     "name": "stdout",
     "output_type": "stream",
     "text": [
      "Error running sampler. Using normal sample.\n"
     ]
    },
    {
     "name": "stderr",
     "output_type": "stream",
     "text": [
      "Epoch 3/5:  59%|█████▉    | 9428/15876 [04:06<02:38, 40.77batch/s]"
     ]
    },
    {
     "name": "stdout",
     "output_type": "stream",
     "text": [
      "Error running sampler. Using normal sample.\n"
     ]
    },
    {
     "name": "stderr",
     "output_type": "stream",
     "text": [
      "Epoch 3/5:  70%|██████▉   | 11059/15876 [04:47<01:54, 42.15batch/s]"
     ]
    },
    {
     "name": "stdout",
     "output_type": "stream",
     "text": [
      "Error running sampler. Using normal sample.\n"
     ]
    },
    {
     "name": "stderr",
     "output_type": "stream",
     "text": [
      "Epoch 3/5:  76%|███████▌  | 12046/15876 [05:13<01:36, 39.73batch/s]"
     ]
    },
    {
     "name": "stdout",
     "output_type": "stream",
     "text": [
      "Error running sampler. Using normal sample.\n"
     ]
    },
    {
     "name": "stderr",
     "output_type": "stream",
     "text": [
      "Epoch 3/5: 100%|██████████| 15876/15876 [06:53<00:00, 38.43batch/s]\n"
     ]
    },
    {
     "name": "stdout",
     "output_type": "stream",
     "text": [
      "Error running sampler. Using normal sample.\n",
      "Epoch [3/5], Train Loss: 0.0171, Train Acc: 0.9920, Train F1: 0.9920\n"
     ]
    },
    {
     "name": "stderr",
     "output_type": "stream",
     "text": [
      "Epoch 4/5:  21%|██        | 3369/15876 [01:27<04:55, 42.35batch/s]"
     ]
    },
    {
     "name": "stdout",
     "output_type": "stream",
     "text": [
      "Error running sampler. Using normal sample.\n"
     ]
    },
    {
     "name": "stderr",
     "output_type": "stream",
     "text": [
      "Epoch 4/5:  59%|█████▊    | 9315/15876 [04:02<02:53, 37.89batch/s]"
     ]
    },
    {
     "name": "stdout",
     "output_type": "stream",
     "text": [
      "Error running sampler. Using normal sample.\n"
     ]
    },
    {
     "name": "stderr",
     "output_type": "stream",
     "text": [
      "Epoch 4/5:  64%|██████▍   | 10221/15876 [04:26<02:26, 38.63batch/s]"
     ]
    },
    {
     "name": "stdout",
     "output_type": "stream",
     "text": [
      "Error running sampler. Using normal sample.\n"
     ]
    },
    {
     "name": "stderr",
     "output_type": "stream",
     "text": [
      "Epoch 4/5: 100%|██████████| 15876/15876 [06:54<00:00, 38.30batch/s]\n"
     ]
    },
    {
     "name": "stdout",
     "output_type": "stream",
     "text": [
      "Epoch [4/5], Train Loss: 0.0175, Train Acc: 0.9921, Train F1: 0.9921\n"
     ]
    },
    {
     "name": "stderr",
     "output_type": "stream",
     "text": [
      "Epoch 5/5:   6%|▌         | 969/15876 [00:25<06:36, 37.57batch/s]"
     ]
    },
    {
     "name": "stdout",
     "output_type": "stream",
     "text": [
      "Error running sampler. Using normal sample.\n"
     ]
    },
    {
     "name": "stderr",
     "output_type": "stream",
     "text": [
      "Epoch 5/5:  29%|██▊       | 4536/15876 [02:00<04:41, 40.23batch/s]"
     ]
    },
    {
     "name": "stdout",
     "output_type": "stream",
     "text": [
      "Error running sampler. Using normal sample.\n"
     ]
    },
    {
     "name": "stderr",
     "output_type": "stream",
     "text": [
      "Epoch 5/5:  41%|████▏     | 6582/15876 [02:54<03:50, 40.34batch/s]"
     ]
    },
    {
     "name": "stdout",
     "output_type": "stream",
     "text": [
      "Error running sampler. Using normal sample.\n"
     ]
    },
    {
     "name": "stderr",
     "output_type": "stream",
     "text": [
      "Epoch 5/5:  83%|████████▎ | 13155/15876 [05:49<01:12, 37.30batch/s]"
     ]
    },
    {
     "name": "stdout",
     "output_type": "stream",
     "text": [
      "Error running sampler. Using normal sample.\n"
     ]
    },
    {
     "name": "stderr",
     "output_type": "stream",
     "text": [
      "Epoch 5/5:  93%|█████████▎| 14736/15876 [06:31<00:29, 39.23batch/s]"
     ]
    },
    {
     "name": "stdout",
     "output_type": "stream",
     "text": [
      "Error running sampler. Using normal sample.\n"
     ]
    },
    {
     "name": "stderr",
     "output_type": "stream",
     "text": [
      "Epoch 5/5:  98%|█████████▊| 15535/15876 [06:52<00:08, 40.44batch/s]"
     ]
    },
    {
     "name": "stdout",
     "output_type": "stream",
     "text": [
      "Error running sampler. Using normal sample.\n"
     ]
    },
    {
     "name": "stderr",
     "output_type": "stream",
     "text": [
      "Epoch 5/5: 100%|██████████| 15876/15876 [07:01<00:00, 37.67batch/s]\n"
     ]
    },
    {
     "name": "stdout",
     "output_type": "stream",
     "text": [
      "Error running sampler. Using normal sample.\n",
      "Epoch [5/5], Train Loss: 0.0170, Train Acc: 0.9922, Train F1: 0.9922\n"
     ]
    },
    {
     "name": "stderr",
     "output_type": "stream",
     "text": [
      "Testing: 100%|██████████| 3969/3969 [00:14<00:00, 269.77batch/s]\n"
     ]
    },
    {
     "name": "stdout",
     "output_type": "stream",
     "text": [
      "Test Loss: 0.0251, Test Accuracy: 0.9879, Test F1: 0.9883\n"
     ]
    },
    {
     "data": {
      "image/png": "[encoded data removed]",
      "text/plain": [
       "<Figure size 600x400 with 1 Axes>"
      ]
     },
     "metadata": {},
     "output_type": "display_data"
    },
    {
     "name": "stdout",
     "output_type": "stream",
     "text": [
      "Standard Test\n"
     ]
    },
    {
     "data": {
      "image/png": "[encoded data removed]",
      "text/plain": [
       "<Figure size 800x600 with 2 Axes>"
      ]
     },
     "metadata": {},
     "output_type": "display_data"
    }
   ],
   "source": [
    "device = torch.device(\"cuda\" if torch.cuda.is_available() else \"cpu\")\n",
    "n_features = X_train_tensor.shape[1]\n",
    "fc_size = 128\n",
    "save_dir = './Models/saved_models/02/smote/009-128'\n",
    "model1 = NNdynamic(n_features, fc_size, device, save_dir)\n",
    "# 37.23 min\n",
    "sampler = 'smote'\n",
    "params = {'sampling_strategy': 'auto'}\n",
    "learning_rate = 0.09\n",
    "epochs = 5\n",
    "save_factor = 1\n",
    "model1.run(train_loader, learning_rate, epochs, save_factor, sampler, params, False)\n",
    "model1.test(test_loader)\n",
    "plot_metrics(model1.train_loss, len(model1.train_loss), title=\"Train Loss\")\n",
    "print('Standard Test')\n",
    "labels = test_dataset.tensors[1]\n",
    "plot_confusion_matrix(labels, model1.test_predicted)"
   ]
  },
  {
   "cell_type": "code",
   "execution_count": 1,
   "id": "a49400f4",
   "metadata": {},
   "outputs": [
    {
     "ename": "NameError",
     "evalue": "name 'torch' is not defined",
     "output_type": "error",
     "traceback": [
      "\u001b[1;31m---------------------------------------------------------------------------\u001b[0m",
      "\u001b[1;31mNameError\u001b[0m                                 Traceback (most recent call last)",
      "Cell \u001b[1;32mIn[1], line 1\u001b[0m\n\u001b[1;32m----> 1\u001b[0m device \u001b[38;5;241m=\u001b[39m \u001b[43mtorch\u001b[49m\u001b[38;5;241m.\u001b[39mdevice(\u001b[38;5;124m\"\u001b[39m\u001b[38;5;124mcuda\u001b[39m\u001b[38;5;124m\"\u001b[39m \u001b[38;5;28;01mif\u001b[39;00m torch\u001b[38;5;241m.\u001b[39mcuda\u001b[38;5;241m.\u001b[39mis_available() \u001b[38;5;28;01melse\u001b[39;00m \u001b[38;5;124m\"\u001b[39m\u001b[38;5;124mcpu\u001b[39m\u001b[38;5;124m\"\u001b[39m)\n\u001b[0;32m      2\u001b[0m n_features \u001b[38;5;241m=\u001b[39m X_train_tensor\u001b[38;5;241m.\u001b[39mshape[\u001b[38;5;241m1\u001b[39m]\n\u001b[0;32m      3\u001b[0m fc_size \u001b[38;5;241m=\u001b[39m \u001b[38;5;241m256\u001b[39m\n",
      "\u001b[1;31mNameError\u001b[0m: name 'torch' is not defined"
     ]
    }
   ],
   "source": [
    "device = torch.device(\"cuda\" if torch.cuda.is_available() else \"cpu\")\n",
    "n_features = X_train_tensor.shape[1]\n",
    "fc_size = 256\n",
    "save_dir = './Models/saved_models/02/smote/008-256'\n",
    "model1 = NNdynamic(n_features, fc_size, device, save_dir)\n",
    "# 37.23 min\n",
    "sampler = 'smote'\n",
    "params = {'sampling_strategy': 'auto'}\n",
    "learning_rate = 0.08\n",
    "epochs = 15\n",
    "save_factor = 1\n",
    "model1.run(train_loader, learning_rate, epochs, save_factor, sampler, params, False)\n",
    "model1.test(test_loader)\n",
    "plot_metrics(model1.train_loss, len(model1.train_loss), title=\"Train Loss\")\n",
    "print('Standard Test')\n",
    "labels = test_dataset.tensors[1]\n",
    "plot_confusion_matrix(labels, model1.test_predicted)"
   ]
  },
  {
   "cell_type": "code",
   "execution_count": null,
   "id": "ea1e2f0d",
   "metadata": {},
   "outputs": [],
   "source": [
    "device = torch.device(\"cuda\" if torch.cuda.is_available() else \"cpu\")\n",
    "n_features = X_train_tensor.shape[1]\n",
    "fc_size = 128\n",
    "save_dir = './Models/saved_models/02/smote/007-128'\n",
    "model1 = NNdynamic(n_features, fc_size, device, save_dir)\n",
    "# 37.23 min\n",
    "sampler = 'smote'\n",
    "params = {'sampling_strategy': 'auto'}\n",
    "learning_rate = 0.07\n",
    "epochs = 15\n",
    "save_factor = 1\n",
    "model1.run(train_loader, learning_rate, epochs, save_factor, sampler, params, False)\n",
    "model1.test(test_loader)\n",
    "plot_metrics(model1.train_loss, len(model1.train_loss), title=\"Train Loss\")\n",
    "print('Standard Test')\n",
    "labels = test_dataset.tensors[1]\n",
    "plot_confusion_matrix(labels, model1.test_predicted)"
   ]
  },
  {
   "cell_type": "markdown",
   "id": "058f7854",
   "metadata": {},
   "source": [
    "# Lets try to make sure we are not overshooting the minimum."
   ]
  },
  {
   "cell_type": "markdown",
   "id": "4daa668d",
   "metadata": {},
   "source": [
    "Lower LR again on SMOTE"
   ]
  },
  {
   "cell_type": "code",
   "execution_count": null,
   "id": "f5fe57cd",
   "metadata": {},
   "outputs": [],
   "source": [
    "device = torch.device(\"cuda\" if torch.cuda.is_available() else \"cpu\")\n",
    "n_features = X_train_tensor.shape[1]\n",
    "fc_size = 128\n",
    "save_dir = './Models/saved_models/02/smote/001-128'\n",
    "model1 = NNdynamic(n_features, fc_size, device, save_dir)\n",
    "# 37.23 min\n",
    "sampler = 'smote'\n",
    "params = {'sampling_method': 'auto'}\n",
    "learning_rate = 0.01\n",
    "epochs = 30\n",
    "save_factor = 1\n",
    "model1.run(train_loader, learning_rate, epochs, save_factor, sampler, params, False)\n",
    "model1.test(test_loader)\n",
    "plot_metrics(model1.train_loss, len(model1.train_loss), title=\"Train Loss\")\n",
    "print('Standard Test')\n",
    "labels = test_dataset.tensors[1]\n",
    "plot_confusion_matrix(labels, model1.test_predicted)"
   ]
  },
  {
   "cell_type": "markdown",
   "id": "827ad351",
   "metadata": {},
   "source": [
    "One More with Many Epochs"
   ]
  },
  {
   "cell_type": "code",
   "execution_count": null,
   "id": "0cdaa137",
   "metadata": {},
   "outputs": [],
   "source": [
    "device = torch.device(\"cuda\" if torch.cuda.is_available() else \"cpu\")\n",
    "n_features = X_train_tensor.shape[1]\n",
    "fc_size = 128\n",
    "save_dir = './Models/saved_models/02/smote/0001-128'\n",
    "model1 = NNdynamic(n_features, fc_size, device, save_dir)\n",
    "# 37.23 min\n",
    "sampler = 'smote'\n",
    "params = {'sampling_method': 'auto'}\n",
    "learning_rate = 0.001\n",
    "epochs = 60\n",
    "save_factor = 1\n",
    "model1.run(train_loader, learning_rate, epochs, save_factor, sampler, params, False)\n",
    "model1.test(test_loader)\n",
    "plot_metrics(model1.train_loss, len(model1.train_loss), title=\"Train Loss\")\n",
    "print('Standard Test')\n",
    "labels = test_dataset.tensors[1]\n",
    "plot_confusion_matrix(labels, model1.test_predicted)"
   ]
  },
  {
   "cell_type": "markdown",
   "id": "a179402c",
   "metadata": {},
   "source": [
    "Lets do the same for Standard and see"
   ]
  },
  {
   "cell_type": "code",
   "execution_count": null,
   "id": "9d24fe9d",
   "metadata": {},
   "outputs": [],
   "source": [
    "device = torch.device(\"cuda\" if torch.cuda.is_available() else \"cpu\")\n",
    "n_features = X_train_tensor.shape[1]\n",
    "fc_size = 128\n",
    "save_dir = './Models/saved_models/02/standard/0001-128'\n",
    "model1 = NNdynamic(n_features, fc_size, device, save_dir)\n",
    "# 37.23 min\n",
    "sampler = None\n",
    "params = None\n",
    "learning_rate = 0.001\n",
    "epochs = 60\n",
    "save_factor = 1\n",
    "model1.run(train_loader, learning_rate, epochs, save_factor, sampler, params, False)\n",
    "model1.test(test_loader)\n",
    "plot_metrics(model1.train_loss, len(model1.train_loss), title=\"Train Loss\")\n",
    "print('Standard Test')\n",
    "labels = test_dataset.tensors[1]\n",
    "plot_confusion_matrix(labels, model1.test_predicted)"
   ]
  }
 ],
 "metadata": {
  "kernelspec": {
   "display_name": "conda12",
   "language": "python",
   "name": "python3"
  },
  "language_info": {
   "codemirror_mode": {
    "name": "ipython",
    "version": 3
   },
   "file_extension": ".py",
   "mimetype": "text/x-python",
   "name": "python",
   "nbconvert_exporter": "python",
   "pygments_lexer": "ipython3",
   "version": "3.12.9"
  }
 },
 "nbformat": 4,
 "nbformat_minor": 5
}
