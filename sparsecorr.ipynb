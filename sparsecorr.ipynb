{
 "cells": [
  {
   "cell_type": "code",
   "execution_count": 4,
   "metadata": {},
   "outputs": [],
   "source": [
    "# Core data manipulation and analysis libraries\n",
    "import pandas as pd  # For data manipulation and analysis\n",
    "import numpy as np   # For numerical operations and arrays\n",
    "\n",
    "# Visualization libraries\n",
    "import matplotlib.pyplot as plt  # For creating static, animated, and interactive visualizations\n",
    "import seaborn as sns  # For statistical data visualization\n",
    "\n",
    "# Machine learning libraries\n",
    "from sklearn import metrics  # For model evaluation metrics\n",
    "from sklearn.model_selection import train_test_split  # For splitting datasets\n",
    "\n",
    "# Ignore warnings\n",
    "import warnings\n",
    "warnings.filterwarnings(\"ignore\")\n",
    "\n",
    "# Enable inline plotting in Jupyter notebooks\n",
    "# Fixed duplicate import and invalid syntax\n",
    "%matplotlib inline"
   ]
  },
  {
   "cell_type": "code",
   "execution_count": 6,
   "metadata": {},
   "outputs": [],
   "source": [
    "    \n",
    "# Reading datasets\n",
    "# Using list comprehension to read all csv files in 4 csv files\n",
    "dataframes = [pd.read_csv(f'UNSW-NB15_{i}.csv', header=None) \n",
    "       for i in range(1,5)]\n",
    "    \n",
    "# Concat all to a single df name combined_data\n",
    "# Resetting index is important because:\n",
    "# 1. When concatenating dataframes, the original index values are preserved which can lead to duplicate indices\n",
    "# 2. Duplicate indices can cause issues with data access, filtering and analysis\n",
    "# 3. reset_index() creates a clean, sequential index starting from 0\n",
    "combined_data = pd.concat(dataframes).reset_index(drop=True) "
   ]
  },
  {
   "cell_type": "code",
   "execution_count": 7,
   "metadata": {},
   "outputs": [],
   "source": [
    "# Converts null labels to normal.\n",
    "feature_names = pd.read_csv('features2.csv' )\n",
    "feature_names_list = feature_names['Name'].tolist()\n",
    "combined_data.columns = feature_names_list\n",
    "combined_data.loc[combined_data['attack_cat'].isnull(), 'attack_cat'] = 'Normal'"
   ]
  },
  {
   "cell_type": "code",
   "execution_count": 8,
   "metadata": {},
   "outputs": [],
   "source": [
    "# Create dataframe of just sport and attack cat columns for function.\n",
    "df1 = combined_data[['sport', 'attack_cat']]"
   ]
  },
  {
   "cell_type": "code",
   "execution_count": 9,
   "metadata": {},
   "outputs": [
    {
     "name": "stdout",
     "output_type": "stream",
     "text": [
      "attack_cat\n",
      "Normal              2218764\n",
      "Generic              215481\n",
      "Exploits              44525\n",
      " Fuzzers              19195\n",
      "DoS                   16353\n",
      " Reconnaissance       12228\n",
      " Fuzzers               5051\n",
      "Analysis               2677\n",
      "Backdoor               1795\n",
      "Reconnaissance         1759\n",
      " Shellcode             1288\n",
      "Backdoors               534\n",
      "Shellcode               223\n",
      "Worms                   174\n",
      "Name: count, dtype: int64\n"
     ]
    }
   ],
   "source": [
    "# Label correction.\n",
    "print(df1['attack_cat'].value_counts())"
   ]
  },
  {
   "cell_type": "code",
   "execution_count": 10,
   "metadata": {},
   "outputs": [],
   "source": [
    "df1['attack_cat'] = df1['attack_cat'].str.strip()"
   ]
  },
  {
   "cell_type": "code",
   "execution_count": 11,
   "metadata": {},
   "outputs": [
    {
     "name": "stdout",
     "output_type": "stream",
     "text": [
      "attack_cat\n",
      "Normal            2218764\n",
      "Generic            215481\n",
      "Exploits            44525\n",
      "Fuzzers             24246\n",
      "DoS                 16353\n",
      "Reconnaissance      13987\n",
      "Analysis             2677\n",
      "Backdoor             1795\n",
      "Shellcode            1511\n",
      "Backdoors             534\n",
      "Worms                 174\n",
      "Name: count, dtype: int64\n"
     ]
    }
   ],
   "source": [
    "print(df1['attack_cat'].value_counts())"
   ]
  },
  {
   "cell_type": "code",
   "execution_count": 12,
   "metadata": {},
   "outputs": [
    {
     "name": "stdout",
     "output_type": "stream",
     "text": [
      "sport\n",
      "1043     216289\n",
      "47439    198580\n",
      "0         50432\n",
      "47439      4689\n",
      "1043       4033\n",
      "          ...  \n",
      "33785         1\n",
      "2637          1\n",
      "29900         1\n",
      "3664          1\n",
      "706           1\n",
      "Name: count, Length: 100341, dtype: int64\n"
     ]
    }
   ],
   "source": [
    "print(df1['sport'].value_counts())\n"
   ]
  },
  {
   "cell_type": "code",
   "execution_count": 13,
   "metadata": {},
   "outputs": [],
   "source": [
    "# Get a smaller dataframe to make function.\n",
    "df1 = df1.head(1000000)"
   ]
  },
  {
   "cell_type": "code",
   "execution_count": 14,
   "metadata": {},
   "outputs": [
    {
     "name": "stdout",
     "output_type": "stream",
     "text": [
      "100287\n"
     ]
    }
   ],
   "source": [
    "# Check number of unique categories in sport (reduced data).\n",
    "sports = df1['sport'].unique()\n",
    "print(len(sports))"
   ]
  },
  {
   "cell_type": "code",
   "execution_count": 15,
   "metadata": {},
   "outputs": [
    {
     "name": "stdout",
     "output_type": "stream",
     "text": [
      "sport\n",
      "0        8910\n",
      "47439    4689\n",
      "1043     4033\n",
      "0        3612\n",
      "47439    2250\n",
      "         ... \n",
      "49266       1\n",
      "39428       1\n",
      "3044        1\n",
      "62086       1\n",
      "27909       1\n",
      "Name: count, Length: 100287, dtype: int64\n"
     ]
    }
   ],
   "source": [
    "print(df1['sport'].value_counts())"
   ]
  },
  {
   "cell_type": "code",
   "execution_count": null,
   "metadata": {},
   "outputs": [],
   "source": [
    "sport_value_counts = df1['sport'].value_counts()\n",
    "# Filter values that appear more than 30 times\n",
    "sports = sport_value_counts[sport_value_counts > 30].index.tolist()"
   ]
  },
  {
   "cell_type": "code",
   "execution_count": 23,
   "metadata": {},
   "outputs": [
    {
     "name": "stdout",
     "output_type": "stream",
     "text": [
      "556\n",
      "[0, '47439', '1043', '0', 47439, 1043, 80, 53, 5190, 6881, 25, 143, 21, 111, 56724, 22, 59084, 31591, 1336, 1916, 15235, 6027, 49320, 7907, 36123, 1419, 30705, 30969, 1087, 1097, 46343, 43903, 1695, 1652, 47535, 1209, 55357, 38505, 1756, 61653, 50824, 35000, 47291, 40662, 58924, 1103, 2013, 1777, 1230, 1116, 48691, 8570, 21443, 1636, 1630, 46406, 1642, 1895, 35547, 1365, 1546, 1722, 1643, 20881, 1587, 1398, 1920, 31614, 1190, 39102, 1044, 1379, 13829, 1110, 37406, 1039, 1981, 1828, 1243, 1144, 33095, 1716, 27152, 52400, 1276, 1195, 5060, 1735, 1273, 1574, 1372, 1187, 1072, 1283, 65507, 1936, 1708, 1833, 61667, 1835, 1987, 42635, 1898, 1189, 1570, 1096, 1660, 1359, 50447, 1729, 2048, 1842, 1078, 34804, 1935, 1927, 10056, 1499, 27720, 2041, 30493, 1605, 1580, 7418, 1540, 1517, 9305, 1261, 1813, 11102, 1718, 15801, 1200, 31383, 1794, 259, 1650, 1886, 1298, 1934, 1669, 27312, 46650, 1309, 1744, 1356, 1769, 2024, '5060', 1322, 1170, 41750, 3793, 1148, 1874, 1377, 38409, 48837, 1295, 1997, 1159, 1275, 1263, 1259, 1113, 1026, 1564, 1889, 1486, 6728, 10298, 50150, 1557, 1715, 22078, 1870, 1961, 1354, 1814, 35888, 1988, 1167, 53026, 22499, 1251, 1604, 1879, 63965, 1481, 9758, 25106, 19568, 1880, 1771, 2036, 7639, 1676, 52302, 8984, 1196, 1809, 1955, 1027, 48668, 39907, 32898, 1758, 1547, 1741, 1220, 6684, 1688, 22547, 1514, 1501, 47636, 1325, 13019, 8106, 2028, 1788, 1267, 26621, 1831, 10472, 1057, 1414, 21994, 1562, 1282, 1795, 63101, 1456, 1301, 16757, 2045, 44955, 1146, 1109, 1025, 1139, 1448, 1627, 10929, 12140, 1655, 1796, 2032, 1631, 1674, 1912, 1868, 1951, 1224, 1815, 1945, 1207, 1216, 21561, 1751, 1208, 2042, 40477, 1667, 24810, 1633, 1181, 1918, 55749, 1982, 1477, 1449, 1806, 1877, 16933, 1066, 1479, 15800, 1525, 1509, 1965, 1352, 44499, 1495, 29847, 1245, 46392, 57434, 1504, 1346, 1407, 1572, 1568, 2021, 45262, 1280, 45335, 1533, 33555, 1585, 1248, 1949, 1236, 26081, 1598, 1861, 39159, 26792, 1468, 1024, 47983, 7514, 44566, 1797, 30220, 54110, 16605, 1215, 1064, 1229, 1972, 1787, 1031, 1241, 1405, 39420, 1226, 1617, 1904, 1577, 44699, 1781, 1318, 1367, 2006, 1380, 1250, 1439, 54924, 1704, 2043, 22518, 60478, 1836, 39474, 1897, 1076, 1926, 1160, 1105, 1537, 1434, 1334, 65475, 1508, 8773, 1595, 1672, 50018, 1244, 1094, 1048, 1582, 15114, 1217, 47885, 1125, 1065, 1106, 14935, 33634, 3720, 1111, 1634, 1114, 36176, 1172, 1311, 16735, 1286, 1471, 30943, 1911, 1466, '53', 1340, 43960, 1235, 36105, 1092, 27255, 1487, 1764, 58748, 32070, 1366, 1069, 1608, 1531, 40259, 1802, 1425, 1893, 1561, 65334, 61309, 1528, 59727, 1233, 64726, 1677, 1436, 1506, 1851, 5867, 1198, 1682, 1429, 1661, 1752, 31013, 1324, 47767, 1543, 14330, 18752, 1725, 5652, 19578, 31233, 13798, 1440, 1727, 56526, 1753, 35958, 1755, 1560, 46112, 18322, 1952, 1151, 2875, 1929, 42564, 1455, 38389, 1108, 34807, 36569, 1825, 57406, 40454, 1353, 1821, 1199, 1411, 48690, 1218, 1830, 1271, 1522, 1993, 1351, 1192, 33195, 1397, 1339, 15153, 1589, 1698, 23478, 20178, 1485, 1418, 11976, 49857, 54214, 14030, 1730, 19574, 61500, 61104, 1742, 1237, 53836, 1068, 1944, 18332, 1645, 1424, 1303, 38886, 1713, 40944, 16509, 1539, 1625, 42324, 39674, 22219, 1316, 1401, 1932, 1131, 50376, 2004, 1063, 1856, 33213, 64573, 1478, 1995, 1657, 1327, 1712, 48993, 1402, 14284, 1186, 1754, 12553, 1164, 18192, 1884, 17518, 1253, 64772, 1979, 1526, 9607, 1281, 1032, 1077, 1296, 1381, 1056, 19556, 2026, 5485, 2018, 34662, 1977, 38497, 1689, 1392, 25900, 1363, 19260, 1054, 12251, 31919, 37970, 1085, 1041, 27290]\n"
     ]
    }
   ],
   "source": [
    "print(len(sports))\n",
    "print(sports)"
   ]
  },
  {
   "cell_type": "code",
   "execution_count": null,
   "metadata": {},
   "outputs": [
    {
     "name": "stdout",
     "output_type": "stream",
     "text": [
      "\n",
      "Correlation in Sport Column:\n",
      "    Sport  Correlation\n",
      "3       0     0.343122\n",
      "1   47439     0.255831\n",
      "2    1043     0.205273\n",
      "4   47439     0.176715\n",
      "5    1043     0.140546\n",
      "..    ...          ...\n",
      "86   5060     0.000095\n",
      "63  20881     0.000046\n",
      "51   8570     0.000023\n",
      "49   1116     0.000023\n",
      "41  35000     0.000022\n",
      "\n",
      "[556 rows x 2 columns]\n",
      "    Sport  Correlation\n",
      "86   5060     0.000095\n",
      "63  20881     0.000046\n",
      "51   8570     0.000023\n",
      "49   1116     0.000023\n",
      "41  35000     0.000022\n",
      "sport\n",
      "0        8910\n",
      "47439    4689\n",
      "1043     4033\n",
      "0        3612\n",
      "47439    2250\n",
      "         ... \n",
      "49266       1\n",
      "39428       1\n",
      "3044        1\n",
      "62086       1\n",
      "27909       1\n",
      "Name: count, Length: 100287, dtype: int64\n"
     ]
    }
   ],
   "source": [
    "# The label we want to compare.\n",
    "label = 'Normal'\n",
    "# Dataframe to add the correlations.\n",
    "corr_df = pd.DataFrame(index=df1.index)\n",
    "corr_list = []\n",
    "# Go through each unique category in the given column (tested on just sport but can make it a function).\n",
    "for s in sports:\n",
    "    # Create column name same as encoding conventions.\n",
    "    col_name = f'sport_{s}'\n",
    "    # Convert all values that match to 1 or else convert to 0 for given values in each column (sport is an iteration and label is static).\n",
    "    corr_df[col_name] = (df1['sport'] == s).astype(int)\n",
    "    attack_cat = (df1['attack_cat'] == label).astype(int)\n",
    "    # Draw correlations of the converted binary columns.\n",
    "    correlation = corr_df[col_name].corr(attack_cat)\n",
    "    # Add correlations to list for Dataframe.\n",
    "    corr_list.append({\n",
    "        'Sport': s,\n",
    "        'Correlation': correlation\n",
    "    })\n",
    "corr_table = pd.DataFrame(corr_list)\n",
    "# Get the absolute correlation and sort in descending order.\n",
    "corr_table['Correlation'] = corr_table['Correlation'].abs()\n",
    "corr_table.sort_values(by='Correlation', ascending=False, inplace=True)\n",
    "print(\"\\nCorrelation in Sport Column:\")\n",
    "print(corr_table)\n",
    "print(corr_table.tail())\n",
    "print(df1['sport'].value_counts())"
   ]
  }
 ],
 "metadata": {
  "kernelspec": {
   "display_name": "conda311new",
   "language": "python",
   "name": "python3"
  },
  "language_info": {
   "codemirror_mode": {
    "name": "ipython",
    "version": 3
   },
   "file_extension": ".py",
   "mimetype": "text/x-python",
   "name": "python",
   "nbconvert_exporter": "python",
   "pygments_lexer": "ipython3",
   "version": "3.11.9"
  }
 },
 "nbformat": 4,
 "nbformat_minor": 2
}
