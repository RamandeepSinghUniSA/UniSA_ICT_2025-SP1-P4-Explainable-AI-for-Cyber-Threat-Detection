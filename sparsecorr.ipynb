{
 "cells": [
  {
   "cell_type": "code",
   "execution_count": 4,
   "metadata": {},
   "outputs": [],
   "source": [
    "# Core data manipulation and analysis libraries\n",
    "import pandas as pd  # For data manipulation and analysis\n",
    "import numpy as np   # For numerical operations and arrays\n",
    "\n",
    "# Visualization libraries\n",
    "import matplotlib.pyplot as plt  # For creating static, animated, and interactive visualizations\n",
    "import seaborn as sns  # For statistical data visualization\n",
    "\n",
    "# Machine learning libraries\n",
    "from sklearn import metrics  # For model evaluation metrics\n",
    "from sklearn.model_selection import train_test_split  # For splitting datasets\n",
    "\n",
    "# Ignore warnings\n",
    "import warnings\n",
    "warnings.filterwarnings(\"ignore\")\n",
    "\n",
    "# Enable inline plotting in Jupyter notebooks\n",
    "# Fixed duplicate import and invalid syntax\n",
    "%matplotlib inline"
   ]
  },
  {
   "cell_type": "code",
   "execution_count": 6,
   "metadata": {},
   "outputs": [],
   "source": [
    "    \n",
    "# Reading datasets\n",
    "# Using list comprehension to read all csv files in 4 csv files\n",
    "dataframes = [pd.read_csv(f'UNSW-NB15_{i}.csv', header=None) \n",
    "       for i in range(1,5)]\n",
    "    \n",
    "# Concat all to a single df name combined_data\n",
    "# Resetting index is important because:\n",
    "# 1. When concatenating dataframes, the original index values are preserved which can lead to duplicate indices\n",
    "# 2. Duplicate indices can cause issues with data access, filtering and analysis\n",
    "# 3. reset_index() creates a clean, sequential index starting from 0\n",
    "combined_data = pd.concat(dataframes).reset_index(drop=True) "
   ]
  },
  {
   "cell_type": "code",
   "execution_count": 7,
   "metadata": {},
   "outputs": [],
   "source": [
    "# Converts null labels to normal.\n",
    "feature_names = pd.read_csv('features2.csv' )\n",
    "feature_names_list = feature_names['Name'].tolist()\n",
    "combined_data.columns = feature_names_list\n",
    "combined_data.loc[combined_data['attack_cat'].isnull(), 'attack_cat'] = 'Normal'"
   ]
  },
  {
   "cell_type": "code",
   "execution_count": 8,
   "metadata": {},
   "outputs": [],
   "source": [
    "# Create dataframe of just sport and attack cat columns for function.\n",
    "df1 = combined_data[['sport', 'attack_cat']]"
   ]
  },
  {
   "cell_type": "code",
   "execution_count": 9,
   "metadata": {},
   "outputs": [
    {
     "name": "stdout",
     "output_type": "stream",
     "text": [
      "attack_cat\n",
      "Normal              2218764\n",
      "Generic              215481\n",
      "Exploits              44525\n",
      " Fuzzers              19195\n",
      "DoS                   16353\n",
      " Reconnaissance       12228\n",
      " Fuzzers               5051\n",
      "Analysis               2677\n",
      "Backdoor               1795\n",
      "Reconnaissance         1759\n",
      " Shellcode             1288\n",
      "Backdoors               534\n",
      "Shellcode               223\n",
      "Worms                   174\n",
      "Name: count, dtype: int64\n"
     ]
    }
   ],
   "source": [
    "# Label correction.\n",
    "print(df1['attack_cat'].value_counts())"
   ]
  },
  {
   "cell_type": "code",
   "execution_count": 10,
   "metadata": {},
   "outputs": [],
   "source": [
    "df1['attack_cat'] = df1['attack_cat'].str.strip()"
   ]
  },
  {
   "cell_type": "code",
   "execution_count": 11,
   "metadata": {},
   "outputs": [
    {
     "name": "stdout",
     "output_type": "stream",
     "text": [
      "attack_cat\n",
      "Normal            2218764\n",
      "Generic            215481\n",
      "Exploits            44525\n",
      "Fuzzers             24246\n",
      "DoS                 16353\n",
      "Reconnaissance      13987\n",
      "Analysis             2677\n",
      "Backdoor             1795\n",
      "Shellcode            1511\n",
      "Backdoors             534\n",
      "Worms                 174\n",
      "Name: count, dtype: int64\n"
     ]
    }
   ],
   "source": [
    "print(df1['attack_cat'].value_counts())"
   ]
  },
  {
   "cell_type": "code",
   "execution_count": 12,
   "metadata": {},
   "outputs": [
    {
     "name": "stdout",
     "output_type": "stream",
     "text": [
      "sport\n",
      "1043     216289\n",
      "47439    198580\n",
      "0         50432\n",
      "47439      4689\n",
      "1043       4033\n",
      "          ...  \n",
      "33785         1\n",
      "2637          1\n",
      "29900         1\n",
      "3664          1\n",
      "706           1\n",
      "Name: count, Length: 100341, dtype: int64\n"
     ]
    }
   ],
   "source": [
    "print(df1['sport'].value_counts())\n"
   ]
  },
  {
   "cell_type": "code",
   "execution_count": 13,
   "metadata": {},
   "outputs": [],
   "source": [
    "# Get a smaller dataframe to make function.\n",
    "df1 = df1.head(1000000)"
   ]
  },
  {
   "cell_type": "code",
   "execution_count": 14,
   "metadata": {},
   "outputs": [
    {
     "name": "stdout",
     "output_type": "stream",
     "text": [
      "100287\n"
     ]
    }
   ],
   "source": [
    "# Check number of unique categories in sport (reduced data).\n",
    "sports = df1['sport'].unique()\n",
    "print(len(sports))"
   ]
  },
  {
   "cell_type": "code",
   "execution_count": 15,
   "metadata": {},
   "outputs": [
    {
     "name": "stdout",
     "output_type": "stream",
     "text": [
      "sport\n",
      "0        8910\n",
      "47439    4689\n",
      "1043     4033\n",
      "0        3612\n",
      "47439    2250\n",
      "         ... \n",
      "49266       1\n",
      "39428       1\n",
      "3044        1\n",
      "62086       1\n",
      "27909       1\n",
      "Name: count, Length: 100287, dtype: int64\n"
     ]
    }
   ],
   "source": [
    "print(df1['sport'].value_counts())"
   ]
  },
  {
   "cell_type": "code",
   "execution_count": 25,
   "metadata": {},
   "outputs": [],
   "source": [
    "df1['sport'] = df1['sport'].astype(str)\n",
    "sport_value_counts = df1['sport'].value_counts()\n",
    "# Filter values that appear more than 30 times\n",
    "sports = sport_value_counts[sport_value_counts > 30].index.tolist()"
   ]
  },
  {
   "cell_type": "code",
   "execution_count": 26,
   "metadata": {},
   "outputs": [
    {
     "name": "stdout",
     "output_type": "stream",
     "text": [
      "710\n",
      "['0', '47439', '1043', '80', '53', '5190', '6881', '25', '143', '21', '111', '22', '5060', '56724', '49320', '31591', '1336', '59084', '1916', '15235', '6027', '7907', '19971', '36123', '2048', '259', '1419', '1695', '30705', '30969', '1097', '1087', '1209', '46343', '1756', '47535', '1777', '1652', '55357', '50824', '61653', '38505', '43903', '1895', '47291', '35000', '1103', '46406', '58924', '40662', '48691', '21443', '8570', '1365', '1273', '2013', '1190', '1116', '1920', '21561', '1230', '1716', '1546', '1605', '1630', '31614', '1642', '1072', '1643', '1144', '1650', '1110', '50447', '1722', '1636', '1243', '1828', '1499', '1981', '1570', '1708', '1398', '35547', '10056', '1813', '1039', '27152', '1379', '39102', '20881', '27720', '1587', '37406', '1283', '1372', '1574', '13829', '1044', '1935', '1309', '1540', '1359', '1517', '52400', '1276', '1735', '1794', '1261', '1715', '33095', '1835', '1729', '1189', '1096', '1833', '1187', '1718', '1987', '1024', '1195', '42635', '1997', '1660', '1898', '65507', '1481', '1259', '1275', '15801', '1889', '1167', '31383', '1934', '1842', '1927', '38409', '2041', '3793', '1295', '1936', '34804', '1951', '1580', '1078', '1148', '7418', '61667', '48837', '50150', '1880', '41750', '1125', '1356', '1354', '1988', '1886', '1564', '1200', '1769', '1604', '1870', '9305', '1814', '27312', '56237', '1159', '11102', '30493', '1377', '9758', '22499', '1744', '1806', '1874', '1263', '1676', '1758', '1414', '46650', '1322', '1796', '2024', '1669', '22078', '8106', '1170', '19568', '1027', '1595', '1831', '1109', '63965', '1057', '1113', '1298', '1562', '1741', '1633', '10472', '1208', '39907', '2043', '1815', '1955', '53026', '47636', '10298', '10929', '1251', '1912', '1879', '1674', '1781', '13019', '1267', '48668', '1066', '1655', '1229', '1557', '1797', '1054', '1026', '6728', '1788', '25106', '1961', '35888', '32898', '12140', '2042', '1514', '6684', '1226', '1795', '1501', '1025', '1486', '1301', '1220', '1787', '1918', '1282', '2036', '21994', '55749', '2028', '1405', '1340', '1105', '1468', '1504', '1868', '8984', '52302', '22547', '1196', '1751', '1325', '1528', '1181', '1911', '1411', '1111', '1949', '1207', '1031', '1094', '1972', '1146', '1139', '26621', '1352', '1334', '45262', '1487', '7639', '1380', '1477', '24810', '44566', '1216', '1448', '1667', '1982', '1547', '1617', '1627', '1771', '1533', '15800', '1572', '1809', '1688', '1456', '1877', '44499', '1945', '2045', '16933', '1965', '63101', '1471', '44699', '65475', '33555', '1351', '1392', '39159', '1064', '1318', '1114', '1286', '46392', '1561', '1929', '2021', '1434', '45335', '1836', '16735', '1056', '1439', '1704', '36176', '1407', '1926', '1198', '1245', '1346', '1631', '1224', '1449', '26792', '1281', '8773', '1904', '2032', '1861', '1585', '47983', '1753', '1065', '16757', '44955', '40477', '1608', '1525', '1236', '60986', '1560', '1598', '1568', '1217', '1508', '1682', '1479', '1821', '1418', '1106', '54110', '26081', '1164', '1250', '43960', '1235', '57434', '1893', '1925', '25900', '23478', '1311', '1413', '1577', '7514', '1993', '11796', '33634', '1495', '1952', '1218', '1280', '1509', '29847', '1305', '1241', '1215', '1069', '1582', '19556', '1199', '1755', '30220', '1506', '1121', '1825', '39420', '50018', '16605', '36569', '1248', '1537', '1092', '1172', '1367', '1932', '1161', '1802', '1253', '1672', '65334', '1727', '1160', '1995', '47885', '53836', '61309', '18322', '1634', '1764', '39474', '1366', '15153', '31233', '3720', '54214', '1855', '1526', '1076', '1244', '37970', '1544', '1730', '1303', '22518', '1901', '64726', '60478', '1531', '1589', '1819', '1032', '1856', '18752', '1478', '1068', '14935', '42564', '1131', '1421', '1424', '1429', '1155', '18192', '47767', '1917', '32070', '40259', '1512', '54924', '30943', '1625', '1752', '1897', '33195', '1440', '19260', '19578', '1846', '50376', '57406', '1725', '13798', '5867', '1151', '1233', '1237', '1048', '1665', '1522', '1256', '58748', '15114', '1712', '1436', '1713', '1466', '1845', '1192', '2006', '1381', '1977', '1324', '56498', '1871', '1829', '2026', '1260', '52670', '1271', '1343', '1507', '1967', '1624', '1296', '1689', '1425', '64573', '1962', '59717', '1102', '46112', '1979', '1851', '10726', '27255', '14330', '1120', '1671', '1527', '6396', '34662', '1830', '1754', '61500', '18332', '1178', '40454', '22219', '2014', '42324', '48690', '19574', '1353', '1884', '58189', '16509', '21813', '1085', '1402', '2022', '64643', '1697', '59688', '38497', '1888', '59727', '1077', '34807', '1264', '1543', '1186', '1844', '38389', '40944', '12251', '5485', '5652', '27892', '27290', '1090', '1338', '21865', '1140', '1455', '38886', '1996', '1645', '32633', '39674', '2875', '45122', '1841', '1639', '1677', '1734', '5322', '31013', '1523', '1108', '11976', '1661', '36105', '1933', '48993', '20178', '1803', '18911', '2004', '1034', '2044', '33213', '35958', '1041', '14030', '64772', '1485', '1804', '56526', '1397', '1316', '1270', '1742', '1944', '61104', '31919', '42646', '2037', '32033', '6795', '1810', '1459', '1657', '12291', '12553', '1763', '1363', '1505', '13428', '1618', '13393', '1147', '1892', '1306', '1823', '23418', '61840', '1401', '31851', '1330', '1832', '19276', '1126', '1774', '17458', '1698', '1994', '58484', '1292', '1376', '3949', '1138', '46376', '20111', '1983', '1143', '1529', '1327', '40323', '5038', '40325', '17652', '23189', '1050', '1214', '1204', '25067', '1073', '47610', '1963', '1063', '1152', '57054', '43953', '1843', '14284', '46635', '1710', '38439', '1490', '1483', '1388', '1516', '1393', '1498', '1656', '2018', '1999', '9607', '1247', '1442', '49857', '1339', '12519', '1370', '45728', '16107', '1179', '19496', '49558', '1539', '6379', '1191', '1428', '42581', '1294', '1518', '49760', '27880', '1112', '1480', '1416', '35628', '1629', '1141', '17518', '1361', '1590', '29349', '1737']\n"
     ]
    }
   ],
   "source": [
    "print(len(sports))\n",
    "print(sports)"
   ]
  },
  {
   "cell_type": "code",
   "execution_count": 27,
   "metadata": {},
   "outputs": [
    {
     "name": "stdout",
     "output_type": "stream",
     "text": [
      "\n",
      "Correlation in Sport Column:\n",
      "     Sport   Correlation\n",
      "1    47439  3.114058e-01\n",
      "2     1043  2.491009e-01\n",
      "0        0  2.073268e-01\n",
      "164  56237  2.513476e-02\n",
      "349  60986  2.089951e-02\n",
      "..     ...           ...\n",
      "89   20881  4.630969e-05\n",
      "45   35000  2.189939e-05\n",
      "47   46406  2.189939e-05\n",
      "59   21561  3.287320e-07\n",
      "57    1116  3.287320e-07\n",
      "\n",
      "[710 rows x 2 columns]\n",
      "    Sport   Correlation\n",
      "89  20881  4.630969e-05\n",
      "45  35000  2.189939e-05\n",
      "47  46406  2.189939e-05\n",
      "59  21561  3.287320e-07\n",
      "57   1116  3.287320e-07\n",
      "sport\n",
      "0        12522\n",
      "47439     6939\n",
      "1043      5963\n",
      "80         348\n",
      "53         194\n",
      "         ...  \n",
      "225          1\n",
      "867          1\n",
      "281          1\n",
      "862          1\n",
      "851          1\n",
      "Name: count, Length: 64548, dtype: int64\n"
     ]
    }
   ],
   "source": [
    "# The label we want to compare.\n",
    "label = 'Normal'\n",
    "# Dataframe to add the correlations.\n",
    "corr_df = pd.DataFrame(index=df1.index)\n",
    "corr_list = []\n",
    "# Go through each unique category in the given column (tested on just sport but can make it a function).\n",
    "for s in sports:\n",
    "    # Create column name same as encoding conventions.\n",
    "    col_name = f'sport_{s}'\n",
    "    # Convert all values that match to 1 or else convert to 0 for given values in each column (sport is an iteration and label is static).\n",
    "    corr_df[col_name] = (df1['sport'] == s).astype(int)\n",
    "    attack_cat = (df1['attack_cat'] == label).astype(int)\n",
    "    # Draw correlations of the converted binary columns.\n",
    "    correlation = corr_df[col_name].corr(attack_cat)\n",
    "    # Add correlations to list for Dataframe.\n",
    "    corr_list.append({\n",
    "        'Sport': s,\n",
    "        'Correlation': correlation\n",
    "    })\n",
    "corr_table = pd.DataFrame(corr_list)\n",
    "# Get the absolute correlation and sort in descending order.\n",
    "corr_table['Correlation'] = corr_table['Correlation'].abs()\n",
    "corr_table.sort_values(by='Correlation', ascending=False, inplace=True)\n",
    "print(\"\\nCorrelation in Sport Column:\")\n",
    "print(corr_table)\n",
    "print(corr_table.tail())\n",
    "print(df1['sport'].value_counts())"
   ]
  }
 ],
 "metadata": {
  "kernelspec": {
   "display_name": "conda311new",
   "language": "python",
   "name": "python3"
  },
  "language_info": {
   "codemirror_mode": {
    "name": "ipython",
    "version": 3
   },
   "file_extension": ".py",
   "mimetype": "text/x-python",
   "name": "python",
   "nbconvert_exporter": "python",
   "pygments_lexer": "ipython3",
   "version": "3.11.9"
  }
 },
 "nbformat": 4,
 "nbformat_minor": 2
}
